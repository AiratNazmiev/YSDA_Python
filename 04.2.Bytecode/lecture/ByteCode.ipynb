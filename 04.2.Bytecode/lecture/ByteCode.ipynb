{
 "cells": [
  {
   "cell_type": "markdown",
   "metadata": {
    "pycharm": {
     "name": "#%% md\n"
    },
    "slideshow": {
     "slide_type": "slide"
    },
    "tags": []
   },
   "source": [
    "<center>\n",
    "    <img src=\"https://upload.wikimedia.org/wikipedia/commons/a/a8/%D0%9B%D0%9E%D0%93%D0%9E_%D0%A8%D0%90%D0%94.png\" width=500px/>\n",
    "    <font>Python 2025</font><br/>\n",
    "    <br/>\n",
    "    <br/>\n",
    "    <b style=\"font-size: 2em\">CPython Bytecode</b><br/>\n",
    "    <br/>\n",
    "    <font>Алексей Стыценко</font><br/>\n",
    "</center>"
   ]
  },
  {
   "cell_type": "markdown",
   "metadata": {
    "slideshow": {
     "slide_type": "slide"
    }
   },
   "source": [
    "Сначала немного новостей"
   ]
  },
  {
   "cell_type": "markdown",
   "metadata": {
    "slideshow": {
     "slide_type": "fragment"
    }
   },
   "source": [
    "# Вышел Python 3.14 🥳\n",
    "\n",
    "https://docs.python.org/3/whatsnew/3.14.html"
   ]
  },
  {
   "cell_type": "markdown",
   "metadata": {
    "slideshow": {
     "slide_type": "fragment"
    }
   },
   "source": [
    "Курс продолжаем на 3.13.7 без изменений"
   ]
  },
  {
   "cell_type": "markdown",
   "metadata": {
    "pycharm": {
     "name": "#%% md\n"
    },
    "slideshow": {
     "slide_type": "slide"
    }
   },
   "source": [
    "# Как работает интерпретатор"
   ]
  },
  {
   "cell_type": "markdown",
   "metadata": {
    "pycharm": {
     "name": "#%% md\n"
    },
    "slideshow": {
     "slide_type": "-"
    }
   },
   "source": [
    "Возьмём простую программу"
   ]
  },
  {
   "cell_type": "code",
   "execution_count": 7,
   "metadata": {
    "pycharm": {
     "name": "#%%\n"
    },
    "slideshow": {
     "slide_type": ""
    },
    "tags": []
   },
   "outputs": [],
   "source": [
    "program = \"\"\"\\\n",
    "x = 1\n",
    "y = 2\n",
    "print(3*(x+y))\n",
    "\"\"\""
   ]
  },
  {
   "cell_type": "code",
   "execution_count": 8,
   "metadata": {
    "pycharm": {
     "name": "#%%\n"
    },
    "slideshow": {
     "slide_type": ""
    },
    "tags": []
   },
   "outputs": [
    {
     "name": "stdout",
     "output_type": "stream",
     "text": [
      "9\n"
     ]
    }
   ],
   "source": [
    "exec(program)"
   ]
  },
  {
   "cell_type": "markdown",
   "metadata": {
    "pycharm": {
     "name": "#%% md\n"
    },
    "slideshow": {
     "slide_type": ""
    },
    "tags": []
   },
   "source": [
    "Как интерпретатор её выполняет?"
   ]
  },
  {
   "cell_type": "markdown",
   "metadata": {
    "pycharm": {
     "name": "#%% md\n"
    },
    "slideshow": {
     "slide_type": "slide"
    }
   },
   "source": [
    "Шаг 1: Токенизация"
   ]
  },
  {
   "cell_type": "code",
   "execution_count": 10,
   "metadata": {
    "pycharm": {
     "name": "#%%\n"
    }
   },
   "outputs": [
    {
     "data": {
      "text/plain": [
       "[TokenInfo(type=1 (NAME), string='x', start=(1, 0), end=(1, 1), line='x = 1\\n'),\n",
       " TokenInfo(type=55 (OP), string='=', start=(1, 2), end=(1, 3), line='x = 1\\n'),\n",
       " TokenInfo(type=2 (NUMBER), string='1', start=(1, 4), end=(1, 5), line='x = 1\\n'),\n",
       " TokenInfo(type=4 (NEWLINE), string='\\n', start=(1, 5), end=(1, 6), line='x = 1\\n'),\n",
       " TokenInfo(type=1 (NAME), string='y', start=(2, 0), end=(2, 1), line='y = 2\\n'),\n",
       " TokenInfo(type=55 (OP), string='=', start=(2, 2), end=(2, 3), line='y = 2\\n'),\n",
       " TokenInfo(type=2 (NUMBER), string='2', start=(2, 4), end=(2, 5), line='y = 2\\n'),\n",
       " TokenInfo(type=4 (NEWLINE), string='\\n', start=(2, 5), end=(2, 6), line='y = 2\\n'),\n",
       " TokenInfo(type=1 (NAME), string='print', start=(3, 0), end=(3, 5), line='print(3*(x+y))\\n'),\n",
       " TokenInfo(type=55 (OP), string='(', start=(3, 5), end=(3, 6), line='print(3*(x+y))\\n'),\n",
       " TokenInfo(type=2 (NUMBER), string='3', start=(3, 6), end=(3, 7), line='print(3*(x+y))\\n'),\n",
       " TokenInfo(type=55 (OP), string='*', start=(3, 7), end=(3, 8), line='print(3*(x+y))\\n'),\n",
       " TokenInfo(type=55 (OP), string='(', start=(3, 8), end=(3, 9), line='print(3*(x+y))\\n'),\n",
       " TokenInfo(type=1 (NAME), string='x', start=(3, 9), end=(3, 10), line='print(3*(x+y))\\n'),\n",
       " TokenInfo(type=55 (OP), string='+', start=(3, 10), end=(3, 11), line='print(3*(x+y))\\n'),\n",
       " TokenInfo(type=1 (NAME), string='y', start=(3, 11), end=(3, 12), line='print(3*(x+y))\\n'),\n",
       " TokenInfo(type=55 (OP), string=')', start=(3, 12), end=(3, 13), line='print(3*(x+y))\\n'),\n",
       " TokenInfo(type=55 (OP), string=')', start=(3, 13), end=(3, 14), line='print(3*(x+y))\\n'),\n",
       " TokenInfo(type=4 (NEWLINE), string='\\n', start=(3, 14), end=(3, 15), line='print(3*(x+y))\\n'),\n",
       " TokenInfo(type=0 (ENDMARKER), string='', start=(4, 0), end=(4, 0), line='')]"
      ]
     },
     "execution_count": 10,
     "metadata": {},
     "output_type": "execute_result"
    }
   ],
   "source": [
    "import io\n",
    "import tokenize\n",
    "\n",
    "list(tokenize.generate_tokens(io.StringIO(program).readline))"
   ]
  },
  {
   "cell_type": "markdown",
   "metadata": {
    "pycharm": {
     "name": "#%% md\n"
    },
    "slideshow": {
     "slide_type": "slide"
    }
   },
   "source": [
    "Шаг 2: Построение дерева разбора"
   ]
  },
  {
   "cell_type": "markdown",
   "metadata": {
    "pycharm": {
     "name": "#%% md\n"
    }
   },
   "source": [
    "Грамматика языка: https://docs.python.org/3/reference/grammar.html"
   ]
  },
  {
   "cell_type": "markdown",
   "metadata": {},
   "source": [
    "<div class=\"alert alert-warning\">\n",
    "На самом деле c версии 3.9 промежуточное дерево разбора не строится, строится сразу AST.\n",
    "\n",
    "До версии 3.10 в стандартной библиотеке был модуль `parser`, с помощью которого можно было построить дерево разбора. Он устарел, и с версии 3.10 был удалён. На следующем слайде дерево разбора, построенное в версии 3.9.\n",
    "</div>"
   ]
  },
  {
   "cell_type": "markdown",
   "metadata": {
    "pycharm": {
     "name": "#%% md\n"
    },
    "slideshow": {
     "slide_type": "slide"
    }
   },
   "source": [
    "Шаг 2: Построение дерева разбора (python 3.9)"
   ]
  },
  {
   "cell_type": "code",
   "execution_count": 18,
   "metadata": {
    "pycharm": {
     "name": "#%%\n"
    }
   },
   "outputs": [],
   "source": [
    "import symbol\n",
    "import token\n",
    "import parser\n",
    "\n",
    "# хелпер для вывода дерева разбора в читаемом виде\n",
    "# https://realpython.com/cpython-source-code-guide/#lexing-and-parsing\n",
    "def lex(expression):\n",
    "    symbols = {v: k for k, v in symbol.__dict__.items() if isinstance(v, int)}\n",
    "    tokens = {v: k for k, v in token.__dict__.items() if isinstance(v, int)}\n",
    "    lexicon = {**symbols, **tokens}\n",
    "    st = parser.expr(expression)\n",
    "    st_list = parser.st2list(st)\n",
    "\n",
    "    def replace(l: list):\n",
    "        r = []\n",
    "        for i in l:\n",
    "            if isinstance(i, list):\n",
    "                r.append(replace(i))\n",
    "            else:\n",
    "                if i in lexicon:\n",
    "                    r.append(lexicon[i])\n",
    "                else:\n",
    "                    r.append(i)\n",
    "        return r\n",
    "\n",
    "    return replace(st_list)"
   ]
  },
  {
   "cell_type": "markdown",
   "metadata": {
    "pycharm": {
     "name": "#%% md\n"
    },
    "slideshow": {
     "slide_type": "slide"
    }
   },
   "source": [
    "Шаг 2: Построение дерева разбора (python 3.9)"
   ]
  },
  {
   "cell_type": "code",
   "execution_count": 19,
   "metadata": {
    "pycharm": {
     "name": "#%%\n"
    }
   },
   "outputs": [
    {
     "data": {
      "text/plain": [
       "['eval_input',\n",
       " ['testlist',\n",
       "  ['test',\n",
       "   ['or_test',\n",
       "    ['and_test',\n",
       "     ['not_test',\n",
       "      ['comparison',\n",
       "       ['expr',\n",
       "        ['xor_expr',\n",
       "         ['and_expr',\n",
       "          ['shift_expr',\n",
       "           ['arith_expr',\n",
       "            ['term',\n",
       "             ['factor', ['power', ['atom_expr', ['atom', ['NUMBER', '3']]]]],\n",
       "             ['STAR', '*'],\n",
       "             ['factor',\n",
       "              ['power',\n",
       "               ['atom_expr',\n",
       "                ['atom',\n",
       "                 ['LPAR', '('],\n",
       "                 ['testlist_comp',\n",
       "                  ['namedexpr_test',\n",
       "                   ['test',\n",
       "                    ['or_test',\n",
       "                     ['and_test',\n",
       "                      ['not_test',\n",
       "                       ['comparison',\n",
       "                        ['expr',\n",
       "                         ['xor_expr',\n",
       "                          ['and_expr',\n",
       "                           ['shift_expr',\n",
       "                            ['arith_expr',\n",
       "                             ['term',\n",
       "                              ['factor',\n",
       "                               ['power',\n",
       "                                ['atom_expr', ['atom', ['NAME', 'x']]]]]],\n",
       "                             ['PLUS', '+'],\n",
       "                             ['term',\n",
       "                              ['factor',\n",
       "                               ['power',\n",
       "                                ['atom_expr',\n",
       "                                 ['atom', ['NAME', 'y']]]]]]]]]]]]]]]]]],\n",
       "                 ['RPAR', ')']]]]]]]]]]]]]]]]],\n",
       " ['NEWLINE', ''],\n",
       " ['ENDMARKER', '']]"
      ]
     },
     "execution_count": 19,
     "metadata": {},
     "output_type": "execute_result"
    }
   ],
   "source": [
    "lex('3*(x+y)')"
   ]
  },
  {
   "cell_type": "markdown",
   "metadata": {
    "pycharm": {
     "name": "#%% md\n"
    },
    "slideshow": {
     "slide_type": "slide"
    }
   },
   "source": [
    "Шаг 3: Абстрактное синтаксическое дерево (AST)"
   ]
  },
  {
   "cell_type": "code",
   "execution_count": 11,
   "metadata": {
    "pycharm": {
     "name": "#%%\n"
    }
   },
   "outputs": [
    {
     "name": "stdout",
     "output_type": "stream",
     "text": [
      "Module(\n",
      "    body=[\n",
      "        Assign(\n",
      "            targets=[\n",
      "                Name(id='x', ctx=Store())],\n",
      "            value=Constant(value=1)),\n",
      "        Assign(\n",
      "            targets=[\n",
      "                Name(id='y', ctx=Store())],\n",
      "            value=Constant(value=2)),\n",
      "        Expr(\n",
      "            value=Call(\n",
      "                func=Name(id='print', ctx=Load()),\n",
      "                args=[\n",
      "                    BinOp(\n",
      "                        left=Constant(value=3),\n",
      "                        op=Mult(),\n",
      "                        right=BinOp(\n",
      "                            left=Name(id='x', ctx=Load()),\n",
      "                            op=Add(),\n",
      "                            right=Name(id='y', ctx=Load())))]))])\n"
     ]
    }
   ],
   "source": [
    "import ast\n",
    "print(ast.dump(ast.parse(program), indent=4))"
   ]
  },
  {
   "cell_type": "markdown",
   "metadata": {
    "pycharm": {
     "name": "#%% md\n"
    },
    "slideshow": {
     "slide_type": "slide"
    }
   },
   "source": [
    "Шаг 4: Компиляция в байткод"
   ]
  },
  {
   "cell_type": "code",
   "execution_count": 26,
   "metadata": {
    "pycharm": {
     "name": "#%%\n"
    }
   },
   "outputs": [],
   "source": [
    "code = compile(program, '<string>', 'exec')"
   ]
  },
  {
   "cell_type": "code",
   "execution_count": 27,
   "metadata": {},
   "outputs": [
    {
     "data": {
      "text/plain": [
       "<code object <module> at 0x107ca08a0, file \"<string>\", line 1>"
      ]
     },
     "execution_count": 27,
     "metadata": {},
     "output_type": "execute_result"
    }
   ],
   "source": [
    "code"
   ]
  },
  {
   "cell_type": "code",
   "execution_count": 32,
   "metadata": {
    "pycharm": {
     "name": "#%%\n"
    }
   },
   "outputs": [
    {
     "data": {
      "text/plain": [
       "b'\\x95\\x00S\\x00r\\x00S\\x01r\\x01\\\\\\x02\"\\x00S\\x02\\\\\\x00\\\\\\x01-\\x00\\x00\\x00-\\x05\\x00\\x005\\x01\\x00\\x00\\x00\\x00\\x00\\x00 \\x00g\\x03'"
      ]
     },
     "execution_count": 32,
     "metadata": {},
     "output_type": "execute_result"
    }
   ],
   "source": [
    "code.co_code"
   ]
  },
  {
   "cell_type": "code",
   "execution_count": 33,
   "metadata": {
    "pycharm": {
     "name": "#%%\n"
    }
   },
   "outputs": [
    {
     "data": {
      "text/plain": [
       "40"
      ]
     },
     "execution_count": 33,
     "metadata": {},
     "output_type": "execute_result"
    }
   ],
   "source": [
    "len(code.co_code)"
   ]
  },
  {
   "cell_type": "code",
   "execution_count": 34,
   "metadata": {
    "pycharm": {
     "name": "#%%\n"
    }
   },
   "outputs": [
    {
     "name": "stdout",
     "output_type": "stream",
     "text": [
      "[149, 0, 83, 0, 114, 0, 83, 1, 114, 1, 92, 2, 34, 0, 83, 2, 92, 0, 92, 1, 45, 0, 0, 0, 45, 5, 0, 0, 53, 1, 0, 0, 0, 0, 0, 0, 32, 0, 103, 3]\n"
     ]
    }
   ],
   "source": [
    "print(list(code.co_code))"
   ]
  },
  {
   "cell_type": "code",
   "execution_count": 35,
   "metadata": {
    "pycharm": {
     "name": "#%%\n"
    }
   },
   "outputs": [
    {
     "data": {
      "text/plain": [
       "('LOAD_CONST', 'STORE_NAME', 'BINARY_OP', 'CALL', 'CACHE')"
      ]
     },
     "execution_count": 35,
     "metadata": {},
     "output_type": "execute_result"
    }
   ],
   "source": [
    "import dis\n",
    "dis.opname[83], dis.opname[114], dis.opname[45], dis.opname[53], dis.opname[0]"
   ]
  },
  {
   "cell_type": "markdown",
   "metadata": {
    "pycharm": {
     "name": "#%% md\n"
    },
    "slideshow": {
     "slide_type": "slide"
    }
   },
   "source": [
    "Байткод"
   ]
  },
  {
   "cell_type": "code",
   "execution_count": 37,
   "metadata": {
    "pycharm": {
     "name": "#%%\n"
    }
   },
   "outputs": [
    {
     "name": "stdout",
     "output_type": "stream",
     "text": [
      "  0           RESUME                   0\n",
      "\n",
      "  1           LOAD_CONST               0 (1)\n",
      "              STORE_NAME               0 (x)\n",
      "\n",
      "  2           LOAD_CONST               1 (2)\n",
      "              STORE_NAME               1 (y)\n",
      "\n",
      "  3           LOAD_NAME                2 (print)\n",
      "              PUSH_NULL\n",
      "              LOAD_CONST               2 (3)\n",
      "              LOAD_NAME                0 (x)\n",
      "              LOAD_NAME                1 (y)\n",
      "              BINARY_OP                0 (+)\n",
      "              BINARY_OP                5 (*)\n",
      "              CALL                     1\n",
      "              POP_TOP\n",
      "              RETURN_CONST             3 (None)\n"
     ]
    }
   ],
   "source": [
    "dis.dis(program)"
   ]
  },
  {
   "cell_type": "markdown",
   "metadata": {
    "pycharm": {
     "name": "#%% md\n"
    }
   },
   "source": [
    "Как читать вывод dis: https://stackoverflow.com/a/47529318\n",
    "\n",
    "Что делают инструкции: https://docs.python.org/3.13/library/dis.html#python-bytecode-instructions"
   ]
  },
  {
   "cell_type": "markdown",
   "metadata": {
    "pycharm": {
     "name": "#%% md\n"
    },
    "slideshow": {
     "slide_type": "slide"
    }
   },
   "source": [
    "Байткод"
   ]
  },
  {
   "cell_type": "code",
   "execution_count": 40,
   "metadata": {
    "pycharm": {
     "name": "#%%\n"
    }
   },
   "outputs": [
    {
     "name": "stdout",
     "output_type": "stream",
     "text": [
      "  0           RESUME                   0\n",
      "\n",
      "  1           LOAD_CONST               0 (<code object foo at 0x107c13830, file \"<dis>\", line 1>)\n",
      "              MAKE_FUNCTION\n",
      "              STORE_NAME               0 (foo)\n",
      "\n",
      "  3           LOAD_NAME                0 (foo)\n",
      "              PUSH_NULL\n",
      "              LOAD_CONST               1 (1)\n",
      "              LOAD_CONST               2 (2)\n",
      "              CALL                     2\n",
      "              POP_TOP\n",
      "              RETURN_CONST             3 (None)\n",
      "\n",
      "Disassembly of <code object foo at 0x107c13830, file \"<dis>\", line 1>:\n",
      "  1           RESUME                   0\n",
      "\n",
      "  2           LOAD_CONST               1 (3)\n",
      "              LOAD_FAST_LOAD_FAST      1 (x, y)\n",
      "              BINARY_OP                0 (+)\n",
      "              BINARY_OP                5 (*)\n",
      "              RETURN_VALUE\n"
     ]
    }
   ],
   "source": [
    "program = '''\\\n",
    "def foo(x, y):\n",
    "    return 3*(x + y)\n",
    "foo(1, 2)\n",
    "'''\n",
    "dis.dis(program)"
   ]
  },
  {
   "cell_type": "markdown",
   "metadata": {
    "pycharm": {
     "name": "#%% md\n"
    },
    "slideshow": {
     "slide_type": "slide"
    }
   },
   "source": [
    "Байткод"
   ]
  },
  {
   "cell_type": "code",
   "execution_count": 42,
   "metadata": {
    "pycharm": {
     "name": "#%%\n"
    }
   },
   "outputs": [
    {
     "data": {
      "text/plain": [
       "[Instruction(opname='RESUME', opcode=149, arg=0, argval=0, argrepr='', offset=0, start_offset=0, starts_line=True, line_number=0, label=None, positions=Positions(lineno=0, end_lineno=1, col_offset=0, end_col_offset=0), cache_info=None),\n",
       " Instruction(opname='LOAD_CONST', opcode=83, arg=0, argval=<code object foo at 0x107c13910, file \"<disassembly>\", line 1>, argrepr='<code object foo at 0x107c13910, file \"<disassembly>\", line 1>', offset=2, start_offset=2, starts_line=True, line_number=1, label=None, positions=Positions(lineno=1, end_lineno=2, col_offset=0, end_col_offset=20), cache_info=None),\n",
       " Instruction(opname='MAKE_FUNCTION', opcode=26, arg=None, argval=None, argrepr='', offset=4, start_offset=4, starts_line=False, line_number=1, label=None, positions=Positions(lineno=1, end_lineno=2, col_offset=0, end_col_offset=20), cache_info=None),\n",
       " Instruction(opname='STORE_NAME', opcode=114, arg=0, argval='foo', argrepr='foo', offset=6, start_offset=6, starts_line=False, line_number=1, label=None, positions=Positions(lineno=1, end_lineno=2, col_offset=0, end_col_offset=20), cache_info=None),\n",
       " Instruction(opname='LOAD_NAME', opcode=92, arg=0, argval='foo', argrepr='foo', offset=8, start_offset=8, starts_line=True, line_number=3, label=None, positions=Positions(lineno=3, end_lineno=3, col_offset=0, end_col_offset=3), cache_info=None),\n",
       " Instruction(opname='PUSH_NULL', opcode=34, arg=None, argval=None, argrepr='', offset=10, start_offset=10, starts_line=False, line_number=3, label=None, positions=Positions(lineno=3, end_lineno=3, col_offset=0, end_col_offset=3), cache_info=None),\n",
       " Instruction(opname='LOAD_CONST', opcode=83, arg=1, argval=1, argrepr='1', offset=12, start_offset=12, starts_line=False, line_number=3, label=None, positions=Positions(lineno=3, end_lineno=3, col_offset=4, end_col_offset=5), cache_info=None),\n",
       " Instruction(opname='LOAD_CONST', opcode=83, arg=2, argval=2, argrepr='2', offset=14, start_offset=14, starts_line=False, line_number=3, label=None, positions=Positions(lineno=3, end_lineno=3, col_offset=7, end_col_offset=8), cache_info=None),\n",
       " Instruction(opname='CALL', opcode=53, arg=2, argval=2, argrepr='', offset=16, start_offset=16, starts_line=False, line_number=3, label=None, positions=Positions(lineno=3, end_lineno=3, col_offset=0, end_col_offset=9), cache_info=[('counter', 1, b'\\x00\\x00'), ('func_version', 2, b'\\x00\\x00\\x00\\x00')]),\n",
       " Instruction(opname='POP_TOP', opcode=32, arg=None, argval=None, argrepr='', offset=24, start_offset=24, starts_line=False, line_number=3, label=None, positions=Positions(lineno=3, end_lineno=3, col_offset=0, end_col_offset=9), cache_info=None),\n",
       " Instruction(opname='RETURN_CONST', opcode=103, arg=3, argval=None, argrepr='None', offset=26, start_offset=26, starts_line=False, line_number=3, label=None, positions=Positions(lineno=3, end_lineno=3, col_offset=0, end_col_offset=9), cache_info=None)]"
      ]
     },
     "execution_count": 42,
     "metadata": {},
     "output_type": "execute_result"
    }
   ],
   "source": [
    "list(dis.get_instructions(program))"
   ]
  },
  {
   "cell_type": "markdown",
   "metadata": {
    "pycharm": {
     "name": "#%% md\n"
    },
    "slideshow": {
     "slide_type": "slide"
    }
   },
   "source": [
    "Ссылки"
   ]
  },
  {
   "cell_type": "markdown",
   "metadata": {
    "pycharm": {
     "name": "#%% md\n"
    }
   },
   "source": [
    "- https://leanpub.com/insidethepythonvirtualmachine/read\n",
    "- https://realpython.com/cpython-source-code-guide/"
   ]
  }
 ],
 "metadata": {
  "celltoolbar": "Slideshow",
  "kernelspec": {
   "display_name": "python-shad-env-2025",
   "language": "python",
   "name": "python-shad-env-2025"
  },
  "language_info": {
   "codemirror_mode": {
    "name": "ipython",
    "version": 3
   },
   "file_extension": ".py",
   "mimetype": "text/x-python",
   "name": "python",
   "nbconvert_exporter": "python",
   "pygments_lexer": "ipython3",
   "version": "3.13.7"
  },
  "rise": {
   "enable_chalkboard": true,
   "footer": "<p style=\"margin: 5px; color: #a0a0a0\">YSDA Python Course</p>",
   "scroll": true,
   "start_slideshow_at": "selected",
   "theme": "serif",
   "transition": "none"
  }
 },
 "nbformat": 4,
 "nbformat_minor": 4
}
