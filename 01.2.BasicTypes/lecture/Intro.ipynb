{
 "cells": [
  {
   "cell_type": "markdown",
   "metadata": {
    "pycharm": {
     "name": "#%% md\n"
    },
    "slideshow": {
     "slide_type": "slide"
    }
   },
   "source": [
    "<center>\n",
    "    <img src=\"https://upload.wikimedia.org/wikipedia/commons/a/a8/%D0%9B%D0%9E%D0%93%D0%9E_%D0%A8%D0%90%D0%94.png\" width=500px/>\n",
    "    <font>Python 2025</font><br/>\n",
    "    <br/>\n",
    "    <br/>\n",
    "    <b style=\"font-size: 2em\">Введение в курс</b><br/>\n",
    "    <br/>\n",
    "    <font>Алексей Стыценко</font><br/>\n",
    "</center>"
   ]
  },
  {
   "cell_type": "markdown",
   "metadata": {
    "pycharm": {
     "name": "#%% md\n"
    },
    "slideshow": {
     "slide_type": "slide"
    }
   },
   "source": [
    "### Цели курса\n",
    "* Как писать хороший код на Python\n",
    "* Где и как применять Python\n",
    "* Как пройти собеседование на Python"
   ]
  },
  {
   "cell_type": "markdown",
   "metadata": {
    "slideshow": {
     "slide_type": "slide"
    }
   },
   "source": [
    "# Что такое хороший код?"
   ]
  },
  {
   "cell_type": "markdown",
   "metadata": {
    "slideshow": {
     "slide_type": "fragment"
    }
   },
   "source": [
    "- Без багов, сложно сломать\n"
   ]
  },
  {
   "cell_type": "markdown",
   "metadata": {
    "slideshow": {
     "slide_type": "fragment"
    }
   },
   "source": [
    "- Легко читать и понимать\n"
   ]
  },
  {
   "cell_type": "markdown",
   "metadata": {
    "slideshow": {
     "slide_type": "fragment"
    }
   },
   "source": [
    "- Легко менять\n"
   ]
  },
  {
   "cell_type": "markdown",
   "metadata": {
    "pycharm": {
     "name": "#%% md\n"
    },
    "slideshow": {
     "slide_type": "slide"
    }
   },
   "source": [
    "### Структура курса\n",
    "* 12-14 недель с лекциями, видео и разборами задач\n",
    "* Автоматически проверяемые задачи с открытыми тестами\n",
    "* ~12 еженедельных наборов задачек, ~150 баллов каждый\n",
    "* 3 больших домашних задания, 400+ баллов каждое\n",
    "* Детали и актуальная инфа в lms"
   ]
  },
  {
   "cell_type": "markdown",
   "metadata": {
    "pycharm": {
     "name": "#%% md\n"
    },
    "slideshow": {
     "slide_type": "slide"
    }
   },
   "source": [
    "### Особенности\n",
    "\n",
    "* Тайпинги\n",
    "* Открытые тесты\n",
    "* Git\n",
    "* Жёсткие дедлайны"
   ]
  },
  {
   "cell_type": "markdown",
   "metadata": {
    "pycharm": {
     "name": "#%% md\n"
    },
    "slideshow": {
     "slide_type": "slide"
    }
   },
   "source": [
    "### Система оценивания\n",
    "\n",
    "- Мидтёрм: 500 баллов, из которых 250 баллов — за первую Большую Домашку\n",
    "- Отлично: 3 большие домашки и больше или равно 70% баллов\n",
    "- Хорошо: 2 большие домашки и больше или равно 60% баллов\n",
    "- Удовлетворительно: 1 большая домашка и больше или равно 50% баллов\n"
   ]
  },
  {
   "cell_type": "markdown",
   "metadata": {
    "pycharm": {
     "name": "#%% md\n"
    },
    "slideshow": {
     "slide_type": "slide"
    }
   },
   "source": [
    "### Рекомендации\n",
    "\n",
    "* Читайте тесты и тестируйте локально\n",
    "* НЕ сдавать в последнюю минуту - не работает.\n",
    "* Присылайте правки к нашим Readme, задачам, тестам.\n",
    "* **Задавайте вопросы \"Зачем я это делаю? Где это используется?\"**"
   ]
  },
  {
   "cell_type": "markdown",
   "metadata": {
    "slideshow": {
     "slide_type": "slide"
    }
   },
   "source": [
    "### Как сдавать домашку\n",
    "\n",
    "- Что такое pytest, ruff, pyrefly\n",
    "- Как тестировать задачку локально перед сдачей\n",
    "- Как читать логи (не)успешных посылок\n",
    "- Live Demo!"
   ]
  }
 ],
 "metadata": {
  "celltoolbar": "Slideshow",
  "kernelspec": {
   "display_name": "Python 3 (ipykernel)",
   "language": "python",
   "name": "python3"
  },
  "language_info": {
   "codemirror_mode": {
    "name": "ipython",
    "version": 3
   },
   "file_extension": ".py",
   "mimetype": "text/x-python",
   "name": "python",
   "nbconvert_exporter": "python",
   "pygments_lexer": "ipython3",
   "version": "3.13.7"
  },
  "rise": {
   "enable_chalkboard": true,
   "footer": "<p style=\"margin: 5px; color: #a0a0a0\">YSDA Python Course</p>",
   "scroll": true,
   "start_slideshow_at": "selected",
   "theme": "serif",
   "transition": "none"
  }
 },
 "nbformat": 4,
 "nbformat_minor": 4
}
