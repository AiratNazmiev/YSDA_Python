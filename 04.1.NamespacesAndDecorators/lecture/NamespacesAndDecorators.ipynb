{
 "cells": [
  {
   "cell_type": "markdown",
   "metadata": {
    "pycharm": {
     "name": "#%% md\n"
    },
    "slideshow": {
     "slide_type": "slide"
    }
   },
   "source": [
    "<center>\n",
    "    <img src=\"https://upload.wikimedia.org/wikipedia/commons/a/a8/%D0%9B%D0%9E%D0%93%D0%9E_%D0%A8%D0%90%D0%94.png\" width=500px/>\n",
    "    <font>Python 2025</font><br/>\n",
    "    <br/>\n",
    "    <br/>\n",
    "    <b style=\"font-size: 2em\">Пространства имен. Декораторы</b><br/>\n",
    "    <br/>\n",
    "    <font>Ярослав Золотарёв</font><br/>\n",
    "</center>"
   ]
  },
  {
   "cell_type": "markdown",
   "metadata": {
    "pycharm": {
     "name": "#%% md\n"
    },
    "slideshow": {
     "slide_type": "slide"
    }
   },
   "source": [
    "# Пространства имён (Namespaces)"
   ]
  },
  {
   "cell_type": "markdown",
   "metadata": {
    "pycharm": {
     "name": "#%% md\n"
    },
    "slideshow": {
     "slide_type": "slide"
    }
   },
   "source": [
    "### Четыре пространства имён в питоне\n",
    "\n",
    "1. Built-In\n",
    "2. Global\n",
    "3. Enclosing\n",
    "4. Local"
   ]
  },
  {
   "cell_type": "markdown",
   "metadata": {
    "slideshow": {
     "slide_type": "slide"
    }
   },
   "source": [
    "### Четыре пространства имён в питоне\n",
    "\n",
    "![img](https://static-assets.codecademy.com/Courses/Intermediate-Python/Types-of-Namespaces_3_final.gif)"
   ]
  },
  {
   "cell_type": "markdown",
   "metadata": {
    "pycharm": {
     "name": "#%% md\n"
    },
    "slideshow": {
     "slide_type": "slide"
    }
   },
   "source": [
    "### Built-In (встроенный namespace)"
   ]
  },
  {
   "cell_type": "code",
   "execution_count": null,
   "metadata": {},
   "outputs": [],
   "source": [
    "print(dir(__builtins__))"
   ]
  },
  {
   "cell_type": "code",
   "execution_count": null,
   "metadata": {},
   "outputs": [],
   "source": [
    "%%python3 \n",
    "print(dir(__builtins__))"
   ]
  },
  {
   "cell_type": "code",
   "execution_count": null,
   "metadata": {},
   "outputs": [],
   "source": [
    "%%capture output228\n",
    "%%python3 \n",
    "print(dir(__builtins__))"
   ]
  },
  {
   "cell_type": "code",
   "execution_count": null,
   "metadata": {},
   "outputs": [],
   "source": [
    "set(dir(__builtins__)) - set(eval(str(output228)))  # простите за eval"
   ]
  },
  {
   "cell_type": "markdown",
   "metadata": {
    "pycharm": {
     "name": "#%% md\n"
    },
    "slideshow": {
     "slide_type": "slide"
    }
   },
   "source": [
    "### Когда создается и сколько экземпляров"
   ]
  },
  {
   "cell_type": "markdown",
   "metadata": {
    "pycharm": {
     "name": "#%% md\n"
    },
    "slideshow": {
     "slide_type": "fragment"
    }
   },
   "source": [
    "* Создается в момент запуска скрипта и удаляется в момент завершения скрипта\n",
    "* Один на всю программу"
   ]
  },
  {
   "cell_type": "markdown",
   "metadata": {
    "pycharm": {
     "name": "#%% md\n"
    },
    "slideshow": {
     "slide_type": "slide"
    }
   },
   "source": [
    "### Global (глобальный namespace)"
   ]
  },
  {
   "cell_type": "code",
   "execution_count": null,
   "metadata": {
    "pycharm": {
     "name": "#%%\n"
    },
    "slideshow": {
     "slide_type": "fragment"
    }
   },
   "outputs": [],
   "source": [
    "XxX = 1\n",
    "print(type(globals()))\n",
    "assert 'XxX' in globals()"
   ]
  },
  {
   "cell_type": "markdown",
   "metadata": {
    "pycharm": {
     "name": "#%% md\n"
    },
    "slideshow": {
     "slide_type": "slide"
    }
   },
   "source": [
    "### Находим несохраненный результат из блока"
   ]
  },
  {
   "cell_type": "code",
   "execution_count": null,
   "metadata": {
    "pycharm": {
     "name": "#%%\n"
    },
    "slideshow": {
     "slide_type": "fragment"
    }
   },
   "outputs": [],
   "source": [
    "sum([1, 2, 3])"
   ]
  },
  {
   "cell_type": "code",
   "execution_count": null,
   "metadata": {
    "pycharm": {
     "name": "#%%\n"
    },
    "slideshow": {
     "slide_type": "fragment"
    }
   },
   "outputs": [],
   "source": [
    "print(globals())"
   ]
  },
  {
   "cell_type": "code",
   "execution_count": null,
   "metadata": {
    "pycharm": {
     "name": "#%%\n"
    },
    "slideshow": {
     "slide_type": "fragment"
    }
   },
   "outputs": [],
   "source": [
    "_i6"
   ]
  },
  {
   "cell_type": "code",
   "execution_count": null,
   "metadata": {},
   "outputs": [],
   "source": [
    "del _i6"
   ]
  },
  {
   "cell_type": "code",
   "execution_count": null,
   "metadata": {},
   "outputs": [],
   "source": [
    "try:\n",
    "    _i6\n",
    "except NameError:\n",
    "    print(\"Variable deleted!\")"
   ]
  },
  {
   "cell_type": "markdown",
   "metadata": {
    "hide_input": true,
    "pycharm": {
     "name": "#%% md\n"
    },
    "slideshow": {
     "slide_type": "slide"
    }
   },
   "source": [
    "### Когда создается и сколько экземпляров"
   ]
  },
  {
   "cell_type": "markdown",
   "metadata": {
    "pycharm": {
     "name": "#%% md\n"
    },
    "slideshow": {
     "slide_type": "fragment"
    }
   },
   "source": [
    "* Создается в момент запуска скрипта и удаляется в момент завершения скрипта\n",
    "* У каждого модуля свой global namespace"
   ]
  },
  {
   "cell_type": "markdown",
   "metadata": {
    "pycharm": {
     "name": "#%% md\n"
    },
    "slideshow": {
     "slide_type": "slide"
    }
   },
   "source": [
    "### Enclosing and local namespaces"
   ]
  },
  {
   "cell_type": "code",
   "execution_count": null,
   "metadata": {
    "pycharm": {
     "name": "#%%\n"
    },
    "slideshow": {
     "slide_type": "fragment"
    }
   },
   "outputs": [],
   "source": [
    "x = 0\n",
    "def f():\n",
    "    x = 1\n",
    "    def g():\n",
    "        # print(f\"in g: {x}\")  # playground, but spoiler - see later\n",
    "        x = 2  # playground\n",
    "        print(f\"in g: {x}\")\n",
    "    g()\n",
    "    print(f\"in f: {x}\")\n",
    "f()\n",
    "print(f\"global: {x}\")"
   ]
  },
  {
   "cell_type": "markdown",
   "metadata": {
    "pycharm": {
     "name": "#%% md\n"
    },
    "slideshow": {
     "slide_type": "fragment"
    }
   },
   "source": [
    "<div class=\"alert alert-danger\">\n",
    "<b>Антипаттерн: </b> использование вложенных функций\n",
    "</div>"
   ]
  },
  {
   "cell_type": "code",
   "execution_count": null,
   "metadata": {
    "pycharm": {
     "name": "#%%\n"
    },
    "slideshow": {
     "slide_type": "fragment"
    }
   },
   "outputs": [],
   "source": [
    "def f(x):\n",
    "    y = 1\n",
    "    print(locals())\n",
    "f(10)"
   ]
  },
  {
   "cell_type": "markdown",
   "metadata": {
    "pycharm": {
     "name": "#%% md\n"
    },
    "slideshow": {
     "slide_type": "slide"
    }
   },
   "source": [
    "### Функции создают свой namespace"
   ]
  },
  {
   "cell_type": "code",
   "execution_count": null,
   "metadata": {
    "pycharm": {
     "name": "#%%\n"
    },
    "slideshow": {
     "slide_type": "fragment"
    }
   },
   "outputs": [],
   "source": [
    "def function():\n",
    "    inner_variable = 42\n",
    "\n",
    "function()\n",
    "inner_variable"
   ]
  },
  {
   "cell_type": "code",
   "execution_count": null,
   "metadata": {
    "pycharm": {
     "name": "#%%\n"
    },
    "slideshow": {
     "slide_type": "slide"
    }
   },
   "outputs": [],
   "source": [
    "def function(arg):\n",
    "    print(locals())\n",
    "\n",
    "function(1)"
   ]
  },
  {
   "cell_type": "code",
   "execution_count": null,
   "metadata": {},
   "outputs": [],
   "source": [
    "def function(arg):\n",
    "    print(locals() == globals())\n",
    "\n",
    "function(1)"
   ]
  },
  {
   "cell_type": "code",
   "execution_count": null,
   "metadata": {
    "pycharm": {
     "name": "#%%\n"
    },
    "slideshow": {
     "slide_type": "fragment"
    }
   },
   "outputs": [],
   "source": [
    "locals() == globals()"
   ]
  },
  {
   "cell_type": "markdown",
   "metadata": {
    "pycharm": {
     "name": "#%% md\n"
    },
    "slideshow": {
     "slide_type": "slide"
    }
   },
   "source": [
    "### Циклы и условия не создают свой namespace"
   ]
  },
  {
   "cell_type": "code",
   "execution_count": null,
   "metadata": {
    "pycharm": {
     "name": "#%%\n"
    },
    "slideshow": {
     "slide_type": "fragment"
    }
   },
   "outputs": [],
   "source": [
    "k = \"Hi!\"\n",
    "\n",
    "for k in range(3):\n",
    "    in_for = k\n",
    "\n",
    "print(in_for)\n",
    "print(k)"
   ]
  },
  {
   "cell_type": "code",
   "execution_count": null,
   "metadata": {
    "pycharm": {
     "name": "#%%\n"
    },
    "slideshow": {
     "slide_type": "fragment"
    }
   },
   "outputs": [],
   "source": [
    "in_if = 1\n",
    "\n",
    "if True:\n",
    "    in_if = 2\n",
    " \n",
    "print(in_if)"
   ]
  },
  {
   "cell_type": "markdown",
   "metadata": {
    "pycharm": {
     "name": "#%% md\n"
    },
    "slideshow": {
     "slide_type": "slide"
    }
   },
   "source": [
    "### Генераторы создают namespace"
   ]
  },
  {
   "cell_type": "code",
   "execution_count": null,
   "metadata": {
    "pycharm": {
     "name": "#%%\n"
    },
    "slideshow": {
     "slide_type": "fragment"
    }
   },
   "outputs": [],
   "source": [
    "i = 'Hello'\n",
    "[i for i in range(10)]  # listcomp is gen\n",
    "print(i)"
   ]
  },
  {
   "cell_type": "code",
   "execution_count": null,
   "metadata": {},
   "outputs": [],
   "source": [
    "i = 'World'\n",
    "\n",
    "def _gen(x):  # what is gen? wait for lecture on this topic\n",
    "    for i in range(x):\n",
    "        yield i\n",
    "\n",
    "for k in _gen(3):\n",
    "    pass\n",
    "\n",
    "print(i)"
   ]
  },
  {
   "cell_type": "markdown",
   "metadata": {
    "pycharm": {
     "name": "#%% md\n"
    },
    "slideshow": {
     "slide_type": "slide"
    }
   },
   "source": [
    "### Variable Scope & LEGB rule"
   ]
  },
  {
   "cell_type": "markdown",
   "metadata": {
    "pycharm": {
     "name": "#%% md\n"
    },
    "slideshow": {
     "slide_type": "fragment"
    }
   },
   "source": [
    "1. Local\n",
    "2. Enclosing\n",
    "3. Global\n",
    "4. Built-in"
   ]
  },
  {
   "cell_type": "code",
   "execution_count": null,
   "metadata": {
    "pycharm": {
     "name": "#%%\n"
    },
    "slideshow": {
     "slide_type": "slide"
    }
   },
   "outputs": [],
   "source": [
    "global_var = 'global_var'\n",
    "local_var = 'not_local_var'\n",
    "\n",
    "def func(): \n",
    "    local_var = 'local_var'\n",
    "    # global_var is in global namespace\n",
    "    print(f'func: {global_var}')\n",
    "    print(f'func: {local_var}')\n",
    "\n",
    "func()\n",
    "print(global_var)\n",
    "print(local_var)"
   ]
  },
  {
   "cell_type": "code",
   "execution_count": null,
   "metadata": {},
   "outputs": [],
   "source": [
    "print('Builtin', sum.__doc__[:50])\n",
    "from numpy import sum\n",
    "print('NP', sum.__doc__[:50])\n",
    "from numpy import where as sum\n",
    "print('NP', sum.__doc__[:50])\n",
    "from builtins import sum"
   ]
  },
  {
   "cell_type": "code",
   "execution_count": null,
   "metadata": {
    "pycharm": {
     "name": "#%%\n"
    },
    "slideshow": {
     "slide_type": "fragment"
    }
   },
   "outputs": [],
   "source": [
    "del local_variable\n",
    "# import gc\n",
    "# gc.collect()"
   ]
  },
  {
   "cell_type": "markdown",
   "metadata": {
    "pycharm": {
     "name": "#%% md\n"
    },
    "slideshow": {
     "slide_type": "slide"
    }
   },
   "source": [
    "### Вложенные функции"
   ]
  },
  {
   "cell_type": "code",
   "execution_count": null,
   "metadata": {
    "pycharm": {
     "name": "#%%\n"
    },
    "slideshow": {
     "slide_type": "fragment"
    }
   },
   "outputs": [],
   "source": [
    "def outer():\n",
    "    outer_var = 'foo'\n",
    "\n",
    "    def inner():\n",
    "        inner_var = 'bar'\n",
    "        print('outer in inner:', outer_var)\n",
    "        print('inner in inner:', inner_var)\n",
    "\n",
    "    inner()\n",
    "\n",
    "    print('outer in outer:', outer_var)\n",
    "    print('inner in outer:', inner_var)\n",
    "\n",
    "outer()"
   ]
  },
  {
   "cell_type": "markdown",
   "metadata": {
    "pycharm": {
     "name": "#%% md\n"
    },
    "slideshow": {
     "slide_type": "slide"
    }
   },
   "source": [
    "### Замечание\n",
    "Функции имеют доступ к внешним пространствам имён относительно того места где они были **определены**, а не **вызваны**"
   ]
  },
  {
   "cell_type": "code",
   "execution_count": null,
   "metadata": {
    "pycharm": {
     "name": "#%%\n"
    },
    "slideshow": {
     "slide_type": "fragment"
    }
   },
   "outputs": [],
   "source": [
    "def f():\n",
    "    print(it)\n",
    "\n",
    "def q(func):\n",
    "    for it in range(10):\n",
    "        func()\n",
    "    print(it)\n",
    "\n",
    "q(f)"
   ]
  },
  {
   "cell_type": "markdown",
   "metadata": {
    "pycharm": {
     "name": "#%% md\n"
    },
    "slideshow": {
     "slide_type": "slide"
    }
   },
   "source": [
    "### Когда создется объект на запись?"
   ]
  },
  {
   "cell_type": "code",
   "execution_count": null,
   "metadata": {
    "pycharm": {
     "name": "#%%\n"
    },
    "slideshow": {
     "slide_type": "fragment"
    }
   },
   "outputs": [],
   "source": [
    "global_var = 'global_var'\n",
    "\n",
    "def func():\n",
    "#     print('func0: ', global_var)  What will happen here?\n",
    "    global_var = 'global_var_modified'\n",
    "    print('func  :', global_var)\n",
    "\n",
    "func()\n",
    "print('global:', global_var)"
   ]
  },
  {
   "cell_type": "markdown",
   "metadata": {
    "pycharm": {
     "name": "#%% md\n"
    },
    "slideshow": {
     "slide_type": "slide"
    }
   },
   "source": [
    "### global "
   ]
  },
  {
   "cell_type": "code",
   "execution_count": null,
   "metadata": {
    "pycharm": {
     "name": "#%%\n"
    },
    "scrolled": true,
    "slideshow": {
     "slide_type": "fragment"
    }
   },
   "outputs": [],
   "source": [
    "global_var = 'global_var'\n",
    "\n",
    "def func():\n",
    "    global global_var\n",
    "    global_var = 'global_var_modified'\n",
    "#     print(locals())\n",
    "    print(global_var)\n",
    "\n",
    "func()\n",
    "print(global_var)"
   ]
  },
  {
   "cell_type": "markdown",
   "metadata": {
    "pycharm": {
     "name": "#%% md\n"
    },
    "slideshow": {
     "slide_type": "fragment"
    }
   },
   "source": [
    "<div class=\"alert alert-danger\">\n",
    "<b>Антипаттерн: </b> использование global\n",
    "</div>"
   ]
  },
  {
   "cell_type": "code",
   "execution_count": null,
   "metadata": {
    "pycharm": {
     "name": "#%%\n"
    },
    "slideshow": {
     "slide_type": "slide"
    }
   },
   "outputs": [],
   "source": [
    "new_global_var = 'old_global_var'\n",
    "\n",
    "def func():\n",
    "    # global can create behaviour you probably don't want\n",
    "    global new_global_var\n",
    "    new_global_var = 'new_global_var'\n",
    "    print(new_global_var)\n",
    "\n",
    "print(new_global_var)\n",
    "func()\n",
    "print(new_global_var)"
   ]
  },
  {
   "cell_type": "markdown",
   "metadata": {
    "pycharm": {
     "name": "#%% md\n"
    },
    "slideshow": {
     "slide_type": "fragment"
    }
   },
   "source": [
    "<div class=\"alert alert-danger\">\n",
    "<b>Антипаттерн: </b> использование global\n",
    "</div>"
   ]
  },
  {
   "cell_type": "markdown",
   "metadata": {
    "pycharm": {
     "name": "#%% md\n"
    },
    "slideshow": {
     "slide_type": "slide"
    }
   },
   "source": [
    "### Проблема"
   ]
  },
  {
   "cell_type": "code",
   "execution_count": null,
   "metadata": {
    "pycharm": {
     "name": "#%%\n"
    },
    "slideshow": {
     "slide_type": "fragment"
    }
   },
   "outputs": [],
   "source": [
    "var = 1\n",
    "\n",
    "def outer():\n",
    "    var = 'outer'\n",
    "\n",
    "    def inner():\n",
    "        global var\n",
    "        print('from global:', var)\n",
    "        var = 'inner'\n",
    "        print('from inner:', var)\n",
    "\n",
    "    inner()\n",
    "    print('from outer:', var)\n",
    "\n",
    "outer()\n",
    "print('from global:', var)\n",
    "\n",
    "# cleanup\n",
    "del var"
   ]
  },
  {
   "cell_type": "markdown",
   "metadata": {
    "pycharm": {
     "name": "#%% md\n"
    },
    "slideshow": {
     "slide_type": "slide"
    }
   },
   "source": [
    "### Решение: nonlocal"
   ]
  },
  {
   "cell_type": "code",
   "execution_count": null,
   "metadata": {
    "pycharm": {
     "name": "#%%\n"
    },
    "scrolled": true,
    "slideshow": {
     "slide_type": "fragment"
    }
   },
   "outputs": [],
   "source": [
    "var = 1\n",
    "\n",
    "def outer():\n",
    "    var = 'outer'\n",
    "\n",
    "    def inner():\n",
    "        # print('var in inner 0:', var)  # SyntaxError\n",
    "        nonlocal var\n",
    "        print('var in inner 1:', var)\n",
    "        var = 'inner'\n",
    "        print('var in inner 2:', var)\n",
    "\n",
    "    inner()\n",
    "    print('var in outer:', var)\n",
    "\n",
    "outer()\n",
    "print('var in global:', var)\n",
    "\n",
    "del var"
   ]
  },
  {
   "cell_type": "markdown",
   "metadata": {
    "pycharm": {
     "name": "#%% md\n"
    }
   },
   "source": [
    "<div class=\"alert alert-danger\">\n",
    "<b>Антипаттерн: </b> использование nonlocal\n",
    "</div>"
   ]
  },
  {
   "cell_type": "code",
   "execution_count": null,
   "metadata": {
    "pycharm": {
     "name": "#%%\n"
    },
    "slideshow": {
     "slide_type": "skip"
    }
   },
   "outputs": [],
   "source": [
    "# Partial reuse of enclosing variables\n",
    "var = 'global value'\n",
    "\n",
    "def foo(variable, flag=False):\n",
    "    def bar():\n",
    "        nonlocal variable\n",
    "        if flag:\n",
    "            variable = 'value'\n",
    "        print('variable:', variable)\n",
    "    return bar()\n",
    "\n",
    "foo(var, flag=True)\n",
    "print('var:', var)\n",
    "foo(var, flag=False)\n",
    "print('var:', var)"
   ]
  },
  {
   "cell_type": "markdown",
   "metadata": {
    "pycharm": {
     "name": "#%% md\n"
    },
    "slideshow": {
     "slide_type": "slide"
    }
   },
   "source": [
    "### Решение через __setattr__"
   ]
  },
  {
   "cell_type": "code",
   "execution_count": null,
   "metadata": {
    "pycharm": {
     "name": "#%%\n"
    },
    "slideshow": {
     "slide_type": "fragment"
    }
   },
   "outputs": [],
   "source": [
    "# without nonlocal\n",
    "\n",
    "def outer():\n",
    "    outer.var = 'v1'\n",
    "\n",
    "    def inner():\n",
    "        print('inner-0:', outer.var)\n",
    "        outer.var = 'v2'\n",
    "        print('inner-1:', outer.var)\n",
    "\n",
    "    inner()\n",
    "    print('outer:', outer.var)\n",
    "\n",
    "\n",
    "outer()\n",
    "print('global:', outer.var)"
   ]
  },
  {
   "cell_type": "markdown",
   "metadata": {
    "pycharm": {
     "name": "#%% md\n"
    }
   },
   "source": [
    "<div class=\"alert alert-danger\">\n",
    "<b>Антипаттерн: </b> использование атрибутов функций\n",
    "</div>"
   ]
  },
  {
   "cell_type": "markdown",
   "metadata": {
    "pycharm": {
     "name": "#%% md\n"
    },
    "slideshow": {
     "slide_type": "skip"
    }
   },
   "source": [
    "### Где теперь лежит переменная?"
   ]
  },
  {
   "cell_type": "code",
   "execution_count": null,
   "metadata": {
    "pycharm": {
     "name": "#%%\n"
    },
    "slideshow": {
     "slide_type": "skip"
    }
   },
   "outputs": [],
   "source": [
    "def outer():\n",
    "    enclosing_var = 'outer'\n",
    "\n",
    "    def inner():\n",
    "        print('from inner :', enclosing_var)\n",
    "\n",
    "    return inner\n",
    "\n",
    "enclosing_var = 'global'\n",
    "outer()()\n",
    "print('from global:', enclosing_var)"
   ]
  },
  {
   "cell_type": "markdown",
   "metadata": {
    "pycharm": {
     "name": "#%% md\n"
    },
    "slideshow": {
     "slide_type": "slide"
    }
   },
   "source": [
    "## Замыкания [Closures]\n",
    "_In computer programming languages, a closure is a function together with a referencing environment of that function. A closure function is any function that uses a variable that is defined in an environment (or scope) that is external to that function, and is accessible within the function when invoked from a scope in which that free variable is not defined._"
   ]
  },
  {
   "cell_type": "markdown",
   "metadata": {
    "pycharm": {
     "name": "#%% md\n"
    },
    "slideshow": {
     "slide_type": "slide"
    }
   },
   "source": [
    "Существования замыканий следует из правила LEGB и возможностью оперировать с функциями как обьектами."
   ]
  },
  {
   "cell_type": "code",
   "execution_count": null,
   "metadata": {
    "pycharm": {
     "name": "#%%\n"
    },
    "slideshow": {
     "slide_type": "fragment"
    }
   },
   "outputs": [],
   "source": [
    "from typing import Callable, TypeVar\n",
    "_T = TypeVar(name='_T')  # spoilers\n",
    "\n",
    "def make_multiplicator(multiplier: int) -> Callable[[_T], _T]:\n",
    "    def _multiplicator(data: _T) -> _T:\n",
    "        return data * multiplier\n",
    "    return _multiplicator"
   ]
  },
  {
   "cell_type": "code",
   "execution_count": null,
   "metadata": {
    "pycharm": {
     "name": "#%%\n"
    },
    "slideshow": {
     "slide_type": "fragment"
    }
   },
   "outputs": [],
   "source": [
    "doubler = make_multiplicator(2)\n",
    "tripler = make_multiplicator(3)\n",
    "\n",
    "doubler('A') + tripler('B')"
   ]
  },
  {
   "cell_type": "code",
   "execution_count": null,
   "metadata": {
    "pycharm": {
     "name": "#%%\n"
    },
    "slideshow": {
     "slide_type": "fragment"
    }
   },
   "outputs": [],
   "source": [
    "make_multiplicator(2)(7)"
   ]
  },
  {
   "cell_type": "code",
   "execution_count": null,
   "metadata": {},
   "outputs": [],
   "source": [
    "from typing import Callable\n",
    "\n",
    "def make_polynom(coefs: list[float]) -> Callable[[float], float]:\n",
    "    def _polynom(x: float) -> float:\n",
    "        return sum(coef * x ** idx for idx, coef in enumerate(coefs))\n",
    "    return _polynom\n",
    "\n",
    "_pow2 = make_polynom([0, 0, 1])\n",
    "print(_pow2(5))\n",
    "\n",
    "_two_x_plus_1 = make_polynom([1, 2])\n",
    "print(_two_x_plus_1(3))"
   ]
  },
  {
   "cell_type": "markdown",
   "metadata": {
    "pycharm": {
     "name": "#%% md\n"
    },
    "slideshow": {
     "slide_type": "fragment"
    }
   },
   "source": [
    "<div class=\"alert alert-danger\">\n",
    "<b>Антипаттерн: </b> использование сложных замыканий\n",
    "</div>"
   ]
  },
  {
   "cell_type": "markdown",
   "metadata": {},
   "source": [
    "### Работаем с функциями как с классами"
   ]
  },
  {
   "cell_type": "code",
   "execution_count": null,
   "metadata": {
    "pycharm": {
     "name": "#%%\n"
    },
    "slideshow": {
     "slide_type": "slide"
    }
   },
   "outputs": [],
   "source": [
    "def value_factory(value=10):\n",
    "    def _value_getter():\n",
    "        return value\n",
    "\n",
    "    def _value_setter(new_value):\n",
    "        nonlocal value\n",
    "        value = new_value\n",
    "        return value\n",
    "\n",
    "    return _value_getter, _value_setter\n",
    "\n",
    "get_value, set_value = value_factory(100)\n",
    "get_value2, set_value2 = value_factory(100)\n",
    "print(get_value(), get_value2())\n",
    "\n",
    "set_value(10**6)\n",
    "\n",
    "print(get_value(), get_value2())"
   ]
  },
  {
   "cell_type": "code",
   "execution_count": null,
   "metadata": {},
   "outputs": [],
   "source": [
    "# get_value.__closure__[0].cell_contents"
   ]
  },
  {
   "cell_type": "markdown",
   "metadata": {
    "pycharm": {
     "name": "#%% md\n"
    },
    "slideshow": {
     "slide_type": "fragment"
    }
   },
   "source": [
    "<div class=\"alert alert-danger\">\n",
    "<b>Антипаттерн: </b> использование замыканий вместо классов\n",
    "</div>"
   ]
  },
  {
   "cell_type": "code",
   "execution_count": null,
   "metadata": {
    "pycharm": {
     "name": "#%%\n"
    },
    "slideshow": {
     "slide_type": "slide"
    }
   },
   "outputs": [],
   "source": [
    "def make_adder(x):\n",
    "    def add(y):\n",
    "        return x + y\n",
    "\n",
    "    def zxc(new_x):\n",
    "        nonlocal x\n",
    "        x = new_x\n",
    "\n",
    "    add.update = zxc\n",
    "    return add\n",
    "\n",
    "\n",
    "adder = make_adder(10)\n",
    "print(adder(5))\n",
    "\n",
    "adder.update(100)\n",
    "print(adder(23))\n",
    "print(adder(45))"
   ]
  },
  {
   "cell_type": "markdown",
   "metadata": {},
   "source": [
    "<div class=\"alert alert-danger\">\n",
    "<b>Антипаттерн: </b> использование замыканий вместо классов\n",
    "</div>"
   ]
  },
  {
   "cell_type": "markdown",
   "metadata": {
    "pycharm": {
     "name": "#%% md\n"
    },
    "slideshow": {
     "slide_type": "slide"
    }
   },
   "source": [
    "\n",
    "# Декораторы"
   ]
  },
  {
   "cell_type": "code",
   "execution_count": null,
   "metadata": {
    "pycharm": {
     "name": "#%%\n"
    },
    "slideshow": {
     "slide_type": "slide"
    }
   },
   "outputs": [],
   "source": [
    "import sys\n",
    "\n",
    "def deprecated(func):\n",
    "    def inner(*args, **kwargs):\n",
    "        print(f'{func.__name__} is deprecated!', file=sys.stderr)\n",
    "        return func(*args, **kwargs)\n",
    "    return inner\n",
    "\n",
    "depr_print = deprecated(print)\n",
    "depr_print([1, 2, 3])"
   ]
  },
  {
   "cell_type": "markdown",
   "metadata": {
    "pycharm": {
     "name": "#%% md\n"
    },
    "slideshow": {
     "slide_type": "slide"
    }
   },
   "source": [
    "### Синтаксис декораторов"
   ]
  },
  {
   "cell_type": "code",
   "execution_count": null,
   "metadata": {
    "pycharm": {
     "name": "#%%\n"
    },
    "slideshow": {
     "slide_type": "fragment"
    }
   },
   "outputs": [],
   "source": [
    "import sys\n",
    "\n",
    "def deprecated(func):\n",
    "    def wrapper(*args, **kwargs):\n",
    "        print(f'{func.__name__} is deprecated!', file=sys.stderr)\n",
    "#         return smth\n",
    "        return func(*args, **kwargs)\n",
    "    return wrapper\n",
    "\n",
    "@deprecated\n",
    "def add(x, y):\n",
    "    return x + y\n",
    "\n",
    "add(1, 2)"
   ]
  },
  {
   "cell_type": "markdown",
   "metadata": {
    "pycharm": {
     "name": "#%% md\n"
    },
    "slideshow": {
     "slide_type": "slide"
    }
   },
   "source": [
    "### Monke"
   ]
  },
  {
   "cell_type": "code",
   "execution_count": null,
   "metadata": {
    "pycharm": {
     "name": "#%%\n"
    },
    "scrolled": false,
    "slideshow": {
     "slide_type": "fragment"
    }
   },
   "outputs": [],
   "source": [
    "from IPython import display\n",
    "\n",
    "def monke(func):\n",
    "    return display.HTML('<img src=\"https://i.kym-cdn.com/photos/images/original/002/578/699/9c8.gif\">')\n",
    "\n",
    "@monke\n",
    "def dummy_function(arg):\n",
    "    print(arg)\n",
    "\n",
    "print(type(dummy_function))\n",
    "dummy_function  # not a function anymore"
   ]
  },
  {
   "cell_type": "markdown",
   "metadata": {
    "pycharm": {
     "name": "#%% md\n"
    },
    "slideshow": {
     "slide_type": "slide"
    }
   },
   "source": [
    "### Проблема"
   ]
  },
  {
   "cell_type": "code",
   "execution_count": null,
   "metadata": {
    "pycharm": {
     "name": "#%%\n"
    },
    "scrolled": true,
    "slideshow": {
     "slide_type": "fragment"
    }
   },
   "outputs": [],
   "source": [
    "@deprecated\n",
    "def show(x):\n",
    "    'This is a really nice looking docstring'\n",
    "    print(x)\n",
    "\n",
    "print(show.__name__)\n",
    "print(show.__doc__)"
   ]
  },
  {
   "cell_type": "code",
   "execution_count": null,
   "metadata": {},
   "outputs": [],
   "source": [
    "# show()"
   ]
  },
  {
   "cell_type": "markdown",
   "metadata": {
    "pycharm": {
     "name": "#%% md\n"
    },
    "slideshow": {
     "slide_type": "slide"
    }
   },
   "source": [
    "### Решение 1"
   ]
  },
  {
   "cell_type": "code",
   "execution_count": null,
   "metadata": {
    "pycharm": {
     "name": "#%%\n"
    },
    "slideshow": {
     "slide_type": "fragment"
    }
   },
   "outputs": [],
   "source": [
    "def deprecated(func):\n",
    "    def wrapper(*args, **kwargs):\n",
    "        print('{} is deprecated!'.format(func.__name__),\n",
    "              file=sys.stderr)\n",
    "        return func(*args, **kwargs)\n",
    "    wrapper.__name__ = func.__name__\n",
    "    wrapper.__doc__ = func.__doc__\n",
    "    wrapper.__module__ = func.__module__\n",
    "    return wrapper\n",
    "\n",
    "@deprecated\n",
    "def show(x):\n",
    "    'This is a really nice looking docstring'\n",
    "    print(x)\n",
    "\n",
    "print(show.__name__)\n",
    "print(show.__doc__)"
   ]
  },
  {
   "cell_type": "code",
   "execution_count": null,
   "metadata": {},
   "outputs": [],
   "source": [
    "# show()"
   ]
  },
  {
   "cell_type": "markdown",
   "metadata": {
    "pycharm": {
     "name": "#%% md\n"
    },
    "slideshow": {
     "slide_type": "slide"
    }
   },
   "source": [
    "### Решение 2"
   ]
  },
  {
   "cell_type": "code",
   "execution_count": null,
   "metadata": {
    "pycharm": {
     "name": "#%%\n"
    },
    "slideshow": {
     "slide_type": "fragment"
    }
   },
   "outputs": [],
   "source": [
    "from functools import wraps\n",
    "\n",
    "def deprecated(func):\n",
    "    @wraps(func)\n",
    "    def wrapper(*args, **kwargs):\n",
    "        print('{} is deprecated!'.format(func.__name__),\n",
    "              file=sys.stderr)\n",
    "        return func(*args, **kwargs)\n",
    "    return wrapper\n",
    "\n",
    "@deprecated\n",
    "def show(x):\n",
    "    'This is a really nice looking docstring'\n",
    "    print(x)\n",
    "\n",
    "print(show.__name__)\n",
    "print(show.__doc__)"
   ]
  },
  {
   "cell_type": "markdown",
   "metadata": {
    "pycharm": {
     "name": "#%% md\n"
    },
    "slideshow": {
     "slide_type": "slide"
    }
   },
   "source": [
    "### Декоратор Once"
   ]
  },
  {
   "cell_type": "code",
   "execution_count": null,
   "metadata": {
    "pycharm": {
     "name": "#%%\n"
    },
    "slideshow": {
     "slide_type": "fragment"
    }
   },
   "outputs": [],
   "source": [
    "def once(func):\n",
    "    called = False\n",
    "\n",
    "    def wrapper(*args, **kwargs):\n",
    "        nonlocal called\n",
    "        if not called:\n",
    "            called = True\n",
    "            return func(*args, **kwargs)\n",
    "\n",
    "    return wrapper\n",
    "\n",
    "@once\n",
    "def f():\n",
    "    print('Hi!')\n",
    "\n",
    "@once\n",
    "def g():\n",
    "    print(\"Hello!\")\n",
    "\n",
    "f()\n",
    "f()\n",
    "\n",
    "g()\n",
    "g()"
   ]
  },
  {
   "cell_type": "code",
   "execution_count": null,
   "metadata": {
    "pycharm": {
     "name": "#%%\n"
    },
    "scrolled": false,
    "slideshow": {
     "slide_type": "slide"
    }
   },
   "outputs": [],
   "source": [
    "import functools\n",
    "import sys\n",
    "\n",
    "def trace(dest=sys.stderr):\n",
    "    def wraps(func):\n",
    "        @functools.wraps(func)\n",
    "        def wrapper(*args, **kwargs):\n",
    "            print(\n",
    "                f'{func.__name__} called with args {args}, {kwargs}!',\n",
    "                file=dest\n",
    "            )\n",
    "            return func(*args, **kwargs)\n",
    "        return wrapper\n",
    "    return wraps\n",
    "\n",
    "@trace()\n",
    "# @trace(sys.stdout)\n",
    "def f(x, test):\n",
    "    if test > 1:\n",
    "        return f(x, test / 2)\n",
    "\n",
    "f('Hi!', test=42)"
   ]
  },
  {
   "cell_type": "markdown",
   "metadata": {
    "pycharm": {
     "name": "#%% md\n"
    },
    "slideshow": {
     "slide_type": "slide"
    }
   },
   "source": [
    "### Цепочки декораторов"
   ]
  },
  {
   "cell_type": "code",
   "execution_count": null,
   "metadata": {
    "pycharm": {
     "name": "#%%\n"
    },
    "slideshow": {
     "slide_type": "fragment"
    }
   },
   "outputs": [],
   "source": [
    "@deprecated\n",
    "@trace()\n",
    "def f(x):\n",
    "    return x\n",
    "\n",
    "f(1)"
   ]
  },
  {
   "cell_type": "markdown",
   "metadata": {
    "pycharm": {
     "name": "#%% md\n"
    },
    "slideshow": {
     "slide_type": "slide"
    }
   },
   "source": [
    "## Декоратор notify"
   ]
  },
  {
   "cell_type": "code",
   "execution_count": null,
   "metadata": {
    "pycharm": {
     "name": "#%%\n"
    },
    "slideshow": {
     "slide_type": "fragment"
    }
   },
   "outputs": [],
   "source": [
    "# notify: decorator\n",
    "# - без параметров: отправляет сообщение в чат\n",
    "# - с параметрами: отправляет сообщение с переданными параметрами\n",
    "import functools\n",
    "import sys\n",
    "\n",
    "sys.path.insert(0, '04.1.NamespacesAndDecorators/lecture')\n",
    "\n",
    "from custom_telegram_api import send  # don't forget to configure .env\n",
    "\n",
    "\n",
    "def notify(*dec_args):\n",
    "    if len(dec_args) == 1 and callable(dec_args[0]):\n",
    "        func = dec_args[0]\n",
    "        message = \"SAMPLE TEXT\"\n",
    "    else:\n",
    "#         print(dec_args)\n",
    "        func = None\n",
    "        message = dec_args[0]\n",
    "#         print(func)\n",
    "    \n",
    "    def first_level_decorator(func):\n",
    "        @functools.wraps(func)\n",
    "        def wrapper(*args, **kwargs):\n",
    "            r = func(*args, **kwargs)\n",
    "            print(message, file=sys.stderr)\n",
    "            # send(message)\n",
    "            return r\n",
    "        return wrapper\n",
    "    \n",
    "    if func is not None:\n",
    "        return first_level_decorator(func)\n",
    "    else:\n",
    "        return first_level_decorator\n",
    "\n",
    "\n",
    "@notify\n",
    "def foo():\n",
    "    '''Docstring 1'''\n",
    "    print('foo is done')\n",
    "\n",
    "\n",
    "@notify('sup /b/')\n",
    "def bar():\n",
    "    '''Docstring 2'''\n",
    "    print('bar is done')\n",
    "\n",
    "\n",
    "foo()\n",
    "# foo()\n",
    "# bar()\n",
    "bar()"
   ]
  },
  {
   "cell_type": "markdown",
   "metadata": {},
   "source": [
    "<div class=\"alert alert-danger\">\n",
    "<b>Антипаттерн: </b> написание таких декораторов, как в примере выше\n",
    "</div>"
   ]
  },
  {
   "cell_type": "markdown",
   "metadata": {
    "pycharm": {
     "name": "#%%\n"
    },
    "slideshow": {
     "slide_type": "slide"
    }
   },
   "source": [
    "# Тайпинги\n",
    "\n",
    "[Pep 612](https://peps.python.org/pep-0612/): `ParamSpec`, `Concatenate`, `ReturnType`"
   ]
  },
  {
   "cell_type": "code",
   "execution_count": null,
   "metadata": {
    "slideshow": {
     "slide_type": "fragment"
    }
   },
   "outputs": [],
   "source": [
    "from typing import Callable, TypeVar, TextIO, ParamSpec\n",
    "import sys\n",
    "\n",
    "R = TypeVar(\"R\")\n",
    "P = ParamSpec(\"P\")\n",
    "\n",
    "def trace(dest: TextIO = sys.stderr):\n",
    "    def wraps(func: Callable[P, R]) -> Callable[P, R]:\n",
    "        @functools.wraps(func)\n",
    "        def wrapper(*args: P.args, **kwargs: P.kwargs):\n",
    "            print(\n",
    "                f'{func.__name__} called with args {args}, {kwargs}!',\n",
    "                file=dest\n",
    "            )\n",
    "            return func(*args, **kwargs)\n",
    "        return wrapper\n",
    "    return wraps\n"
   ]
  }
 ],
 "metadata": {
  "celltoolbar": "Slideshow",
  "kernelspec": {
   "display_name": "Python 3 (ipykernel)",
   "language": "python",
   "name": "python3"
  },
  "language_info": {
   "codemirror_mode": {
    "name": "ipython",
    "version": 3
   },
   "file_extension": ".py",
   "mimetype": "text/x-python",
   "name": "python",
   "nbconvert_exporter": "python",
   "pygments_lexer": "ipython3",
   "version": "3.13.7"
  },
  "rise": {
   "enable_chalkboard": true,
   "footer": "<p style=\"margin: 5px; color: #a0a0a0\">YSDA Python Course</p>",
   "scroll": true,
   "start_slideshow_at": "selected",
   "theme": "serif",
   "transition": "none"
  },
  "toc": {
   "base_numbering": 1,
   "nav_menu": {},
   "number_sections": true,
   "sideBar": true,
   "skip_h1_title": false,
   "title_cell": "Table of Contents",
   "title_sidebar": "Contents",
   "toc_cell": false,
   "toc_position": {},
   "toc_section_display": true,
   "toc_window_display": false
  },
  "varInspector": {
   "cols": {
    "lenName": 16,
    "lenType": 16,
    "lenVar": 40
   },
   "kernels_config": {
    "python": {
     "delete_cmd_postfix": "",
     "delete_cmd_prefix": "del ",
     "library": "var_list.py",
     "varRefreshCmd": "print(var_dic_list())"
    },
    "r": {
     "delete_cmd_postfix": ") ",
     "delete_cmd_prefix": "rm(",
     "library": "var_list.r",
     "varRefreshCmd": "cat(var_dic_list()) "
    }
   },
   "position": {
    "height": "323.45px",
    "left": "1170px",
    "right": "20px",
    "top": "118px",
    "width": "344px"
   },
   "types_to_exclude": [
    "module",
    "function",
    "builtin_function_or_method",
    "instance",
    "_Feature"
   ],
   "window_display": false
  }
 },
 "nbformat": 4,
 "nbformat_minor": 2
}
