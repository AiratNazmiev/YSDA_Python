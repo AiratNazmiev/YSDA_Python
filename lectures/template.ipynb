{
 "cells": [
  {
   "cell_type": "markdown",
   "metadata": {
    "pycharm": {
     "name": "#%% md\n"
    },
    "slideshow": {
     "slide_type": "slide"
    }
   },
   "source": [
    "<center>\n",
    "    <img src=\"https://upload.wikimedia.org/wikipedia/commons/a/a8/%D0%9B%D0%9E%D0%93%D0%9E_%D0%A8%D0%90%D0%94.png\" width=500px/>\n",
    "    <font>Python 2021</font><br/>\n",
    "    <br/>\n",
    "    <br/>\n",
    "    <b style=\"font-size: 2em\">Название Лекции</b><br/>\n",
    "    <b style=\"font-size: 2em\">иногда на второй line</b><br/>\n",
    "    <br/>\n",
    "    <font>Имя Фамилия</font><br/>\n",
    "</center>"
   ]
  },
  {
   "cell_type": "markdown",
   "metadata": {
    "slideshow": {
     "slide_type": "slide"
    }
   },
   "source": [
    "## Adgenda\n",
    "\n",
    "* Sub1\n",
    "* Sub2\n",
    "    * SubSub1\n",
    "    * SubSub2\n",
    "* Sub3"
   ]
  },
  {
   "cell_type": "markdown",
   "metadata": {
    "slideshow": {
     "slide_type": "slide"
    }
   },
   "source": [
    "# Заголовок\n",
    "\n",
    "## Sub header"
   ]
  },
  {
   "cell_type": "markdown",
   "metadata": {
    "pycharm": {
     "name": "#%% md\n"
    }
   },
   "source": [
    "<div align=\"center\">\n",
    "    <img src=\"https://imgs.xkcd.com/comics/git.png\" height=\"400px\"/>\n",
    "</div>"
   ]
  },
  {
   "cell_type": "markdown",
   "metadata": {
    "pycharm": {
     "name": "#%% md\n"
    }
   },
   "source": [
    "<div class=\"alert alert-danger\">\n",
    "    <b>Антипаттерн: </b> Краткое Описание что НЕ нужно делать\n",
    "</div>"
   ]
  },
  {
   "cell_type": "markdown",
   "source": [
    "<div class=\"alert alert-danger\">\n",
    "    <b>Антипаттерн: </b> Краткое Описание что НЕ нужно делать\n",
    "</div>"
   ],
   "metadata": {
    "collapsed": false,
    "pycharm": {
     "name": "#%% md\n"
    }
   }
  },
  {
   "cell_type": "code",
   "execution_count": null,
   "outputs": [],
   "source": [
    "<div class=\"alert alert-info\">\n",
    "    <b>Рекомендация:</b> Краткое Описание Рекомендации \n",
    "</div>"
   ],
   "metadata": {
    "collapsed": false,
    "pycharm": {
     "name": "#%%\n"
    }
   }
  },
  {
   "cell_type": "markdown",
   "metadata": {
    "pycharm": {
     "name": "#%%\n"
    }
   },
   "source": [
    "<div class=\"alert alert-info\">\n",
    "    <b>Рекомендация:</b> Краткое Описание Рекомендации \n",
    "</div>"
   ]
  },
  {
   "cell_type": "markdown",
   "metadata": {
    "pycharm": {
     "name": "#%% md\n"
    }
   },
   "source": [
    "<div class=\"alert alert-info\">\n",
    "    <b>Hint:</b> Подсказочка\n",
    "</div>"
   ]
  },
  {
   "cell_type": "markdown",
   "metadata": {
    "pycharm": {
     "name": "#%% md\n"
    }
   },
   "source": [
    "<div class=\"alert alert-info\">\n",
    "    <b>Info:</b> Какая-то информация\n",
    "</div>"
   ]
  },
  {
   "cell_type": "markdown",
   "metadata": {
    "pycharm": {
     "name": "#%% md\n"
    }
   },
   "source": [
    "<div class=\"alert alert-warning\">\n",
    "    <b>Частая ошибка:</b> Описание Ошибки\n",
    "</div>"
   ]
  },
  {
   "cell_type": "markdown",
   "metadata": {},
   "source": [
    "<div class=\"alert alert-info\">\n",
    "    <b>Info:</b> Какая-то информация\n",
    "</div>"
   ]
  },
  {
   "cell_type": "markdown",
   "metadata": {},
   "source": [
    "<div class=\"alert alert-warning\">\n",
    "    <b>Частая ошибка:</b> Описание Ошибки\n",
    "</div>"
   ]
  },
  {
   "cell_type": "code",
   "execution_count": null,
   "metadata": {},
   "outputs": [],
   "source": []
  }
 ],
 "metadata": {
  "celltoolbar": "Slideshow",
  "kernelspec": {
   "display_name": "Python 3 (ipykernel)",
   "language": "python",
   "name": "python3"
  },
  "language_info": {
   "codemirror_mode": {
    "name": "ipython",
    "version": 3
   },
   "file_extension": ".py",
   "mimetype": "text/x-python",
   "name": "python",
   "nbconvert_exporter": "python",
   "pygments_lexer": "ipython3",
   "version": "3.9.12"
  },
  "rise": {
   "enable_chalkboard": true,
   "footer": "<p style=\"margin: 5px; color: #a0a0a0\">YSDA Python Course</p>",
   "scroll": true,
   "start_slideshow_at": "selected",
   "theme": "serif",
   "transition": "none"
  }
 },
 "nbformat": 4,
 "nbformat_minor": 1
}