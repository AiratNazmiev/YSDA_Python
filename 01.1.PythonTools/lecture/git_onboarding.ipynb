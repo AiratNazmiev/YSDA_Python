{
 "cells": [
  {
   "cell_type": "markdown",
   "metadata": {
    "pycharm": {
     "name": "#%% md\n"
    },
    "slideshow": {
     "slide_type": "slide"
    }
   },
   "source": [
    "<center>\n",
    "    <img src=\"https://upload.wikimedia.org/wikipedia/commons/a/a8/%D0%9B%D0%9E%D0%93%D0%9E_%D0%A8%D0%90%D0%94.png\" width=500px/>\n",
    "    <font>Onboarding 2025</font><br/>\n",
    "    <br/>\n",
    "    <br/>\n",
    "    <b style=\"font-size: 2em\">Manytask + git</b><br/>\n",
    "    <br/>\n",
    "    <font>Никита Бондарцев</font><br/>\n",
    "</center>"
   ]
  },
  {
   "cell_type": "markdown",
   "metadata": {
    "slideshow": {
     "slide_type": "slide"
    }
   },
   "source": [
    "### План лекции"
   ]
  },
  {
   "cell_type": "markdown",
   "metadata": {},
   "source": [
    "**Первая часть: Вместе сделаем путь до сдачи задачки в онбординговом курсе [на менитаске](https://app.manytask.org/)**\n",
    "\n",
    "onboarding-2025-fall\n",
    "\n",
    "RebaseCamp\n",
    "\n",
    "**Вторая часть: Основы работы с git**\n",
    "\n",
    "**Вопросы (оставшееся время)**"
   ]
  },
  {
   "cell_type": "markdown",
   "metadata": {
    "pycharm": {
     "name": "#%% md\n"
    },
    "slideshow": {
     "slide_type": "slide"
    }
   },
   "source": [
    "# Работа с git"
   ]
  },
  {
   "cell_type": "markdown",
   "metadata": {
    "pycharm": {
     "name": "#%% md\n"
    },
    "slideshow": {
     "slide_type": "-"
    }
   },
   "source": [
    "<div align=\"center\">\n",
    "    <img src=\"images/meme.jpg\" width=\"600px\"/>\n",
    "</div>"
   ]
  },
  {
   "cell_type": "markdown",
   "metadata": {
    "pycharm": {
     "name": "#%% md\n"
    },
    "slideshow": {
     "slide_type": "slide"
    }
   },
   "source": [
    "### Первые шаги"
   ]
  },
  {
   "cell_type": "code",
   "execution_count": null,
   "metadata": {
    "pycharm": {
     "name": "#%%\n"
    },
    "slideshow": {
     "slide_type": "-"
    }
   },
   "outputs": [],
   "source": [
    "git config --global user.name \"Nikita Bondartsev\"\n",
    "git config --global user.email \"bondartsev.nikita@gmail.com\""
   ]
  },
  {
   "cell_type": "markdown",
   "metadata": {
    "pycharm": {
     "name": "#%% md\n"
    },
    "slideshow": {
     "slide_type": "slide"
    }
   },
   "source": [
    "### Репозиторий и где его достать"
   ]
  },
  {
   "cell_type": "markdown",
   "metadata": {
    "pycharm": {
     "name": "#%% md\n"
    },
    "slideshow": {
     "slide_type": "-"
    }
   },
   "source": [
    "#### Создать новый"
   ]
  },
  {
   "cell_type": "code",
   "execution_count": 14,
   "metadata": {
    "pycharm": {
     "name": "#%%\n"
    },
    "slideshow": {
     "slide_type": "-"
    }
   },
   "outputs": [],
   "source": [
    "mkdir ~/shad/repo\n",
    "cd ~/shad/repo"
   ]
  },
  {
   "cell_type": "code",
   "execution_count": 20,
   "metadata": {
    "pycharm": {
     "name": "#%%\n"
    },
    "slideshow": {
     "slide_type": "-"
    }
   },
   "outputs": [
    {
     "name": "stdout",
     "output_type": "stream",
     "text": [
      "Initialized empty Git repository in /Users/nbond/shad/repo/.git/\n"
     ]
    }
   ],
   "source": [
    "git init"
   ]
  },
  {
   "cell_type": "code",
   "execution_count": 21,
   "metadata": {
    "pycharm": {
     "name": "#%%\n"
    },
    "slideshow": {
     "slide_type": "-"
    }
   },
   "outputs": [
    {
     "name": "stdout",
     "output_type": "stream",
     "text": [
      "\u001b[34m.\u001b[m\u001b[m    \u001b[34m..\u001b[m\u001b[m   \u001b[34m.git\u001b[m\u001b[m\n"
     ]
    }
   ],
   "source": [
    "ls -a"
   ]
  },
  {
   "cell_type": "markdown",
   "metadata": {
    "pycharm": {
     "name": "#%% md\n"
    },
    "slideshow": {
     "slide_type": "slide"
    }
   },
   "source": [
    "#### Склонировать существующий"
   ]
  },
  {
   "cell_type": "code",
   "execution_count": 22,
   "metadata": {
    "pycharm": {
     "name": "#%%\n"
    },
    "slideshow": {
     "slide_type": "-"
    }
   },
   "outputs": [
    {
     "name": "stdout",
     "output_type": "stream",
     "text": [
      "Cloning into 'repo_remote'...\n",
      "remote: Enumerating objects: 50, done.\u001b[K\n",
      "remote: Counting objects: 100% (3/3), done.\u001b[K\n",
      "remote: Compressing objects: 100% (3/3), done.\u001b[K\n",
      "remote: Total 50 (delta 0), reused 0 (delta 0), pack-reused 47 (from 1)\u001b[K\n",
      "Receiving objects: 100% (50/50), 32.48 KiB | 723.00 KiB/s, done.\n",
      "\u001b[34m.\u001b[m\u001b[m                .gitlab-ci.yml   LICENSE          requirements.txt\n",
      "\u001b[34m..\u001b[m\u001b[m               \u001b[34m1.FirstSteps\u001b[m\u001b[m     README.md        testenv.docker\n",
      "\u001b[34m.git\u001b[m\u001b[m             \u001b[34m2.Factorial\u001b[m\u001b[m      base.docker      \u001b[34mtools\u001b[m\u001b[m\n",
      ".gitignore       \u001b[34m3.Palindrome\u001b[m\u001b[m     pyproject.toml\n"
     ]
    }
   ],
   "source": [
    "cd ~/shad\n",
    "# git clone <link from copy to clipboard in gitlab GUI> repo\n",
    "# Example: \n",
    "git clone git@gitlab.manytask.org:onboarding/public-2025-fall.git repo_remote\n",
    "ls -a repo_remote"
   ]
  },
  {
   "cell_type": "markdown",
   "metadata": {
    "pycharm": {
     "name": "#%% md\n"
    },
    "slideshow": {
     "slide_type": "slide"
    }
   },
   "source": [
    "### Где могут храниться изменения файлов\n",
    "\n",
    "</br>\n",
    "<div align=\"center\">\n",
    "    <img src=\"images/git_places.png\" width=\"800px\"/>\n",
    "</div>"
   ]
  },
  {
   "cell_type": "markdown",
   "metadata": {
    "pycharm": {
     "name": "#%% md\n"
    },
    "slideshow": {
     "slide_type": "slide"
    }
   },
   "source": [
    "### Состояния файла и переходы между ними\n",
    "\n",
    "</br>\n",
    "<div align=\"center\">\n",
    "    <img src=\"https://git-scm.com/book/en/v2/images/lifecycle.png\" width=\"800px\"/>\n",
    "</div>"
   ]
  },
  {
   "cell_type": "markdown",
   "metadata": {
    "pycharm": {
     "name": "#%% md\n"
    },
    "slideshow": {
     "slide_type": "slide"
    }
   },
   "source": [
    "<div align=\"center\"><b><font size=6>Базовый рабочий процесс</font></b></div>"
   ]
  },
  {
   "cell_type": "markdown",
   "metadata": {
    "pycharm": {
     "name": "#%% md\n"
    },
    "slideshow": {
     "slide_type": "-"
    }
   },
   "source": [
    "<b><font size=6>Изменяем</font></b>\n",
    "<div><font color=\"#0000FF\">vim / Sublime / VsCode / PyCharm </font></div>\n",
    "\n",
    "</br></br>\n",
    "<div align=\"center\">\n",
    "    <div style=\"border: 3px solid red; width: 280px; height:100px;position:relative;left:-30px;top:220px;\"></div>\n",
    "    <img src=\"https://git-scm.com/book/en/v2/images/lifecycle.png?1=1\" width=\"800px\" />\n",
    "</div>"
   ]
  },
  {
   "cell_type": "markdown",
   "metadata": {
    "pycharm": {
     "name": "#%% md\n"
    },
    "slideshow": {
     "slide_type": "slide"
    }
   },
   "source": [
    "<b><font size=6>Сохраняем в Stage</font></b>\n",
    "<div><font color=\"#0000FF\">git add (file)</font></div>\n",
    "<div align=\"center\">\n",
    "    <div style=\"border: 3px solid red; width: 680px; height:80px;position:relative;left:-10px;top:240px;\"></div>\n",
    "    <div style=\"border: 3px solid red; width: 280px; height:80px;position:relative;left:200px;top:260px;\"></div><img src=\"https://git-scm.com/book/en/v2/images/lifecycle.png?1=1\" width=\"800px\" /></div>"
   ]
  },
  {
   "cell_type": "markdown",
   "metadata": {
    "pycharm": {
     "name": "#%% md\n"
    },
    "slideshow": {
     "slide_type": "slide"
    }
   },
   "source": [
    "<b><font size=6>Смотрим, что ничего не забыли добавить в Stage</font></b>\n",
    "<div><font color=\"#0000FF\">git status</font></div>\n",
    "\n",
    "<div align=\"center\"><img src=\"images/git_status.png\" width=\"800px\" /></div>"
   ]
  },
  {
   "cell_type": "markdown",
   "metadata": {
    "pycharm": {
     "name": "#%% md\n"
    },
    "slideshow": {
     "slide_type": "slide"
    }
   },
   "source": [
    "<b><font size=6>Коммитим</font></b>\n",
    "<div><font color=\"#0000FF\">git commit -m</font></div>\n",
    "\n",
    "<div align=\"center\">\n",
    "    <div style=\"border: 3px solid red; width: 450px; height:100px;position:relative;left: 100px;top:350px;\"></div>\n",
    "    <img src=\"https://git-scm.com/book/en/v2/images/lifecycle.png?1=1\" width=\"800px\" />\n",
    "</div>"
   ]
  },
  {
   "cell_type": "markdown",
   "metadata": {
    "pycharm": {
     "name": "#%% md\n"
    },
    "slideshow": {
     "slide_type": "slide"
    }
   },
   "source": [
    "### Состояния файла и переходы между ними\n",
    "\n",
    "</br>\n",
    "<div align=\"center\">\n",
    "    <img src=\"images/git_cheatsheet.png\" width=\"800px\"/>\n",
    "</div>"
   ]
  },
  {
   "cell_type": "markdown",
   "metadata": {
    "pycharm": {
     "name": "#%% md\n"
    },
    "slideshow": {
     "slide_type": "slide"
    }
   },
   "source": [
    "## git status"
   ]
  },
  {
   "cell_type": "code",
   "execution_count": 28,
   "metadata": {
    "pycharm": {
     "name": "#%%\n"
    },
    "slideshow": {
     "slide_type": "-"
    }
   },
   "outputs": [
    {
     "name": "stdout",
     "output_type": "stream",
     "text": [
      "On branch main\n",
      "\n",
      "No commits yet\n",
      "\n",
      "nothing to commit (create/copy files and use \"git add\" to track)\n"
     ]
    }
   ],
   "source": [
    "cd ~/shad/repo\n",
    "git status"
   ]
  },
  {
   "cell_type": "code",
   "execution_count": 29,
   "metadata": {
    "pycharm": {
     "name": "#%%\n"
    },
    "slideshow": {
     "slide_type": "fragment"
    }
   },
   "outputs": [
    {
     "name": "stdout",
     "output_type": "stream",
     "text": [
      "On branch main\n",
      "\n",
      "No commits yet\n",
      "\n",
      "Untracked files:\n",
      "  (use \"git add <file>...\" to include in what will be committed)\n",
      "\t\u001b[31mhello_world.py\u001b[m\n",
      "\n",
      "nothing added to commit but untracked files present (use \"git add\" to track)\n"
     ]
    }
   ],
   "source": [
    "touch hello_world.py\n",
    "git status"
   ]
  },
  {
   "cell_type": "code",
   "execution_count": 30,
   "metadata": {
    "pycharm": {
     "name": "#%%\n"
    },
    "slideshow": {
     "slide_type": "slide"
    }
   },
   "outputs": [
    {
     "name": "stdout",
     "output_type": "stream",
     "text": [
      "On branch main\n",
      "\n",
      "No commits yet\n",
      "\n",
      "Untracked files:\n",
      "  (use \"git add <file>...\" to include in what will be committed)\n",
      "\t\u001b[31mREADME.md\u001b[m\n",
      "\t\u001b[31mhello_world.py\u001b[m\n",
      "\n",
      "nothing added to commit but untracked files present (use \"git add\" to track)\n"
     ]
    }
   ],
   "source": [
    "echo \"# Hello!\" > README.md\n",
    "git status"
   ]
  },
  {
   "cell_type": "markdown",
   "metadata": {},
   "source": [
    "## add + commit"
   ]
  },
  {
   "cell_type": "code",
   "execution_count": 31,
   "metadata": {
    "pycharm": {
     "name": "#%%\n"
    },
    "slideshow": {
     "slide_type": "fragment"
    }
   },
   "outputs": [
    {
     "name": "stdout",
     "output_type": "stream",
     "text": [
      "On branch main\n",
      "\n",
      "No commits yet\n",
      "\n",
      "Changes to be committed:\n",
      "  (use \"git rm --cached <file>...\" to unstage)\n",
      "\t\u001b[32mnew file:   README.md\u001b[m\n",
      "\n",
      "Untracked files:\n",
      "  (use \"git add <file>...\" to include in what will be committed)\n",
      "\t\u001b[31mhello_world.py\u001b[m\n",
      "\n"
     ]
    }
   ],
   "source": [
    "git add README.md\n",
    "git status"
   ]
  },
  {
   "cell_type": "code",
   "execution_count": 32,
   "metadata": {
    "pycharm": {
     "name": "#%%\n"
    },
    "slideshow": {
     "slide_type": "slide"
    }
   },
   "outputs": [
    {
     "name": "stdout",
     "output_type": "stream",
     "text": [
      "[main (root-commit) 7c5d2b5] Add header to readme\n",
      " 1 file changed, 1 insertion(+)\n",
      " create mode 100644 README.md\n"
     ]
    }
   ],
   "source": [
    "git commit -m \"Add header to readme\""
   ]
  },
  {
   "cell_type": "markdown",
   "metadata": {
    "pycharm": {
     "name": "#%% md\n"
    },
    "slideshow": {
     "slide_type": "-"
    }
   },
   "source": [
    "<div align=\"center\"><img src=\"http://xkcd.chtoes.li/comics/1296.png?1=1\" width=\"600px\" /></div>"
   ]
  },
  {
   "cell_type": "code",
   "execution_count": 33,
   "metadata": {
    "pycharm": {
     "name": "#%%\n"
    },
    "slideshow": {
     "slide_type": "fragment"
    }
   },
   "outputs": [
    {
     "name": "stdout",
     "output_type": "stream",
     "text": [
      "On branch main\n",
      "Untracked files:\n",
      "  (use \"git add <file>...\" to include in what will be committed)\n",
      "\t\u001b[31mhello_world.py\u001b[m\n",
      "\n",
      "nothing added to commit but untracked files present (use \"git add\" to track)\n"
     ]
    }
   ],
   "source": [
    "git status"
   ]
  },
  {
   "cell_type": "markdown",
   "metadata": {
    "pycharm": {
     "name": "#%% md\n"
    },
    "slideshow": {
     "slide_type": "slide"
    }
   },
   "source": [
    "## .gitignore"
   ]
  },
  {
   "cell_type": "markdown",
   "metadata": {
    "pycharm": {
     "name": "#%% md\n"
    },
    "slideshow": {
     "slide_type": "-"
    }
   },
   "source": [
    "```\n",
    "# .gitignore\n",
    "venv\n",
    ".DS_Store\n",
    ".idea\n",
    "__pycache__\n",
    "*.py[cod]\n",
    ".ipynb_checkpoints\n",
    ".pytest_cache\n",
    ".mypy_cache\n",
    ".cache\n",
    "```"
   ]
  },
  {
   "cell_type": "markdown",
   "metadata": {
    "pycharm": {
     "name": "#%% md\n"
    },
    "slideshow": {
     "slide_type": "-"
    }
   },
   "source": [
    "<div align=\"center\"><img src=\"https://i.imgur.com/E4bK5j7.png\" width=\"800px\"/></div>"
   ]
  },
  {
   "cell_type": "code",
   "execution_count": 34,
   "metadata": {
    "pycharm": {
     "name": "#%%\n"
    },
    "slideshow": {
     "slide_type": "slide"
    }
   },
   "outputs": [
    {
     "name": "stdout",
     "output_type": "stream",
     "text": [
      "On branch main\n",
      "Untracked files:\n",
      "  (use \"git add <file>...\" to include in what will be committed)\n",
      "\t\u001b[31mhello_world.py\u001b[m\n",
      "\t\u001b[31mtest.ipynb\u001b[m\n",
      "\n",
      "nothing added to commit but untracked files present (use \"git add\" to track)\n"
     ]
    }
   ],
   "source": [
    "touch test.ipynb\n",
    "git status"
   ]
  },
  {
   "cell_type": "code",
   "execution_count": 35,
   "metadata": {
    "pycharm": {
     "name": "#%%\n"
    },
    "slideshow": {
     "slide_type": "fragment"
    }
   },
   "outputs": [
    {
     "name": "stdout",
     "output_type": "stream",
     "text": [
      "On branch main\n",
      "Untracked files:\n",
      "  (use \"git add <file>...\" to include in what will be committed)\n",
      "\t\u001b[31m.gitignore\u001b[m\n",
      "\t\u001b[31mhello_world.py\u001b[m\n",
      "\n",
      "nothing added to commit but untracked files present (use \"git add\" to track)\n"
     ]
    }
   ],
   "source": [
    "echo \"*.ipynb\" > .gitignore\n",
    "git status"
   ]
  },
  {
   "cell_type": "markdown",
   "metadata": {
    "pycharm": {
     "name": "#%% md\n"
    },
    "slideshow": {
     "slide_type": "slide"
    }
   },
   "source": [
    "## История - git log"
   ]
  },
  {
   "cell_type": "code",
   "execution_count": 36,
   "metadata": {
    "pycharm": {
     "name": "#%%\n"
    },
    "slideshow": {
     "slide_type": "-"
    }
   },
   "outputs": [
    {
     "name": "stdout",
     "output_type": "stream",
     "text": [
      "\u001b[33mcommit 7c5d2b51d8987f452c8db5bc0bbe65471a9d5ee5\u001b[m\u001b[33m (\u001b[m\u001b[1;36mHEAD -> \u001b[m\u001b[1;32mmain\u001b[m\u001b[33m)\u001b[m\n",
      "Author: Nikita Bondartsev <nbond@toloka.ai>\n",
      "Date:   Sat Sep 13 02:06:33 2025 +0200\n",
      "\n",
      "    Add header to readme\n"
     ]
    }
   ],
   "source": [
    "git log"
   ]
  },
  {
   "cell_type": "code",
   "execution_count": 37,
   "metadata": {
    "pycharm": {
     "name": "#%%\n"
    },
    "slideshow": {
     "slide_type": "fragment"
    }
   },
   "outputs": [
    {
     "name": "stdout",
     "output_type": "stream",
     "text": [
      "[main 181d51e] Added hello_world.py\n",
      " 1 file changed, 1 insertion(+)\n",
      " create mode 100644 hello_world.py\n"
     ]
    }
   ],
   "source": [
    "echo 'print(\"Hello, world!\")' > hello_world.py\n",
    "git add hello_world.py\n",
    "git commit -m \"Added hello_world.py\""
   ]
  },
  {
   "cell_type": "code",
   "execution_count": 38,
   "metadata": {
    "pycharm": {
     "name": "#%%\n"
    },
    "slideshow": {
     "slide_type": "fragment"
    }
   },
   "outputs": [
    {
     "name": "stdout",
     "output_type": "stream",
     "text": [
      "\u001b[33mcommit 181d51e4535be818841ec27188b40f8fefbab648\u001b[m\u001b[33m (\u001b[m\u001b[1;36mHEAD -> \u001b[m\u001b[1;32mmain\u001b[m\u001b[33m)\u001b[m\n",
      "Author: Nikita Bondartsev <nbond@toloka.ai>\n",
      "Date:   Sat Sep 13 02:07:19 2025 +0200\n",
      "\n",
      "    Added hello_world.py\n",
      "\n",
      "\u001b[33mcommit 7c5d2b51d8987f452c8db5bc0bbe65471a9d5ee5\u001b[m\n",
      "Author: Nikita Bondartsev <nbond@toloka.ai>\n",
      "Date:   Sat Sep 13 02:06:33 2025 +0200\n",
      "\n",
      "    Add header to readme\n"
     ]
    }
   ],
   "source": [
    "git log"
   ]
  },
  {
   "cell_type": "markdown",
   "metadata": {},
   "source": [
    "## Ветки"
   ]
  },
  {
   "cell_type": "code",
   "execution_count": 18,
   "metadata": {},
   "outputs": [
    {
     "name": "stdout",
     "output_type": "stream",
     "text": [
      "* \u001b[32mmain\u001b[m\n"
     ]
    }
   ],
   "source": [
    "# список веток. Ветка - ссылка на коммит, которая двигается при коммите\n",
    "git branch"
   ]
  },
  {
   "cell_type": "code",
   "execution_count": 19,
   "metadata": {},
   "outputs": [
    {
     "name": "stdout",
     "output_type": "stream",
     "text": [
      "\u001b[33mcommit 181d51e4535be818841ec27188b40f8fefbab648\u001b[m\u001b[33m (\u001b[m\u001b[1;36mHEAD -> \u001b[m\u001b[1;32mmain\u001b[m\u001b[33m)\u001b[m\n",
      "Author: Nikita Bondartsev <nbond@toloka.ai>\n",
      "Date:   Sat Sep 13 02:07:19 2025 +0200\n",
      "\n",
      "    Added hello_world.py\n",
      "\n",
      "\u001b[33mcommit 7c5d2b51d8987f452c8db5bc0bbe65471a9d5ee5\u001b[m\n",
      "Author: Nikita Bondartsev <nbond@toloka.ai>\n",
      "Date:   Sat Sep 13 02:06:33 2025 +0200\n",
      "\n",
      "    Add header to readme\n"
     ]
    }
   ],
   "source": [
    "# ветки видны в логе, HEAD -> <название активной ветки>, а также просто в скобках\n",
    "git log"
   ]
  },
  {
   "cell_type": "code",
   "execution_count": 23,
   "metadata": {},
   "outputs": [
    {
     "name": "stdout",
     "output_type": "stream",
     "text": [
      "Switched to a new branch 'to_delete_branch'\n",
      "\u001b[33mcommit 181d51e4535be818841ec27188b40f8fefbab648\u001b[m\u001b[33m (\u001b[m\u001b[1;36mHEAD -> \u001b[m\u001b[1;32mto_delete_branch\u001b[m\u001b[33m, \u001b[m\u001b[1;32mmain\u001b[m\u001b[33m)\u001b[m\n",
      "Author: Nikita Bondartsev <nbond@toloka.ai>\n",
      "Date:   Sat Sep 13 02:07:19 2025 +0200\n",
      "\n",
      "    Added hello_world.py\n",
      "\n",
      "\u001b[33mcommit 7c5d2b51d8987f452c8db5bc0bbe65471a9d5ee5\u001b[m\n",
      "Author: Nikita Bondartsev <nbond@toloka.ai>\n",
      "Date:   Sat Sep 13 02:06:33 2025 +0200\n",
      "\n",
      "    Add header to readme\n"
     ]
    }
   ],
   "source": [
    "# создалась ветка, мы на нее сразу перешли, HEAD -> to_delete_branch\n",
    "git checkout -b to_delete_branch\n",
    "git log"
   ]
  },
  {
   "cell_type": "code",
   "execution_count": 24,
   "metadata": {},
   "outputs": [
    {
     "name": "stdout",
     "output_type": "stream",
     "text": [
      "  main\u001b[m\n",
      "* \u001b[32mto_delete_branch\u001b[m\n",
      "[to_delete_branch 4346a11] Added comment to hello_world\n",
      " 1 file changed, 1 insertion(+)\n",
      "\u001b[33mcommit 4346a11258d53fbdccb6be361454f0ea922f6ebb\u001b[m\u001b[33m (\u001b[m\u001b[1;36mHEAD -> \u001b[m\u001b[1;32mto_delete_branch\u001b[m\u001b[33m)\u001b[m\n",
      "Author: Nikita Bondartsev <nbond@toloka.ai>\n",
      "Date:   Sat Sep 13 15:13:50 2025 +0200\n",
      "\n",
      "    Added comment to hello_world\n",
      "\n",
      "\u001b[33mcommit 181d51e4535be818841ec27188b40f8fefbab648\u001b[m\u001b[33m (\u001b[m\u001b[1;32mmain\u001b[m\u001b[33m)\u001b[m\n",
      "Author: Nikita Bondartsev <nbond@toloka.ai>\n",
      "Date:   Sat Sep 13 02:07:19 2025 +0200\n",
      "\n",
      "    Added hello_world.py\n",
      "\n",
      "\u001b[33mcommit 7c5d2b51d8987f452c8db5bc0bbe65471a9d5ee5\u001b[m\n",
      "Author: Nikita Bondartsev <nbond@toloka.ai>\n",
      "Date:   Sat Sep 13 02:06:33 2025 +0200\n",
      "\n",
      "    Add header to readme\n"
     ]
    }
   ],
   "source": [
    "# при коммите активная ветка сдвинулась на новый коммит, не активные ветки остались там, где были\n",
    "git branch\n",
    "echo \"# comment here\" >> \"hello_world.py\"\n",
    "git add hello_world.py\n",
    "git commit -m \"Added comment to hello_world\"\n",
    "git log"
   ]
  },
  {
   "cell_type": "code",
   "execution_count": 25,
   "metadata": {},
   "outputs": [
    {
     "name": "stdout",
     "output_type": "stream",
     "text": [
      "Switched to branch 'main'\n",
      "Deleted branch to_delete_branch (was 4346a11).\n",
      "\u001b[34m.\u001b[m\u001b[m              \u001b[34m.git\u001b[m\u001b[m           README.md      test.ipynb\n",
      "\u001b[34m..\u001b[m\u001b[m             .gitignore     hello_world.py\n",
      "\u001b[33mcommit 181d51e4535be818841ec27188b40f8fefbab648\u001b[m\u001b[33m (\u001b[m\u001b[1;36mHEAD -> \u001b[m\u001b[1;32mmain\u001b[m\u001b[33m)\u001b[m\n",
      "Author: Nikita Bondartsev <nbond@toloka.ai>\n",
      "Date:   Sat Sep 13 02:07:19 2025 +0200\n",
      "\n",
      "    Added hello_world.py\n",
      "\n",
      "\u001b[33mcommit 7c5d2b51d8987f452c8db5bc0bbe65471a9d5ee5\u001b[m\n",
      "Author: Nikita Bondartsev <nbond@toloka.ai>\n",
      "Date:   Sat Sep 13 02:06:33 2025 +0200\n",
      "\n",
      "    Add header to readme\n"
     ]
    }
   ],
   "source": [
    "# про checkout поговорим в деталях ниже, можно удалять ветки через флаг -D\n",
    "git checkout main \n",
    "git branch -D to_delete_branch\n",
    "ls -a\n",
    "git log --all"
   ]
  },
  {
   "cell_type": "markdown",
   "metadata": {
    "pycharm": {
     "name": "#%% md\n"
    },
    "slideshow": {
     "slide_type": "slide"
    }
   },
   "source": [
    "## Смена состояния - git checkout"
   ]
  },
  {
   "cell_type": "markdown",
   "metadata": {},
   "source": [
    "#### Удаление modified изменений - опасно!"
   ]
  },
  {
   "cell_type": "code",
   "execution_count": 39,
   "metadata": {
    "pycharm": {
     "name": "#%%\n"
    },
    "slideshow": {
     "slide_type": "-"
    }
   },
   "outputs": [
    {
     "name": "stdout",
     "output_type": "stream",
     "text": [
      "On branch main\n",
      "Changes not staged for commit:\n",
      "  (use \"git add <file>...\" to update what will be committed)\n",
      "  (use \"git restore <file>...\" to discard changes in working directory)\n",
      "\t\u001b[31mmodified:   hello_world.py\u001b[m\n",
      "\n",
      "Untracked files:\n",
      "  (use \"git add <file>...\" to include in what will be committed)\n",
      "\t\u001b[31m.gitignore\u001b[m\n",
      "\n",
      "no changes added to commit (use \"git add\" and/or \"git commit -a\")\n"
     ]
    }
   ],
   "source": [
    "echo \"another line\" >> hello_world.py\n",
    "git status"
   ]
  },
  {
   "cell_type": "code",
   "execution_count": 40,
   "metadata": {
    "pycharm": {
     "name": "#%%\n"
    },
    "slideshow": {
     "slide_type": "fragment"
    }
   },
   "outputs": [
    {
     "name": "stdout",
     "output_type": "stream",
     "text": [
      "On branch main\n",
      "Untracked files:\n",
      "  (use \"git add <file>...\" to include in what will be committed)\n",
      "\t\u001b[31m.gitignore\u001b[m\n",
      "\n",
      "nothing added to commit but untracked files present (use \"git add\" to track)\n",
      "print(\"Hello, world!\")\n"
     ]
    }
   ],
   "source": [
    "git checkout -- hello_world.py\n",
    "git status\n",
    "cat hello_world.py"
   ]
  },
  {
   "cell_type": "code",
   "execution_count": 41,
   "metadata": {
    "pycharm": {
     "name": "#%%\n"
    },
    "slideshow": {
     "slide_type": "skip"
    }
   },
   "outputs": [
    {
     "name": "stdout",
     "output_type": "stream",
     "text": [
      "\u001b[33mcommit 181d51e4535be818841ec27188b40f8fefbab648\u001b[m\u001b[33m (\u001b[m\u001b[1;36mHEAD -> \u001b[m\u001b[1;32mmain\u001b[m\u001b[33m)\u001b[m\n",
      "Author: Nikita Bondartsev <nbond@toloka.ai>\n",
      "Date:   Sat Sep 13 02:07:19 2025 +0200\n",
      "\n",
      "    Added hello_world.py\n",
      "\n",
      "\u001b[33mcommit 7c5d2b51d8987f452c8db5bc0bbe65471a9d5ee5\u001b[m\n",
      "Author: Nikita Bondartsev <nbond@toloka.ai>\n",
      "Date:   Sat Sep 13 02:06:33 2025 +0200\n",
      "\n",
      "    Add header to readme\n"
     ]
    }
   ],
   "source": [
    "git log"
   ]
  },
  {
   "cell_type": "markdown",
   "metadata": {},
   "source": [
    "#### Откатываемся в прошлое состояние в истории - менее опасно, но можно выстрелить себе в ногу :)"
   ]
  },
  {
   "cell_type": "code",
   "execution_count": 8,
   "metadata": {
    "pycharm": {
     "name": "#%%\n"
    },
    "slideshow": {
     "slide_type": "slide"
    }
   },
   "outputs": [
    {
     "name": "stdout",
     "output_type": "stream",
     "text": [
      "Note: switching to '7c5d2b51d'.\n",
      "\n",
      "You are in 'detached HEAD' state. You can look around, make experimental\n",
      "changes and commit them, and you can discard any commits you make in this\n",
      "state without impacting any branches by switching back to a branch.\n",
      "\n",
      "If you want to create a new branch to retain commits you create, you may\n",
      "do so (now or later) by using -c with the switch command. Example:\n",
      "\n",
      "  git switch -c <new-branch-name>\n",
      "\n",
      "Or undo this operation with:\n",
      "\n",
      "  git switch -\n",
      "\n",
      "Turn off this advice by setting config variable advice.detachedHead to false\n",
      "\n",
      "HEAD is now at 7c5d2b5 Add header to readme\n"
     ]
    }
   ],
   "source": [
    "git checkout 7c5d2b51d"
   ]
  },
  {
   "cell_type": "code",
   "execution_count": 9,
   "metadata": {
    "pycharm": {
     "name": "#%%\n"
    },
    "slideshow": {
     "slide_type": "fragment"
    }
   },
   "outputs": [
    {
     "name": "stdout",
     "output_type": "stream",
     "text": [
      "\u001b[31mHEAD detached at \u001b[m7c5d2b5\n",
      "Untracked files:\n",
      "  (use \"git add <file>...\" to include in what will be committed)\n",
      "\t\u001b[31m.gitignore\u001b[m\n",
      "\n",
      "nothing added to commit but untracked files present (use \"git add\" to track)\n",
      "\u001b[34m.\u001b[m\u001b[m          \u001b[34m..\u001b[m\u001b[m         \u001b[34m.git\u001b[m\u001b[m       .gitignore README.md  test.ipynb\n"
     ]
    }
   ],
   "source": [
    "git status\n",
    "ls -a"
   ]
  },
  {
   "cell_type": "code",
   "execution_count": 10,
   "metadata": {
    "pycharm": {
     "name": "#%%\n"
    },
    "slideshow": {
     "slide_type": "fragment"
    }
   },
   "outputs": [
    {
     "name": "stdout",
     "output_type": "stream",
     "text": [
      "\u001b[33mcommit 7c5d2b51d8987f452c8db5bc0bbe65471a9d5ee5\u001b[m\u001b[33m (\u001b[m\u001b[1;36mHEAD\u001b[m\u001b[33m)\u001b[m\n",
      "Author: Nikita Bondartsev <nbond@toloka.ai>\n",
      "Date:   Sat Sep 13 02:06:33 2025 +0200\n",
      "\n",
      "    Add header to readme\n"
     ]
    }
   ],
   "source": [
    "# как будто мы потеряли файл hello_world.py совсем, даже коммита не видим\n",
    "git log"
   ]
  },
  {
   "cell_type": "code",
   "execution_count": 11,
   "metadata": {},
   "outputs": [
    {
     "name": "stdout",
     "output_type": "stream",
     "text": [
      "\u001b[33mcommit 181d51e4535be818841ec27188b40f8fefbab648\u001b[m\u001b[33m (\u001b[m\u001b[1;32mmain\u001b[m\u001b[33m)\u001b[m\n",
      "Author: Nikita Bondartsev <nbond@toloka.ai>\n",
      "Date:   Sat Sep 13 02:07:19 2025 +0200\n",
      "\n",
      "    Added hello_world.py\n",
      "\n",
      "\u001b[33mcommit 7c5d2b51d8987f452c8db5bc0bbe65471a9d5ee5\u001b[m\u001b[33m (\u001b[m\u001b[1;36mHEAD\u001b[m\u001b[33m)\u001b[m\n",
      "Author: Nikita Bondartsev <nbond@toloka.ai>\n",
      "Date:   Sat Sep 13 02:06:33 2025 +0200\n",
      "\n",
      "    Add header to readme\n"
     ]
    }
   ],
   "source": [
    "# но коммит есть, просто нужно смотреть всю историю\n",
    "git log --all"
   ]
  },
  {
   "cell_type": "markdown",
   "metadata": {},
   "source": [
    "#### Почему detached head может быть опасен"
   ]
  },
  {
   "cell_type": "code",
   "execution_count": 12,
   "metadata": {},
   "outputs": [
    {
     "name": "stdout",
     "output_type": "stream",
     "text": [
      "[detached HEAD 6cfee5d] Added the bye file\n",
      " 1 file changed, 1 insertion(+)\n",
      " create mode 100644 bye.py\n",
      "\u001b[33mcommit 6cfee5d03d8313705c49c460be8f298aae17e5d5\u001b[m\u001b[33m (\u001b[m\u001b[1;36mHEAD\u001b[m\u001b[33m)\u001b[m\n",
      "Author: Nikita Bondartsev <nbond@toloka.ai>\n",
      "Date:   Sat Sep 13 15:01:42 2025 +0200\n",
      "\n",
      "    Added the bye file\n",
      "\n",
      "\u001b[33mcommit 7c5d2b51d8987f452c8db5bc0bbe65471a9d5ee5\u001b[m\n",
      "Author: Nikita Bondartsev <nbond@toloka.ai>\n",
      "Date:   Sat Sep 13 02:06:33 2025 +0200\n",
      "\n",
      "    Add header to readme\n"
     ]
    }
   ],
   "source": [
    "echo \"print('bye!')\" > bye.py\n",
    "git add bye.py\n",
    "git commit -m \"Added the bye file\"\n",
    "git log"
   ]
  },
  {
   "cell_type": "code",
   "execution_count": 13,
   "metadata": {},
   "outputs": [
    {
     "name": "stdout",
     "output_type": "stream",
     "text": [
      "Warning: you are leaving 1 commit behind, not connected to\n",
      "any of your branches:\n",
      "\n",
      "  6cfee5d Added the bye file\n",
      "\n",
      "If you want to keep it by creating a new branch, this may be a good time\n",
      "to do so with:\n",
      "\n",
      " git branch <new-branch-name> 6cfee5d\n",
      "\n",
      "Switched to branch 'main'\n",
      "\u001b[34m.\u001b[m\u001b[m              \u001b[34m.git\u001b[m\u001b[m           README.md      test.ipynb\n",
      "\u001b[34m..\u001b[m\u001b[m             .gitignore     hello_world.py\n",
      "\u001b[33mcommit 181d51e4535be818841ec27188b40f8fefbab648\u001b[m\u001b[33m (\u001b[m\u001b[1;36mHEAD -> \u001b[m\u001b[1;32mmain\u001b[m\u001b[33m)\u001b[m\n",
      "Author: Nikita Bondartsev <nbond@toloka.ai>\n",
      "Date:   Sat Sep 13 02:07:19 2025 +0200\n",
      "\n",
      "    Added hello_world.py\n",
      "\n",
      "\u001b[33mcommit 7c5d2b51d8987f452c8db5bc0bbe65471a9d5ee5\u001b[m\n",
      "Author: Nikita Bondartsev <nbond@toloka.ai>\n",
      "Date:   Sat Sep 13 02:06:33 2025 +0200\n",
      "\n",
      "    Add header to readme\n"
     ]
    }
   ],
   "source": [
    "# при переходе на главную ветку мы, фактически, потеряли коммит, добавляющий файл bye.py\n",
    "git checkout main\n",
    "ls -a\n",
    "git log --all"
   ]
  },
  {
   "cell_type": "code",
   "execution_count": 14,
   "metadata": {},
   "outputs": [
    {
     "name": "stdout",
     "output_type": "stream",
     "text": [
      "Note: switching to '6cfee5d'.\n",
      "\n",
      "You are in 'detached HEAD' state. You can look around, make experimental\n",
      "changes and commit them, and you can discard any commits you make in this\n",
      "state without impacting any branches by switching back to a branch.\n",
      "\n",
      "If you want to create a new branch to retain commits you create, you may\n",
      "do so (now or later) by using -c with the switch command. Example:\n",
      "\n",
      "  git switch -c <new-branch-name>\n",
      "\n",
      "Or undo this operation with:\n",
      "\n",
      "  git switch -\n",
      "\n",
      "Turn off this advice by setting config variable advice.detachedHead to false\n",
      "\n",
      "HEAD is now at 6cfee5d Added the bye file\n",
      "\u001b[34m.\u001b[m\u001b[m          \u001b[34m..\u001b[m\u001b[m         \u001b[34m.git\u001b[m\u001b[m       .gitignore README.md  bye.py     test.ipynb\n",
      "Switched to a new branch 'bye_branch'\n",
      "\u001b[33mcommit 6cfee5d03d8313705c49c460be8f298aae17e5d5\u001b[m\u001b[33m (\u001b[m\u001b[1;36mHEAD -> \u001b[m\u001b[1;32mbye_branch\u001b[m\u001b[33m)\u001b[m\n",
      "Author: Nikita Bondartsev <nbond@toloka.ai>\n",
      "Date:   Sat Sep 13 15:01:42 2025 +0200\n",
      "\n",
      "    Added the bye file\n",
      "\n",
      "\u001b[33mcommit 181d51e4535be818841ec27188b40f8fefbab648\u001b[m\u001b[33m (\u001b[m\u001b[1;32mmain\u001b[m\u001b[33m)\u001b[m\n",
      "Author: Nikita Bondartsev <nbond@toloka.ai>\n",
      "Date:   Sat Sep 13 02:07:19 2025 +0200\n",
      "\n",
      "    Added hello_world.py\n",
      "\n",
      "\u001b[33mcommit 7c5d2b51d8987f452c8db5bc0bbe65471a9d5ee5\u001b[m\n",
      "Author: Nikita Bondartsev <nbond@toloka.ai>\n",
      "Date:   Sat Sep 13 02:06:33 2025 +0200\n",
      "\n",
      "    Add header to readme\n"
     ]
    }
   ],
   "source": [
    "# коммит еще можно найти, но это уже сложнее, не будем обсуждать как его искать, но если есть коммит хеш, то все окей\n",
    "git checkout 6cfee5d\n",
    "ls -a\n",
    "git checkout -b bye_branch\n",
    "git log --all"
   ]
  },
  {
   "cell_type": "markdown",
   "metadata": {},
   "source": [
    "#### Смена между ветками - безопасно, если потом не удалять ветки :)"
   ]
  },
  {
   "cell_type": "code",
   "execution_count": 15,
   "metadata": {},
   "outputs": [
    {
     "name": "stdout",
     "output_type": "stream",
     "text": [
      "Switched to branch 'main'\n",
      "\u001b[34m.\u001b[m\u001b[m              \u001b[34m.git\u001b[m\u001b[m           README.md      test.ipynb\n",
      "\u001b[34m..\u001b[m\u001b[m             .gitignore     hello_world.py\n",
      "\u001b[33mcommit 6cfee5d03d8313705c49c460be8f298aae17e5d5\u001b[m\u001b[33m (\u001b[m\u001b[1;32mbye_branch\u001b[m\u001b[33m)\u001b[m\n",
      "Author: Nikita Bondartsev <nbond@toloka.ai>\n",
      "Date:   Sat Sep 13 15:01:42 2025 +0200\n",
      "\n",
      "    Added the bye file\n",
      "\n",
      "\u001b[33mcommit 181d51e4535be818841ec27188b40f8fefbab648\u001b[m\u001b[33m (\u001b[m\u001b[1;36mHEAD -> \u001b[m\u001b[1;32mmain\u001b[m\u001b[33m)\u001b[m\n",
      "Author: Nikita Bondartsev <nbond@toloka.ai>\n",
      "Date:   Sat Sep 13 02:07:19 2025 +0200\n",
      "\n",
      "    Added hello_world.py\n",
      "\n",
      "\u001b[33mcommit 7c5d2b51d8987f452c8db5bc0bbe65471a9d5ee5\u001b[m\n",
      "Author: Nikita Bondartsev <nbond@toloka.ai>\n",
      "Date:   Sat Sep 13 02:06:33 2025 +0200\n",
      "\n",
      "    Add header to readme\n"
     ]
    }
   ],
   "source": [
    "git checkout main\n",
    "ls -a\n",
    "git log --all"
   ]
  },
  {
   "cell_type": "markdown",
   "metadata": {},
   "source": [
    "## merge - слияние веток"
   ]
  },
  {
   "cell_type": "markdown",
   "metadata": {},
   "source": [
    "#### Fast-forward merge"
   ]
  },
  {
   "cell_type": "code",
   "execution_count": 28,
   "metadata": {},
   "outputs": [
    {
     "name": "stdout",
     "output_type": "stream",
     "text": [
      "Switched to branch 'main'\n",
      "\u001b[34m.\u001b[m\u001b[m              \u001b[34m.git\u001b[m\u001b[m           README.md      test.ipynb\n",
      "\u001b[34m..\u001b[m\u001b[m             .gitignore     hello_world.py\n",
      "Updating 181d51e..a9dffad\n",
      "Fast-forward\n",
      " bye.py | 1 \u001b[32m+\u001b[m\n",
      " 1 file changed, 1 insertion(+)\n",
      " create mode 100644 bye.py\n",
      "\u001b[34m.\u001b[m\u001b[m              \u001b[34m.git\u001b[m\u001b[m           README.md      hello_world.py\n",
      "\u001b[34m..\u001b[m\u001b[m             .gitignore     bye.py         test.ipynb\n",
      "\u001b[33mcommit a9dffad09c6bcca93d24bee564d58a7369e5da89\u001b[m\u001b[33m (\u001b[m\u001b[1;36mHEAD -> \u001b[m\u001b[1;32mmain\u001b[m\u001b[33m, \u001b[m\u001b[1;32mbye_branch\u001b[m\u001b[33m)\u001b[m\n",
      "Author: Nikita Bondartsev <nbond@toloka.ai>\n",
      "Date:   Sat Sep 13 15:19:21 2025 +0200\n",
      "\n",
      "    Added the bye file\n",
      "\n",
      "\u001b[33mcommit 181d51e4535be818841ec27188b40f8fefbab648\u001b[m\n",
      "Author: Nikita Bondartsev <nbond@toloka.ai>\n",
      "Date:   Sat Sep 13 02:07:19 2025 +0200\n",
      "\n",
      "    Added hello_world.py\n",
      "\n",
      "\u001b[33mcommit 7c5d2b51d8987f452c8db5bc0bbe65471a9d5ee5\u001b[m\n",
      "Author: Nikita Bondartsev <nbond@toloka.ai>\n",
      "Date:   Sat Sep 13 02:06:33 2025 +0200\n",
      "\n",
      "    Add header to readme\n"
     ]
    }
   ],
   "source": [
    "# самый простой merge - это fast-forward, когда история текущей ветки вложена в историю той, которую мерджим\n",
    "# видим, что после merge в главной ветке есть все изменения\n",
    "git checkout main\n",
    "ls -a\n",
    "git merge bye_branch\n",
    "ls -a\n",
    "git log"
   ]
  },
  {
   "cell_type": "markdown",
   "metadata": {},
   "source": [
    "#### Non-conflicting merge with a commit"
   ]
  },
  {
   "cell_type": "code",
   "execution_count": 29,
   "metadata": {},
   "outputs": [
    {
     "name": "stdout",
     "output_type": "stream",
     "text": [
      "[main 1d84c90] Commit hello in main\n",
      " 1 file changed, 1 insertion(+)\n",
      "\u001b[33mcommit 1d84c90254fea4914b9dac5a37ccb0cbe95e86a7\u001b[m\u001b[33m (\u001b[m\u001b[1;36mHEAD -> \u001b[m\u001b[1;32mmain\u001b[m\u001b[33m)\u001b[m\n",
      "Author: Nikita Bondartsev <nbond@toloka.ai>\n",
      "Date:   Sat Sep 13 15:24:17 2025 +0200\n",
      "\n",
      "    Commit hello in main\n",
      "\n",
      "\u001b[33mcommit a9dffad09c6bcca93d24bee564d58a7369e5da89\u001b[m\u001b[33m (\u001b[m\u001b[1;32mbye_branch\u001b[m\u001b[33m)\u001b[m\n",
      "Author: Nikita Bondartsev <nbond@toloka.ai>\n",
      "Date:   Sat Sep 13 15:19:21 2025 +0200\n",
      "\n",
      "    Added the bye file\n",
      "\n",
      "\u001b[33mcommit 181d51e4535be818841ec27188b40f8fefbab648\u001b[m\n",
      "Author: Nikita Bondartsev <nbond@toloka.ai>\n",
      "Date:   Sat Sep 13 02:07:19 2025 +0200\n",
      "\n",
      "    Added hello_world.py\n",
      "\n",
      "\u001b[33mcommit 7c5d2b51d8987f452c8db5bc0bbe65471a9d5ee5\u001b[m\n",
      "Author: Nikita Bondartsev <nbond@toloka.ai>\n",
      "Date:   Sat Sep 13 02:06:33 2025 +0200\n",
      "\n",
      "    Add header to readme\n"
     ]
    }
   ],
   "source": [
    "# добавили что-то в main\n",
    "echo \"# comment in hello_world\" >> hello_world.py\n",
    "git add hello_world.py\n",
    "git commit -m \"Commit hello in main\"\n",
    "git log"
   ]
  },
  {
   "cell_type": "code",
   "execution_count": 30,
   "metadata": {},
   "outputs": [
    {
     "name": "stdout",
     "output_type": "stream",
     "text": [
      "Switched to branch 'bye_branch'\n",
      "[bye_branch dbde144] Commit bye in bye_branch\n",
      " 1 file changed, 1 insertion(+)\n",
      "\u001b[33mcommit dbde144706881239631c9b073d24e2d528322a85\u001b[m\u001b[33m (\u001b[m\u001b[1;36mHEAD -> \u001b[m\u001b[1;32mbye_branch\u001b[m\u001b[33m)\u001b[m\n",
      "Author: Nikita Bondartsev <nbond@toloka.ai>\n",
      "Date:   Sat Sep 13 15:25:18 2025 +0200\n",
      "\n",
      "    Commit bye in bye_branch\n",
      "\n",
      "\u001b[33mcommit 1d84c90254fea4914b9dac5a37ccb0cbe95e86a7\u001b[m\u001b[33m (\u001b[m\u001b[1;32mmain\u001b[m\u001b[33m)\u001b[m\n",
      "Author: Nikita Bondartsev <nbond@toloka.ai>\n",
      "Date:   Sat Sep 13 15:24:17 2025 +0200\n",
      "\n",
      "    Commit hello in main\n",
      "\n",
      "\u001b[33mcommit a9dffad09c6bcca93d24bee564d58a7369e5da89\u001b[m\n",
      "Author: Nikita Bondartsev <nbond@toloka.ai>\n",
      "Date:   Sat Sep 13 15:19:21 2025 +0200\n",
      "\n",
      "    Added the bye file\n",
      "\n",
      "\u001b[33mcommit 181d51e4535be818841ec27188b40f8fefbab648\u001b[m\n",
      "Author: Nikita Bondartsev <nbond@toloka.ai>\n",
      "Date:   Sat Sep 13 02:07:19 2025 +0200\n",
      "\n",
      "    Added hello_world.py\n",
      "\n",
      "\u001b[33mcommit 7c5d2b51d8987f452c8db5bc0bbe65471a9d5ee5\u001b[m\n",
      "Author: Nikita Bondartsev <nbond@toloka.ai>\n",
      "Date:   Sat Sep 13 02:06:33 2025 +0200\n",
      "\n",
      "    Add header to readme\n"
     ]
    }
   ],
   "source": [
    "# добавили что-то в bye_branch\n",
    "git checkout bye_branch\n",
    "echo \"# comment in bye\" >> bye.py\n",
    "git add bye.py\n",
    "git commit -m \"Commit bye in bye_branch\"\n",
    "git log --all"
   ]
  },
  {
   "cell_type": "code",
   "execution_count": 32,
   "metadata": {},
   "outputs": [
    {
     "name": "stdout",
     "output_type": "stream",
     "text": [
      "* dbde144 2025-09-13 | Commit bye in bye_branch (HEAD -> bye_branch) [Nikita Bondartsev]\n",
      "\u001b[31m|\u001b[m * 1d84c90 2025-09-13 | Commit hello in main (main) [Nikita Bondartsev]\n",
      "\u001b[31m|\u001b[m\u001b[31m/\u001b[m  \n",
      "* a9dffad 2025-09-13 | Added the bye file [Nikita Bondartsev]\n",
      "* 181d51e 2025-09-13 | Added hello_world.py [Nikita Bondartsev]\n",
      "* 7c5d2b5 2025-09-13 | Add header to readme [Nikita Bondartsev]"
     ]
    }
   ],
   "source": [
    "# чуток более красивый способ смотреть историю\n",
    "git config --global alias.hist 'log --pretty=format:\"%h %ad | %s%d [%an]\" --graph --date=short'\n",
    "git hist --all"
   ]
  },
  {
   "cell_type": "code",
   "execution_count": 38,
   "metadata": {},
   "outputs": [
    {
     "name": "stdout",
     "output_type": "stream",
     "text": [
      "On branch bye_branch\n",
      "Untracked files:\n",
      "  (use \"git add <file>...\" to include in what will be committed)\n",
      "\t\u001b[31m.gitignore\u001b[m\n",
      "\n",
      "nothing added to commit but untracked files present (use \"git add\" to track)\n",
      "* dbde144 2025-09-13 | Commit bye in bye_branch (HEAD -> bye_branch) [Nikita Bondartsev]\n",
      "\u001b[31m|\u001b[m * 1d84c90 2025-09-13 | Commit hello in main (main) [Nikita Bondartsev]\n",
      "\u001b[31m|\u001b[m\u001b[31m/\u001b[m  \n",
      "* a9dffad 2025-09-13 | Added the bye file [Nikita Bondartsev]\n",
      "* 181d51e 2025-09-13 | Added hello_world.py [Nikita Bondartsev]\n",
      "* 7c5d2b5 2025-09-13 | Add header to readme [Nikita Bondartsev]"
     ]
    }
   ],
   "source": [
    "git status\n",
    "git hist --all"
   ]
  },
  {
   "cell_type": "code",
   "execution_count": 39,
   "metadata": {},
   "outputs": [
    {
     "name": "stdout",
     "output_type": "stream",
     "text": [
      "Switched to branch 'main'\n",
      "Merge made by the 'ort' strategy.\n",
      " bye.py | 1 \u001b[32m+\u001b[m\n",
      " 1 file changed, 1 insertion(+)\n",
      "print('bye!')\n",
      "# comment in bye\n",
      "print(\"Hello, world!\")\n",
      "# comment in hello_world\n",
      "*   42b52eb 2025-09-13 | My merge commit comment in case it's needed (HEAD -> main) [Nikita Bondartsev]\n",
      "\u001b[31m|\u001b[m\u001b[32m\\\u001b[m  \n",
      "\u001b[31m|\u001b[m * dbde144 2025-09-13 | Commit bye in bye_branch (bye_branch) [Nikita Bondartsev]\n",
      "* \u001b[32m|\u001b[m 1d84c90 2025-09-13 | Commit hello in main [Nikita Bondartsev]\n",
      "\u001b[32m|\u001b[m\u001b[32m/\u001b[m  \n",
      "* a9dffad 2025-09-13 | Added the bye file [Nikita Bondartsev]\n",
      "* 181d51e 2025-09-13 | Added hello_world.py [Nikita Bondartsev]\n",
      "* 7c5d2b5 2025-09-13 | Add header to readme [Nikita Bondartsev]"
     ]
    }
   ],
   "source": [
    "# появился новый коммит, только в активной ветке (main) и оба набора изменений сохранены\n",
    "git checkout main\n",
    "git merge bye_branch -m \"My merge commit comment in case it's needed\"\n",
    "cat bye.py\n",
    "cat hello_world.py\n",
    "git hist"
   ]
  },
  {
   "cell_type": "markdown",
   "metadata": {},
   "source": [
    "#### merge with a conflict"
   ]
  },
  {
   "cell_type": "code",
   "execution_count": 41,
   "metadata": {},
   "outputs": [
    {
     "name": "stdout",
     "output_type": "stream",
     "text": [
      "Switched to a new branch 'divergent_branch'\n",
      "[divergent_branch fd62edf] Added commit with a comment in the divergent branch\n",
      " 1 file changed, 1 insertion(+)\n",
      "* fd62edf 2025-09-13 | Added commit with a comment in the divergent branch (HEAD -> divergent_branch) [Nikita Bondartsev]\n",
      "*   42b52eb 2025-09-13 | My merge commit comment in case it's needed (main) [Nikita Bondartsev]\n",
      "\u001b[32m|\u001b[m\u001b[33m\\\u001b[m  \n",
      "\u001b[32m|\u001b[m * dbde144 2025-09-13 | Commit bye in bye_branch (bye_branch) [Nikita Bondartsev]\n",
      "* \u001b[33m|\u001b[m 1d84c90 2025-09-13 | Commit hello in main [Nikita Bondartsev]\n",
      "\u001b[33m|\u001b[m\u001b[33m/\u001b[m  \n",
      "* a9dffad 2025-09-13 | Added the bye file [Nikita Bondartsev]\n",
      "* 181d51e 2025-09-13 | Added hello_world.py [Nikita Bondartsev]\n",
      "* 7c5d2b5 2025-09-13 | Add header to readme [Nikita Bondartsev]"
     ]
    }
   ],
   "source": [
    "# какое-то изменения файла bye в новой ветке\n",
    "git checkout -b divergent_branch\n",
    "echo \"# one bye comment\" >> bye.py\n",
    "git add bye.py\n",
    "git commit -m \"Added commit with a comment in the divergent branch\"\n",
    "git hist"
   ]
  },
  {
   "cell_type": "code",
   "execution_count": 42,
   "metadata": {},
   "outputs": [
    {
     "name": "stdout",
     "output_type": "stream",
     "text": [
      "Switched to branch 'main'\n",
      "[main b256faa] Added commit with another comment in the main branch\n",
      " 1 file changed, 1 insertion(+)\n",
      "* b256faa 2025-09-13 | Added commit with another comment in the main branch (HEAD -> main) [Nikita Bondartsev]\n",
      "\u001b[31m|\u001b[m * fd62edf 2025-09-13 | Added commit with a comment in the divergent branch (divergent_branch) [Nikita Bondartsev]\n",
      "\u001b[31m|\u001b[m\u001b[31m/\u001b[m  \n",
      "*   42b52eb 2025-09-13 | My merge commit comment in case it's needed [Nikita Bondartsev]\n",
      "\u001b[33m|\u001b[m\u001b[34m\\\u001b[m  \n",
      "\u001b[33m|\u001b[m * dbde144 2025-09-13 | Commit bye in bye_branch (bye_branch) [Nikita Bondartsev]\n",
      "* \u001b[34m|\u001b[m 1d84c90 2025-09-13 | Commit hello in main [Nikita Bondartsev]\n",
      "\u001b[34m|\u001b[m\u001b[34m/\u001b[m  \n",
      "* a9dffad 2025-09-13 | Added the bye file [Nikita Bondartsev]\n",
      "* 181d51e 2025-09-13 | Added hello_world.py [Nikita Bondartsev]\n",
      "* 7c5d2b5 2025-09-13 | Add header to readme [Nikita Bondartsev]"
     ]
    }
   ],
   "source": [
    "# еще какое-то изменение ТОГО ЖЕ файла в главной ветке\n",
    "git checkout main\n",
    "echo \"# another bye comment\" >> bye.py\n",
    "git add bye.py\n",
    "git commit -m \"Added commit with another comment in the main branch\"\n",
    "git hist --all"
   ]
  },
  {
   "cell_type": "code",
   "execution_count": 45,
   "metadata": {},
   "outputs": [
    {
     "name": "stdout",
     "output_type": "stream",
     "text": [
      "Auto-merging bye.py\n",
      "CONFLICT (content): Merge conflict in bye.py\n",
      "Automatic merge failed; fix conflicts and then commit the result.\n",
      "On branch main\n",
      "You have unmerged paths.\n",
      "  (fix conflicts and run \"git commit\")\n",
      "  (use \"git merge --abort\" to abort the merge)\n",
      "\n",
      "Unmerged paths:\n",
      "  (use \"git add <file>...\" to mark resolution)\n",
      "\t\u001b[31mboth modified:   bye.py\u001b[m\n",
      "\n",
      "Untracked files:\n",
      "  (use \"git add <file>...\" to include in what will be committed)\n",
      "\t\u001b[31m.gitignore\u001b[m\n",
      "\n",
      "no changes added to commit (use \"git add\" and/or \"git commit -a\")\n",
      "print('bye!')\n",
      "# comment in bye\n",
      "<<<<<<< HEAD\n",
      "# another bye comment\n",
      "=======\n",
      "# one bye comment\n",
      ">>>>>>> divergent_branch\n"
     ]
    }
   ],
   "source": [
    "# пытаемся померджить - получаем конфликт, файл изменился до неузнаваемости\n",
    "git merge divergent_branch\n",
    "git status\n",
    "cat bye.py"
   ]
  },
  {
   "cell_type": "code",
   "execution_count": 46,
   "metadata": {},
   "outputs": [
    {
     "name": "stdout",
     "output_type": "stream",
     "text": [
      "[main 8c82f25] Resolved the conflict\n",
      "On branch main\n",
      "Untracked files:\n",
      "  (use \"git add <file>...\" to include in what will be committed)\n",
      "\t\u001b[31m.gitignore\u001b[m\n",
      "\n",
      "nothing added to commit but untracked files present (use \"git add\" to track)\n",
      "*   8c82f25 2025-09-13 | Resolved the conflict (HEAD -> main) [Nikita Bondartsev]\n",
      "\u001b[31m|\u001b[m\u001b[32m\\\u001b[m  \n",
      "\u001b[31m|\u001b[m * fd62edf 2025-09-13 | Added commit with a comment in the divergent branch (divergent_branch) [Nikita Bondartsev]\n",
      "* \u001b[32m|\u001b[m b256faa 2025-09-13 | Added commit with another comment in the main branch [Nikita Bondartsev]\n",
      "\u001b[32m|\u001b[m\u001b[32m/\u001b[m  \n",
      "*   42b52eb 2025-09-13 | My merge commit comment in case it's needed [Nikita Bondartsev]\n",
      "\u001b[33m|\u001b[m\u001b[34m\\\u001b[m  \n",
      "\u001b[33m|\u001b[m * dbde144 2025-09-13 | Commit bye in bye_branch (bye_branch) [Nikita Bondartsev]\n",
      "* \u001b[34m|\u001b[m 1d84c90 2025-09-13 | Commit hello in main [Nikita Bondartsev]\n",
      "\u001b[34m|\u001b[m\u001b[34m/\u001b[m  \n",
      "* a9dffad 2025-09-13 | Added the bye file [Nikita Bondartsev]\n",
      "* 181d51e 2025-09-13 | Added hello_world.py [Nikita Bondartsev]\n",
      "* 7c5d2b5 2025-09-13 | Add header to readme [Nikita Bondartsev]"
     ]
    }
   ],
   "source": [
    "# отредактировали конфликтый файл руками, закоммитили - конфлик разрешен\n",
    "echo \"print('bye!')\\n# third comment\" > bye.py\n",
    "git add bye.py\n",
    "git commit -m \"Resolved the conflict\"\n",
    "git status\n",
    "git hist"
   ]
  },
  {
   "cell_type": "markdown",
   "metadata": {},
   "source": [
    "#### прерывание merge, чисто на всякий случай"
   ]
  },
  {
   "cell_type": "code",
   "execution_count": 47,
   "metadata": {},
   "outputs": [
    {
     "name": "stdout",
     "output_type": "stream",
     "text": [
      "HEAD is now at b256faa Added commit with another comment in the main branch\n"
     ]
    }
   ],
   "source": [
    "# ЭТО НЕ НАДО ДЕЛАТЬ, если ты не понимаешь что происходит :)\n",
    "# я просто поленился повторить конфликт второй раз и читерю, в рассматриваемой ситуации merge конфликт уже есть\n",
    "git reset --hard b256faa"
   ]
  },
  {
   "cell_type": "code",
   "execution_count": 49,
   "metadata": {},
   "outputs": [
    {
     "name": "stdout",
     "output_type": "stream",
     "text": [
      "* b256faa 2025-09-13 | Added commit with another comment in the main branch (HEAD -> main) [Nikita Bondartsev]\n",
      "\u001b[31m|\u001b[m * fd62edf 2025-09-13 | Added commit with a comment in the divergent branch (divergent_branch) [Nikita Bondartsev]\n",
      "\u001b[31m|\u001b[m\u001b[31m/\u001b[m  \n",
      "*   42b52eb 2025-09-13 | My merge commit comment in case it's needed [Nikita Bondartsev]\n",
      "\u001b[33m|\u001b[m\u001b[34m\\\u001b[m  \n",
      "\u001b[33m|\u001b[m * dbde144 2025-09-13 | Commit bye in bye_branch (bye_branch) [Nikita Bondartsev]\n",
      "* \u001b[34m|\u001b[m 1d84c90 2025-09-13 | Commit hello in main [Nikita Bondartsev]\n",
      "\u001b[34m|\u001b[m\u001b[34m/\u001b[m  \n",
      "* a9dffad 2025-09-13 | Added the bye file [Nikita Bondartsev]\n",
      "* 181d51e 2025-09-13 | Added hello_world.py [Nikita Bondartsev]\n",
      "* 7c5d2b5 2025-09-13 | Add header to readme [Nikita Bondartsev]On branch main\n",
      "Untracked files:\n",
      "  (use \"git add <file>...\" to include in what will be committed)\n",
      "\t\u001b[31m.gitignore\u001b[m\n",
      "\n",
      "nothing added to commit but untracked files present (use \"git add\" to track)\n",
      "print('bye!')\n",
      "# comment in bye\n",
      "# another bye comment\n"
     ]
    }
   ],
   "source": [
    "# вернулись в состояние до merge, чтобы посмотреть на abort\n",
    "git hist --all\n",
    "git status\n",
    "cat bye.py"
   ]
  },
  {
   "cell_type": "code",
   "execution_count": 52,
   "metadata": {},
   "outputs": [
    {
     "name": "stdout",
     "output_type": "stream",
     "text": [
      "Auto-merging bye.py\n",
      "CONFLICT (content): Merge conflict in bye.py\n",
      "Automatic merge failed; fix conflicts and then commit the result.\n",
      "On branch main\n",
      "You have unmerged paths.\n",
      "  (fix conflicts and run \"git commit\")\n",
      "  (use \"git merge --abort\" to abort the merge)\n",
      "\n",
      "Unmerged paths:\n",
      "  (use \"git add <file>...\" to mark resolution)\n",
      "\t\u001b[31mboth modified:   bye.py\u001b[m\n",
      "\n",
      "Untracked files:\n",
      "  (use \"git add <file>...\" to include in what will be committed)\n",
      "\t\u001b[31m.gitignore\u001b[m\n",
      "\n",
      "no changes added to commit (use \"git add\" and/or \"git commit -a\")\n",
      "print('bye!')\n",
      "# comment in bye\n",
      "<<<<<<< HEAD\n",
      "# another bye comment\n",
      "=======\n",
      "# one bye comment\n",
      ">>>>>>> divergent_branch\n"
     ]
    }
   ],
   "source": [
    "# снова получаем тот же конфликт\n",
    "git merge divergent_branch\n",
    "git status\n",
    "cat bye.py"
   ]
  },
  {
   "cell_type": "code",
   "execution_count": 53,
   "metadata": {},
   "outputs": [
    {
     "name": "stdout",
     "output_type": "stream",
     "text": [
      "On branch main\n",
      "Untracked files:\n",
      "  (use \"git add <file>...\" to include in what will be committed)\n",
      "\t\u001b[31m.gitignore\u001b[m\n",
      "\n",
      "nothing added to commit but untracked files present (use \"git add\" to track)\n",
      "* b256faa 2025-09-13 | Added commit with another comment in the main branch (HEAD -> main) [Nikita Bondartsev]\n",
      "\u001b[31m|\u001b[m * fd62edf 2025-09-13 | Added commit with a comment in the divergent branch (divergent_branch) [Nikita Bondartsev]\n",
      "\u001b[31m|\u001b[m\u001b[31m/\u001b[m  \n",
      "*   42b52eb 2025-09-13 | My merge commit comment in case it's needed [Nikita Bondartsev]\n",
      "\u001b[33m|\u001b[m\u001b[34m\\\u001b[m  \n",
      "\u001b[33m|\u001b[m * dbde144 2025-09-13 | Commit bye in bye_branch (bye_branch) [Nikita Bondartsev]\n",
      "* \u001b[34m|\u001b[m 1d84c90 2025-09-13 | Commit hello in main [Nikita Bondartsev]\n",
      "\u001b[34m|\u001b[m\u001b[34m/\u001b[m  \n",
      "* a9dffad 2025-09-13 | Added the bye file [Nikita Bondartsev]\n",
      "* 181d51e 2025-09-13 | Added hello_world.py [Nikita Bondartsev]\n",
      "* 7c5d2b5 2025-09-13 | Add header to readme [Nikita Bondartsev]print('bye!')\n",
      "# comment in bye\n",
      "# another bye comment\n"
     ]
    }
   ],
   "source": [
    "# возвращаем все к тому состоянию, что было\n",
    "git merge --abort\n",
    "git status\n",
    "git hist --all\n",
    "cat bye.py"
   ]
  },
  {
   "cell_type": "markdown",
   "metadata": {
    "pycharm": {
     "name": "#%% md\n"
    },
    "slideshow": {
     "slide_type": "slide"
    }
   },
   "source": [
    "## Удаленный репозиторий\n",
    "\n",
    "<div align=\"center\">\n",
    "    <img src=\"images/remote_repo.png\" width=\"600px\"/>\n",
    "</div>"
   ]
  },
  {
   "cell_type": "markdown",
   "metadata": {
    "pycharm": {
     "name": "#%% md\n"
    },
    "slideshow": {
     "slide_type": "slide"
    }
   },
   "source": [
    "**Где хранится удаленный репозиторий?**\n",
    "\n",
    "<div align=\"center\">\n",
    "    <img src=\"https://miro.medium.com/max/850/1*-pu6YnszgzFzAWjhO3C5NQ.jpeg\" width=\"600px\"/>\n",
    "</div>"
   ]
  },
  {
   "cell_type": "markdown",
   "metadata": {
    "pycharm": {
     "name": "#%% md\n"
    },
    "slideshow": {
     "slide_type": "slide"
    }
   },
   "source": [
    "### Изучаем удаленный репозиторий"
   ]
  },
  {
   "cell_type": "markdown",
   "metadata": {
    "pycharm": {
     "name": "#%% md\n"
    },
    "slideshow": {
     "slide_type": "-"
    }
   },
   "source": [
    "<div align=\"center\"><img src=\"images/before_push.png\"/></div>"
   ]
  },
  {
   "cell_type": "code",
   "execution_count": 44,
   "metadata": {
    "pycharm": {
     "name": "#%%\n"
    },
    "slideshow": {
     "slide_type": "slide"
    }
   },
   "outputs": [
    {
     "name": "stdout",
     "output_type": "stream",
     "text": [
      "Cloning into 'sample-remote-repo'...\n",
      "remote: Enumerating objects: 7, done.\u001b[K\n",
      "remote: Total 7 (delta 0), reused 0 (delta 0), pack-reused 7\u001b[K\n",
      "Receiving objects: 100% (7/7), done.\n",
      "Resolving deltas: 100% (1/1), done.\n"
     ]
    }
   ],
   "source": [
    "# клонируем репозиторий\n",
    "git clone git@gitlab.manytask.org:py-tasks/sample-remote-repo.git\n",
    "cd sample-remote-repo"
   ]
  },
  {
   "cell_type": "code",
   "execution_count": 46,
   "metadata": {
    "pycharm": {
     "name": "#%%\n"
    },
    "slideshow": {
     "slide_type": "-"
    }
   },
   "outputs": [
    {
     "name": "stdout",
     "output_type": "stream",
     "text": [
      "origin\tgit@gitlab.manytask.org:py-tasks/sample-remote-repo.git (fetch)\n",
      "origin\tgit@gitlab.manytask.org:py-tasks/sample-remote-repo.git (push)\n"
     ]
    }
   ],
   "source": [
    "# специальная команда, которая показывает ссылки на удаленные репозитории\n",
    "git remote -v"
   ]
  },
  {
   "cell_type": "markdown",
   "metadata": {},
   "source": [
    "#### Небольшое интро"
   ]
  },
  {
   "cell_type": "code",
   "execution_count": 65,
   "metadata": {},
   "outputs": [
    {
     "name": "stdout",
     "output_type": "stream",
     "text": [
      "* \u001b[32mmaster\u001b[m\n",
      "  \u001b[31mremotes/origin/HEAD\u001b[m -> origin/master\n",
      "  \u001b[31mremotes/origin/created_on_remote\u001b[m\n",
      "  \u001b[31mremotes/origin/local_feature_branch\u001b[m\n",
      "  \u001b[31mremotes/origin/main\u001b[m\n",
      "  \u001b[31mremotes/origin/master\u001b[m\n",
      "  \u001b[31mremotes/origin/test\u001b[m\n"
     ]
    }
   ],
   "source": [
    "# при работе с удаленным репозиторием веток больше, чем ты думаешь\n",
    "git branch --all"
   ]
  },
  {
   "cell_type": "code",
   "execution_count": 66,
   "metadata": {},
   "outputs": [],
   "source": [
    "# поулчаем все, что на ремоуте наменялось (у нас ничего, тк только что склонировали репоз)\n",
    "# эта команда обновляет трекинговые ветки remotes/origin/*\n",
    "# git fetch origin\n",
    "# для получения изменений используется git pull\n",
    "# git pull = git fetch && git merge origin/<branch_name>\n",
    "# для отправки изменений используется git push\n",
    "# git push - только fast-forward мердж текущей ветки с трекинговой веткой и отправка на сервер\n",
    "# git push --force позволяет перезаписывать ветку на ремоуте. ИСПОЛЬЗОВАТЬ ОЧЕНЬ АККУРАТНО"
   ]
  },
  {
   "cell_type": "markdown",
   "metadata": {
    "pycharm": {
     "name": "#%% md\n"
    },
    "slideshow": {
     "slide_type": "slide"
    }
   },
   "source": [
    "### Отправка изменений на сервер\n",
    "_(когда все ок)_"
   ]
  },
  {
   "cell_type": "code",
   "execution_count": 47,
   "metadata": {
    "pycharm": {
     "name": "#%%\n"
    },
    "slideshow": {
     "slide_type": "-"
    }
   },
   "outputs": [
    {
     "name": "stdout",
     "output_type": "stream",
     "text": [
      "[master 7aacbe9] Added farewell submodule\n",
      " 1 file changed, 1 insertion(+)\n",
      " create mode 100644 bye/bye.py\n"
     ]
    }
   ],
   "source": [
    "mkdir bye\n",
    "echo 'print(\"Goodbye, world!\")' > bye/bye.py\n",
    "git add bye\n",
    "git commit -m \"Added farewell submodule\""
   ]
  },
  {
   "cell_type": "code",
   "execution_count": 53,
   "metadata": {
    "pycharm": {
     "name": "#%%\n"
    },
    "slideshow": {
     "slide_type": "fragment"
    }
   },
   "outputs": [
    {
     "name": "stdout",
     "output_type": "stream",
     "text": [
      "Total 0 (delta 0), reused 0 (delta 0)\n",
      "remote: \n",
      "remote: To create a merge request for main, visit:\u001b[K\n",
      "remote:   https://gitlab.manytask.org/py-tasks/sample-remote-repo/-/merge_requests/new?merge_request%5Bsource_branch%5D=main\u001b[K\n",
      "remote: \n",
      "To gitlab.manytask.org:py-tasks/sample-remote-repo.git\n",
      "   e6278ba..7aacbe9  main -> main\n",
      "Branch 'main' set up to track remote branch 'main' from 'origin'.\n"
     ]
    }
   ],
   "source": [
    "git push origin"
   ]
  },
  {
   "cell_type": "markdown",
   "metadata": {
    "pycharm": {
     "name": "#%% md\n"
    },
    "slideshow": {
     "slide_type": "slide"
    }
   },
   "source": [
    "<div align=\"center\"><img src=\"images/after_push.png\"/></div>"
   ]
  },
  {
   "cell_type": "markdown",
   "metadata": {
    "pycharm": {
     "name": "#%% md\n"
    },
    "slideshow": {
     "slide_type": "slide"
    }
   },
   "source": [
    "### Отправка изменений на сервер\n",
    "_(когда что-то пошло не так)_"
   ]
  },
  {
   "cell_type": "code",
   "execution_count": 54,
   "metadata": {
    "pycharm": {
     "name": "#%%\n"
    },
    "slideshow": {
     "slide_type": "-"
    }
   },
   "outputs": [
    {
     "name": "stdout",
     "output_type": "stream",
     "text": [
      "[main 6bcb8ed] Fixed README to contain relevant docs\n",
      " 1 file changed, 1 insertion(+), 3 deletions(-)\n"
     ]
    }
   ],
   "source": [
    "echo \"# Hello and bye functionality\" > README.md\n",
    "git add .\n",
    "git commit -m \"Fixed README to contain relevant docs\""
   ]
  },
  {
   "cell_type": "code",
   "execution_count": 55,
   "metadata": {
    "pycharm": {
     "name": "#%%\n"
    },
    "slideshow": {
     "slide_type": "fragment"
    }
   },
   "outputs": [
    {
     "name": "stdout",
     "output_type": "stream",
     "text": [
      "To gitlab.manytask.org:py-tasks/sample-remote-repo.git\n",
      " \u001b[31m! [rejected]       \u001b[m main -> main (fetch first)\n",
      "\u001b[31merror: failed to push some refs to 'git@gitlab.manytask.org:py-tasks/sample-remote-repo.git'\n",
      "\u001b[m\u001b[33mhint: Updates were rejected because the remote contains work that you do\u001b[m\n",
      "\u001b[33mhint: not have locally. This is usually caused by another repository pushing\u001b[m\n",
      "\u001b[33mhint: to the same ref. You may want to first integrate the remote changes\u001b[m\n",
      "\u001b[33mhint: (e.g., 'git pull ...') before pushing again.\u001b[m\n",
      "\u001b[33mhint: See the 'Note about fast-forwards' in 'git push --help' for details.\u001b[m\n"
     ]
    }
   ],
   "source": [
    "git push origin"
   ]
  },
  {
   "cell_type": "code",
   "execution_count": 56,
   "metadata": {
    "pycharm": {
     "name": "#%%\n"
    },
    "slideshow": {
     "slide_type": "-"
    }
   },
   "outputs": [
    {
     "name": "stdout",
     "output_type": "stream",
     "text": [
      "On branch main\n",
      "Your branch is ahead of 'origin/main' by 1 commit.\n",
      "  (use \"git push\" to publish your local commits)\n",
      "\n",
      "nothing to commit, working tree clean\n"
     ]
    }
   ],
   "source": [
    "git status"
   ]
  },
  {
   "cell_type": "markdown",
   "metadata": {
    "pycharm": {
     "name": "#%% md\n"
    },
    "slideshow": {
     "slide_type": "slide"
    }
   },
   "source": [
    "### Получение изменений с сервера\n",
    "_(когда что-то пошло не так)_"
   ]
  },
  {
   "cell_type": "code",
   "execution_count": 57,
   "metadata": {
    "pycharm": {
     "name": "#%%\n"
    },
    "slideshow": {
     "slide_type": "-"
    }
   },
   "outputs": [
    {
     "name": "stdout",
     "output_type": "stream",
     "text": [
      "remote: Enumerating objects: 5, done.\u001b[K\n",
      "remote: Counting objects:  20% (1/5)\u001b[K\n",
      "remote: Counting objects:  40% (2/5)\u001b[K\n",
      "remote: Counting objects:  60% (3/5)\u001b[K\n",
      "remote: Counting objects:  80% (4/5)\u001b[K\n",
      "remote: Counting objects: 100% (5/5)\u001b[K\n",
      "remote: Counting objects: 100% (5/5), done.\u001b[K\n",
      "remote: Compressing objects:  33% (1/3)\u001b[K\n",
      "remote: Compressing objects:  66% (2/3)\u001b[K\n",
      "remote: Compressing objects: 100% (3/3)\u001b[K\n",
      "remote: Compressing objects: 100% (3/3), done.\u001b[K\n",
      "remote: Total 3 (delta 0), reused 0 (delta 0), pack-reused 0\u001b[K\n",
      "Unpacking objects:  33% (1/3)\n",
      "Unpacking objects:  66% (2/3)\n",
      "Unpacking objects: 100% (3/3)\n",
      "Unpacking objects: 100% (3/3), 379 bytes | 54.00 KiB/s, done.\n",
      "From gitlab.manytask.org:py-tasks/sample-remote-repo\n",
      "   7aacbe9..9585992  main       -> origin/main\n",
      " * [new branch]      test       -> origin/test\n",
      "Auto-merging README.md\n",
      "CONFLICT (content): Merge conflict in README.md\n",
      "Automatic merge failed; fix conflicts and then commit the result.\n"
     ]
    }
   ],
   "source": [
    "# читаем логи, видим капсом CONFLICT\n",
    "git pull origin"
   ]
  },
  {
   "cell_type": "code",
   "execution_count": 58,
   "metadata": {
    "pycharm": {
     "name": "#%%\n"
    },
    "slideshow": {
     "slide_type": "fragment"
    }
   },
   "outputs": [
    {
     "name": "stdout",
     "output_type": "stream",
     "text": [
      "On branch main\n",
      "Your branch and 'origin/main' have diverged,\n",
      "and have 1 and 1 different commits each, respectively.\n",
      "  (use \"git pull\" to merge the remote branch into yours)\n",
      "\n",
      "You have unmerged paths.\n",
      "  (fix conflicts and run \"git commit\")\n",
      "  (use \"git merge --abort\" to abort the merge)\n",
      "\n",
      "Unmerged paths:\n",
      "  (use \"git add <file>...\" to mark resolution)\n",
      "\t\u001b[31mboth modified:   README.md\u001b[m\n",
      "\n",
      "no changes added to commit (use \"git add\" and/or \"git commit -a\")\n"
     ]
    }
   ],
   "source": [
    "# смотрим в каком файле проблемы, тот что both modified, их конечно может быть несколько\n",
    "git status"
   ]
  },
  {
   "cell_type": "code",
   "execution_count": 59,
   "metadata": {
    "pycharm": {
     "name": "#%%\n"
    },
    "slideshow": {
     "slide_type": "slide"
    }
   },
   "outputs": [
    {
     "name": "stdout",
     "output_type": "stream",
     "text": [
      "<<<<<<< HEAD\n",
      "# Hello and bye functionality\n",
      "=======\n",
      "# sample-remote-repo\n",
      "\n",
      "Sample repo for git remote interactions \n",
      "Added a new line from web\n",
      ">>>>>>> 9585992e9dcaeeb74cc7a20d2248d2c6497b2e42\n"
     ]
    }
   ],
   "source": [
    "# смотрим что конкретно не так и разрешаем конфликт. В реальной жизни тут придется покодить немного\n",
    "cat README.md\n",
    "echo \"# Handler for person's presence state\" > README.md\n",
    "git add README.md"
   ]
  },
  {
   "cell_type": "code",
   "execution_count": 61,
   "metadata": {
    "pycharm": {
     "name": "#%%\n"
    },
    "slideshow": {
     "slide_type": "-"
    }
   },
   "outputs": [
    {
     "name": "stdout",
     "output_type": "stream",
     "text": [
      "On branch main\n",
      "Your branch and 'origin/main' have diverged,\n",
      "and have 1 and 1 different commits each, respectively.\n",
      "  (use \"git pull\" to merge the remote branch into yours)\n",
      "\n",
      "All conflicts fixed but you are still merging.\n",
      "  (use \"git commit\" to conclude merge)\n",
      "\n",
      "Changes to be committed:\n",
      "\t\u001b[32mmodified:   README.md\u001b[m\n",
      "\n"
     ]
    }
   ],
   "source": [
    "git status"
   ]
  },
  {
   "cell_type": "code",
   "execution_count": 62,
   "metadata": {
    "pycharm": {
     "name": "#%%\n"
    },
    "slideshow": {
     "slide_type": "slide"
    }
   },
   "outputs": [
    {
     "name": "stdout",
     "output_type": "stream",
     "text": [
      "[main b06c38b] Fixed naming conflict in README\n"
     ]
    }
   ],
   "source": [
    "# пофиксили конфликт, абсолютно так же, как при обычном merge с конфликтом локально\n",
    "git commit -m \"Fixed naming conflict in README\""
   ]
  },
  {
   "cell_type": "code",
   "execution_count": 63,
   "metadata": {
    "pycharm": {
     "name": "#%%\n"
    },
    "slideshow": {
     "slide_type": "-"
    }
   },
   "outputs": [
    {
     "name": "stdout",
     "output_type": "stream",
     "text": [
      "Enumerating objects: 10, done.\n",
      "Counting objects: 100% (10/10), done.\n",
      "Delta compression using up to 16 threads\n",
      "Compressing objects: 100% (4/4), done.\n",
      "Writing objects: 100% (6/6), 744 bytes | 744.00 KiB/s, done.\n",
      "Total 6 (delta 0), reused 0 (delta 0)\n",
      "remote: \n",
      "remote: To create a merge request for main, visit:\u001b[K\n",
      "remote:   https://gitlab.manytask.org/py-tasks/sample-remote-repo/-/merge_requests/new?merge_request%5Bsource_branch%5D=main\u001b[K\n",
      "remote: \n",
      "To gitlab.manytask.org:py-tasks/sample-remote-repo.git\n",
      "   9585992..b06c38b  main -> main\n"
     ]
    }
   ],
   "source": [
    "git push origin"
   ]
  },
  {
   "cell_type": "markdown",
   "metadata": {
    "pycharm": {
     "name": "#%% md\n"
    },
    "slideshow": {
     "slide_type": "slide"
    }
   },
   "source": [
    "### Получение изменений с сервера\n",
    "_(когда все ок)_"
   ]
  },
  {
   "cell_type": "code",
   "execution_count": 64,
   "metadata": {
    "slideshow": {
     "slide_type": "-"
    }
   },
   "outputs": [
    {
     "name": "stdout",
     "output_type": "stream",
     "text": [
      "# Handler for person's presence state\n"
     ]
    }
   ],
   "source": [
    "cat README.md"
   ]
  },
  {
   "cell_type": "code",
   "execution_count": 65,
   "metadata": {
    "pycharm": {
     "name": "#%%\n"
    },
    "slideshow": {
     "slide_type": "fragment"
    }
   },
   "outputs": [
    {
     "name": "stdout",
     "output_type": "stream",
     "text": [
      "remote: Enumerating objects: 5, done.\u001b[K\n",
      "remote: Counting objects: 100% (5/5), done.\u001b[K\n",
      "remote: Compressing objects: 100% (3/3), done.\u001b[K\n",
      "remote: Total 3 (delta 0), reused 0 (delta 0), pack-reused 0\u001b[K\n",
      "Unpacking objects: 100% (3/3), 368 bytes | 368.00 KiB/s, done.\n",
      "From gitlab.manytask.org:py-tasks/sample-remote-repo\n",
      "   b06c38b..85ec296  main       -> origin/main\n",
      "Updating b06c38b..85ec296\n",
      "Fast-forward\n",
      " README.md | 1 \u001b[32m+\u001b[m\n",
      " 1 file changed, 1 insertion(+)\n"
     ]
    }
   ],
   "source": [
    "git pull origin"
   ]
  },
  {
   "cell_type": "code",
   "execution_count": 66,
   "metadata": {
    "slideshow": {
     "slide_type": "-"
    }
   },
   "outputs": [
    {
     "name": "stdout",
     "output_type": "stream",
     "text": [
      "# Handler for person's presence state\n",
      "A more reliable description\n"
     ]
    }
   ],
   "source": [
    "cat README.md"
   ]
  },
  {
   "cell_type": "markdown",
   "metadata": {
    "pycharm": {
     "name": "#%% md\n"
    },
    "slideshow": {
     "slide_type": "slide"
    }
   },
   "source": [
    "<div align=\"center\"><img src=\"https://luckytruedev.com/learning/wp-content/uploads/2018/12/Commits.png?1=1\" width=\"600px\"/></div>"
   ]
  },
  {
   "cell_type": "markdown",
   "metadata": {
    "slideshow": {
     "slide_type": "slide"
    }
   },
   "source": [
    "### Схема менитаска\n",
    "<div align=\"center\">\n",
    "    <img src=\"images/gitlab-manytask-schema.png\"/>\n",
    "</div>"
   ]
  },
  {
   "cell_type": "markdown",
   "metadata": {
    "pycharm": {
     "name": "#%% md\n"
    },
    "slideshow": {
     "slide_type": "slide"
    }
   },
   "source": [
    "### Добавляем адрес для загрузки свежих условий заданий"
   ]
  },
  {
   "cell_type": "code",
   "execution_count": 71,
   "metadata": {
    "slideshow": {
     "slide_type": "-"
    }
   },
   "outputs": [
    {
     "name": "stdout",
     "output_type": "stream",
     "text": [
      "Cloning into 'test_test_username'...\n",
      "remote: Enumerating objects: 107, done.\u001b[K\n",
      "remote: Counting objects: 100% (31/31), done.\u001b[K\n",
      "remote: Compressing objects: 100% (31/31), done.\u001b[K\n",
      "remote: Total 107 (delta 11), reused 0 (delta 0), pack-reused 76\u001b[K\n",
      "Receiving objects: 100% (107/107), 3.21 MiB | 1.20 MiB/s, done.\n",
      "Resolving deltas: 100% (14/14), done.\n"
     ]
    }
   ],
   "source": [
    "git clone git@gitlab.manytask.org:python/students-fall-2022/test_test_username.git\n",
    "cd test_test_username"
   ]
  },
  {
   "cell_type": "code",
   "execution_count": 74,
   "metadata": {
    "pycharm": {
     "name": "#%%\n"
    },
    "slideshow": {
     "slide_type": "fragment"
    }
   },
   "outputs": [
    {
     "name": "stdout",
     "output_type": "stream",
     "text": [
      "origin\tgit@gitlab.manytask.org:python/students-fall-2022/test_test_username.git (fetch)\n",
      "origin\tgit@gitlab.manytask.org:python/students-fall-2022/test_test_username.git (push)\n"
     ]
    }
   ],
   "source": [
    "git remote -v\n",
    "git remote add upstream git@gitlab.manytask.org:python/public-2022-fall.git"
   ]
  },
  {
   "cell_type": "code",
   "execution_count": 75,
   "metadata": {
    "pycharm": {
     "name": "#%%\n"
    },
    "slideshow": {
     "slide_type": "-"
    }
   },
   "outputs": [
    {
     "name": "stdout",
     "output_type": "stream",
     "text": [
      "origin\tgit@gitlab.manytask.org:python/students-fall-2022/test_test_username.git (fetch)\n",
      "origin\tgit@gitlab.manytask.org:python/students-fall-2022/test_test_username.git (push)\n",
      "upstream\tgit@gitlab.manytask.org:python/public-2022-fall.git (fetch)\n",
      "upstream\tgit@gitlab.manytask.org:python/public-2022-fall.git (push)\n"
     ]
    }
   ],
   "source": [
    "git remote -v"
   ]
  },
  {
   "cell_type": "code",
   "execution_count": 76,
   "metadata": {
    "pycharm": {
     "name": "#%%\n"
    },
    "slideshow": {
     "slide_type": "slide"
    }
   },
   "outputs": [
    {
     "name": "stdout",
     "output_type": "stream",
     "text": [
      "From gitlab.manytask.org:python/public-2022-fall\n",
      " * branch            main       -> FETCH_HEAD\n",
      " * [new branch]      main       -> upstream/main\n",
      "Already up to date.\n"
     ]
    }
   ],
   "source": [
    "# получить задания:\n",
    "git pull upstream main"
   ]
  },
  {
   "cell_type": "code",
   "execution_count": 77,
   "metadata": {
    "slideshow": {
     "slide_type": "fragment"
    }
   },
   "outputs": [
    {
     "name": "stdout",
     "output_type": "stream",
     "text": [
      "Everything up-to-date\n"
     ]
    }
   ],
   "source": [
    "# сдать задания:\n",
    "git push origin main"
   ]
  },
  {
   "cell_type": "markdown",
   "metadata": {
    "pycharm": {
     "name": "#%% md\n"
    },
    "slideshow": {
     "slide_type": "skip"
    }
   },
   "source": [
    "## Итог"
   ]
  },
  {
   "cell_type": "markdown",
   "metadata": {
    "pycharm": {
     "name": "#%% md\n"
    },
    "slideshow": {
     "slide_type": "skip"
    }
   },
   "source": [
    "* git init\n",
    "* git clone\n",
    "* git add\n",
    "* git commit\n",
    "* git status\n",
    "* git log\n",
    "* git checkout\n",
    "* git branch\n",
    "* git revert\n",
    "* git merge\n",
    "* git pull\n",
    "* git push"
   ]
  },
  {
   "cell_type": "markdown",
   "metadata": {
    "pycharm": {
     "name": "#%% md\n"
    },
    "slideshow": {
     "slide_type": "skip"
    }
   },
   "source": [
    "<div align=\"center\"><b><font size=5><font color=\"#FF0000\">12 комманд</font> для повседневной работы с гитом</font></b></div>\n",
    "<div align=\"center\">(часть рассмотрим через полтора месяца перед большой домашкой)</div>"
   ]
  },
  {
   "cell_type": "markdown",
   "metadata": {
    "pycharm": {
     "name": "#%% md\n"
    },
    "slideshow": {
     "slide_type": "slide"
    }
   },
   "source": [
    "## Источники"
   ]
  },
  {
   "cell_type": "markdown",
   "metadata": {
    "pycharm": {
     "name": "#%% md\n"
    },
    "slideshow": {
     "slide_type": "-"
    }
   },
   "source": [
    "* <a href=\"https://githowto.com/\">githowto.com</a>\n",
    "* <a href=\"https://git-scm.com/book/en/v2\">git-scm.com/book/en/v2</a>\n",
    "* <a href=\"https://git-tower.com/learn/git/ebook\">git-tower.com/learn/git/ebook</a>\n",
    "* <a href=\"https://speakerdeck.com/schacon/introduction-to-git\">speakerdeck.com/schacon/introduction-to-git</a>\n",
    "* <a href=\"patrickzahnd.ch/blog.html#gitflow\">patrickzahnd.ch//blog.html#gitflow</a>"
   ]
  }
 ],
 "metadata": {
  "celltoolbar": "Слайд-шоу",
  "kernelspec": {
   "display_name": "shad_env (3.13.7)",
   "language": "python",
   "name": "python3"
  },
  "language_info": {
   "codemirror_mode": {
    "name": "ipython",
    "version": 3
   },
   "file_extension": ".py",
   "mimetype": "text/x-python",
   "name": "python",
   "nbconvert_exporter": "python",
   "pygments_lexer": "ipython3",
   "version": "3.13.7"
  },
  "rise": {
   "enable_chalkboard": true,
   "footer": "<p style=\"margin: 5px; color: #a0a0a0\">YSDA Python Course</p>",
   "scroll": true,
   "start_slideshow_at": "selected",
   "theme": "serif",
   "transition": "none"
  },
  "toc": {
   "base_numbering": 1,
   "nav_menu": {},
   "number_sections": false,
   "sideBar": true,
   "skip_h1_title": false,
   "title_cell": "Table of Contents",
   "title_sidebar": "Contents",
   "toc_cell": false,
   "toc_position": {
    "height": "calc(100% - 180px)",
    "left": "10px",
    "top": "150px",
    "width": "276.216px"
   },
   "toc_section_display": true,
   "toc_window_display": false
  },
  "varInspector": {
   "cols": {
    "lenName": 16,
    "lenType": 16,
    "lenVar": 40
   },
   "kernels_config": {
    "python": {
     "delete_cmd_postfix": "",
     "delete_cmd_prefix": "del ",
     "library": "var_list.py",
     "varRefreshCmd": "print(var_dic_list())"
    },
    "r": {
     "delete_cmd_postfix": ") ",
     "delete_cmd_prefix": "rm(",
     "library": "var_list.r",
     "varRefreshCmd": "cat(var_dic_list()) "
    }
   },
   "types_to_exclude": [
    "module",
    "function",
    "builtin_function_or_method",
    "instance",
    "_Feature"
   ],
   "window_display": false
  }
 },
 "nbformat": 4,
 "nbformat_minor": 4
}
