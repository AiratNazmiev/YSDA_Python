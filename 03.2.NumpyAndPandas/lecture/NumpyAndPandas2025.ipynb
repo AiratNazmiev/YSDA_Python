{
 "cells": [
  {
   "cell_type": "markdown",
   "metadata": {
    "pycharm": {
     "name": "#%% md\n"
    },
    "slideshow": {
     "slide_type": "slide"
    }
   },
   "source": [
    "<center>\n",
    "    <img src=\"https://upload.wikimedia.org/wikipedia/commons/a/a8/%D0%9B%D0%9E%D0%93%D0%9E_%D0%A8%D0%90%D0%94.png\" width=500px/>\n",
    "    <font>Python 2025</font><br/>\n",
    "    <br/>\n",
    "    <br/>\n",
    "    <b style=\"font-size: 2em\">Анализ данных в Numpy, Pandas, Polars</b><br/>\n",
    "    <br/>\n",
    "    <font>Шишов Илья</font><br/>\n",
    "</center>"
   ]
  },
  {
   "cell_type": "markdown",
   "metadata": {
    "pycharm": {
     "name": "#%% md\n"
    },
    "slideshow": {
     "slide_type": "slide"
    }
   },
   "source": [
    "## [Numpy](https://numpy.org/doc/stable/)"
   ]
  },
  {
   "cell_type": "markdown",
   "metadata": {},
   "source": [
    "Библиотека NumPy предоставляет следующие **возможности**: \n",
    "* работать с многомерными массивами (включая матрицы)\n",
    "* производить быстрое вычисление математических функций на многомерных массивах"
   ]
  },
  {
   "cell_type": "markdown",
   "metadata": {},
   "source": [
    "Ядром пакета NumPy является объект [ndarray](https://docs.scipy.org/doc/numpy/reference/generated/numpy.ndarray.html)\n",
    "\n",
    "**Важные отличия** между NumPy arrays и Python sequences: \n",
    "* NumPy array имеет фиксированную длину, которая определяется в момент его создания (в отличие от Python lists, которые могут расти динамически)\n",
    "* Элементы в NumPy array должны быть одного типа\n",
    "* Можно выполнять операции непосредственно над NumPy arrays"
   ]
  },
  {
   "cell_type": "markdown",
   "metadata": {},
   "source": [
    "**Сильные стороны** NumPy: \n",
    "* Vectorization \n",
    "* Broadcasting"
   ]
  },
  {
   "cell_type": "markdown",
   "metadata": {
    "pycharm": {
     "name": "#%% md\n"
    },
    "slideshow": {
     "slide_type": "slide"
    }
   },
   "source": [
    "**Мотивирующий пример**\n",
    "![Imgur](https://i.imgur.com/z4GzOX6.png)"
   ]
  },
  {
   "cell_type": "code",
   "execution_count": 3,
   "metadata": {
    "pycharm": {
     "name": "#%%\n"
    },
    "slideshow": {
     "slide_type": "slide"
    }
   },
   "outputs": [],
   "source": [
    "import numpy as np"
   ]
  },
  {
   "cell_type": "markdown",
   "metadata": {
    "pycharm": {
     "name": "#%% md\n"
    },
    "slideshow": {
     "slide_type": "slide"
    }
   },
   "source": [
    "## Способы создания Numpy arrays\n",
    "* Конвертация из Python structures\n",
    "* Генерация с помощью встроенных функций\n",
    "* Чтение с диска\n"
   ]
  },
  {
   "cell_type": "markdown",
   "metadata": {},
   "source": [
    "### Конвертация из Python structures"
   ]
  },
  {
   "cell_type": "code",
   "execution_count": 4,
   "metadata": {
    "pycharm": {
     "name": "#%%\n"
    }
   },
   "outputs": [
    {
     "data": {
      "text/plain": [
       "array([1, 2, 3, 4, 5])"
      ]
     },
     "execution_count": 4,
     "metadata": {},
     "output_type": "execute_result"
    }
   ],
   "source": [
    "np.array([1, 2, 3, 4, 5])"
   ]
  },
  {
   "cell_type": "markdown",
   "metadata": {
    "pycharm": {
     "name": "#%% md\n"
    }
   },
   "source": [
    "При конвертации можно задавать тип данных с помощью аргумента [dtype](https://docs.scipy.org/doc/numpy/reference/generated/numpy.dtype.html): "
   ]
  },
  {
   "cell_type": "code",
   "execution_count": 5,
   "metadata": {
    "pycharm": {
     "name": "#%%\n"
    }
   },
   "outputs": [
    {
     "data": {
      "text/plain": [
       "array([1., 2., 3., 4., 5.], dtype=float32)"
      ]
     },
     "execution_count": 5,
     "metadata": {},
     "output_type": "execute_result"
    }
   ],
   "source": [
    "np.array([1, 2, 3, 4, 5], dtype=np.float32)"
   ]
  },
  {
   "cell_type": "markdown",
   "metadata": {
    "pycharm": {
     "name": "#%% md\n"
    }
   },
   "source": [
    "Аналогичное преобразование:"
   ]
  },
  {
   "cell_type": "code",
   "execution_count": 6,
   "metadata": {
    "pycharm": {
     "name": "#%%\n"
    }
   },
   "outputs": [
    {
     "data": {
      "text/plain": [
       "array([1., 2., 3., 4., 5.], dtype=float32)"
      ]
     },
     "execution_count": 6,
     "metadata": {},
     "output_type": "execute_result"
    }
   ],
   "source": [
    "np.float32([1, 2, 3, 4, 5])"
   ]
  },
  {
   "cell_type": "markdown",
   "metadata": {
    "pycharm": {
     "name": "#%% md\n"
    }
   },
   "source": [
    "### Генерация Numpy arrays"
   ]
  },
  {
   "cell_type": "markdown",
   "metadata": {
    "pycharm": {
     "name": "#%% md\n"
    }
   },
   "source": [
    "* [arange](https://docs.scipy.org/doc/numpy/reference/generated/numpy.arange.html) — аналог range из Python, которому можно передать нецелочисленный шаг\n",
    "* [linspace](https://docs.scipy.org/doc/numpy/reference/generated/numpy.linspace.html) — способ равномерно разбить отрезок на n-1 интервал\n",
    "* [logspace](https://docs.scipy.org/doc/numpy/reference/generated/numpy.logspace.html) — способ разбить отрезок по логарифмической шкале\n",
    "* [zeros](https://docs.scipy.org/doc/numpy/reference/generated/numpy.zeros.html) — создаёт массив заполненный нулями заданной размерности\n",
    "* [ones](https://docs.scipy.org/doc/numpy/reference/generated/numpy.ones.html) — создаёт массив заполненный единицами заданной размерности\n",
    "* [empty](https://docs.scipy.org/doc/numpy/reference/generated/numpy.empty.html) — создаёт массив неинициализированный никаким значением заданной размерности"
   ]
  },
  {
   "cell_type": "code",
   "execution_count": 7,
   "metadata": {
    "pycharm": {
     "name": "#%%\n"
    }
   },
   "outputs": [
    {
     "data": {
      "text/plain": [
       "array([0. , 0.5, 1. , 1.5, 2. , 2.5, 3. , 3.5, 4. , 4.5, 5. , 5.5])"
      ]
     },
     "execution_count": 7,
     "metadata": {},
     "output_type": "execute_result"
    }
   ],
   "source": [
    "np.arange(0, 6, 0.5)"
   ]
  },
  {
   "cell_type": "code",
   "execution_count": 8,
   "metadata": {
    "pycharm": {
     "name": "#%%\n"
    }
   },
   "outputs": [
    {
     "data": {
      "text/plain": [
       "array([0.        , 0.08474576, 0.16949153, 0.25423729, 0.33898305,\n",
       "       0.42372881, 0.50847458, 0.59322034, 0.6779661 , 0.76271186,\n",
       "       0.84745763, 0.93220339, 1.01694915, 1.10169492, 1.18644068,\n",
       "       1.27118644, 1.3559322 , 1.44067797, 1.52542373, 1.61016949,\n",
       "       1.69491525, 1.77966102, 1.86440678, 1.94915254, 2.03389831,\n",
       "       2.11864407, 2.20338983, 2.28813559, 2.37288136, 2.45762712,\n",
       "       2.54237288, 2.62711864, 2.71186441, 2.79661017, 2.88135593,\n",
       "       2.96610169, 3.05084746, 3.13559322, 3.22033898, 3.30508475,\n",
       "       3.38983051, 3.47457627, 3.55932203, 3.6440678 , 3.72881356,\n",
       "       3.81355932, 3.89830508, 3.98305085, 4.06779661, 4.15254237,\n",
       "       4.23728814, 4.3220339 , 4.40677966, 4.49152542, 4.57627119,\n",
       "       4.66101695, 4.74576271, 4.83050847, 4.91525424, 5.        ])"
      ]
     },
     "execution_count": 8,
     "metadata": {},
     "output_type": "execute_result"
    }
   ],
   "source": [
    "np.linspace(0, 5, 60)"
   ]
  },
  {
   "cell_type": "code",
   "execution_count": 9,
   "metadata": {
    "pycharm": {
     "name": "#%%\n"
    }
   },
   "outputs": [
    {
     "data": {
      "text/plain": [
       "array([  1.,   2.,   4.,   8.,  16.,  32.,  64., 128., 256., 512.])"
      ]
     },
     "execution_count": 9,
     "metadata": {},
     "output_type": "execute_result"
    }
   ],
   "source": [
    "np.logspace(0, 9, 10, base=2)"
   ]
  },
  {
   "cell_type": "code",
   "execution_count": 10,
   "metadata": {
    "pycharm": {
     "name": "#%%\n"
    }
   },
   "outputs": [
    {
     "data": {
      "text/plain": [
       "array([[0., 0.],\n",
       "       [0., 0.]])"
      ]
     },
     "execution_count": 10,
     "metadata": {},
     "output_type": "execute_result"
    }
   ],
   "source": [
    "np.zeros((2, 2))"
   ]
  },
  {
   "cell_type": "code",
   "execution_count": 11,
   "metadata": {
    "pycharm": {
     "name": "#%%\n"
    }
   },
   "outputs": [
    {
     "data": {
      "text/plain": [
       "array([[1., 1.],\n",
       "       [1., 1.]])"
      ]
     },
     "execution_count": 11,
     "metadata": {},
     "output_type": "execute_result"
    }
   ],
   "source": [
    "np.ones((2, 2))"
   ]
  },
  {
   "cell_type": "code",
   "execution_count": 14,
   "metadata": {
    "pycharm": {
     "name": "#%%\n"
    }
   },
   "outputs": [
    {
     "data": {
      "text/plain": [
       "array([[1., 1.],\n",
       "       [1., 1.]])"
      ]
     },
     "execution_count": 14,
     "metadata": {},
     "output_type": "execute_result"
    }
   ],
   "source": [
    "np.empty((2, 2))"
   ]
  },
  {
   "cell_type": "code",
   "execution_count": 15,
   "metadata": {
    "pycharm": {
     "name": "#%%\n"
    }
   },
   "outputs": [
    {
     "data": {
      "text/plain": [
       "array([[1, 0, 0],\n",
       "       [0, 2, 0],\n",
       "       [0, 0, 3]])"
      ]
     },
     "execution_count": 15,
     "metadata": {},
     "output_type": "execute_result"
    }
   ],
   "source": [
    "np.diag([1,2,3])"
   ]
  },
  {
   "cell_type": "markdown",
   "metadata": {
    "pycharm": {
     "name": "#%% md\n"
    }
   },
   "source": [
    "Pазмеры массива храниться в поле **shape**, а количество размерностей - в **ndim**"
   ]
  },
  {
   "cell_type": "code",
   "execution_count": 16,
   "metadata": {
    "pycharm": {
     "name": "#%%\n"
    }
   },
   "outputs": [
    {
     "name": "stdout",
     "output_type": "stream",
     "text": [
      "Размерность массива - (2, 3), количество размерностей - 2\n"
     ]
    },
    {
     "data": {
      "text/plain": [
       "array([[1., 1., 1.],\n",
       "       [1., 1., 1.]])"
      ]
     },
     "execution_count": 16,
     "metadata": {},
     "output_type": "execute_result"
    }
   ],
   "source": [
    "array = np.ones((2,3,))\n",
    "print('Размерность массива - %s, количество размерностей - %d'%(array.shape, array.ndim))\n",
    "array"
   ]
  },
  {
   "cell_type": "code",
   "execution_count": 17,
   "metadata": {},
   "outputs": [
    {
     "name": "stdout",
     "output_type": "stream",
     "text": [
      "(3, 3) 2\n",
      "(5, 5, 5) 3\n"
     ]
    }
   ],
   "source": [
    "## Чему равень ndim и shape в следующих случаях\n",
    "print(np.diag([1,2,3]).shape, np.diag([1,2,3]).ndim)\n",
    "print(np.zeros((5, 5, 5)).shape, np.zeros((5, 5, 5)).ndim)"
   ]
  },
  {
   "cell_type": "markdown",
   "metadata": {
    "pycharm": {
     "name": "#%% md\n"
    }
   },
   "source": [
    "Метод [reshape](https://docs.scipy.org/doc/numpy/reference/generated/numpy.reshape.html) позволяет преобразовать размеры массива без изменения данных. При этом данные остаются на месте."
   ]
  },
  {
   "cell_type": "code",
   "execution_count": 18,
   "metadata": {
    "pycharm": {
     "name": "#%%\n"
    }
   },
   "outputs": [
    {
     "data": {
      "text/plain": [
       "(array([0. , 0.5, 1. , 1.5, 2. , 2.5, 3. , 3.5, 4. , 4.5, 5. , 5.5]),\n",
       " array([[0. , 0.5, 1. , 1.5, 2. , 2.5],\n",
       "        [3. , 3.5, 4. , 4.5, 5. , 5.5]]))"
      ]
     },
     "execution_count": 18,
     "metadata": {},
     "output_type": "execute_result"
    }
   ],
   "source": [
    "array = np.arange(0, 6, 0.5)\n",
    "array2 = array.reshape((2, 6))\n",
    "array, array2"
   ]
  },
  {
   "cell_type": "code",
   "execution_count": 19,
   "metadata": {},
   "outputs": [
    {
     "data": {
      "text/plain": [
       "(array([100. ,   0.5,   1. ,   1.5,   2. ,   2.5,   3. ,   3.5,   4. ,\n",
       "          4.5,   5. ,   5.5]),\n",
       " array([[100. ,   0.5,   1. ,   1.5,   2. ,   2.5],\n",
       "        [  3. ,   3.5,   4. ,   4.5,   5. ,   5.5]]))"
      ]
     },
     "execution_count": 19,
     "metadata": {},
     "output_type": "execute_result"
    }
   ],
   "source": [
    "array[0] = 100\n",
    "array, array2"
   ]
  },
  {
   "cell_type": "markdown",
   "metadata": {
    "pycharm": {
     "name": "#%% md\n"
    }
   },
   "source": [
    "Для того что бы развернуть многомерный массив в вектор, можно воспользоваться функцией [ravel](ravel)"
   ]
  },
  {
   "cell_type": "code",
   "execution_count": 20,
   "metadata": {
    "pycharm": {
     "name": "#%%\n"
    }
   },
   "outputs": [
    {
     "data": {
      "text/plain": [
       "array([100. ,   0.5,   1. ,   1.5,   2. ,   2.5,   3. ,   3.5,   4. ,\n",
       "         4.5,   5. ,   5.5])"
      ]
     },
     "execution_count": 20,
     "metadata": {},
     "output_type": "execute_result"
    }
   ],
   "source": [
    "array = np.ravel(array)\n",
    "array"
   ]
  },
  {
   "cell_type": "code",
   "execution_count": 21,
   "metadata": {},
   "outputs": [
    {
     "name": "stdout",
     "output_type": "stream",
     "text": [
      "[1 0 0 2]\n"
     ]
    }
   ],
   "source": [
    "# Какие будут массивы?\n",
    "print(np.ravel(np.diag([1,2])))\n"
   ]
  },
  {
   "cell_type": "code",
   "execution_count": 22,
   "metadata": {},
   "outputs": [
    {
     "name": "stdout",
     "output_type": "stream",
     "text": [
      "[[1 0 0 2]]\n"
     ]
    }
   ],
   "source": [
    "print(np.reshape(np.diag([1,2]), [1, 4]))"
   ]
  },
  {
   "cell_type": "markdown",
   "metadata": {
    "pycharm": {
     "name": "#%% md\n"
    },
    "slideshow": {
     "slide_type": "slide"
    }
   },
   "source": [
    "## Индексация"
   ]
  },
  {
   "cell_type": "markdown",
   "metadata": {
    "pycharm": {
     "name": "#%% md\n"
    }
   },
   "source": [
    "В NumPy работает привычная индексация Python, включая использование отрицательных индексов и срезов"
   ]
  },
  {
   "cell_type": "code",
   "execution_count": 23,
   "metadata": {
    "pycharm": {
     "name": "#%%\n"
    }
   },
   "outputs": [
    {
     "name": "stdout",
     "output_type": "stream",
     "text": [
      "100.0\n",
      "5.5\n",
      "[0.5 1.  1.5 2.  2.5 3.  3.5 4.  4.5 5. ]\n",
      "[0.5 1.5 2.5 3.5 4.5]\n",
      "[  5.5   5.    4.5   4.    3.5   3.    2.5   2.    1.5   1.    0.5 100. ]\n"
     ]
    }
   ],
   "source": [
    "print(array[0])\n",
    "print(array[-1])\n",
    "print(array[1:-1])\n",
    "print(array[1:-1:2])\n",
    "print(array[::-1])"
   ]
  },
  {
   "cell_type": "markdown",
   "metadata": {},
   "source": [
    "Слайс - ссылка на исходный массив"
   ]
  },
  {
   "cell_type": "code",
   "execution_count": 24,
   "metadata": {},
   "outputs": [
    {
     "name": "stdout",
     "output_type": "stream",
     "text": [
      "[777.    1.    1.5   2.    2.5   3.    3.5   4.    4.5   5. ]\n",
      "[100.  777.    1.    1.5   2.    2.5   3.    3.5   4.    4.5   5.    5.5]\n"
     ]
    }
   ],
   "source": [
    "arr2 = array[1:-1]\n",
    "arr2[0] = 777\n",
    "print(arr2)\n",
    "print(array)"
   ]
  },
  {
   "cell_type": "code",
   "execution_count": 25,
   "metadata": {},
   "outputs": [
    {
     "name": "stdout",
     "output_type": "stream",
     "text": [
      "(12,)\n"
     ]
    }
   ],
   "source": [
    "print(array.shape)"
   ]
  },
  {
   "cell_type": "code",
   "execution_count": 26,
   "metadata": {},
   "outputs": [
    {
     "name": "stdout",
     "output_type": "stream",
     "text": [
      "3 (1, 12, 1)\n"
     ]
    },
    {
     "data": {
      "text/plain": [
       "array([[[100. ],\n",
       "        [777. ],\n",
       "        [  1. ],\n",
       "        [  1.5],\n",
       "        [  2. ],\n",
       "        [  2.5],\n",
       "        [  3. ],\n",
       "        [  3.5],\n",
       "        [  4. ],\n",
       "        [  4.5],\n",
       "        [  5. ],\n",
       "        [  5.5]]])"
      ]
     },
     "execution_count": 26,
     "metadata": {},
     "output_type": "execute_result"
    }
   ],
   "source": [
    "print(array[None,0:, None].ndim, array[None,0:, None].shape)\n",
    "array[None,0:, None]"
   ]
  },
  {
   "cell_type": "markdown",
   "metadata": {
    "pycharm": {
     "name": "#%% md\n"
    }
   },
   "source": [
    "**Замечание**: Индексы и срезы в многомерных массивах не нужно разделять квадратными скобками \n",
    "\n",
    "т.е. вместо ```matrix[i][j]``` нужно использовать ```matrix[i, j]```"
   ]
  },
  {
   "cell_type": "markdown",
   "metadata": {
    "pycharm": {
     "name": "#%% md\n"
    }
   },
   "source": [
    "В качестве индексов можно использовать массивы:"
   ]
  },
  {
   "cell_type": "code",
   "execution_count": 27,
   "metadata": {},
   "outputs": [
    {
     "data": {
      "text/plain": [
       "array([[1, 2],\n",
       "       [3, 4],\n",
       "       [5, 6]])"
      ]
     },
     "execution_count": 27,
     "metadata": {},
     "output_type": "execute_result"
    }
   ],
   "source": [
    "matrix = np.array([[1, 2, 3], [4, 5, 6]]).reshape(3, 2)\n",
    "matrix"
   ]
  },
  {
   "cell_type": "code",
   "execution_count": 28,
   "metadata": {},
   "outputs": [
    {
     "data": {
      "text/plain": [
       "np.True_"
      ]
     },
     "execution_count": 28,
     "metadata": {},
     "output_type": "execute_result"
    }
   ],
   "source": [
    "matrix[0, 1] == matrix[0][1]"
   ]
  },
  {
   "cell_type": "code",
   "execution_count": 29,
   "metadata": {},
   "outputs": [
    {
     "name": "stdout",
     "output_type": "stream",
     "text": [
      "False\n"
     ]
    }
   ],
   "source": [
    "res = matrix[0, 1] == matrix[0][1]\n",
    "print(isinstance(res, bool))"
   ]
  },
  {
   "cell_type": "code",
   "execution_count": 30,
   "metadata": {},
   "outputs": [
    {
     "data": {
      "text/plain": [
       "True"
      ]
     },
     "execution_count": 30,
     "metadata": {},
     "output_type": "execute_result"
    }
   ],
   "source": [
    "res.item()"
   ]
  },
  {
   "cell_type": "markdown",
   "metadata": {},
   "source": [
    "Обращение по списку индексов"
   ]
  },
  {
   "cell_type": "code",
   "execution_count": 31,
   "metadata": {
    "pycharm": {
     "name": "#%%\n"
    }
   },
   "outputs": [
    {
     "data": {
      "text/plain": [
       "array([100.,   1.,   2.,   3.,   4.,   5.])"
      ]
     },
     "execution_count": 31,
     "metadata": {},
     "output_type": "execute_result"
    }
   ],
   "source": [
    "array[[0, 2, 4, 6, 8, 10]]"
   ]
  },
  {
   "cell_type": "markdown",
   "metadata": {},
   "source": [
    "Использование битовой маски"
   ]
  },
  {
   "cell_type": "code",
   "execution_count": 32,
   "metadata": {
    "pycharm": {
     "name": "#%%\n"
    }
   },
   "outputs": [
    {
     "data": {
      "text/plain": [
       "array([100.,   1.,   2.,   3.,   4.,   5.])"
      ]
     },
     "execution_count": 32,
     "metadata": {},
     "output_type": "execute_result"
    }
   ],
   "source": [
    "array[[True, False, True, False, True, False, True, False, True, False, True, False]]"
   ]
  },
  {
   "cell_type": "code",
   "execution_count": 33,
   "metadata": {
    "pycharm": {
     "name": "#%%\n"
    }
   },
   "outputs": [
    {
     "name": "stdout",
     "output_type": "stream",
     "text": [
      "(1, 3) (3,)\n",
      "False\n",
      "True\n"
     ]
    }
   ],
   "source": [
    "# Что будет выведено?\n",
    "x = np.array([[1, 2, 3]])\n",
    "y = np.array([1, 2, 3])\n",
    "\n",
    "print (x.shape, y.shape)\n",
    "\n",
    "print(np.array_equal(x, y))\n",
    "print(np.array_equal(x, y[None, :]))"
   ]
  },
  {
   "cell_type": "code",
   "execution_count": null,
   "metadata": {},
   "outputs": [],
   "source": [
    "array = np.arange(0, 6, 0.5)\n",
    "array = array.reshape((2, 6))"
   ]
  },
  {
   "cell_type": "markdown",
   "metadata": {},
   "source": [
    "Обратите внимание, на разные варианты задать полный срез (... | :)"
   ]
  },
  {
   "cell_type": "code",
   "execution_count": 35,
   "metadata": {},
   "outputs": [
    {
     "data": {
      "text/plain": [
       "array([[[100. , 777. ,   1. ,   1.5,   2. ,   2.5,   3. ,   3.5,   4. ,\n",
       "           4.5,   5. ,   5.5]]])"
      ]
     },
     "execution_count": 35,
     "metadata": {},
     "output_type": "execute_result"
    }
   ],
   "source": [
    "array[None, ...,  None, :]"
   ]
  },
  {
   "cell_type": "code",
   "execution_count": null,
   "metadata": {},
   "outputs": [
    {
     "data": {
      "text/plain": [
       "ellipsis"
      ]
     },
     "execution_count": 39,
     "metadata": {},
     "output_type": "execute_result"
    }
   ],
   "source": [
    "type(...)"
   ]
  },
  {
   "cell_type": "code",
   "execution_count": 43,
   "metadata": {},
   "outputs": [
    {
     "data": {
      "text/plain": [
       "'Ellipsis'"
      ]
     },
     "execution_count": 43,
     "metadata": {},
     "output_type": "execute_result"
    }
   ],
   "source": [
    "....__repr__()"
   ]
  },
  {
   "cell_type": "code",
   "execution_count": 40,
   "metadata": {
    "pycharm": {
     "name": "#%%\n"
    }
   },
   "outputs": [
    {
     "data": {
      "text/plain": [
       "array([0, 1, 2, 3, 4, 5, 6, 7, 8, 9])"
      ]
     },
     "execution_count": 40,
     "metadata": {},
     "output_type": "execute_result"
    }
   ],
   "source": [
    "x = np.arange(10)\n",
    "x"
   ]
  },
  {
   "cell_type": "code",
   "execution_count": 44,
   "metadata": {
    "pycharm": {
     "name": "#%%\n"
    }
   },
   "outputs": [
    {
     "data": {
      "text/plain": [
       "array([6, 8])"
      ]
     },
     "execution_count": 44,
     "metadata": {},
     "output_type": "execute_result"
    }
   ],
   "source": [
    "x[(x % 2 == 0) & (x > 5)]"
   ]
  },
  {
   "cell_type": "code",
   "execution_count": 45,
   "metadata": {
    "pycharm": {
     "name": "#%%\n"
    }
   },
   "outputs": [
    {
     "name": "stdout",
     "output_type": "stream",
     "text": [
      "[0 1 2 3 4 5 6 7 8 9]\n",
      "[12 14 16 18]\n",
      "[0 1 2 3 4 5 6 7 8 9]\n"
     ]
    }
   ],
   "source": [
    "print(x)\n",
    "y = x[x>5]\n",
    "y *= 2\n",
    "print(y)\n",
    "print(x)"
   ]
  },
  {
   "cell_type": "markdown",
   "metadata": {
    "pycharm": {
     "name": "#%% md\n"
    }
   },
   "source": [
    "Для копирования в numpy есть метод copy"
   ]
  },
  {
   "cell_type": "code",
   "execution_count": null,
   "metadata": {
    "pycharm": {
     "name": "#%%\n"
    }
   },
   "outputs": [],
   "source": [
    "x.copy()"
   ]
  },
  {
   "cell_type": "markdown",
   "metadata": {
    "pycharm": {
     "name": "#%% md\n"
    },
    "slideshow": {
     "slide_type": "slide"
    }
   },
   "source": [
    "### Чтение данных с помощью функции [genfromtxt](https://docs.scipy.org/doc/numpy/reference/generated/numpy.genfromtxt.html#numpy.genfromtxt)"
   ]
  },
  {
   "cell_type": "code",
   "execution_count": 46,
   "metadata": {},
   "outputs": [
    {
     "name": "stdout",
     "output_type": "stream",
     "text": [
      "b\"\\x93NUMPY\\x01\\x00v\\x00{'descr': '<i8', 'fortran_order': False, 'shape': (10,), }                                                           \\n\\x00\\x00\\x00\\x00\\x00\\x00\\x00\\x00\\x01\\x00\\x00\\x00\\x00\\x00\\x00\\x00\\x02\\x00\\x00\\x00\\x00\\x00\\x00\\x00\\x03\\x00\\x00\\x00\\x00\\x00\\x00\\x00\\x04\\x00\\x00\\x00\\x00\\x00\\x00\\x00\\x05\\x00\\x00\\x00\\x00\\x00\\x00\\x00\\x06\\x00\\x00\\x00\\x00\\x00\\x00\\x00\\x07\\x00\\x00\\x00\\x00\\x00\\x00\\x00\\x08\\x00\\x00\\x00\\x00\\x00\\x00\\x00\\t\\x00\\x00\\x00\\x00\\x00\\x00\\x00\"\n",
      "[0 1 2 3 4 5 6 7 8 9]\n"
     ]
    }
   ],
   "source": [
    "with open('out.npz', 'wb') as f:\n",
    "    np.save(f, x)\n",
    "\n",
    "with open('out.npz', 'rb') as f:\n",
    "    print(f.read())\n",
    "\n",
    "with open('out.npz', 'rb') as f:\n",
    "    y = np.load(f)\n",
    "    print(y)"
   ]
  },
  {
   "cell_type": "code",
   "execution_count": 47,
   "metadata": {
    "pycharm": {
     "name": "#%%\n"
    }
   },
   "outputs": [
    {
     "data": {
      "text/plain": [
       "array([(1.000e+00,   1. ,   10.,   121. , 'setosa'),\n",
       "       (1.000e+00, 314. ,   13.,   121. , 'versicolor'),\n",
       "       (1.134e+03,   1. ,  103.,  1421. , 'setosa'),\n",
       "       (1.000e+00, 141. ,   10.,   121. , 'versicolor'),\n",
       "       (1.440e+02,   1. , 4582., 13481. , 'versicolor'),\n",
       "       (1.000e+00,  13.3,   10.,   121. , 'versicolor'),\n",
       "       (1.141e+03,   1. , 1341.,  1231.1, 'setosa'),\n",
       "       (7.320e+02, 131. ,  139.,    92.1, 'setosa')],\n",
       "      dtype=[('sepal_length_in_cm', '<f8'), ('sepal_width_in_cm', '<f8'), ('petal_length_in_cm', '<f8'), ('petal_width_in_cm', '<f8'), ('class', '<U10')])"
      ]
     },
     "execution_count": 47,
     "metadata": {},
     "output_type": "execute_result"
    }
   ],
   "source": [
    "iris = np.genfromtxt('iris_subset.txt', delimiter=', ', names=True, dtype=[('sepal_length_in_cm', 'f8'),\n",
    "                                                                          ('sepal_width_in_cm', 'f8'),\n",
    "                                                                          ('petal_length_in_cm', 'f8'),\n",
    "                                                                          ('petal_width_in_cm', 'f8'),\n",
    "                                                                          ('class', 'U10')])\n",
    "iris"
   ]
  },
  {
   "cell_type": "code",
   "execution_count": 58,
   "metadata": {},
   "outputs": [
    {
     "data": {
      "text/plain": [
       "np.float64(144.0)"
      ]
     },
     "execution_count": 58,
     "metadata": {},
     "output_type": "execute_result"
    }
   ],
   "source": [
    "iris[4]['sepal_length_in_cm']"
   ]
  },
  {
   "cell_type": "markdown",
   "metadata": {
    "pycharm": {
     "name": "#%% md\n"
    }
   },
   "source": [
    "Значения строки можно запросить по индексу, а значения колонки по её названию"
   ]
  },
  {
   "cell_type": "code",
   "execution_count": 59,
   "metadata": {
    "pycharm": {
     "name": "#%%\n"
    }
   },
   "outputs": [
    {
     "name": "stdout",
     "output_type": "stream",
     "text": [
      "Описание первого элемента: (1.0, 1.0, 10.0, 121.0, 'setosa')\n",
      "Значения столбца sepal_length_in_cm: [1.000e+00 1.000e+00 1.134e+03 1.000e+00 1.440e+02 1.000e+00 1.141e+03\n",
      " 7.320e+02]\n"
     ]
    }
   ],
   "source": [
    "print('Описание первого элемента: %s'%iris[0])\n",
    "print('Значения столбца sepal_length_in_cm: %s'%iris['sepal_length_in_cm'])"
   ]
  },
  {
   "cell_type": "code",
   "execution_count": 60,
   "metadata": {
    "pycharm": {
     "name": "#%%\n"
    }
   },
   "outputs": [
    {
     "name": "stdout",
     "output_type": "stream",
     "text": [
      "Значения слтобца sepal_length_in_cm\n",
      "\tclass setosa: [1.000e+00 1.134e+03 1.141e+03 7.320e+02]\n",
      "\tclass versicolor: [  1.   1. 144.   1.]\n"
     ]
    }
   ],
   "source": [
    "sepal_length_setosa = iris['sepal_length_in_cm'][iris['class'] == 'setosa']\n",
    "sepal_length_versicolor = iris['sepal_length_in_cm'][iris['class'] == 'versicolor']\n",
    "\n",
    "print('Значения слтобца sepal_length_in_cm\\n\\tclass setosa: %s\\n\\tclass versicolor: %s'%(sepal_length_setosa,\n",
    "                                                                                         sepal_length_versicolor))"
   ]
  },
  {
   "cell_type": "markdown",
   "metadata": {
    "pycharm": {
     "name": "#%% md\n"
    }
   },
   "source": [
    "При чтение данных из файла можно пропускать строки в конце и в начале, используя **skip_header** и **skip_footer**, а также брать только нужные столбцы - **usecols**"
   ]
  },
  {
   "cell_type": "code",
   "execution_count": 66,
   "metadata": {
    "pycharm": {
     "name": "#%%\n"
    }
   },
   "outputs": [
    {
     "data": {
      "text/plain": [
       "array(['setosa', 'versicolor', 'setosa', 'versicolor', 'versicolor',\n",
       "       'versicolor', 'setosa', 'setosa'], dtype='<U10')"
      ]
     },
     "execution_count": 66,
     "metadata": {},
     "output_type": "execute_result"
    }
   ],
   "source": [
    "iris_class = np.genfromtxt('iris_subset.txt', delimiter=', ', skip_header=1, usecols=4, dtype='U10')\n",
    "iris_class"
   ]
  },
  {
   "cell_type": "code",
   "execution_count": 67,
   "metadata": {
    "pycharm": {
     "name": "#%%\n"
    }
   },
   "outputs": [
    {
     "data": {
      "text/plain": [
       "array([[1.0000e+00, 1.0000e+00, 1.0000e+01, 1.2100e+02],\n",
       "       [1.0000e+00, 3.1400e+02, 1.3000e+01, 1.2100e+02],\n",
       "       [1.1340e+03, 1.0000e+00, 1.0300e+02, 1.4210e+03],\n",
       "       [1.0000e+00, 1.4100e+02, 1.0000e+01, 1.2100e+02],\n",
       "       [1.4400e+02, 1.0000e+00, 4.5820e+03, 1.3481e+04],\n",
       "       [1.0000e+00, 1.3300e+01, 1.0000e+01, 1.2100e+02],\n",
       "       [1.1410e+03, 1.0000e+00, 1.3410e+03, 1.2311e+03],\n",
       "       [7.3200e+02, 1.3100e+02, 1.3900e+02, 9.2100e+01]])"
      ]
     },
     "execution_count": 67,
     "metadata": {},
     "output_type": "execute_result"
    }
   ],
   "source": [
    "iris_features = np.genfromtxt('iris_subset.txt', delimiter=', ', skip_header=1, usecols=range(4))\n",
    "iris_features"
   ]
  },
  {
   "cell_type": "code",
   "execution_count": 68,
   "metadata": {
    "pycharm": {
     "name": "#%%\n"
    }
   },
   "outputs": [
    {
     "data": {
      "text/plain": [
       "(array([[1.0000e+00, 1.0000e+00, 1.0000e+01, 1.2100e+02],\n",
       "        [1.1340e+03, 1.0000e+00, 1.0300e+02, 1.4210e+03],\n",
       "        [1.1410e+03, 1.0000e+00, 1.3410e+03, 1.2311e+03],\n",
       "        [7.3200e+02, 1.3100e+02, 1.3900e+02, 9.2100e+01]]),\n",
       " array([[1.0000e+00, 3.1400e+02, 1.3000e+01, 1.2100e+02],\n",
       "        [1.0000e+00, 1.4100e+02, 1.0000e+01, 1.2100e+02],\n",
       "        [1.4400e+02, 1.0000e+00, 4.5820e+03, 1.3481e+04],\n",
       "        [1.0000e+00, 1.3300e+01, 1.0000e+01, 1.2100e+02]]))"
      ]
     },
     "execution_count": 68,
     "metadata": {},
     "output_type": "execute_result"
    }
   ],
   "source": [
    "features_setosa = iris_features[iris_class == 'setosa']\n",
    "features_versicolor = iris_features[iris_class == 'versicolor']\n",
    "\n",
    "features_setosa, features_versicolor"
   ]
  },
  {
   "cell_type": "markdown",
   "metadata": {
    "collapsed": true,
    "jupyter": {
     "outputs_hidden": true
    },
    "pycharm": {
     "name": "#%% md\n"
    }
   },
   "source": [
    "Операции в NumPy можно производить непосредственно над векторами одинаковой размерности без использования циклов\n",
    "\n",
    "Например, вычисление поэлементной разности между векторами выглядит следующим образом:"
   ]
  },
  {
   "cell_type": "code",
   "execution_count": 69,
   "metadata": {
    "pycharm": {
     "name": "#%%\n"
    }
   },
   "outputs": [
    {
     "data": {
      "text/plain": [
       "array([    0., -1133.,  -997.,  -731.])"
      ]
     },
     "execution_count": 69,
     "metadata": {},
     "output_type": "execute_result"
    }
   ],
   "source": [
    "sepal_length_versicolor - sepal_length_setosa"
   ]
  },
  {
   "cell_type": "markdown",
   "metadata": {
    "pycharm": {
     "name": "#%% md\n"
    }
   },
   "source": [
    "Аналогчино для многомерных массивов"
   ]
  },
  {
   "cell_type": "code",
   "execution_count": 70,
   "metadata": {
    "pycharm": {
     "name": "#%%\n"
    }
   },
   "outputs": [
    {
     "data": {
      "text/plain": [
       "array([[ 0.00000e+00,  3.13000e+02,  3.00000e+00,  0.00000e+00],\n",
       "       [-1.13300e+03,  1.40000e+02, -9.30000e+01, -1.30000e+03],\n",
       "       [-9.97000e+02,  0.00000e+00,  3.24100e+03,  1.22499e+04],\n",
       "       [-7.31000e+02, -1.17700e+02, -1.29000e+02,  2.89000e+01]])"
      ]
     },
     "execution_count": 70,
     "metadata": {},
     "output_type": "execute_result"
    }
   ],
   "source": [
    "features_versicolor - features_setosa"
   ]
  },
  {
   "cell_type": "markdown",
   "metadata": {
    "pycharm": {
     "name": "#%% md\n"
    }
   },
   "source": [
    "<div class=\"alert alert-info\">\n",
    "    <b>Замечание:</b> Все арифметические операции над массивами одинаковой размерности производятся поэлементно\n",
    "</div>"
   ]
  },
  {
   "cell_type": "markdown",
   "metadata": {
    "pycharm": {
     "name": "#%% md\n"
    }
   },
   "source": [
    "## [Broadcasting](https://docs.scipy.org/doc/numpy/user/basics.broadcasting.html)"
   ]
  },
  {
   "cell_type": "markdown",
   "metadata": {
    "pycharm": {
     "name": "#%% md\n"
    }
   },
   "source": [
    "Broadcasting снимает правило одной размерности и позволяет производить арифметические операции над массивами разных, но всё-таки созгласованных размерностей. Простейшим примером является умножение вектора на число:\n",
    "\n",
    "![Imgur](https://i.imgur.com/tE3ZCWG.gif)"
   ]
  },
  {
   "cell_type": "code",
   "execution_count": 71,
   "metadata": {
    "pycharm": {
     "name": "#%%\n"
    }
   },
   "outputs": [
    {
     "data": {
      "text/plain": [
       "array([1, 4, 9])"
      ]
     },
     "execution_count": 71,
     "metadata": {},
     "output_type": "execute_result"
    }
   ],
   "source": [
    "np.arange(1, 4) * np.array([1,2,3])"
   ]
  },
  {
   "cell_type": "markdown",
   "metadata": {
    "pycharm": {
     "name": "#%% md\n"
    }
   },
   "source": [
    "Правило согласования размерностей выражается в одном предложение: \n",
    "\n",
    "```In order to broadcast, the size of the trailing axes for both arrays in an operation must either be the same size or one of them must be one```"
   ]
  },
  {
   "cell_type": "markdown",
   "metadata": {
    "pycharm": {
     "name": "#%% md\n"
    }
   },
   "source": [
    "Если количество размерностей не совпадают, то к массиву меньшей размерности добавляются фиктивные размерности \"слева\", например:\n",
    "```\n",
    "a  = np.ones((2,3,4))\n",
    "b = np.ones(4)\n",
    "c = a * b # here a.shape=(2,3,4) and b.shape is considered to be (1,1,4)\n",
    "```"
   ]
  },
  {
   "cell_type": "markdown",
   "metadata": {
    "pycharm": {
     "name": "#%% md\n"
    }
   },
   "source": [
    "Прибавим к каждой строчки матрицы один и тот же вектор:"
   ]
  },
  {
   "cell_type": "markdown",
   "metadata": {
    "pycharm": {
     "name": "#%% md\n"
    }
   },
   "source": [
    "![Imgur](https://i.imgur.com/VsP2dqT.gif)"
   ]
  },
  {
   "cell_type": "code",
   "execution_count": 72,
   "metadata": {
    "pycharm": {
     "name": "#%%\n"
    }
   },
   "outputs": [
    {
     "data": {
      "text/plain": [
       "array([[ 0,  1,  2],\n",
       "       [10, 11, 12],\n",
       "       [20, 21, 22],\n",
       "       [30, 31, 32]])"
      ]
     },
     "execution_count": 72,
     "metadata": {},
     "output_type": "execute_result"
    }
   ],
   "source": [
    "np.array([[0, 0, 0], [10, 10, 10], [20, 20, 20], [30, 30, 30]]) + np.arange(3)"
   ]
  },
  {
   "cell_type": "markdown",
   "metadata": {
    "pycharm": {
     "name": "#%% md\n"
    }
   },
   "source": [
    "Теперь если мы хотим, проделать тот же трюк но со столбцами, то мы не можем просто добавить вектор состоящий из 4 элементов т.к. в данном случае размеры будут не согласованы"
   ]
  },
  {
   "cell_type": "code",
   "execution_count": 73,
   "metadata": {},
   "outputs": [
    {
     "ename": "ValueError",
     "evalue": "operands could not be broadcast together with shapes (4,3) (4,) ",
     "output_type": "error",
     "traceback": [
      "\u001b[0;31m---------------------------------------------------------------------------\u001b[0m",
      "\u001b[0;31mValueError\u001b[0m                                Traceback (most recent call last)",
      "Cell \u001b[0;32mIn[73], line 1\u001b[0m\n\u001b[0;32m----> 1\u001b[0m \u001b[43mnp\u001b[49m\u001b[38;5;241;43m.\u001b[39;49m\u001b[43marray\u001b[49m\u001b[43m(\u001b[49m\u001b[43m[\u001b[49m\u001b[43m[\u001b[49m\u001b[38;5;241;43m0\u001b[39;49m\u001b[43m,\u001b[49m\u001b[43m \u001b[49m\u001b[38;5;241;43m0\u001b[39;49m\u001b[43m,\u001b[49m\u001b[43m \u001b[49m\u001b[38;5;241;43m0\u001b[39;49m\u001b[43m]\u001b[49m\u001b[43m,\u001b[49m\u001b[43m \u001b[49m\u001b[43m[\u001b[49m\u001b[38;5;241;43m10\u001b[39;49m\u001b[43m,\u001b[49m\u001b[43m \u001b[49m\u001b[38;5;241;43m10\u001b[39;49m\u001b[43m,\u001b[49m\u001b[43m \u001b[49m\u001b[38;5;241;43m10\u001b[39;49m\u001b[43m]\u001b[49m\u001b[43m,\u001b[49m\u001b[43m \u001b[49m\u001b[43m[\u001b[49m\u001b[38;5;241;43m20\u001b[39;49m\u001b[43m,\u001b[49m\u001b[43m \u001b[49m\u001b[38;5;241;43m20\u001b[39;49m\u001b[43m,\u001b[49m\u001b[43m \u001b[49m\u001b[38;5;241;43m20\u001b[39;49m\u001b[43m]\u001b[49m\u001b[43m,\u001b[49m\u001b[43m \u001b[49m\u001b[43m[\u001b[49m\u001b[38;5;241;43m30\u001b[39;49m\u001b[43m,\u001b[49m\u001b[43m \u001b[49m\u001b[38;5;241;43m30\u001b[39;49m\u001b[43m,\u001b[49m\u001b[43m \u001b[49m\u001b[38;5;241;43m30\u001b[39;49m\u001b[43m]\u001b[49m\u001b[43m]\u001b[49m\u001b[43m)\u001b[49m\u001b[43m \u001b[49m\u001b[38;5;241;43m+\u001b[39;49m\u001b[43m \u001b[49m\u001b[43mnp\u001b[49m\u001b[38;5;241;43m.\u001b[39;49m\u001b[43marange\u001b[49m\u001b[43m(\u001b[49m\u001b[38;5;241;43m4\u001b[39;49m\u001b[43m)\u001b[49m\n",
      "\u001b[0;31mValueError\u001b[0m: operands could not be broadcast together with shapes (4,3) (4,) "
     ]
    }
   ],
   "source": [
    "np.array([[0, 0, 0], [10, 10, 10], [20, 20, 20], [30, 30, 30]]) + np.arange(4)"
   ]
  },
  {
   "cell_type": "markdown",
   "metadata": {
    "pycharm": {
     "name": "#%% md\n"
    }
   },
   "source": [
    "![Imgurl](https://i.imgur.com/9LvGoeL.gif)"
   ]
  },
  {
   "cell_type": "markdown",
   "metadata": {
    "pycharm": {
     "name": "#%% md\n"
    }
   },
   "source": [
    "Сначала нужно преоброзовать вектор к виду:"
   ]
  },
  {
   "cell_type": "code",
   "execution_count": 74,
   "metadata": {
    "pycharm": {
     "name": "#%%\n"
    }
   },
   "outputs": [
    {
     "data": {
      "text/plain": [
       "array([[0],\n",
       "       [1],\n",
       "       [2],\n",
       "       [3]])"
      ]
     },
     "execution_count": 74,
     "metadata": {},
     "output_type": "execute_result"
    }
   ],
   "source": [
    "arr = np.arange(4)[:,np.newaxis] # или [:, None]\n",
    "arr"
   ]
  },
  {
   "cell_type": "code",
   "execution_count": 75,
   "metadata": {},
   "outputs": [
    {
     "data": {
      "text/plain": [
       "(4, 1)"
      ]
     },
     "execution_count": 75,
     "metadata": {},
     "output_type": "execute_result"
    }
   ],
   "source": [
    "arr.shape"
   ]
  },
  {
   "cell_type": "markdown",
   "metadata": {
    "pycharm": {
     "name": "#%% md\n"
    }
   },
   "source": [
    "А затем к нему добавить матрицу:"
   ]
  },
  {
   "cell_type": "code",
   "execution_count": 76,
   "metadata": {
    "pycharm": {
     "name": "#%%\n"
    }
   },
   "outputs": [
    {
     "data": {
      "text/plain": [
       "array([[ 0,  0,  0],\n",
       "       [11, 11, 11],\n",
       "       [22, 22, 22],\n",
       "       [33, 33, 33]])"
      ]
     },
     "execution_count": 76,
     "metadata": {},
     "output_type": "execute_result"
    }
   ],
   "source": [
    "arr + np.array([[0, 0, 0], [10, 10, 10], [20, 20, 20], [30, 30, 30]])"
   ]
  },
  {
   "cell_type": "markdown",
   "metadata": {
    "pycharm": {
     "name": "#%% md\n"
    }
   },
   "source": [
    "Если нужно перемножить многомерные массивы не поэлеметно, а по правилу перемножения матриц, то следует воспользоваться [np.dot](https://docs.scipy.org/doc/numpy/reference/generated/numpy.dot.html)\n",
    "\n",
    "Транспонирование производится с помощью array **.T**\n",
    "\n",
    "Так же в NumPy реализованно много полезных операций для работы с массивами: [np.min](https://docs.scipy.org/doc/numpy/reference/generated/numpy.ndarray.min.html), [np.max](https://docs.scipy.org/doc/numpy/reference/generated/numpy.ndarray.max.html), [np.sum](https://docs.scipy.org/doc/numpy/reference/generated/numpy.sum.html), [np.mean](https://docs.scipy.org/doc/numpy/reference/generated/numpy.mean.html) и т.д.\n",
    "\n",
    "<div class=\"alert alert-info\">\n",
    "    <b>Замечание:</b> В каждой из перечисленных функций есть параметр **axis**, который указывает по какому измерению производить данную операцию. По умолчанию операция производится по всем значениям массива\n",
    "\n",
    "Например:\n",
    "</div>"
   ]
  },
  {
   "cell_type": "markdown",
   "metadata": {},
   "source": [
    "Зададим произвольные массивы"
   ]
  },
  {
   "cell_type": "code",
   "execution_count": 77,
   "metadata": {},
   "outputs": [
    {
     "data": {
      "text/plain": [
       "((2, 3), (3, 2))"
      ]
     },
     "execution_count": 77,
     "metadata": {},
     "output_type": "execute_result"
    }
   ],
   "source": [
    "arr1 = np.array([[0, 1, 2], [3, 4, 5]])\n",
    "arr2 = np.array([[6, 7], [8, 9], [10, 11]])\n",
    "\n",
    "arr1.shape, arr2.shape"
   ]
  },
  {
   "cell_type": "markdown",
   "metadata": {},
   "source": [
    "`np.dot` эквивалентен символу `@`"
   ]
  },
  {
   "cell_type": "code",
   "execution_count": 78,
   "metadata": {},
   "outputs": [
    {
     "data": {
      "text/plain": [
       "(array([[ 28,  31],\n",
       "        [100, 112]]),\n",
       " array([[ 28,  31],\n",
       "        [100, 112]]))"
      ]
     },
     "execution_count": 78,
     "metadata": {},
     "output_type": "execute_result"
    }
   ],
   "source": [
    "np.dot(arr1, arr2), arr1 @ arr2"
   ]
  },
  {
   "cell_type": "code",
   "execution_count": 79,
   "metadata": {
    "pycharm": {
     "name": "#%%\n"
    }
   },
   "outputs": [
    {
     "name": "stdout",
     "output_type": "stream",
     "text": [
      "Среднее значение всех значений класса versicolor: 1192.20625\n",
      "Среднее значение каждого признака класса versicolor: [ 112.25    68.25  4552.      36.325]\n"
     ]
    }
   ],
   "source": [
    "print(\n",
    "    'Среднее значение всех значений класса versicolor: {}'.format(\n",
    "        np.mean(features_versicolor)\n",
    "    ),\n",
    ")\n",
    "print(\n",
    "    'Среднее значение каждого признака класса versicolor: {}'.format(\n",
    "        np.mean(features_versicolor, axis=1)\n",
    "    )\n",
    ")"
   ]
  },
  {
   "cell_type": "markdown",
   "metadata": {
    "pycharm": {
     "name": "#%% md\n"
    }
   },
   "source": [
    "Теперь эффективно посчитаем $\\frac{1}{n} \\sum\\limits_{i=1}^n |x_i-y_i|$ для каждой пары $(x, y)$, где $x$ - вектор признаков объекта из класса setosa, а $y$ - вектор признаков объекта из класса versicolor"
   ]
  },
  {
   "cell_type": "code",
   "execution_count": 80,
   "metadata": {},
   "outputs": [
    {
     "data": {
      "text/plain": [
       "((4, 4), (4, 4))"
      ]
     },
     "execution_count": 80,
     "metadata": {},
     "output_type": "execute_result"
    }
   ],
   "source": [
    "features_versicolor.shape, features_setosa.shape"
   ]
  },
  {
   "cell_type": "code",
   "execution_count": 81,
   "metadata": {},
   "outputs": [
    {
     "data": {
      "text/plain": [
       "array([[1.0000e+00, 3.1400e+02, 1.3000e+01, 1.2100e+02],\n",
       "       [1.0000e+00, 1.4100e+02, 1.0000e+01, 1.2100e+02],\n",
       "       [1.4400e+02, 1.0000e+00, 4.5820e+03, 1.3481e+04],\n",
       "       [1.0000e+00, 1.3300e+01, 1.0000e+01, 1.2100e+02]])"
      ]
     },
     "execution_count": 81,
     "metadata": {},
     "output_type": "execute_result"
    }
   ],
   "source": [
    "features_versicolor"
   ]
  },
  {
   "cell_type": "code",
   "execution_count": 82,
   "metadata": {},
   "outputs": [
    {
     "data": {
      "text/plain": [
       "array([[1.0000e+00, 1.0000e+00, 1.0000e+01, 1.2100e+02],\n",
       "       [1.1340e+03, 1.0000e+00, 1.0300e+02, 1.4210e+03],\n",
       "       [1.1410e+03, 1.0000e+00, 1.3410e+03, 1.2311e+03],\n",
       "       [7.3200e+02, 1.3100e+02, 1.3900e+02, 9.2100e+01]])"
      ]
     },
     "execution_count": 82,
     "metadata": {},
     "output_type": "execute_result"
    }
   ],
   "source": [
    "features_setosa"
   ]
  },
  {
   "cell_type": "markdown",
   "metadata": {},
   "source": [
    "К `features_versicolor` добавляется новая ось для размножения данных, чтобы перебрать все пары параметров"
   ]
  },
  {
   "cell_type": "code",
   "execution_count": 85,
   "metadata": {
    "pycharm": {
     "name": "#%%\n"
    }
   },
   "outputs": [
    {
     "data": {
      "text/plain": [
       "array([[7.900000e+01, 7.090000e+02, 9.727750e+02, 2.672250e+02],\n",
       "       [3.500000e+01, 6.665000e+02, 9.302750e+02, 2.247250e+02],\n",
       "       [4.518750e+03, 4.382250e+03, 4.121975e+03, 4.637475e+03],\n",
       "       [3.075000e+00, 6.345750e+02, 8.983500e+02, 2.516500e+02]])"
      ]
     },
     "execution_count": 85,
     "metadata": {},
     "output_type": "execute_result"
    }
   ],
   "source": [
    "np.mean(np.abs(features_setosa - features_versicolor[:, None]), axis=2)"
   ]
  },
  {
   "cell_type": "markdown",
   "metadata": {
    "pycharm": {
     "name": "#%% md\n"
    }
   },
   "source": [
    "### Операции"
   ]
  },
  {
   "cell_type": "code",
   "execution_count": 86,
   "metadata": {
    "pycharm": {
     "name": "#%%\n"
    }
   },
   "outputs": [
    {
     "name": "stdout",
     "output_type": "stream",
     "text": [
      "[[[ 0  1  2  3]\n",
      "  [ 4  5  6  7]]\n",
      "\n",
      " [[ 8  9 10 11]\n",
      "  [12 13 14 15]]\n",
      "\n",
      " [[16 17 18 19]\n",
      "  [20 21 22 23]]\n",
      "\n",
      " [[24 25 26 27]\n",
      "  [28 29 30 31]]\n",
      "\n",
      " [[32 33 34 35]\n",
      "  [36 37 38 39]]]\n"
     ]
    }
   ],
   "source": [
    "x = np.arange(40).reshape(5, 2, 4)\n",
    "print(x)"
   ]
  },
  {
   "cell_type": "code",
   "execution_count": 87,
   "metadata": {
    "pycharm": {
     "name": "#%%\n"
    }
   },
   "outputs": [
    {
     "name": "stdout",
     "output_type": "stream",
     "text": [
      "19.5\n",
      "19.5\n"
     ]
    }
   ],
   "source": [
    "print(x.mean())\n",
    "print(np.mean(x))"
   ]
  },
  {
   "cell_type": "code",
   "execution_count": 88,
   "metadata": {
    "pycharm": {
     "name": "#%%\n"
    }
   },
   "outputs": [
    {
     "data": {
      "text/plain": [
       "array([[16., 17., 18., 19.],\n",
       "       [20., 21., 22., 23.]])"
      ]
     },
     "execution_count": 88,
     "metadata": {},
     "output_type": "execute_result"
    }
   ],
   "source": [
    "x.mean(axis=0)"
   ]
  },
  {
   "cell_type": "code",
   "execution_count": 89,
   "metadata": {
    "pycharm": {
     "name": "#%%\n"
    }
   },
   "outputs": [
    {
     "data": {
      "text/plain": [
       "array([[ 2.,  3.,  4.,  5.],\n",
       "       [10., 11., 12., 13.],\n",
       "       [18., 19., 20., 21.],\n",
       "       [26., 27., 28., 29.],\n",
       "       [34., 35., 36., 37.]])"
      ]
     },
     "execution_count": 89,
     "metadata": {},
     "output_type": "execute_result"
    }
   ],
   "source": [
    "x.mean(axis=1)"
   ]
  },
  {
   "cell_type": "markdown",
   "metadata": {},
   "source": []
  },
  {
   "cell_type": "code",
   "execution_count": 90,
   "metadata": {
    "pycharm": {
     "name": "#%%\n"
    }
   },
   "outputs": [
    {
     "data": {
      "text/plain": [
       "array([[ 1.5,  5.5],\n",
       "       [ 9.5, 13.5],\n",
       "       [17.5, 21.5],\n",
       "       [25.5, 29.5],\n",
       "       [33.5, 37.5]])"
      ]
     },
     "execution_count": 90,
     "metadata": {},
     "output_type": "execute_result"
    }
   ],
   "source": [
    "x.mean(axis=2)"
   ]
  },
  {
   "cell_type": "code",
   "execution_count": 91,
   "metadata": {
    "pycharm": {
     "name": "#%%\n"
    }
   },
   "outputs": [
    {
     "data": {
      "text/plain": [
       "array([17.5, 21.5])"
      ]
     },
     "execution_count": 91,
     "metadata": {},
     "output_type": "execute_result"
    }
   ],
   "source": [
    "x.mean(axis=(0,2))"
   ]
  },
  {
   "cell_type": "code",
   "execution_count": 92,
   "metadata": {
    "pycharm": {
     "name": "#%%\n"
    }
   },
   "outputs": [
    {
     "data": {
      "text/plain": [
       "np.float64(19.5)"
      ]
     },
     "execution_count": 92,
     "metadata": {},
     "output_type": "execute_result"
    }
   ],
   "source": [
    "x.mean(axis=(0,1,2))"
   ]
  },
  {
   "cell_type": "markdown",
   "metadata": {
    "pycharm": {
     "name": "#%% md\n"
    }
   },
   "source": [
    "### Конкатенация многомерных массивов\n",
    "\n",
    "Конкатенировать несколько массивом можно с помощью функций **np.concatenate, np.hstack, np.vstack, np.dstack**"
   ]
  },
  {
   "cell_type": "code",
   "execution_count": 97,
   "metadata": {
    "pycharm": {
     "name": "#%%\n"
    }
   },
   "outputs": [],
   "source": [
    "x = np.arange(10).reshape(5, 2)\n",
    "y = np.arange(100, 120).reshape(5, 4)"
   ]
  },
  {
   "cell_type": "code",
   "execution_count": 99,
   "metadata": {
    "pycharm": {
     "name": "#%%\n"
    }
   },
   "outputs": [
    {
     "data": {
      "text/plain": [
       "array([[0, 1],\n",
       "       [2, 3],\n",
       "       [4, 5],\n",
       "       [6, 7],\n",
       "       [8, 9]])"
      ]
     },
     "execution_count": 99,
     "metadata": {},
     "output_type": "execute_result"
    }
   ],
   "source": [
    "x"
   ]
  },
  {
   "cell_type": "code",
   "execution_count": 100,
   "metadata": {
    "pycharm": {
     "name": "#%%\n"
    }
   },
   "outputs": [
    {
     "data": {
      "text/plain": [
       "array([[100, 101, 102, 103],\n",
       "       [104, 105, 106, 107],\n",
       "       [108, 109, 110, 111],\n",
       "       [112, 113, 114, 115],\n",
       "       [116, 117, 118, 119]])"
      ]
     },
     "execution_count": 100,
     "metadata": {},
     "output_type": "execute_result"
    }
   ],
   "source": [
    "y"
   ]
  },
  {
   "cell_type": "code",
   "execution_count": 96,
   "metadata": {
    "pycharm": {
     "name": "#%%\n"
    }
   },
   "outputs": [
    {
     "data": {
      "text/plain": [
       "(5, 6)"
      ]
     },
     "execution_count": 96,
     "metadata": {},
     "output_type": "execute_result"
    }
   ],
   "source": [
    "np.hstack((x, y)).shape"
   ]
  },
  {
   "cell_type": "code",
   "execution_count": 101,
   "metadata": {},
   "outputs": [],
   "source": [
    "x = np.ones([2, 3])\n",
    "y = np.zeros([2, 2])"
   ]
  },
  {
   "cell_type": "code",
   "execution_count": 102,
   "metadata": {
    "scrolled": true
   },
   "outputs": [
    {
     "name": "stdout",
     "output_type": "stream",
     "text": [
      "(2, 5)\n"
     ]
    }
   ],
   "source": [
    "# Какой будет результат\n",
    "print(np.hstack((x,y)).shape)"
   ]
  },
  {
   "cell_type": "code",
   "execution_count": 103,
   "metadata": {},
   "outputs": [
    {
     "ename": "ValueError",
     "evalue": "all the input array dimensions except for the concatenation axis must match exactly, but along dimension 1, the array at index 0 has size 3 and the array at index 1 has size 2",
     "output_type": "error",
     "traceback": [
      "\u001b[0;31m---------------------------------------------------------------------------\u001b[0m",
      "\u001b[0;31mValueError\u001b[0m                                Traceback (most recent call last)",
      "Cell \u001b[0;32mIn[103], line 2\u001b[0m\n\u001b[1;32m      1\u001b[0m \u001b[38;5;66;03m# Какой будет результат\u001b[39;00m\n\u001b[0;32m----> 2\u001b[0m \u001b[38;5;28mprint\u001b[39m(\u001b[43mnp\u001b[49m\u001b[38;5;241;43m.\u001b[39;49m\u001b[43mvstack\u001b[49m\u001b[43m(\u001b[49m\u001b[43m(\u001b[49m\u001b[43mx\u001b[49m\u001b[43m,\u001b[49m\u001b[43my\u001b[49m\u001b[43m)\u001b[49m\u001b[43m)\u001b[49m\u001b[38;5;241m.\u001b[39mshape)\n",
      "File \u001b[0;32m~/.pyenv/versions/3.9.15/envs/myenv/lib/python3.9/site-packages/numpy/_core/shape_base.py:287\u001b[0m, in \u001b[0;36mvstack\u001b[0;34m(tup, dtype, casting)\u001b[0m\n\u001b[1;32m    285\u001b[0m \u001b[38;5;28;01mif\u001b[39;00m \u001b[38;5;129;01mnot\u001b[39;00m \u001b[38;5;28misinstance\u001b[39m(arrs, \u001b[38;5;28mtuple\u001b[39m):\n\u001b[1;32m    286\u001b[0m     arrs \u001b[38;5;241m=\u001b[39m (arrs,)\n\u001b[0;32m--> 287\u001b[0m \u001b[38;5;28;01mreturn\u001b[39;00m \u001b[43m_nx\u001b[49m\u001b[38;5;241;43m.\u001b[39;49m\u001b[43mconcatenate\u001b[49m\u001b[43m(\u001b[49m\u001b[43marrs\u001b[49m\u001b[43m,\u001b[49m\u001b[43m \u001b[49m\u001b[38;5;241;43m0\u001b[39;49m\u001b[43m,\u001b[49m\u001b[43m \u001b[49m\u001b[43mdtype\u001b[49m\u001b[38;5;241;43m=\u001b[39;49m\u001b[43mdtype\u001b[49m\u001b[43m,\u001b[49m\u001b[43m \u001b[49m\u001b[43mcasting\u001b[49m\u001b[38;5;241;43m=\u001b[39;49m\u001b[43mcasting\u001b[49m\u001b[43m)\u001b[49m\n",
      "\u001b[0;31mValueError\u001b[0m: all the input array dimensions except for the concatenation axis must match exactly, but along dimension 1, the array at index 0 has size 3 and the array at index 1 has size 2"
     ]
    }
   ],
   "source": [
    "# Какой будет результат\n",
    "print(np.vstack((x,y)).shape)"
   ]
  },
  {
   "cell_type": "code",
   "execution_count": 104,
   "metadata": {
    "pycharm": {
     "name": "#%%\n"
    }
   },
   "outputs": [
    {
     "data": {
      "text/plain": [
       "array([[[[0]]]])"
      ]
     },
     "execution_count": 104,
     "metadata": {},
     "output_type": "execute_result"
    }
   ],
   "source": [
    "p = np.arange(1).reshape([1, 1, 1, 1])\n",
    "p"
   ]
  },
  {
   "cell_type": "code",
   "execution_count": 105,
   "metadata": {
    "pycharm": {
     "name": "#%%\n"
    }
   },
   "outputs": [
    {
     "name": "stdout",
     "output_type": "stream",
     "text": [
      "vstack:  (2, 1, 1, 1)\n",
      "hstack:  (1, 2, 1, 1)\n",
      "dstack:  (1, 1, 2, 1)\n",
      "concatenate:  (1, 1, 1, 2)\n"
     ]
    }
   ],
   "source": [
    "print(\"vstack: \", np.vstack((p, p)).shape)\n",
    "print(\"hstack: \", np.hstack((p, p)).shape)\n",
    "print(\"dstack: \", np.dstack((p, p)).shape)\n",
    "print(\"concatenate: \", np.concatenate((p, p), axis=3).shape)"
   ]
  },
  {
   "cell_type": "markdown",
   "metadata": {
    "pycharm": {
     "name": "#%% md\n"
    }
   },
   "source": [
    "### Типы"
   ]
  },
  {
   "cell_type": "code",
   "execution_count": 106,
   "metadata": {
    "pycharm": {
     "name": "#%%\n"
    }
   },
   "outputs": [],
   "source": [
    "x = [1, 2, 70000]"
   ]
  },
  {
   "cell_type": "code",
   "execution_count": 107,
   "metadata": {
    "pycharm": {
     "name": "#%%\n"
    }
   },
   "outputs": [
    {
     "data": {
      "text/plain": [
       "array([1.e+00, 2.e+00, 7.e+04], dtype=float32)"
      ]
     },
     "execution_count": 107,
     "metadata": {},
     "output_type": "execute_result"
    }
   ],
   "source": [
    "np.array(x, dtype=np.float32)"
   ]
  },
  {
   "cell_type": "code",
   "execution_count": 108,
   "metadata": {
    "pycharm": {
     "name": "#%%\n"
    }
   },
   "outputs": [
    {
     "ename": "OverflowError",
     "evalue": "Python integer 70000 out of bounds for uint16",
     "output_type": "error",
     "traceback": [
      "\u001b[0;31m---------------------------------------------------------------------------\u001b[0m",
      "\u001b[0;31mOverflowError\u001b[0m                             Traceback (most recent call last)",
      "Cell \u001b[0;32mIn[108], line 1\u001b[0m\n\u001b[0;32m----> 1\u001b[0m \u001b[43mnp\u001b[49m\u001b[38;5;241;43m.\u001b[39;49m\u001b[43marray\u001b[49m\u001b[43m(\u001b[49m\u001b[43mx\u001b[49m\u001b[43m,\u001b[49m\u001b[43m \u001b[49m\u001b[43mdtype\u001b[49m\u001b[38;5;241;43m=\u001b[39;49m\u001b[43mnp\u001b[49m\u001b[38;5;241;43m.\u001b[39;49m\u001b[43muint16\u001b[49m\u001b[43m)\u001b[49m\n",
      "\u001b[0;31mOverflowError\u001b[0m: Python integer 70000 out of bounds for uint16"
     ]
    }
   ],
   "source": [
    "np.array(x, dtype=np.uint16)"
   ]
  },
  {
   "cell_type": "code",
   "execution_count": 109,
   "metadata": {
    "pycharm": {
     "name": "#%%\n"
    }
   },
   "outputs": [
    {
     "data": {
      "text/plain": [
       "array(['1', '2', '70000'], dtype='<U5')"
      ]
     },
     "execution_count": 109,
     "metadata": {},
     "output_type": "execute_result"
    }
   ],
   "source": [
    "np.array(x, dtype=np.str_)"
   ]
  },
  {
   "cell_type": "markdown",
   "metadata": {},
   "source": [
    "### [Типизация](https://numpy.org/devdocs/reference/typing.html)"
   ]
  },
  {
   "cell_type": "code",
   "execution_count": 110,
   "metadata": {},
   "outputs": [],
   "source": [
    "import numpy.typing as npt"
   ]
  },
  {
   "cell_type": "code",
   "execution_count": 111,
   "metadata": {},
   "outputs": [],
   "source": [
    "# !pip install typecheck"
   ]
  },
  {
   "cell_type": "code",
   "execution_count": 112,
   "metadata": {},
   "outputs": [
    {
     "name": "stdout",
     "output_type": "stream",
     "text": [
      "The typeguard module is not an IPython extension.\n"
     ]
    }
   ],
   "source": [
    "%load_ext typeguard"
   ]
  },
  {
   "cell_type": "code",
   "execution_count": 114,
   "metadata": {},
   "outputs": [
    {
     "data": {
      "text/plain": [
       "array([1, 2, 3])"
      ]
     },
     "execution_count": 114,
     "metadata": {},
     "output_type": "execute_result"
    }
   ],
   "source": [
    "# %%typecheck\n",
    "\n",
    "# !pip install typeguard\n",
    "\n",
    "# from typeguard import typechecked\n",
    "# %load_ext typeguard\n",
    "\n",
    "import numpy as np\n",
    "import numpy.typing as npt\n",
    "\n",
    "# @typechecked\n",
    "def as_array(a: npt.ArrayLike) -> npt.NDArray[np.int_]:\n",
    "    return np.array(a)\n",
    "\n",
    "as_array([1,2,3])"
   ]
  },
  {
   "cell_type": "markdown",
   "metadata": {},
   "source": [
    "* npt.ArrayLike - объекты, которые могут быть скастованы в ndarray (константы, последовательности, объекты с методом \\__array__)\n",
    "* npt.DTypeLike - объекты, которые могут быть скастованы в np.dtype\n",
    "* npt.NDArray - массивы np.ndarray с определённым типом и неопределённой размерностью"
   ]
  },
  {
   "cell_type": "code",
   "execution_count": 115,
   "metadata": {},
   "outputs": [
    {
     "name": "stderr",
     "output_type": "stream",
     "text": [
      "UsageError: Cell magic `%%typecheck` not found.\n"
     ]
    }
   ],
   "source": [
    "%%typecheck\n",
    "\n",
    "import numpy as np\n",
    "import numpy.typing as npt\n",
    "\n",
    "def as_array(a: npt.ArrayLike) -> list[float]:\n",
    "    return list(a)\n",
    "\n",
    "as_array([1,2,3])"
   ]
  },
  {
   "cell_type": "code",
   "execution_count": 116,
   "metadata": {},
   "outputs": [
    {
     "name": "stderr",
     "output_type": "stream",
     "text": [
      "UsageError: Cell magic `%%typecheck` not found.\n"
     ]
    }
   ],
   "source": [
    "%%typecheck\n",
    "\n",
    "import numpy as np\n",
    "import numpy.typing as npt\n",
    "\n",
    "def as_array(a: npt.ArrayLike) -> npt.NDArray[np.float_]:\n",
    "    return np.array(a, dtype=np.int64)\n",
    "\n",
    "as_array([1,2,3])"
   ]
  },
  {
   "cell_type": "markdown",
   "metadata": {
    "pycharm": {
     "name": "#%% md\n"
    }
   },
   "source": [
    "### Функциональное программирование"
   ]
  },
  {
   "cell_type": "code",
   "execution_count": 117,
   "metadata": {
    "pycharm": {
     "name": "#%%\n"
    }
   },
   "outputs": [],
   "source": [
    "def f(value):\n",
    "    return np.sqrt(value)"
   ]
  },
  {
   "cell_type": "code",
   "execution_count": 118,
   "metadata": {
    "pycharm": {
     "name": "#%%\n"
    }
   },
   "outputs": [
    {
     "name": "stdout",
     "output_type": "stream",
     "text": [
      "[0.         1.         1.41421356 1.73205081 2.         2.23606798\n",
      " 2.44948974 2.64575131 2.82842712 3.        ]\n"
     ]
    }
   ],
   "source": [
    "print(np.apply_along_axis(f, 0, np.arange(10)))"
   ]
  },
  {
   "cell_type": "code",
   "execution_count": 119,
   "metadata": {},
   "outputs": [],
   "source": [
    "vf = np.vectorize(f) # удобно для записи, но под капотом python цикл"
   ]
  },
  {
   "cell_type": "code",
   "execution_count": 120,
   "metadata": {},
   "outputs": [
    {
     "name": "stdout",
     "output_type": "stream",
     "text": [
      "65.7 ms ± 387 µs per loop (mean ± std. dev. of 7 runs, 10 loops each)\n"
     ]
    }
   ],
   "source": [
    "%%timeit\n",
    "vf(np.arange(100000))"
   ]
  },
  {
   "cell_type": "code",
   "execution_count": 121,
   "metadata": {},
   "outputs": [
    {
     "name": "stdout",
     "output_type": "stream",
     "text": [
      "184 µs ± 4.03 µs per loop (mean ± std. dev. of 7 runs, 10,000 loops each)\n"
     ]
    }
   ],
   "source": [
    "%%timeit\n",
    "np.apply_along_axis(f, 0, np.arange(100000))"
   ]
  },
  {
   "cell_type": "code",
   "execution_count": 122,
   "metadata": {},
   "outputs": [
    {
     "name": "stdout",
     "output_type": "stream",
     "text": [
      "70.8 ms ± 447 µs per loop (mean ± std. dev. of 7 runs, 10 loops each)\n"
     ]
    }
   ],
   "source": [
    "%%timeit\n",
    "np.array([f(v) for v in np.arange(100000)])"
   ]
  },
  {
   "cell_type": "code",
   "execution_count": 123,
   "metadata": {},
   "outputs": [
    {
     "name": "stdout",
     "output_type": "stream",
     "text": [
      "104 µs ± 2.42 µs per loop (mean ± std. dev. of 7 runs, 10,000 loops each)\n"
     ]
    }
   ],
   "source": [
    "%%timeit\n",
    "np.sqrt(np.arange(100000))"
   ]
  },
  {
   "cell_type": "markdown",
   "metadata": {
    "pycharm": {
     "name": "#%% md\n"
    }
   },
   "source": [
    "## [Pandas](https://pandas.pydata.org/docs/)\n",
    "\n",
    "Подключаем библиотеку Pandas, предназначенную для считывания, предобработки и быстрой визуализации данных, а также для простой аналитики."
   ]
  },
  {
   "cell_type": "markdown",
   "metadata": {},
   "source": [
    "<div class=\"alert alert-info\">\n",
    "    <b>Замечание:</b> Существует быстрый способ читать\\писать табличные данные. Подробнее: <a href='https://habr.com/ru/company/wrike/blog/279797/'> паркет </a>\n",
    "\n",
    "</div>\n"
   ]
  },
  {
   "cell_type": "code",
   "execution_count": 128,
   "metadata": {
    "pycharm": {
     "name": "#%%\n"
    }
   },
   "outputs": [],
   "source": [
    "import pandas as pd\n",
    "# del df\n",
    "df = pd.read_csv(\"titanic.csv\")"
   ]
  },
  {
   "cell_type": "code",
   "execution_count": 129,
   "metadata": {},
   "outputs": [
    {
     "data": {
      "text/plain": [
       "156"
      ]
     },
     "execution_count": 129,
     "metadata": {},
     "output_type": "execute_result"
    }
   ],
   "source": [
    "len(df)"
   ]
  },
  {
   "cell_type": "code",
   "execution_count": 131,
   "metadata": {
    "pycharm": {
     "name": "#%%\n"
    }
   },
   "outputs": [
    {
     "data": {
      "text/html": [
       "<div>\n",
       "<style scoped>\n",
       "    .dataframe tbody tr th:only-of-type {\n",
       "        vertical-align: middle;\n",
       "    }\n",
       "\n",
       "    .dataframe tbody tr th {\n",
       "        vertical-align: top;\n",
       "    }\n",
       "\n",
       "    .dataframe thead th {\n",
       "        text-align: right;\n",
       "    }\n",
       "</style>\n",
       "<table border=\"1\" class=\"dataframe\">\n",
       "  <thead>\n",
       "    <tr style=\"text-align: right;\">\n",
       "      <th></th>\n",
       "      <th>PassengerId</th>\n",
       "      <th>Survived</th>\n",
       "      <th>Pclass</th>\n",
       "      <th>Lname</th>\n",
       "      <th>Name</th>\n",
       "      <th>Sex</th>\n",
       "      <th>Age</th>\n",
       "      <th>SibSp</th>\n",
       "      <th>Parch</th>\n",
       "      <th>Ticket</th>\n",
       "      <th>Fare</th>\n",
       "      <th>Cabin</th>\n",
       "      <th>Embarked</th>\n",
       "    </tr>\n",
       "  </thead>\n",
       "  <tbody>\n",
       "    <tr>\n",
       "      <th>0</th>\n",
       "      <td>1</td>\n",
       "      <td>0</td>\n",
       "      <td>3</td>\n",
       "      <td>Braund</td>\n",
       "      <td>Mr. Owen Harris</td>\n",
       "      <td>male</td>\n",
       "      <td>22.0</td>\n",
       "      <td>1</td>\n",
       "      <td>0</td>\n",
       "      <td>A/5 21171</td>\n",
       "      <td>7.2500</td>\n",
       "      <td>NaN</td>\n",
       "      <td>S</td>\n",
       "    </tr>\n",
       "    <tr>\n",
       "      <th>1</th>\n",
       "      <td>2</td>\n",
       "      <td>1</td>\n",
       "      <td>1</td>\n",
       "      <td>Cumings</td>\n",
       "      <td>Mrs. John Bradley (Florence Briggs Thayer)</td>\n",
       "      <td>female</td>\n",
       "      <td>38.0</td>\n",
       "      <td>1</td>\n",
       "      <td>0</td>\n",
       "      <td>PC 17599</td>\n",
       "      <td>71.2833</td>\n",
       "      <td>C85</td>\n",
       "      <td>C</td>\n",
       "    </tr>\n",
       "    <tr>\n",
       "      <th>2</th>\n",
       "      <td>3</td>\n",
       "      <td>1</td>\n",
       "      <td>3</td>\n",
       "      <td>Heikkinen</td>\n",
       "      <td>Miss. Laina</td>\n",
       "      <td>female</td>\n",
       "      <td>26.0</td>\n",
       "      <td>0</td>\n",
       "      <td>0</td>\n",
       "      <td>STON/O2. 3101282</td>\n",
       "      <td>7.9250</td>\n",
       "      <td>NaN</td>\n",
       "      <td>S</td>\n",
       "    </tr>\n",
       "    <tr>\n",
       "      <th>3</th>\n",
       "      <td>4</td>\n",
       "      <td>1</td>\n",
       "      <td>1</td>\n",
       "      <td>Futrelle</td>\n",
       "      <td>Mrs. Jacques Heath (Lily May Peel)</td>\n",
       "      <td>female</td>\n",
       "      <td>35.0</td>\n",
       "      <td>1</td>\n",
       "      <td>0</td>\n",
       "      <td>113803</td>\n",
       "      <td>53.1000</td>\n",
       "      <td>C123</td>\n",
       "      <td>S</td>\n",
       "    </tr>\n",
       "    <tr>\n",
       "      <th>4</th>\n",
       "      <td>5</td>\n",
       "      <td>0</td>\n",
       "      <td>3</td>\n",
       "      <td>Allen</td>\n",
       "      <td>Mr. William Henry</td>\n",
       "      <td>male</td>\n",
       "      <td>35.0</td>\n",
       "      <td>0</td>\n",
       "      <td>0</td>\n",
       "      <td>373450</td>\n",
       "      <td>8.0500</td>\n",
       "      <td>NaN</td>\n",
       "      <td>S</td>\n",
       "    </tr>\n",
       "  </tbody>\n",
       "</table>\n",
       "</div>"
      ],
      "text/plain": [
       "   PassengerId  Survived  Pclass      Lname  \\\n",
       "0            1         0       3     Braund   \n",
       "1            2         1       1    Cumings   \n",
       "2            3         1       3  Heikkinen   \n",
       "3            4         1       1   Futrelle   \n",
       "4            5         0       3      Allen   \n",
       "\n",
       "                                          Name     Sex   Age  SibSp  Parch  \\\n",
       "0                              Mr. Owen Harris    male  22.0      1      0   \n",
       "1   Mrs. John Bradley (Florence Briggs Thayer)  female  38.0      1      0   \n",
       "2                                  Miss. Laina  female  26.0      0      0   \n",
       "3           Mrs. Jacques Heath (Lily May Peel)  female  35.0      1      0   \n",
       "4                            Mr. William Henry    male  35.0      0      0   \n",
       "\n",
       "             Ticket     Fare Cabin Embarked  \n",
       "0         A/5 21171   7.2500   NaN        S  \n",
       "1          PC 17599  71.2833   C85        C  \n",
       "2  STON/O2. 3101282   7.9250   NaN        S  \n",
       "3            113803  53.1000  C123        S  \n",
       "4            373450   8.0500   NaN        S  "
      ]
     },
     "execution_count": 131,
     "metadata": {},
     "output_type": "execute_result"
    }
   ],
   "source": [
    "df.head(5)"
   ]
  },
  {
   "cell_type": "code",
   "execution_count": 132,
   "metadata": {},
   "outputs": [
    {
     "data": {
      "text/plain": [
       "0      False\n",
       "1       True\n",
       "2       True\n",
       "3       True\n",
       "4      False\n",
       "       ...  \n",
       "151     True\n",
       "152    False\n",
       "153    False\n",
       "154    False\n",
       "155    False\n",
       "Name: Sex, Length: 156, dtype: bool"
      ]
     },
     "execution_count": 132,
     "metadata": {},
     "output_type": "execute_result"
    }
   ],
   "source": [
    "df['Sex'] == 'female'"
   ]
  },
  {
   "cell_type": "code",
   "execution_count": 133,
   "metadata": {},
   "outputs": [
    {
     "data": {
      "text/html": [
       "<div>\n",
       "<style scoped>\n",
       "    .dataframe tbody tr th:only-of-type {\n",
       "        vertical-align: middle;\n",
       "    }\n",
       "\n",
       "    .dataframe tbody tr th {\n",
       "        vertical-align: top;\n",
       "    }\n",
       "\n",
       "    .dataframe thead th {\n",
       "        text-align: right;\n",
       "    }\n",
       "</style>\n",
       "<table border=\"1\" class=\"dataframe\">\n",
       "  <thead>\n",
       "    <tr style=\"text-align: right;\">\n",
       "      <th></th>\n",
       "      <th>PassengerId</th>\n",
       "      <th>Survived</th>\n",
       "      <th>Pclass</th>\n",
       "      <th>Lname</th>\n",
       "      <th>Name</th>\n",
       "      <th>Sex</th>\n",
       "      <th>Age</th>\n",
       "      <th>SibSp</th>\n",
       "      <th>Parch</th>\n",
       "      <th>Ticket</th>\n",
       "      <th>Fare</th>\n",
       "      <th>Cabin</th>\n",
       "      <th>Embarked</th>\n",
       "    </tr>\n",
       "  </thead>\n",
       "  <tbody>\n",
       "    <tr>\n",
       "      <th>1</th>\n",
       "      <td>2</td>\n",
       "      <td>1</td>\n",
       "      <td>1</td>\n",
       "      <td>Cumings</td>\n",
       "      <td>Mrs. John Bradley (Florence Briggs Thayer)</td>\n",
       "      <td>female</td>\n",
       "      <td>38.0</td>\n",
       "      <td>1</td>\n",
       "      <td>0</td>\n",
       "      <td>PC 17599</td>\n",
       "      <td>71.2833</td>\n",
       "      <td>C85</td>\n",
       "      <td>C</td>\n",
       "    </tr>\n",
       "    <tr>\n",
       "      <th>2</th>\n",
       "      <td>3</td>\n",
       "      <td>1</td>\n",
       "      <td>3</td>\n",
       "      <td>Heikkinen</td>\n",
       "      <td>Miss. Laina</td>\n",
       "      <td>female</td>\n",
       "      <td>26.0</td>\n",
       "      <td>0</td>\n",
       "      <td>0</td>\n",
       "      <td>STON/O2. 3101282</td>\n",
       "      <td>7.9250</td>\n",
       "      <td>NaN</td>\n",
       "      <td>S</td>\n",
       "    </tr>\n",
       "    <tr>\n",
       "      <th>3</th>\n",
       "      <td>4</td>\n",
       "      <td>1</td>\n",
       "      <td>1</td>\n",
       "      <td>Futrelle</td>\n",
       "      <td>Mrs. Jacques Heath (Lily May Peel)</td>\n",
       "      <td>female</td>\n",
       "      <td>35.0</td>\n",
       "      <td>1</td>\n",
       "      <td>0</td>\n",
       "      <td>113803</td>\n",
       "      <td>53.1000</td>\n",
       "      <td>C123</td>\n",
       "      <td>S</td>\n",
       "    </tr>\n",
       "    <tr>\n",
       "      <th>8</th>\n",
       "      <td>9</td>\n",
       "      <td>1</td>\n",
       "      <td>3</td>\n",
       "      <td>Johnson</td>\n",
       "      <td>Mrs. Oscar W (Elisabeth Vilhelmina Berg)</td>\n",
       "      <td>female</td>\n",
       "      <td>27.0</td>\n",
       "      <td>0</td>\n",
       "      <td>2</td>\n",
       "      <td>347742</td>\n",
       "      <td>11.1333</td>\n",
       "      <td>NaN</td>\n",
       "      <td>S</td>\n",
       "    </tr>\n",
       "    <tr>\n",
       "      <th>9</th>\n",
       "      <td>10</td>\n",
       "      <td>1</td>\n",
       "      <td>2</td>\n",
       "      <td>Nasser</td>\n",
       "      <td>Mrs. Nicholas (Adele Achem)</td>\n",
       "      <td>female</td>\n",
       "      <td>14.0</td>\n",
       "      <td>1</td>\n",
       "      <td>0</td>\n",
       "      <td>237736</td>\n",
       "      <td>30.0708</td>\n",
       "      <td>NaN</td>\n",
       "      <td>C</td>\n",
       "    </tr>\n",
       "    <tr>\n",
       "      <th>10</th>\n",
       "      <td>11</td>\n",
       "      <td>1</td>\n",
       "      <td>3</td>\n",
       "      <td>Sandstrom</td>\n",
       "      <td>Miss. Marguerite Rut</td>\n",
       "      <td>female</td>\n",
       "      <td>4.0</td>\n",
       "      <td>1</td>\n",
       "      <td>1</td>\n",
       "      <td>PP 9549</td>\n",
       "      <td>16.7000</td>\n",
       "      <td>G6</td>\n",
       "      <td>S</td>\n",
       "    </tr>\n",
       "    <tr>\n",
       "      <th>11</th>\n",
       "      <td>12</td>\n",
       "      <td>1</td>\n",
       "      <td>1</td>\n",
       "      <td>Bonnell</td>\n",
       "      <td>Miss. Elizabeth</td>\n",
       "      <td>female</td>\n",
       "      <td>58.0</td>\n",
       "      <td>0</td>\n",
       "      <td>0</td>\n",
       "      <td>113783</td>\n",
       "      <td>26.5500</td>\n",
       "      <td>C103</td>\n",
       "      <td>S</td>\n",
       "    </tr>\n",
       "    <tr>\n",
       "      <th>14</th>\n",
       "      <td>15</td>\n",
       "      <td>0</td>\n",
       "      <td>3</td>\n",
       "      <td>Vestrom</td>\n",
       "      <td>Miss. Hulda Amanda Adolfina</td>\n",
       "      <td>female</td>\n",
       "      <td>14.0</td>\n",
       "      <td>0</td>\n",
       "      <td>0</td>\n",
       "      <td>350406</td>\n",
       "      <td>7.8542</td>\n",
       "      <td>NaN</td>\n",
       "      <td>S</td>\n",
       "    </tr>\n",
       "    <tr>\n",
       "      <th>15</th>\n",
       "      <td>16</td>\n",
       "      <td>1</td>\n",
       "      <td>2</td>\n",
       "      <td>Hewlett</td>\n",
       "      <td>Mrs. (Mary D Kingcome)</td>\n",
       "      <td>female</td>\n",
       "      <td>55.0</td>\n",
       "      <td>0</td>\n",
       "      <td>0</td>\n",
       "      <td>248706</td>\n",
       "      <td>16.0000</td>\n",
       "      <td>NaN</td>\n",
       "      <td>S</td>\n",
       "    </tr>\n",
       "    <tr>\n",
       "      <th>18</th>\n",
       "      <td>19</td>\n",
       "      <td>0</td>\n",
       "      <td>3</td>\n",
       "      <td>Vander Planke</td>\n",
       "      <td>Mrs. Julius (Emelia Maria Vandemoortele)</td>\n",
       "      <td>female</td>\n",
       "      <td>31.0</td>\n",
       "      <td>1</td>\n",
       "      <td>0</td>\n",
       "      <td>345763</td>\n",
       "      <td>18.0000</td>\n",
       "      <td>NaN</td>\n",
       "      <td>S</td>\n",
       "    </tr>\n",
       "    <tr>\n",
       "      <th>19</th>\n",
       "      <td>20</td>\n",
       "      <td>1</td>\n",
       "      <td>3</td>\n",
       "      <td>Masselmani</td>\n",
       "      <td>Mrs. Fatima</td>\n",
       "      <td>female</td>\n",
       "      <td>NaN</td>\n",
       "      <td>0</td>\n",
       "      <td>0</td>\n",
       "      <td>2649</td>\n",
       "      <td>7.2250</td>\n",
       "      <td>NaN</td>\n",
       "      <td>C</td>\n",
       "    </tr>\n",
       "    <tr>\n",
       "      <th>22</th>\n",
       "      <td>23</td>\n",
       "      <td>1</td>\n",
       "      <td>3</td>\n",
       "      <td>McGowan</td>\n",
       "      <td>Miss. Anna</td>\n",
       "      <td>female</td>\n",
       "      <td>15.0</td>\n",
       "      <td>0</td>\n",
       "      <td>0</td>\n",
       "      <td>330923</td>\n",
       "      <td>8.0292</td>\n",
       "      <td>NaN</td>\n",
       "      <td>Q</td>\n",
       "    </tr>\n",
       "    <tr>\n",
       "      <th>24</th>\n",
       "      <td>25</td>\n",
       "      <td>0</td>\n",
       "      <td>3</td>\n",
       "      <td>Palsson</td>\n",
       "      <td>Miss. Torborg Danira</td>\n",
       "      <td>female</td>\n",
       "      <td>8.0</td>\n",
       "      <td>3</td>\n",
       "      <td>1</td>\n",
       "      <td>349909</td>\n",
       "      <td>21.0750</td>\n",
       "      <td>NaN</td>\n",
       "      <td>S</td>\n",
       "    </tr>\n",
       "    <tr>\n",
       "      <th>25</th>\n",
       "      <td>26</td>\n",
       "      <td>1</td>\n",
       "      <td>3</td>\n",
       "      <td>Asplund</td>\n",
       "      <td>Mrs. Carl Oscar (Selma Augusta Emilia Johansson)</td>\n",
       "      <td>female</td>\n",
       "      <td>38.0</td>\n",
       "      <td>1</td>\n",
       "      <td>5</td>\n",
       "      <td>347077</td>\n",
       "      <td>31.3875</td>\n",
       "      <td>NaN</td>\n",
       "      <td>S</td>\n",
       "    </tr>\n",
       "    <tr>\n",
       "      <th>28</th>\n",
       "      <td>29</td>\n",
       "      <td>1</td>\n",
       "      <td>3</td>\n",
       "      <td>O'Dwyer</td>\n",
       "      <td>Miss. Ellen</td>\n",
       "      <td>female</td>\n",
       "      <td>NaN</td>\n",
       "      <td>0</td>\n",
       "      <td>0</td>\n",
       "      <td>330959</td>\n",
       "      <td>7.8792</td>\n",
       "      <td>NaN</td>\n",
       "      <td>Q</td>\n",
       "    </tr>\n",
       "    <tr>\n",
       "      <th>31</th>\n",
       "      <td>32</td>\n",
       "      <td>1</td>\n",
       "      <td>1</td>\n",
       "      <td>Spencer</td>\n",
       "      <td>Mrs. William Augustus (Marie Eugenie)</td>\n",
       "      <td>female</td>\n",
       "      <td>NaN</td>\n",
       "      <td>1</td>\n",
       "      <td>0</td>\n",
       "      <td>PC 17569</td>\n",
       "      <td>146.5208</td>\n",
       "      <td>B78</td>\n",
       "      <td>C</td>\n",
       "    </tr>\n",
       "    <tr>\n",
       "      <th>32</th>\n",
       "      <td>33</td>\n",
       "      <td>1</td>\n",
       "      <td>3</td>\n",
       "      <td>Glynn</td>\n",
       "      <td>Miss. Mary Agatha</td>\n",
       "      <td>female</td>\n",
       "      <td>NaN</td>\n",
       "      <td>0</td>\n",
       "      <td>0</td>\n",
       "      <td>335677</td>\n",
       "      <td>7.7500</td>\n",
       "      <td>NaN</td>\n",
       "      <td>Q</td>\n",
       "    </tr>\n",
       "    <tr>\n",
       "      <th>38</th>\n",
       "      <td>39</td>\n",
       "      <td>0</td>\n",
       "      <td>3</td>\n",
       "      <td>Vander Planke</td>\n",
       "      <td>Miss. Augusta Maria</td>\n",
       "      <td>female</td>\n",
       "      <td>18.0</td>\n",
       "      <td>2</td>\n",
       "      <td>0</td>\n",
       "      <td>345764</td>\n",
       "      <td>18.0000</td>\n",
       "      <td>NaN</td>\n",
       "      <td>S</td>\n",
       "    </tr>\n",
       "    <tr>\n",
       "      <th>39</th>\n",
       "      <td>40</td>\n",
       "      <td>1</td>\n",
       "      <td>3</td>\n",
       "      <td>Nicola-Yarred</td>\n",
       "      <td>Miss. Jamila</td>\n",
       "      <td>female</td>\n",
       "      <td>14.0</td>\n",
       "      <td>1</td>\n",
       "      <td>0</td>\n",
       "      <td>2651</td>\n",
       "      <td>11.2417</td>\n",
       "      <td>NaN</td>\n",
       "      <td>C</td>\n",
       "    </tr>\n",
       "    <tr>\n",
       "      <th>40</th>\n",
       "      <td>41</td>\n",
       "      <td>0</td>\n",
       "      <td>3</td>\n",
       "      <td>Ahlin</td>\n",
       "      <td>Mrs. Johan (Johanna Persdotter Larsson)</td>\n",
       "      <td>female</td>\n",
       "      <td>40.0</td>\n",
       "      <td>1</td>\n",
       "      <td>0</td>\n",
       "      <td>7546</td>\n",
       "      <td>9.4750</td>\n",
       "      <td>NaN</td>\n",
       "      <td>S</td>\n",
       "    </tr>\n",
       "    <tr>\n",
       "      <th>41</th>\n",
       "      <td>42</td>\n",
       "      <td>0</td>\n",
       "      <td>2</td>\n",
       "      <td>Turpin</td>\n",
       "      <td>Mrs. William John Robert (Dorothy Ann Wonnacott)</td>\n",
       "      <td>female</td>\n",
       "      <td>27.0</td>\n",
       "      <td>1</td>\n",
       "      <td>0</td>\n",
       "      <td>11668</td>\n",
       "      <td>21.0000</td>\n",
       "      <td>NaN</td>\n",
       "      <td>S</td>\n",
       "    </tr>\n",
       "    <tr>\n",
       "      <th>43</th>\n",
       "      <td>44</td>\n",
       "      <td>1</td>\n",
       "      <td>2</td>\n",
       "      <td>Laroche</td>\n",
       "      <td>Miss. Simonne Marie Anne Andree</td>\n",
       "      <td>female</td>\n",
       "      <td>3.0</td>\n",
       "      <td>1</td>\n",
       "      <td>2</td>\n",
       "      <td>SC/Paris 2123</td>\n",
       "      <td>41.5792</td>\n",
       "      <td>NaN</td>\n",
       "      <td>C</td>\n",
       "    </tr>\n",
       "    <tr>\n",
       "      <th>44</th>\n",
       "      <td>45</td>\n",
       "      <td>1</td>\n",
       "      <td>3</td>\n",
       "      <td>Devaney</td>\n",
       "      <td>Miss. Margaret Delia</td>\n",
       "      <td>female</td>\n",
       "      <td>19.0</td>\n",
       "      <td>0</td>\n",
       "      <td>0</td>\n",
       "      <td>330958</td>\n",
       "      <td>7.8792</td>\n",
       "      <td>NaN</td>\n",
       "      <td>Q</td>\n",
       "    </tr>\n",
       "    <tr>\n",
       "      <th>47</th>\n",
       "      <td>48</td>\n",
       "      <td>1</td>\n",
       "      <td>3</td>\n",
       "      <td>O'Driscoll</td>\n",
       "      <td>Miss. Bridget</td>\n",
       "      <td>female</td>\n",
       "      <td>NaN</td>\n",
       "      <td>0</td>\n",
       "      <td>0</td>\n",
       "      <td>14311</td>\n",
       "      <td>7.7500</td>\n",
       "      <td>NaN</td>\n",
       "      <td>Q</td>\n",
       "    </tr>\n",
       "    <tr>\n",
       "      <th>49</th>\n",
       "      <td>50</td>\n",
       "      <td>0</td>\n",
       "      <td>3</td>\n",
       "      <td>Arnold-Franchi</td>\n",
       "      <td>Mrs. Josef (Josefine Franchi)</td>\n",
       "      <td>female</td>\n",
       "      <td>18.0</td>\n",
       "      <td>1</td>\n",
       "      <td>0</td>\n",
       "      <td>349237</td>\n",
       "      <td>17.8000</td>\n",
       "      <td>NaN</td>\n",
       "      <td>S</td>\n",
       "    </tr>\n",
       "    <tr>\n",
       "      <th>52</th>\n",
       "      <td>53</td>\n",
       "      <td>1</td>\n",
       "      <td>1</td>\n",
       "      <td>Harper</td>\n",
       "      <td>Mrs. Henry Sleeper (Myna Haxtun)</td>\n",
       "      <td>female</td>\n",
       "      <td>49.0</td>\n",
       "      <td>1</td>\n",
       "      <td>0</td>\n",
       "      <td>PC 17572</td>\n",
       "      <td>76.7292</td>\n",
       "      <td>D33</td>\n",
       "      <td>C</td>\n",
       "    </tr>\n",
       "    <tr>\n",
       "      <th>53</th>\n",
       "      <td>54</td>\n",
       "      <td>1</td>\n",
       "      <td>2</td>\n",
       "      <td>Faunthorpe</td>\n",
       "      <td>Mrs. Lizzie (Elizabeth Anne Wilkinson)</td>\n",
       "      <td>female</td>\n",
       "      <td>29.0</td>\n",
       "      <td>1</td>\n",
       "      <td>0</td>\n",
       "      <td>2926</td>\n",
       "      <td>26.0000</td>\n",
       "      <td>NaN</td>\n",
       "      <td>S</td>\n",
       "    </tr>\n",
       "    <tr>\n",
       "      <th>56</th>\n",
       "      <td>57</td>\n",
       "      <td>1</td>\n",
       "      <td>2</td>\n",
       "      <td>Rugg</td>\n",
       "      <td>Miss. Emily</td>\n",
       "      <td>female</td>\n",
       "      <td>21.0</td>\n",
       "      <td>0</td>\n",
       "      <td>0</td>\n",
       "      <td>C.A. 31026</td>\n",
       "      <td>10.5000</td>\n",
       "      <td>NaN</td>\n",
       "      <td>S</td>\n",
       "    </tr>\n",
       "    <tr>\n",
       "      <th>58</th>\n",
       "      <td>59</td>\n",
       "      <td>1</td>\n",
       "      <td>2</td>\n",
       "      <td>West</td>\n",
       "      <td>Miss. Constance Mirium</td>\n",
       "      <td>female</td>\n",
       "      <td>5.0</td>\n",
       "      <td>1</td>\n",
       "      <td>2</td>\n",
       "      <td>C.A. 34651</td>\n",
       "      <td>27.7500</td>\n",
       "      <td>NaN</td>\n",
       "      <td>S</td>\n",
       "    </tr>\n",
       "    <tr>\n",
       "      <th>61</th>\n",
       "      <td>62</td>\n",
       "      <td>1</td>\n",
       "      <td>1</td>\n",
       "      <td>Icard</td>\n",
       "      <td>Miss. Amelie</td>\n",
       "      <td>female</td>\n",
       "      <td>38.0</td>\n",
       "      <td>0</td>\n",
       "      <td>0</td>\n",
       "      <td>113572</td>\n",
       "      <td>80.0000</td>\n",
       "      <td>B28</td>\n",
       "      <td>NaN</td>\n",
       "    </tr>\n",
       "    <tr>\n",
       "      <th>66</th>\n",
       "      <td>67</td>\n",
       "      <td>1</td>\n",
       "      <td>2</td>\n",
       "      <td>Nye</td>\n",
       "      <td>Mrs. (Elizabeth Ramell)</td>\n",
       "      <td>female</td>\n",
       "      <td>29.0</td>\n",
       "      <td>0</td>\n",
       "      <td>0</td>\n",
       "      <td>C.A. 29395</td>\n",
       "      <td>10.5000</td>\n",
       "      <td>F33</td>\n",
       "      <td>S</td>\n",
       "    </tr>\n",
       "    <tr>\n",
       "      <th>68</th>\n",
       "      <td>69</td>\n",
       "      <td>1</td>\n",
       "      <td>3</td>\n",
       "      <td>Andersson</td>\n",
       "      <td>Miss. Erna Alexandra</td>\n",
       "      <td>female</td>\n",
       "      <td>17.0</td>\n",
       "      <td>4</td>\n",
       "      <td>2</td>\n",
       "      <td>3101281</td>\n",
       "      <td>7.9250</td>\n",
       "      <td>NaN</td>\n",
       "      <td>S</td>\n",
       "    </tr>\n",
       "    <tr>\n",
       "      <th>71</th>\n",
       "      <td>72</td>\n",
       "      <td>0</td>\n",
       "      <td>3</td>\n",
       "      <td>Goodwin</td>\n",
       "      <td>Miss. Lillian Amy</td>\n",
       "      <td>female</td>\n",
       "      <td>16.0</td>\n",
       "      <td>5</td>\n",
       "      <td>2</td>\n",
       "      <td>CA 2144</td>\n",
       "      <td>46.9000</td>\n",
       "      <td>NaN</td>\n",
       "      <td>S</td>\n",
       "    </tr>\n",
       "    <tr>\n",
       "      <th>79</th>\n",
       "      <td>80</td>\n",
       "      <td>1</td>\n",
       "      <td>3</td>\n",
       "      <td>Dowdell</td>\n",
       "      <td>Miss. Elizabeth</td>\n",
       "      <td>female</td>\n",
       "      <td>30.0</td>\n",
       "      <td>0</td>\n",
       "      <td>0</td>\n",
       "      <td>364516</td>\n",
       "      <td>12.4750</td>\n",
       "      <td>NaN</td>\n",
       "      <td>S</td>\n",
       "    </tr>\n",
       "    <tr>\n",
       "      <th>82</th>\n",
       "      <td>83</td>\n",
       "      <td>1</td>\n",
       "      <td>3</td>\n",
       "      <td>McDermott</td>\n",
       "      <td>Miss. Brigdet Delia</td>\n",
       "      <td>female</td>\n",
       "      <td>NaN</td>\n",
       "      <td>0</td>\n",
       "      <td>0</td>\n",
       "      <td>330932</td>\n",
       "      <td>7.7875</td>\n",
       "      <td>NaN</td>\n",
       "      <td>Q</td>\n",
       "    </tr>\n",
       "    <tr>\n",
       "      <th>84</th>\n",
       "      <td>85</td>\n",
       "      <td>1</td>\n",
       "      <td>2</td>\n",
       "      <td>Ilett</td>\n",
       "      <td>Miss. Bertha</td>\n",
       "      <td>female</td>\n",
       "      <td>17.0</td>\n",
       "      <td>0</td>\n",
       "      <td>0</td>\n",
       "      <td>SO/C 14885</td>\n",
       "      <td>10.5000</td>\n",
       "      <td>NaN</td>\n",
       "      <td>S</td>\n",
       "    </tr>\n",
       "    <tr>\n",
       "      <th>85</th>\n",
       "      <td>86</td>\n",
       "      <td>1</td>\n",
       "      <td>3</td>\n",
       "      <td>Backstrom</td>\n",
       "      <td>Mrs. Karl Alfred (Maria Mathilda Gustafsson)</td>\n",
       "      <td>female</td>\n",
       "      <td>33.0</td>\n",
       "      <td>3</td>\n",
       "      <td>0</td>\n",
       "      <td>3101278</td>\n",
       "      <td>15.8500</td>\n",
       "      <td>NaN</td>\n",
       "      <td>S</td>\n",
       "    </tr>\n",
       "    <tr>\n",
       "      <th>88</th>\n",
       "      <td>89</td>\n",
       "      <td>1</td>\n",
       "      <td>1</td>\n",
       "      <td>Fortune</td>\n",
       "      <td>Miss. Mabel Helen</td>\n",
       "      <td>female</td>\n",
       "      <td>23.0</td>\n",
       "      <td>3</td>\n",
       "      <td>2</td>\n",
       "      <td>19950</td>\n",
       "      <td>263.0000</td>\n",
       "      <td>C23 C25 C27</td>\n",
       "      <td>S</td>\n",
       "    </tr>\n",
       "    <tr>\n",
       "      <th>98</th>\n",
       "      <td>99</td>\n",
       "      <td>1</td>\n",
       "      <td>2</td>\n",
       "      <td>Doling</td>\n",
       "      <td>Mrs. John T (Ada Julia Bone)</td>\n",
       "      <td>female</td>\n",
       "      <td>34.0</td>\n",
       "      <td>0</td>\n",
       "      <td>1</td>\n",
       "      <td>231919</td>\n",
       "      <td>23.0000</td>\n",
       "      <td>NaN</td>\n",
       "      <td>S</td>\n",
       "    </tr>\n",
       "    <tr>\n",
       "      <th>100</th>\n",
       "      <td>101</td>\n",
       "      <td>0</td>\n",
       "      <td>3</td>\n",
       "      <td>Petranec</td>\n",
       "      <td>Miss. Matilda</td>\n",
       "      <td>female</td>\n",
       "      <td>28.0</td>\n",
       "      <td>0</td>\n",
       "      <td>0</td>\n",
       "      <td>349245</td>\n",
       "      <td>7.8958</td>\n",
       "      <td>NaN</td>\n",
       "      <td>S</td>\n",
       "    </tr>\n",
       "    <tr>\n",
       "      <th>106</th>\n",
       "      <td>107</td>\n",
       "      <td>1</td>\n",
       "      <td>3</td>\n",
       "      <td>Salkjelsvik</td>\n",
       "      <td>Miss. Anna Kristine</td>\n",
       "      <td>female</td>\n",
       "      <td>21.0</td>\n",
       "      <td>0</td>\n",
       "      <td>0</td>\n",
       "      <td>343120</td>\n",
       "      <td>7.6500</td>\n",
       "      <td>NaN</td>\n",
       "      <td>S</td>\n",
       "    </tr>\n",
       "    <tr>\n",
       "      <th>109</th>\n",
       "      <td>110</td>\n",
       "      <td>1</td>\n",
       "      <td>3</td>\n",
       "      <td>Moran</td>\n",
       "      <td>Miss. Bertha</td>\n",
       "      <td>female</td>\n",
       "      <td>NaN</td>\n",
       "      <td>1</td>\n",
       "      <td>0</td>\n",
       "      <td>371110</td>\n",
       "      <td>24.1500</td>\n",
       "      <td>NaN</td>\n",
       "      <td>Q</td>\n",
       "    </tr>\n",
       "    <tr>\n",
       "      <th>111</th>\n",
       "      <td>112</td>\n",
       "      <td>0</td>\n",
       "      <td>3</td>\n",
       "      <td>Zabour</td>\n",
       "      <td>Miss. Hileni</td>\n",
       "      <td>female</td>\n",
       "      <td>14.5</td>\n",
       "      <td>1</td>\n",
       "      <td>0</td>\n",
       "      <td>2665</td>\n",
       "      <td>14.4542</td>\n",
       "      <td>NaN</td>\n",
       "      <td>C</td>\n",
       "    </tr>\n",
       "    <tr>\n",
       "      <th>113</th>\n",
       "      <td>114</td>\n",
       "      <td>0</td>\n",
       "      <td>3</td>\n",
       "      <td>Jussila</td>\n",
       "      <td>Miss. Katriina</td>\n",
       "      <td>female</td>\n",
       "      <td>20.0</td>\n",
       "      <td>1</td>\n",
       "      <td>0</td>\n",
       "      <td>4136</td>\n",
       "      <td>9.8250</td>\n",
       "      <td>NaN</td>\n",
       "      <td>S</td>\n",
       "    </tr>\n",
       "    <tr>\n",
       "      <th>114</th>\n",
       "      <td>115</td>\n",
       "      <td>0</td>\n",
       "      <td>3</td>\n",
       "      <td>Attalah</td>\n",
       "      <td>Miss. Malake</td>\n",
       "      <td>female</td>\n",
       "      <td>17.0</td>\n",
       "      <td>0</td>\n",
       "      <td>0</td>\n",
       "      <td>2627</td>\n",
       "      <td>14.4583</td>\n",
       "      <td>NaN</td>\n",
       "      <td>C</td>\n",
       "    </tr>\n",
       "    <tr>\n",
       "      <th>119</th>\n",
       "      <td>120</td>\n",
       "      <td>0</td>\n",
       "      <td>3</td>\n",
       "      <td>Andersson</td>\n",
       "      <td>Miss. Ellis Anna Maria</td>\n",
       "      <td>female</td>\n",
       "      <td>2.0</td>\n",
       "      <td>4</td>\n",
       "      <td>2</td>\n",
       "      <td>347082</td>\n",
       "      <td>31.2750</td>\n",
       "      <td>NaN</td>\n",
       "      <td>S</td>\n",
       "    </tr>\n",
       "    <tr>\n",
       "      <th>123</th>\n",
       "      <td>124</td>\n",
       "      <td>1</td>\n",
       "      <td>2</td>\n",
       "      <td>Webber</td>\n",
       "      <td>Miss. Susan</td>\n",
       "      <td>female</td>\n",
       "      <td>32.5</td>\n",
       "      <td>0</td>\n",
       "      <td>0</td>\n",
       "      <td>27267</td>\n",
       "      <td>13.0000</td>\n",
       "      <td>E101</td>\n",
       "      <td>S</td>\n",
       "    </tr>\n",
       "    <tr>\n",
       "      <th>128</th>\n",
       "      <td>129</td>\n",
       "      <td>1</td>\n",
       "      <td>3</td>\n",
       "      <td>Peter</td>\n",
       "      <td>Miss. Anna</td>\n",
       "      <td>female</td>\n",
       "      <td>NaN</td>\n",
       "      <td>1</td>\n",
       "      <td>1</td>\n",
       "      <td>2668</td>\n",
       "      <td>22.3583</td>\n",
       "      <td>F E69</td>\n",
       "      <td>C</td>\n",
       "    </tr>\n",
       "    <tr>\n",
       "      <th>132</th>\n",
       "      <td>133</td>\n",
       "      <td>0</td>\n",
       "      <td>3</td>\n",
       "      <td>Robins</td>\n",
       "      <td>Mrs. Alexander A (Grace Charity Laury)</td>\n",
       "      <td>female</td>\n",
       "      <td>47.0</td>\n",
       "      <td>1</td>\n",
       "      <td>0</td>\n",
       "      <td>A/5. 3337</td>\n",
       "      <td>14.5000</td>\n",
       "      <td>NaN</td>\n",
       "      <td>S</td>\n",
       "    </tr>\n",
       "    <tr>\n",
       "      <th>133</th>\n",
       "      <td>134</td>\n",
       "      <td>1</td>\n",
       "      <td>2</td>\n",
       "      <td>Weisz</td>\n",
       "      <td>Mrs. Leopold (Mathilde Francoise Pede)</td>\n",
       "      <td>female</td>\n",
       "      <td>29.0</td>\n",
       "      <td>1</td>\n",
       "      <td>0</td>\n",
       "      <td>228414</td>\n",
       "      <td>26.0000</td>\n",
       "      <td>NaN</td>\n",
       "      <td>S</td>\n",
       "    </tr>\n",
       "    <tr>\n",
       "      <th>136</th>\n",
       "      <td>137</td>\n",
       "      <td>1</td>\n",
       "      <td>1</td>\n",
       "      <td>Newsom</td>\n",
       "      <td>Miss. Helen Monypeny</td>\n",
       "      <td>female</td>\n",
       "      <td>19.0</td>\n",
       "      <td>0</td>\n",
       "      <td>2</td>\n",
       "      <td>11752</td>\n",
       "      <td>26.2833</td>\n",
       "      <td>D47</td>\n",
       "      <td>S</td>\n",
       "    </tr>\n",
       "    <tr>\n",
       "      <th>140</th>\n",
       "      <td>141</td>\n",
       "      <td>0</td>\n",
       "      <td>3</td>\n",
       "      <td>Boulos</td>\n",
       "      <td>Mrs. Joseph (Sultana)</td>\n",
       "      <td>female</td>\n",
       "      <td>NaN</td>\n",
       "      <td>0</td>\n",
       "      <td>2</td>\n",
       "      <td>2678</td>\n",
       "      <td>15.2458</td>\n",
       "      <td>NaN</td>\n",
       "      <td>C</td>\n",
       "    </tr>\n",
       "    <tr>\n",
       "      <th>141</th>\n",
       "      <td>142</td>\n",
       "      <td>1</td>\n",
       "      <td>3</td>\n",
       "      <td>Nysten</td>\n",
       "      <td>Miss. Anna Sofia</td>\n",
       "      <td>female</td>\n",
       "      <td>22.0</td>\n",
       "      <td>0</td>\n",
       "      <td>0</td>\n",
       "      <td>347081</td>\n",
       "      <td>7.7500</td>\n",
       "      <td>NaN</td>\n",
       "      <td>S</td>\n",
       "    </tr>\n",
       "    <tr>\n",
       "      <th>142</th>\n",
       "      <td>143</td>\n",
       "      <td>1</td>\n",
       "      <td>3</td>\n",
       "      <td>Hakkarainen</td>\n",
       "      <td>Mrs. Pekka Pietari (Elin Matilda Dolck)</td>\n",
       "      <td>female</td>\n",
       "      <td>24.0</td>\n",
       "      <td>1</td>\n",
       "      <td>0</td>\n",
       "      <td>STON/O2. 3101279</td>\n",
       "      <td>15.8500</td>\n",
       "      <td>NaN</td>\n",
       "      <td>S</td>\n",
       "    </tr>\n",
       "    <tr>\n",
       "      <th>147</th>\n",
       "      <td>148</td>\n",
       "      <td>0</td>\n",
       "      <td>3</td>\n",
       "      <td>Ford</td>\n",
       "      <td>Miss. Robina Maggie</td>\n",
       "      <td>female</td>\n",
       "      <td>9.0</td>\n",
       "      <td>2</td>\n",
       "      <td>2</td>\n",
       "      <td>W./C. 6608</td>\n",
       "      <td>34.3750</td>\n",
       "      <td>NaN</td>\n",
       "      <td>S</td>\n",
       "    </tr>\n",
       "    <tr>\n",
       "      <th>151</th>\n",
       "      <td>152</td>\n",
       "      <td>1</td>\n",
       "      <td>1</td>\n",
       "      <td>Pears</td>\n",
       "      <td>Mrs. Thomas (Edith Wearne)</td>\n",
       "      <td>female</td>\n",
       "      <td>22.0</td>\n",
       "      <td>1</td>\n",
       "      <td>0</td>\n",
       "      <td>113776</td>\n",
       "      <td>66.6000</td>\n",
       "      <td>C2</td>\n",
       "      <td>S</td>\n",
       "    </tr>\n",
       "  </tbody>\n",
       "</table>\n",
       "</div>"
      ],
      "text/plain": [
       "     PassengerId  Survived  Pclass           Lname  \\\n",
       "1              2         1       1         Cumings   \n",
       "2              3         1       3       Heikkinen   \n",
       "3              4         1       1        Futrelle   \n",
       "8              9         1       3         Johnson   \n",
       "9             10         1       2          Nasser   \n",
       "10            11         1       3       Sandstrom   \n",
       "11            12         1       1         Bonnell   \n",
       "14            15         0       3         Vestrom   \n",
       "15            16         1       2         Hewlett   \n",
       "18            19         0       3   Vander Planke   \n",
       "19            20         1       3      Masselmani   \n",
       "22            23         1       3         McGowan   \n",
       "24            25         0       3         Palsson   \n",
       "25            26         1       3         Asplund   \n",
       "28            29         1       3         O'Dwyer   \n",
       "31            32         1       1         Spencer   \n",
       "32            33         1       3           Glynn   \n",
       "38            39         0       3   Vander Planke   \n",
       "39            40         1       3   Nicola-Yarred   \n",
       "40            41         0       3           Ahlin   \n",
       "41            42         0       2          Turpin   \n",
       "43            44         1       2         Laroche   \n",
       "44            45         1       3         Devaney   \n",
       "47            48         1       3      O'Driscoll   \n",
       "49            50         0       3  Arnold-Franchi   \n",
       "52            53         1       1          Harper   \n",
       "53            54         1       2      Faunthorpe   \n",
       "56            57         1       2            Rugg   \n",
       "58            59         1       2            West   \n",
       "61            62         1       1           Icard   \n",
       "66            67         1       2             Nye   \n",
       "68            69         1       3       Andersson   \n",
       "71            72         0       3         Goodwin   \n",
       "79            80         1       3         Dowdell   \n",
       "82            83         1       3       McDermott   \n",
       "84            85         1       2           Ilett   \n",
       "85            86         1       3       Backstrom   \n",
       "88            89         1       1         Fortune   \n",
       "98            99         1       2          Doling   \n",
       "100          101         0       3        Petranec   \n",
       "106          107         1       3     Salkjelsvik   \n",
       "109          110         1       3           Moran   \n",
       "111          112         0       3          Zabour   \n",
       "113          114         0       3         Jussila   \n",
       "114          115         0       3         Attalah   \n",
       "119          120         0       3       Andersson   \n",
       "123          124         1       2          Webber   \n",
       "128          129         1       3           Peter   \n",
       "132          133         0       3          Robins   \n",
       "133          134         1       2           Weisz   \n",
       "136          137         1       1          Newsom   \n",
       "140          141         0       3          Boulos   \n",
       "141          142         1       3          Nysten   \n",
       "142          143         1       3     Hakkarainen   \n",
       "147          148         0       3            Ford   \n",
       "151          152         1       1           Pears   \n",
       "\n",
       "                                                  Name     Sex   Age  SibSp  \\\n",
       "1           Mrs. John Bradley (Florence Briggs Thayer)  female  38.0      1   \n",
       "2                                          Miss. Laina  female  26.0      0   \n",
       "3                   Mrs. Jacques Heath (Lily May Peel)  female  35.0      1   \n",
       "8             Mrs. Oscar W (Elisabeth Vilhelmina Berg)  female  27.0      0   \n",
       "9                          Mrs. Nicholas (Adele Achem)  female  14.0      1   \n",
       "10                                Miss. Marguerite Rut  female   4.0      1   \n",
       "11                                     Miss. Elizabeth  female  58.0      0   \n",
       "14                         Miss. Hulda Amanda Adolfina  female  14.0      0   \n",
       "15                             Mrs. (Mary D Kingcome)   female  55.0      0   \n",
       "18            Mrs. Julius (Emelia Maria Vandemoortele)  female  31.0      1   \n",
       "19                                         Mrs. Fatima  female   NaN      0   \n",
       "22                                          Miss. Anna  female  15.0      0   \n",
       "24                                Miss. Torborg Danira  female   8.0      3   \n",
       "25    Mrs. Carl Oscar (Selma Augusta Emilia Johansson)  female  38.0      1   \n",
       "28                                         Miss. Ellen  female   NaN      0   \n",
       "31               Mrs. William Augustus (Marie Eugenie)  female   NaN      1   \n",
       "32                                   Miss. Mary Agatha  female   NaN      0   \n",
       "38                                 Miss. Augusta Maria  female  18.0      2   \n",
       "39                                        Miss. Jamila  female  14.0      1   \n",
       "40             Mrs. Johan (Johanna Persdotter Larsson)  female  40.0      1   \n",
       "41    Mrs. William John Robert (Dorothy Ann Wonnacott)  female  27.0      1   \n",
       "43                     Miss. Simonne Marie Anne Andree  female   3.0      1   \n",
       "44                                Miss. Margaret Delia  female  19.0      0   \n",
       "47                                       Miss. Bridget  female   NaN      0   \n",
       "49                       Mrs. Josef (Josefine Franchi)  female  18.0      1   \n",
       "52                    Mrs. Henry Sleeper (Myna Haxtun)  female  49.0      1   \n",
       "53              Mrs. Lizzie (Elizabeth Anne Wilkinson)  female  29.0      1   \n",
       "56                                         Miss. Emily  female  21.0      0   \n",
       "58                              Miss. Constance Mirium  female   5.0      1   \n",
       "61                                        Miss. Amelie  female  38.0      0   \n",
       "66                             Mrs. (Elizabeth Ramell)  female  29.0      0   \n",
       "68                                Miss. Erna Alexandra  female  17.0      4   \n",
       "71                                   Miss. Lillian Amy  female  16.0      5   \n",
       "79                                     Miss. Elizabeth  female  30.0      0   \n",
       "82                                 Miss. Brigdet Delia  female   NaN      0   \n",
       "84                                        Miss. Bertha  female  17.0      0   \n",
       "85        Mrs. Karl Alfred (Maria Mathilda Gustafsson)  female  33.0      3   \n",
       "88                                   Miss. Mabel Helen  female  23.0      3   \n",
       "98                        Mrs. John T (Ada Julia Bone)  female  34.0      0   \n",
       "100                                      Miss. Matilda  female  28.0      0   \n",
       "106                                Miss. Anna Kristine  female  21.0      0   \n",
       "109                                       Miss. Bertha  female   NaN      1   \n",
       "111                                       Miss. Hileni  female  14.5      1   \n",
       "113                                     Miss. Katriina  female  20.0      1   \n",
       "114                                       Miss. Malake  female  17.0      0   \n",
       "119                             Miss. Ellis Anna Maria  female   2.0      4   \n",
       "123                                        Miss. Susan  female  32.5      0   \n",
       "128                                         Miss. Anna  female   NaN      1   \n",
       "132             Mrs. Alexander A (Grace Charity Laury)  female  47.0      1   \n",
       "133             Mrs. Leopold (Mathilde Francoise Pede)  female  29.0      1   \n",
       "136                               Miss. Helen Monypeny  female  19.0      0   \n",
       "140                              Mrs. Joseph (Sultana)  female   NaN      0   \n",
       "141                                   Miss. Anna Sofia  female  22.0      0   \n",
       "142            Mrs. Pekka Pietari (Elin Matilda Dolck)  female  24.0      1   \n",
       "147                                Miss. Robina Maggie  female   9.0      2   \n",
       "151                         Mrs. Thomas (Edith Wearne)  female  22.0      1   \n",
       "\n",
       "     Parch            Ticket      Fare        Cabin Embarked  \n",
       "1        0          PC 17599   71.2833          C85        C  \n",
       "2        0  STON/O2. 3101282    7.9250          NaN        S  \n",
       "3        0            113803   53.1000         C123        S  \n",
       "8        2            347742   11.1333          NaN        S  \n",
       "9        0            237736   30.0708          NaN        C  \n",
       "10       1           PP 9549   16.7000           G6        S  \n",
       "11       0            113783   26.5500         C103        S  \n",
       "14       0            350406    7.8542          NaN        S  \n",
       "15       0            248706   16.0000          NaN        S  \n",
       "18       0            345763   18.0000          NaN        S  \n",
       "19       0              2649    7.2250          NaN        C  \n",
       "22       0            330923    8.0292          NaN        Q  \n",
       "24       1            349909   21.0750          NaN        S  \n",
       "25       5            347077   31.3875          NaN        S  \n",
       "28       0            330959    7.8792          NaN        Q  \n",
       "31       0          PC 17569  146.5208          B78        C  \n",
       "32       0            335677    7.7500          NaN        Q  \n",
       "38       0            345764   18.0000          NaN        S  \n",
       "39       0              2651   11.2417          NaN        C  \n",
       "40       0              7546    9.4750          NaN        S  \n",
       "41       0             11668   21.0000          NaN        S  \n",
       "43       2     SC/Paris 2123   41.5792          NaN        C  \n",
       "44       0            330958    7.8792          NaN        Q  \n",
       "47       0             14311    7.7500          NaN        Q  \n",
       "49       0            349237   17.8000          NaN        S  \n",
       "52       0          PC 17572   76.7292          D33        C  \n",
       "53       0              2926   26.0000          NaN        S  \n",
       "56       0        C.A. 31026   10.5000          NaN        S  \n",
       "58       2        C.A. 34651   27.7500          NaN        S  \n",
       "61       0            113572   80.0000          B28      NaN  \n",
       "66       0        C.A. 29395   10.5000          F33        S  \n",
       "68       2           3101281    7.9250          NaN        S  \n",
       "71       2           CA 2144   46.9000          NaN        S  \n",
       "79       0            364516   12.4750          NaN        S  \n",
       "82       0            330932    7.7875          NaN        Q  \n",
       "84       0        SO/C 14885   10.5000          NaN        S  \n",
       "85       0           3101278   15.8500          NaN        S  \n",
       "88       2             19950  263.0000  C23 C25 C27        S  \n",
       "98       1            231919   23.0000          NaN        S  \n",
       "100      0            349245    7.8958          NaN        S  \n",
       "106      0            343120    7.6500          NaN        S  \n",
       "109      0            371110   24.1500          NaN        Q  \n",
       "111      0              2665   14.4542          NaN        C  \n",
       "113      0              4136    9.8250          NaN        S  \n",
       "114      0              2627   14.4583          NaN        C  \n",
       "119      2            347082   31.2750          NaN        S  \n",
       "123      0             27267   13.0000         E101        S  \n",
       "128      1              2668   22.3583        F E69        C  \n",
       "132      0         A/5. 3337   14.5000          NaN        S  \n",
       "133      0            228414   26.0000          NaN        S  \n",
       "136      2             11752   26.2833          D47        S  \n",
       "140      2              2678   15.2458          NaN        C  \n",
       "141      0            347081    7.7500          NaN        S  \n",
       "142      0  STON/O2. 3101279   15.8500          NaN        S  \n",
       "147      2        W./C. 6608   34.3750          NaN        S  \n",
       "151      0            113776   66.6000           C2        S  "
      ]
     },
     "execution_count": 133,
     "metadata": {},
     "output_type": "execute_result"
    }
   ],
   "source": [
    "view = df[df['Sex'] == 'female']\n",
    "view"
   ]
  },
  {
   "cell_type": "code",
   "execution_count": 134,
   "metadata": {},
   "outputs": [
    {
     "data": {
      "text/plain": [
       "0      False\n",
       "1       True\n",
       "2      False\n",
       "3       True\n",
       "4      False\n",
       "       ...  \n",
       "151    False\n",
       "152    False\n",
       "153    False\n",
       "154    False\n",
       "155    False\n",
       "Length: 156, dtype: bool"
      ]
     },
     "execution_count": 134,
     "metadata": {},
     "output_type": "execute_result"
    }
   ],
   "source": [
    "((df['Sex'] == 'female') & (df['Age'] > 30))"
   ]
  },
  {
   "cell_type": "code",
   "execution_count": 135,
   "metadata": {
    "collapsed": true
   },
   "outputs": [
    {
     "name": "stdout",
     "output_type": "stream",
     "text": [
      "[0, 1, 2, 3, 4, 5, 6, 7, 8, 9, 10, 11, 12, 13, 14, 15, 16, 17, 18, 19, 20, 21, 22, 23, 24, 25, 26, 27, 28, 29, 30, 31, 32, 33, 34, 35, 36, 37, 38, 39, 40, 41, 42, 43, 44, 45, 46, 47, 48, 49, 50, 51, 52, 53, 54, 55, 56, 57, 58, 59, 60, 61, 62, 63, 64, 65, 66, 67, 68, 69, 70, 71, 72, 73, 74, 75, 76, 77, 78, 79, 80, 81, 82, 83, 84, 85, 86, 87, 88, 89, 90, 91, 92, 93, 94, 95, 96, 97, 98, 99, 100, 101, 102, 103, 104, 105, 106, 107, 108, 109, 110, 111, 112, 113, 114, 115, 116, 117, 118, 119, 120, 121, 122, 123, 124, 125, 126, 127, 128, 129, 130, 131, 132, 133, 134, 135, 136, 137, 138, 139, 140, 141, 142, 143, 144, 145, 146, 147, 148, 149, 150, 151, 152, 153, 154, 155]\n"
     ]
    }
   ],
   "source": [
    "print(list(((df['Sex'] == 'female') & (df['Age'] > 30)).index))"
   ]
  },
  {
   "cell_type": "code",
   "execution_count": 136,
   "metadata": {},
   "outputs": [
    {
     "data": {
      "text/plain": [
       "Index([1, 3, 11, 15, 18, 25, 40, 52, 61, 85, 98, 123, 132], dtype='int64')"
      ]
     },
     "execution_count": 136,
     "metadata": {},
     "output_type": "execute_result"
    }
   ],
   "source": [
    "df[(df['Sex'] == 'female') & (df['Age'] > 30)].index"
   ]
  },
  {
   "cell_type": "code",
   "execution_count": 137,
   "metadata": {},
   "outputs": [],
   "source": [
    "df.drop(index=(df[(df['Sex'] == 'female') & (df['Age'] > 30)].index),axis=1, inplace=True)"
   ]
  },
  {
   "cell_type": "code",
   "execution_count": 138,
   "metadata": {},
   "outputs": [
    {
     "data": {
      "text/plain": [
       "PassengerId                      79\n",
       "Survived                          1\n",
       "Pclass                            2\n",
       "Lname                      Caldwell\n",
       "Name            Master. Alden Gates\n",
       "Sex                            male\n",
       "Age                            0.83\n",
       "SibSp                             0\n",
       "Parch                             2\n",
       "Ticket                       248738\n",
       "Fare                           29.0\n",
       "Cabin                           NaN\n",
       "Embarked                          S\n",
       "Name: 78, dtype: object"
      ]
     },
     "execution_count": 138,
     "metadata": {},
     "output_type": "execute_result"
    }
   ],
   "source": [
    "df.loc[78]"
   ]
  },
  {
   "cell_type": "code",
   "execution_count": 139,
   "metadata": {},
   "outputs": [
    {
     "data": {
      "text/plain": [
       "PassengerId                   1\n",
       "Survived                      0\n",
       "Pclass                        3\n",
       "Lname                    Braund\n",
       "Name            Mr. Owen Harris\n",
       "Sex                        male\n",
       "Age                        22.0\n",
       "SibSp                         1\n",
       "Parch                         0\n",
       "Ticket                A/5 21171\n",
       "Fare                       7.25\n",
       "Cabin                       NaN\n",
       "Embarked                      S\n",
       "Name: 0, dtype: object"
      ]
     },
     "execution_count": 139,
     "metadata": {},
     "output_type": "execute_result"
    }
   ],
   "source": [
    "df.iloc[0]"
   ]
  },
  {
   "cell_type": "code",
   "execution_count": 140,
   "metadata": {
    "pycharm": {
     "name": "#%%\n"
    }
   },
   "outputs": [
    {
     "data": {
      "text/html": [
       "<div>\n",
       "<style scoped>\n",
       "    .dataframe tbody tr th:only-of-type {\n",
       "        vertical-align: middle;\n",
       "    }\n",
       "\n",
       "    .dataframe tbody tr th {\n",
       "        vertical-align: top;\n",
       "    }\n",
       "\n",
       "    .dataframe thead th {\n",
       "        text-align: right;\n",
       "    }\n",
       "</style>\n",
       "<table border=\"1\" class=\"dataframe\">\n",
       "  <thead>\n",
       "    <tr style=\"text-align: right;\">\n",
       "      <th></th>\n",
       "      <th>PassengerId</th>\n",
       "      <th>Survived</th>\n",
       "      <th>Pclass</th>\n",
       "      <th>Age</th>\n",
       "      <th>SibSp</th>\n",
       "      <th>Parch</th>\n",
       "      <th>Fare</th>\n",
       "    </tr>\n",
       "  </thead>\n",
       "  <tbody>\n",
       "    <tr>\n",
       "      <th>count</th>\n",
       "      <td>143.000000</td>\n",
       "      <td>143.000000</td>\n",
       "      <td>143.000000</td>\n",
       "      <td>113.000000</td>\n",
       "      <td>143.000000</td>\n",
       "      <td>143.000000</td>\n",
       "      <td>143.000000</td>\n",
       "    </tr>\n",
       "    <tr>\n",
       "      <th>mean</th>\n",
       "      <td>80.902098</td>\n",
       "      <td>0.307692</td>\n",
       "      <td>2.461538</td>\n",
       "      <td>26.702035</td>\n",
       "      <td>0.601399</td>\n",
       "      <td>0.391608</td>\n",
       "      <td>27.526018</td>\n",
       "    </tr>\n",
       "    <tr>\n",
       "      <th>std</th>\n",
       "      <td>44.536473</td>\n",
       "      <td>0.463161</td>\n",
       "      <td>0.776134</td>\n",
       "      <td>14.483237</td>\n",
       "      <td>1.075593</td>\n",
       "      <td>0.813919</td>\n",
       "      <td>40.406013</td>\n",
       "    </tr>\n",
       "    <tr>\n",
       "      <th>min</th>\n",
       "      <td>1.000000</td>\n",
       "      <td>0.000000</td>\n",
       "      <td>1.000000</td>\n",
       "      <td>0.830000</td>\n",
       "      <td>0.000000</td>\n",
       "      <td>0.000000</td>\n",
       "      <td>6.750000</td>\n",
       "    </tr>\n",
       "    <tr>\n",
       "      <th>25%</th>\n",
       "      <td>43.500000</td>\n",
       "      <td>0.000000</td>\n",
       "      <td>2.000000</td>\n",
       "      <td>19.000000</td>\n",
       "      <td>0.000000</td>\n",
       "      <td>0.000000</td>\n",
       "      <td>7.925000</td>\n",
       "    </tr>\n",
       "    <tr>\n",
       "      <th>50%</th>\n",
       "      <td>81.000000</td>\n",
       "      <td>0.000000</td>\n",
       "      <td>3.000000</td>\n",
       "      <td>24.000000</td>\n",
       "      <td>0.000000</td>\n",
       "      <td>0.000000</td>\n",
       "      <td>13.000000</td>\n",
       "    </tr>\n",
       "    <tr>\n",
       "      <th>75%</th>\n",
       "      <td>118.500000</td>\n",
       "      <td>1.000000</td>\n",
       "      <td>3.000000</td>\n",
       "      <td>33.000000</td>\n",
       "      <td>1.000000</td>\n",
       "      <td>0.000000</td>\n",
       "      <td>29.597900</td>\n",
       "    </tr>\n",
       "    <tr>\n",
       "      <th>max</th>\n",
       "      <td>156.000000</td>\n",
       "      <td>1.000000</td>\n",
       "      <td>3.000000</td>\n",
       "      <td>71.000000</td>\n",
       "      <td>5.000000</td>\n",
       "      <td>5.000000</td>\n",
       "      <td>263.000000</td>\n",
       "    </tr>\n",
       "  </tbody>\n",
       "</table>\n",
       "</div>"
      ],
      "text/plain": [
       "       PassengerId    Survived      Pclass         Age       SibSp  \\\n",
       "count   143.000000  143.000000  143.000000  113.000000  143.000000   \n",
       "mean     80.902098    0.307692    2.461538   26.702035    0.601399   \n",
       "std      44.536473    0.463161    0.776134   14.483237    1.075593   \n",
       "min       1.000000    0.000000    1.000000    0.830000    0.000000   \n",
       "25%      43.500000    0.000000    2.000000   19.000000    0.000000   \n",
       "50%      81.000000    0.000000    3.000000   24.000000    0.000000   \n",
       "75%     118.500000    1.000000    3.000000   33.000000    1.000000   \n",
       "max     156.000000    1.000000    3.000000   71.000000    5.000000   \n",
       "\n",
       "            Parch        Fare  \n",
       "count  143.000000  143.000000  \n",
       "mean     0.391608   27.526018  \n",
       "std      0.813919   40.406013  \n",
       "min      0.000000    6.750000  \n",
       "25%      0.000000    7.925000  \n",
       "50%      0.000000   13.000000  \n",
       "75%      0.000000   29.597900  \n",
       "max      5.000000  263.000000  "
      ]
     },
     "execution_count": 140,
     "metadata": {},
     "output_type": "execute_result"
    }
   ],
   "source": [
    "df.describe()"
   ]
  },
  {
   "cell_type": "code",
   "execution_count": 141,
   "metadata": {},
   "outputs": [
    {
     "name": "stdout",
     "output_type": "stream",
     "text": [
      "<class 'pandas.core.frame.DataFrame'>\n",
      "Index: 143 entries, 0 to 155\n",
      "Data columns (total 13 columns):\n",
      " #   Column       Non-Null Count  Dtype  \n",
      "---  ------       --------------  -----  \n",
      " 0   PassengerId  143 non-null    int64  \n",
      " 1   Survived     143 non-null    int64  \n",
      " 2   Pclass       143 non-null    int64  \n",
      " 3   Lname        143 non-null    object \n",
      " 4   Name         143 non-null    object \n",
      " 5   Sex          143 non-null    object \n",
      " 6   Age          113 non-null    float64\n",
      " 7   SibSp        143 non-null    int64  \n",
      " 8   Parch        143 non-null    int64  \n",
      " 9   Ticket       143 non-null    object \n",
      " 10  Fare         143 non-null    float64\n",
      " 11  Cabin        25 non-null     object \n",
      " 12  Embarked     143 non-null    object \n",
      "dtypes: float64(2), int64(5), object(6)\n",
      "memory usage: 19.7+ KB\n"
     ]
    }
   ],
   "source": [
    "df.info()"
   ]
  },
  {
   "cell_type": "code",
   "execution_count": 142,
   "metadata": {
    "pycharm": {
     "name": "#%%\n"
    }
   },
   "outputs": [
    {
     "data": {
      "text/html": [
       "<div>\n",
       "<style scoped>\n",
       "    .dataframe tbody tr th:only-of-type {\n",
       "        vertical-align: middle;\n",
       "    }\n",
       "\n",
       "    .dataframe tbody tr th {\n",
       "        vertical-align: top;\n",
       "    }\n",
       "\n",
       "    .dataframe thead th {\n",
       "        text-align: right;\n",
       "    }\n",
       "</style>\n",
       "<table border=\"1\" class=\"dataframe\">\n",
       "  <thead>\n",
       "    <tr style=\"text-align: right;\">\n",
       "      <th></th>\n",
       "      <th>Sex</th>\n",
       "      <th>Cabin</th>\n",
       "    </tr>\n",
       "  </thead>\n",
       "  <tbody>\n",
       "    <tr>\n",
       "      <th>count</th>\n",
       "      <td>143</td>\n",
       "      <td>25</td>\n",
       "    </tr>\n",
       "    <tr>\n",
       "      <th>unique</th>\n",
       "      <td>2</td>\n",
       "      <td>23</td>\n",
       "    </tr>\n",
       "    <tr>\n",
       "      <th>top</th>\n",
       "      <td>male</td>\n",
       "      <td>C23 C25 C27</td>\n",
       "    </tr>\n",
       "    <tr>\n",
       "      <th>freq</th>\n",
       "      <td>100</td>\n",
       "      <td>2</td>\n",
       "    </tr>\n",
       "  </tbody>\n",
       "</table>\n",
       "</div>"
      ],
      "text/plain": [
       "         Sex        Cabin\n",
       "count    143           25\n",
       "unique     2           23\n",
       "top     male  C23 C25 C27\n",
       "freq     100            2"
      ]
     },
     "execution_count": 142,
     "metadata": {},
     "output_type": "execute_result"
    }
   ],
   "source": [
    "df[[\"Sex\", \"Cabin\"]].describe()"
   ]
  },
  {
   "cell_type": "markdown",
   "metadata": {
    "pycharm": {
     "name": "#%% md\n"
    }
   },
   "source": [
    "### Срезы в DataFrame"
   ]
  },
  {
   "cell_type": "markdown",
   "metadata": {
    "pycharm": {
     "name": "#%% md\n"
    }
   },
   "source": [
    "### Индексация"
   ]
  },
  {
   "cell_type": "code",
   "execution_count": 145,
   "metadata": {
    "pycharm": {
     "name": "#%%\n"
    }
   },
   "outputs": [],
   "source": [
    "df.sort_values(by=\"Age\", inplace=True, ascending=False)"
   ]
  },
  {
   "cell_type": "code",
   "execution_count": 146,
   "metadata": {},
   "outputs": [
    {
     "data": {
      "text/html": [
       "<div>\n",
       "<style scoped>\n",
       "    .dataframe tbody tr th:only-of-type {\n",
       "        vertical-align: middle;\n",
       "    }\n",
       "\n",
       "    .dataframe tbody tr th {\n",
       "        vertical-align: top;\n",
       "    }\n",
       "\n",
       "    .dataframe thead th {\n",
       "        text-align: right;\n",
       "    }\n",
       "</style>\n",
       "<table border=\"1\" class=\"dataframe\">\n",
       "  <thead>\n",
       "    <tr style=\"text-align: right;\">\n",
       "      <th></th>\n",
       "      <th>PassengerId</th>\n",
       "      <th>Survived</th>\n",
       "      <th>Pclass</th>\n",
       "      <th>Lname</th>\n",
       "      <th>Name</th>\n",
       "      <th>Sex</th>\n",
       "      <th>Age</th>\n",
       "      <th>SibSp</th>\n",
       "      <th>Parch</th>\n",
       "      <th>Ticket</th>\n",
       "      <th>Fare</th>\n",
       "      <th>Cabin</th>\n",
       "      <th>Embarked</th>\n",
       "    </tr>\n",
       "  </thead>\n",
       "  <tbody>\n",
       "    <tr>\n",
       "      <th>96</th>\n",
       "      <td>97</td>\n",
       "      <td>0</td>\n",
       "      <td>1</td>\n",
       "      <td>Goldschmidt</td>\n",
       "      <td>Mr. George B</td>\n",
       "      <td>male</td>\n",
       "      <td>71.0</td>\n",
       "      <td>0</td>\n",
       "      <td>0</td>\n",
       "      <td>PC 17754</td>\n",
       "      <td>34.6542</td>\n",
       "      <td>A5</td>\n",
       "      <td>C</td>\n",
       "    </tr>\n",
       "    <tr>\n",
       "      <th>116</th>\n",
       "      <td>117</td>\n",
       "      <td>0</td>\n",
       "      <td>3</td>\n",
       "      <td>Connors</td>\n",
       "      <td>Mr. Patrick</td>\n",
       "      <td>male</td>\n",
       "      <td>70.5</td>\n",
       "      <td>0</td>\n",
       "      <td>0</td>\n",
       "      <td>370369</td>\n",
       "      <td>7.7500</td>\n",
       "      <td>NaN</td>\n",
       "      <td>Q</td>\n",
       "    </tr>\n",
       "    <tr>\n",
       "      <th>33</th>\n",
       "      <td>34</td>\n",
       "      <td>0</td>\n",
       "      <td>2</td>\n",
       "      <td>Wheadon</td>\n",
       "      <td>Mr. Edward H</td>\n",
       "      <td>male</td>\n",
       "      <td>66.0</td>\n",
       "      <td>0</td>\n",
       "      <td>0</td>\n",
       "      <td>C.A. 24579</td>\n",
       "      <td>10.5000</td>\n",
       "      <td>NaN</td>\n",
       "      <td>S</td>\n",
       "    </tr>\n",
       "  </tbody>\n",
       "</table>\n",
       "</div>"
      ],
      "text/plain": [
       "     PassengerId  Survived  Pclass        Lname           Name   Sex   Age  \\\n",
       "96            97         0       1  Goldschmidt   Mr. George B  male  71.0   \n",
       "116          117         0       3      Connors    Mr. Patrick  male  70.5   \n",
       "33            34         0       2      Wheadon   Mr. Edward H  male  66.0   \n",
       "\n",
       "     SibSp  Parch      Ticket     Fare Cabin Embarked  \n",
       "96       0      0    PC 17754  34.6542    A5        C  \n",
       "116      0      0      370369   7.7500   NaN        Q  \n",
       "33       0      0  C.A. 24579  10.5000   NaN        S  "
      ]
     },
     "execution_count": 146,
     "metadata": {},
     "output_type": "execute_result"
    }
   ],
   "source": [
    "df.head(3)"
   ]
  },
  {
   "cell_type": "code",
   "execution_count": 147,
   "metadata": {
    "pycharm": {
     "name": "#%%\n"
    }
   },
   "outputs": [
    {
     "data": {
      "text/plain": [
       "PassengerId                        132\n",
       "Survived                             0\n",
       "Pclass                               3\n",
       "Lname                           Coelho\n",
       "Name            Mr. Domingos Fernandeo\n",
       "Sex                               male\n",
       "Age                               20.0\n",
       "SibSp                                0\n",
       "Parch                                0\n",
       "Ticket              SOTON/O.Q. 3101307\n",
       "Fare                              7.05\n",
       "Cabin                              NaN\n",
       "Embarked                             S\n",
       "Name: 131, dtype: object"
      ]
     },
     "execution_count": 147,
     "metadata": {},
     "output_type": "execute_result"
    }
   ],
   "source": [
    "df.iloc[78]"
   ]
  },
  {
   "cell_type": "code",
   "execution_count": 148,
   "metadata": {
    "pycharm": {
     "name": "#%%\n"
    }
   },
   "outputs": [
    {
     "data": {
      "text/plain": [
       "PassengerId                      79\n",
       "Survived                          1\n",
       "Pclass                            2\n",
       "Lname                      Caldwell\n",
       "Name            Master. Alden Gates\n",
       "Sex                            male\n",
       "Age                            0.83\n",
       "SibSp                             0\n",
       "Parch                             2\n",
       "Ticket                       248738\n",
       "Fare                           29.0\n",
       "Cabin                           NaN\n",
       "Embarked                          S\n",
       "Name: 78, dtype: object"
      ]
     },
     "execution_count": 148,
     "metadata": {},
     "output_type": "execute_result"
    }
   ],
   "source": [
    "df.loc[78]"
   ]
  },
  {
   "cell_type": "code",
   "execution_count": 149,
   "metadata": {
    "pycharm": {
     "name": "#%%\n"
    }
   },
   "outputs": [
    {
     "data": {
      "text/html": [
       "<div>\n",
       "<style scoped>\n",
       "    .dataframe tbody tr th:only-of-type {\n",
       "        vertical-align: middle;\n",
       "    }\n",
       "\n",
       "    .dataframe tbody tr th {\n",
       "        vertical-align: top;\n",
       "    }\n",
       "\n",
       "    .dataframe thead th {\n",
       "        text-align: right;\n",
       "    }\n",
       "</style>\n",
       "<table border=\"1\" class=\"dataframe\">\n",
       "  <thead>\n",
       "    <tr style=\"text-align: right;\">\n",
       "      <th></th>\n",
       "      <th>Age</th>\n",
       "      <th>Cabin</th>\n",
       "    </tr>\n",
       "  </thead>\n",
       "  <tbody>\n",
       "    <tr>\n",
       "      <th>78</th>\n",
       "      <td>0.83</td>\n",
       "      <td>NaN</td>\n",
       "    </tr>\n",
       "    <tr>\n",
       "      <th>79</th>\n",
       "      <td>30.00</td>\n",
       "      <td>NaN</td>\n",
       "    </tr>\n",
       "    <tr>\n",
       "      <th>100</th>\n",
       "      <td>28.00</td>\n",
       "      <td>NaN</td>\n",
       "    </tr>\n",
       "  </tbody>\n",
       "</table>\n",
       "</div>"
      ],
      "text/plain": [
       "       Age Cabin\n",
       "78    0.83   NaN\n",
       "79   30.00   NaN\n",
       "100  28.00   NaN"
      ]
     },
     "execution_count": 149,
     "metadata": {},
     "output_type": "execute_result"
    }
   ],
   "source": [
    "df.loc[[78, 79, 100], [\"Age\", \"Cabin\"]]"
   ]
  },
  {
   "cell_type": "markdown",
   "metadata": {
    "pycharm": {
     "name": "#%% md\n"
    }
   },
   "source": [
    "Если хотите модифицировать данные среза, не меняя основной таблицы, нужно сделать копию."
   ]
  },
  {
   "cell_type": "code",
   "execution_count": 150,
   "metadata": {
    "pycharm": {
     "name": "#%%\n"
    }
   },
   "outputs": [],
   "source": [
    "df_slice_copy = df.loc[[78, 79, 100], [\"Age\", \"Cabin\"]].copy()"
   ]
  },
  {
   "cell_type": "code",
   "execution_count": 151,
   "metadata": {
    "pycharm": {
     "name": "#%%\n"
    }
   },
   "outputs": [],
   "source": [
    "df_slice_copy[:] = 3"
   ]
  },
  {
   "cell_type": "code",
   "execution_count": 152,
   "metadata": {
    "pycharm": {
     "name": "#%%\n"
    }
   },
   "outputs": [
    {
     "data": {
      "text/html": [
       "<div>\n",
       "<style scoped>\n",
       "    .dataframe tbody tr th:only-of-type {\n",
       "        vertical-align: middle;\n",
       "    }\n",
       "\n",
       "    .dataframe tbody tr th {\n",
       "        vertical-align: top;\n",
       "    }\n",
       "\n",
       "    .dataframe thead th {\n",
       "        text-align: right;\n",
       "    }\n",
       "</style>\n",
       "<table border=\"1\" class=\"dataframe\">\n",
       "  <thead>\n",
       "    <tr style=\"text-align: right;\">\n",
       "      <th></th>\n",
       "      <th>Age</th>\n",
       "      <th>Cabin</th>\n",
       "    </tr>\n",
       "  </thead>\n",
       "  <tbody>\n",
       "    <tr>\n",
       "      <th>78</th>\n",
       "      <td>3.0</td>\n",
       "      <td>3</td>\n",
       "    </tr>\n",
       "    <tr>\n",
       "      <th>79</th>\n",
       "      <td>3.0</td>\n",
       "      <td>3</td>\n",
       "    </tr>\n",
       "    <tr>\n",
       "      <th>100</th>\n",
       "      <td>3.0</td>\n",
       "      <td>3</td>\n",
       "    </tr>\n",
       "  </tbody>\n",
       "</table>\n",
       "</div>"
      ],
      "text/plain": [
       "     Age Cabin\n",
       "78   3.0     3\n",
       "79   3.0     3\n",
       "100  3.0     3"
      ]
     },
     "execution_count": 152,
     "metadata": {},
     "output_type": "execute_result"
    }
   ],
   "source": [
    "df_slice_copy"
   ]
  },
  {
   "cell_type": "markdown",
   "metadata": {
    "pycharm": {
     "name": "#%% md\n"
    }
   },
   "source": [
    "Если хотите менять основную таблицу, то используйте loc"
   ]
  },
  {
   "cell_type": "code",
   "execution_count": null,
   "metadata": {
    "pycharm": {
     "name": "#%%\n"
    }
   },
   "outputs": [],
   "source": [
    "df.head(3)"
   ]
  },
  {
   "cell_type": "code",
   "execution_count": 153,
   "metadata": {
    "pycharm": {
     "name": "#%%\n"
    }
   },
   "outputs": [],
   "source": [
    "some_slice = df[\"Age\"].isin([20, 25, 30])\n",
    "df.loc[some_slice, \"Fare\"] *= 10"
   ]
  },
  {
   "cell_type": "markdown",
   "metadata": {
    "pycharm": {
     "name": "#%% md\n"
    }
   },
   "source": [
    "Так лучше не делать:"
   ]
  },
  {
   "cell_type": "code",
   "execution_count": 155,
   "metadata": {
    "pycharm": {
     "name": "#%%\n"
    }
   },
   "outputs": [
    {
     "name": "stderr",
     "output_type": "stream",
     "text": [
      "/var/folders/4m/4cskytjn019fn68ytvs204bwkhjl6b/T/ipykernel_61102/1355601167.py:2: SettingWithCopyWarning: \n",
      "A value is trying to be set on a copy of a slice from a DataFrame.\n",
      "Try using .loc[row_indexer,col_indexer] = value instead\n",
      "\n",
      "See the caveats in the documentation: https://pandas.pydata.org/pandas-docs/stable/user_guide/indexing.html#returning-a-view-versus-a-copy\n",
      "  slice_df[\"Fare\"] = slice_df[\"Fare\"] * 10\n"
     ]
    }
   ],
   "source": [
    "slice_df = df[some_slice]\n",
    "slice_df[\"Fare\"] = slice_df[\"Fare\"] * 10"
   ]
  },
  {
   "cell_type": "markdown",
   "metadata": {
    "pycharm": {
     "name": "#%% md\n"
    }
   },
   "source": [
    "Получить значения только нужных столбцов можно передав в ```[]``` название столбца (или список названий столбцов).\n",
    "\n",
    "## Замечание:** Если передаём название одного столбца, то получаем объект класса [pandas.Series](http://pandas.pydata.org/pandas-docs/stable/generated/pandas.Series.html), а если список названий столбцов, то получаем  [pandas.DataFrame](http://pandas.pydata.org/pandas-docs/stable/generated/pandas.DataFrame.html), чтобы получить [numpy.array](https://docs.scipy.org/doc/numpy/reference/generated/numpy.array.html) обратитесь к полю **values**.\n",
    "\n",
    "Series и DataFrame имеют много общих методов"
   ]
  },
  {
   "cell_type": "code",
   "execution_count": 156,
   "metadata": {
    "pycharm": {
     "name": "#%%\n"
    }
   },
   "outputs": [
    {
     "data": {
      "text/plain": [
       "96     71.0\n",
       "116    70.5\n",
       "33     66.0\n",
       "54     65.0\n",
       "94     59.0\n",
       "Name: Age, dtype: float64"
      ]
     },
     "execution_count": 156,
     "metadata": {},
     "output_type": "execute_result"
    }
   ],
   "source": [
    "df[\"Age\"].head(5)"
   ]
  },
  {
   "cell_type": "code",
   "execution_count": 157,
   "metadata": {
    "pycharm": {
     "name": "#%%\n"
    }
   },
   "outputs": [
    {
     "data": {
      "text/html": [
       "<div>\n",
       "<style scoped>\n",
       "    .dataframe tbody tr th:only-of-type {\n",
       "        vertical-align: middle;\n",
       "    }\n",
       "\n",
       "    .dataframe tbody tr th {\n",
       "        vertical-align: top;\n",
       "    }\n",
       "\n",
       "    .dataframe thead th {\n",
       "        text-align: right;\n",
       "    }\n",
       "</style>\n",
       "<table border=\"1\" class=\"dataframe\">\n",
       "  <thead>\n",
       "    <tr style=\"text-align: right;\">\n",
       "      <th></th>\n",
       "      <th>Age</th>\n",
       "    </tr>\n",
       "  </thead>\n",
       "  <tbody>\n",
       "    <tr>\n",
       "      <th>96</th>\n",
       "      <td>71.0</td>\n",
       "    </tr>\n",
       "    <tr>\n",
       "      <th>116</th>\n",
       "      <td>70.5</td>\n",
       "    </tr>\n",
       "    <tr>\n",
       "      <th>33</th>\n",
       "      <td>66.0</td>\n",
       "    </tr>\n",
       "    <tr>\n",
       "      <th>54</th>\n",
       "      <td>65.0</td>\n",
       "    </tr>\n",
       "    <tr>\n",
       "      <th>94</th>\n",
       "      <td>59.0</td>\n",
       "    </tr>\n",
       "  </tbody>\n",
       "</table>\n",
       "</div>"
      ],
      "text/plain": [
       "      Age\n",
       "96   71.0\n",
       "116  70.5\n",
       "33   66.0\n",
       "54   65.0\n",
       "94   59.0"
      ]
     },
     "execution_count": 157,
     "metadata": {},
     "output_type": "execute_result"
    }
   ],
   "source": [
    "df[[\"Age\"]].head(5)"
   ]
  },
  {
   "cell_type": "markdown",
   "metadata": {
    "pycharm": {
     "name": "#%% md\n"
    }
   },
   "source": [
    "### pd.Series"
   ]
  },
  {
   "cell_type": "markdown",
   "metadata": {
    "pycharm": {
     "name": "#%% md\n"
    }
   },
   "source": [
    "Одномерные срезы датафреймов имеют тип pd.Series."
   ]
  },
  {
   "cell_type": "markdown",
   "metadata": {
    "pycharm": {
     "name": "#%% md\n"
    }
   },
   "source": [
    "Можно получить np.array из pd.Series, но вы не хотите этого делать."
   ]
  },
  {
   "cell_type": "code",
   "execution_count": 158,
   "metadata": {
    "pycharm": {
     "name": "#%%\n"
    }
   },
   "outputs": [
    {
     "data": {
      "text/plain": [
       "array([71. , 70.5, 66. , 65. , 59. ])"
      ]
     },
     "execution_count": 158,
     "metadata": {},
     "output_type": "execute_result"
    }
   ],
   "source": [
    "df[\"Age\"].head(5).values"
   ]
  },
  {
   "cell_type": "markdown",
   "metadata": {
    "pycharm": {
     "name": "#%% md\n"
    }
   },
   "source": [
    "Можно достать и индекс"
   ]
  },
  {
   "cell_type": "code",
   "execution_count": 159,
   "metadata": {
    "pycharm": {
     "name": "#%%\n"
    }
   },
   "outputs": [
    {
     "data": {
      "text/plain": [
       "Index([96, 116, 33, 54, 94], dtype='int64')"
      ]
     },
     "execution_count": 159,
     "metadata": {},
     "output_type": "execute_result"
    }
   ],
   "source": [
    "df[\"Age\"].head(5).index"
   ]
  },
  {
   "cell_type": "markdown",
   "metadata": {
    "pycharm": {
     "name": "#%% md\n"
    }
   },
   "source": [
    "Создаются они примерно также, как np.array. Опционально указывается индекс"
   ]
  },
  {
   "cell_type": "code",
   "execution_count": 160,
   "metadata": {
    "pycharm": {
     "name": "#%%\n"
    }
   },
   "outputs": [
    {
     "data": {
      "text/plain": [
       "Red      1\n",
       "Green    2\n",
       "Blue     3\n",
       "dtype: int64"
      ]
     },
     "execution_count": 160,
     "metadata": {},
     "output_type": "execute_result"
    }
   ],
   "source": [
    "pd.Series([1, 2, 3], index=[\"Red\", \"Green\", \"Blue\"])"
   ]
  },
  {
   "cell_type": "code",
   "execution_count": 161,
   "metadata": {
    "pycharm": {
     "name": "#%%\n"
    }
   },
   "outputs": [
    {
     "data": {
      "text/plain": [
       "Red      1\n",
       "Green    1\n",
       "Blue     1\n",
       "dtype: int64"
      ]
     },
     "execution_count": 161,
     "metadata": {},
     "output_type": "execute_result"
    }
   ],
   "source": [
    "pd.Series(1, index=[\"Red\", \"Green\", \"Blue\"])"
   ]
  },
  {
   "cell_type": "code",
   "execution_count": 162,
   "metadata": {
    "pycharm": {
     "name": "#%%\n"
    }
   },
   "outputs": [
    {
     "data": {
      "text/plain": [
       "Red      1\n",
       "Green    2\n",
       "Blue     3\n",
       "dtype: int64"
      ]
     },
     "execution_count": 162,
     "metadata": {},
     "output_type": "execute_result"
    }
   ],
   "source": [
    "pd.Series([1, 2, 3], index=[\"Red\", \"Green\", \"Blue\"])"
   ]
  },
  {
   "cell_type": "markdown",
   "metadata": {
    "pycharm": {
     "name": "#%% md\n"
    }
   },
   "source": [
    "Series можно перевести в DataFrame"
   ]
  },
  {
   "cell_type": "code",
   "execution_count": 163,
   "metadata": {
    "pycharm": {
     "name": "#%%\n"
    }
   },
   "outputs": [
    {
     "data": {
      "text/html": [
       "<div>\n",
       "<style scoped>\n",
       "    .dataframe tbody tr th:only-of-type {\n",
       "        vertical-align: middle;\n",
       "    }\n",
       "\n",
       "    .dataframe tbody tr th {\n",
       "        vertical-align: top;\n",
       "    }\n",
       "\n",
       "    .dataframe thead th {\n",
       "        text-align: right;\n",
       "    }\n",
       "</style>\n",
       "<table border=\"1\" class=\"dataframe\">\n",
       "  <thead>\n",
       "    <tr style=\"text-align: right;\">\n",
       "      <th></th>\n",
       "      <th>Values</th>\n",
       "    </tr>\n",
       "  </thead>\n",
       "  <tbody>\n",
       "    <tr>\n",
       "      <th>Red</th>\n",
       "      <td>1</td>\n",
       "    </tr>\n",
       "    <tr>\n",
       "      <th>Green</th>\n",
       "      <td>2</td>\n",
       "    </tr>\n",
       "    <tr>\n",
       "      <th>Blue</th>\n",
       "      <td>3</td>\n",
       "    </tr>\n",
       "  </tbody>\n",
       "</table>\n",
       "</div>"
      ],
      "text/plain": [
       "       Values\n",
       "Red         1\n",
       "Green       2\n",
       "Blue        3"
      ]
     },
     "execution_count": 163,
     "metadata": {},
     "output_type": "execute_result"
    }
   ],
   "source": [
    "s = pd.Series([1, 2, 3], index=[\"Red\", \"Green\", \"Blue\"])\n",
    "s.to_frame(\"Values\")"
   ]
  },
  {
   "cell_type": "code",
   "execution_count": 164,
   "metadata": {
    "pycharm": {
     "name": "#%%\n"
    }
   },
   "outputs": [
    {
     "data": {
      "text/plain": [
       "np.int64(1)"
      ]
     },
     "execution_count": 164,
     "metadata": {},
     "output_type": "execute_result"
    }
   ],
   "source": [
    "s.loc[\"Red\"]"
   ]
  },
  {
   "cell_type": "code",
   "execution_count": 165,
   "metadata": {
    "pycharm": {
     "name": "#%%\n"
    }
   },
   "outputs": [
    {
     "data": {
      "text/plain": [
       "np.int64(1)"
      ]
     },
     "execution_count": 165,
     "metadata": {},
     "output_type": "execute_result"
    }
   ],
   "source": [
    "s.iloc[0]"
   ]
  },
  {
   "cell_type": "markdown",
   "metadata": {},
   "source": [
    "### [Объединение таблиц](http://pandas.pydata.org/pandas-docs/stable/merging.html)"
   ]
  },
  {
   "cell_type": "markdown",
   "metadata": {
    "pycharm": {
     "name": "#%% md\n"
    }
   },
   "source": [
    "\n",
    "\n",
    "#### Concat \n",
    "- слияние таблиц по одной из осей\n",
    "- по умолчанию - по `axis=0`\n",
    "\n"
   ]
  },
  {
   "cell_type": "code",
   "execution_count": null,
   "metadata": {},
   "outputs": [],
   "source": [
    "df1 = pd.DataFrame({'A': [1, 2], 'B': [3, 4]})\n",
    "df2 = pd.DataFrame({'A': [5, 6], 'B': [7, 8]})\n",
    "\n",
    "# Вертикальное объединение\n",
    "result = pd.concat([df1, df2], ignore_index=True)\n",
    "\n",
    "# Горизонтальное объединение\n",
    "result_h = pd.concat([df1, df2], axis=1)\n",
    "\n",
    "print(result)\n",
    "print(\"=\" * 20)\n",
    "print(result_h)"
   ]
  },
  {
   "cell_type": "markdown",
   "metadata": {},
   "source": [
    "#### Merge \n",
    "- Это SQL JOIN по указанному ключу и стратегии\n",
    "- По умолчанию INNER"
   ]
  },
  {
   "cell_type": "code",
   "execution_count": 167,
   "metadata": {},
   "outputs": [
    {
     "name": "stdout",
     "output_type": "stream",
     "text": [
      "  key  value\n",
      "0   A      1\n",
      "1   B      2\n",
      "  key  value\n",
      "0   B      3\n",
      "1   C      4\n",
      "  key  value_x  value_y\n",
      "0   B        2        3\n",
      "====================\n",
      "  key  value_x  value_y\n",
      "0   A        1      NaN\n",
      "1   B        2      3.0\n"
     ]
    }
   ],
   "source": [
    "df1 = pd.DataFrame({'key': ['A', 'B'], 'value': [1, 2]})\n",
    "df2 = pd.DataFrame({'key': ['B', 'C'], 'value': [3, 4]})\n",
    "# Внутреннее соединение\n",
    "result = pd.merge(df1, df2, on='key', how='inner')\n",
    "\n",
    "# Левое соединение\n",
    "result_left = pd.merge(df1, df2, on='key', how='left')\n",
    "print(df1)\n",
    "print(df2)\n",
    "print(result)\n",
    "print(\"=\" * 20)\n",
    "print(result_left)"
   ]
  },
  {
   "cell_type": "markdown",
   "metadata": {},
   "source": [
    "\n",
    "#### Join \n",
    "- Это тот же merge, но только по индексу\n",
    "- Поддерживается inner, outer, left, right \n",
    "- По умолчанию left!"
   ]
  },
  {
   "cell_type": "code",
   "execution_count": 168,
   "metadata": {},
   "outputs": [
    {
     "name": "stdout",
     "output_type": "stream",
     "text": [
      "   A    B\n",
      "x  1  NaN\n",
      "y  2  3.0\n"
     ]
    }
   ],
   "source": [
    "df1 = pd.DataFrame({'A': [1, 2]}, index=['x', 'y'])\n",
    "df2 = pd.DataFrame({'B': [3, 4]}, index=['y', 'z'])\n",
    "\n",
    "# Соединение по индексу (левое)\n",
    "result = df1.join(df2, how='left')\n",
    "print(result)"
   ]
  },
  {
   "cell_type": "code",
   "execution_count": 169,
   "metadata": {
    "pycharm": {
     "name": "#%%\n"
    }
   },
   "outputs": [],
   "source": [
    "df1 = df[[\"Age\", \"Parch\"]].copy()\n",
    "df2 = df[[\"Ticket\", \"Fare\"]].copy()"
   ]
  },
  {
   "cell_type": "code",
   "execution_count": 170,
   "metadata": {
    "pycharm": {
     "name": "#%%\n"
    }
   },
   "outputs": [
    {
     "data": {
      "text/html": [
       "<div>\n",
       "<style scoped>\n",
       "    .dataframe tbody tr th:only-of-type {\n",
       "        vertical-align: middle;\n",
       "    }\n",
       "\n",
       "    .dataframe tbody tr th {\n",
       "        vertical-align: top;\n",
       "    }\n",
       "\n",
       "    .dataframe thead th {\n",
       "        text-align: right;\n",
       "    }\n",
       "</style>\n",
       "<table border=\"1\" class=\"dataframe\">\n",
       "  <thead>\n",
       "    <tr style=\"text-align: right;\">\n",
       "      <th></th>\n",
       "      <th>Age</th>\n",
       "      <th>Parch</th>\n",
       "      <th>Ticket</th>\n",
       "      <th>Fare</th>\n",
       "    </tr>\n",
       "  </thead>\n",
       "  <tbody>\n",
       "    <tr>\n",
       "      <th>96</th>\n",
       "      <td>71.0</td>\n",
       "      <td>0</td>\n",
       "      <td>PC 17754</td>\n",
       "      <td>34.6542</td>\n",
       "    </tr>\n",
       "    <tr>\n",
       "      <th>116</th>\n",
       "      <td>70.5</td>\n",
       "      <td>0</td>\n",
       "      <td>370369</td>\n",
       "      <td>7.7500</td>\n",
       "    </tr>\n",
       "    <tr>\n",
       "      <th>33</th>\n",
       "      <td>66.0</td>\n",
       "      <td>0</td>\n",
       "      <td>C.A. 24579</td>\n",
       "      <td>10.5000</td>\n",
       "    </tr>\n",
       "    <tr>\n",
       "      <th>54</th>\n",
       "      <td>65.0</td>\n",
       "      <td>1</td>\n",
       "      <td>113509</td>\n",
       "      <td>61.9792</td>\n",
       "    </tr>\n",
       "    <tr>\n",
       "      <th>94</th>\n",
       "      <td>59.0</td>\n",
       "      <td>0</td>\n",
       "      <td>364500</td>\n",
       "      <td>7.2500</td>\n",
       "    </tr>\n",
       "  </tbody>\n",
       "</table>\n",
       "</div>"
      ],
      "text/plain": [
       "      Age  Parch      Ticket     Fare\n",
       "96   71.0      0    PC 17754  34.6542\n",
       "116  70.5      0      370369   7.7500\n",
       "33   66.0      0  C.A. 24579  10.5000\n",
       "54   65.0      1      113509  61.9792\n",
       "94   59.0      0      364500   7.2500"
      ]
     },
     "execution_count": 170,
     "metadata": {},
     "output_type": "execute_result"
    }
   ],
   "source": [
    "df1.join(df2).head(5)"
   ]
  },
  {
   "cell_type": "code",
   "execution_count": 171,
   "metadata": {
    "pycharm": {
     "name": "#%%\n"
    }
   },
   "outputs": [],
   "source": [
    "df1 = df[[\"Age\", \"Parch\", \"PassengerId\"]].copy()\n",
    "df2 = df[[\"Ticket\", \"Fare\", \"PassengerId\"]].copy()"
   ]
  },
  {
   "cell_type": "code",
   "execution_count": 172,
   "metadata": {
    "pycharm": {
     "name": "#%%\n"
    }
   },
   "outputs": [
    {
     "data": {
      "text/html": [
       "<div>\n",
       "<style scoped>\n",
       "    .dataframe tbody tr th:only-of-type {\n",
       "        vertical-align: middle;\n",
       "    }\n",
       "\n",
       "    .dataframe tbody tr th {\n",
       "        vertical-align: top;\n",
       "    }\n",
       "\n",
       "    .dataframe thead th {\n",
       "        text-align: right;\n",
       "    }\n",
       "</style>\n",
       "<table border=\"1\" class=\"dataframe\">\n",
       "  <thead>\n",
       "    <tr style=\"text-align: right;\">\n",
       "      <th></th>\n",
       "      <th>Age</th>\n",
       "      <th>Parch</th>\n",
       "      <th>PassengerId</th>\n",
       "      <th>Ticket</th>\n",
       "      <th>Fare</th>\n",
       "    </tr>\n",
       "  </thead>\n",
       "  <tbody>\n",
       "    <tr>\n",
       "      <th>0</th>\n",
       "      <td>71.0</td>\n",
       "      <td>0</td>\n",
       "      <td>97</td>\n",
       "      <td>PC 17754</td>\n",
       "      <td>34.6542</td>\n",
       "    </tr>\n",
       "    <tr>\n",
       "      <th>1</th>\n",
       "      <td>70.5</td>\n",
       "      <td>0</td>\n",
       "      <td>117</td>\n",
       "      <td>370369</td>\n",
       "      <td>7.7500</td>\n",
       "    </tr>\n",
       "    <tr>\n",
       "      <th>2</th>\n",
       "      <td>66.0</td>\n",
       "      <td>0</td>\n",
       "      <td>34</td>\n",
       "      <td>C.A. 24579</td>\n",
       "      <td>10.5000</td>\n",
       "    </tr>\n",
       "    <tr>\n",
       "      <th>3</th>\n",
       "      <td>65.0</td>\n",
       "      <td>1</td>\n",
       "      <td>55</td>\n",
       "      <td>113509</td>\n",
       "      <td>61.9792</td>\n",
       "    </tr>\n",
       "    <tr>\n",
       "      <th>4</th>\n",
       "      <td>59.0</td>\n",
       "      <td>0</td>\n",
       "      <td>95</td>\n",
       "      <td>364500</td>\n",
       "      <td>7.2500</td>\n",
       "    </tr>\n",
       "  </tbody>\n",
       "</table>\n",
       "</div>"
      ],
      "text/plain": [
       "    Age  Parch  PassengerId      Ticket     Fare\n",
       "0  71.0      0           97    PC 17754  34.6542\n",
       "1  70.5      0          117      370369   7.7500\n",
       "2  66.0      0           34  C.A. 24579  10.5000\n",
       "3  65.0      1           55      113509  61.9792\n",
       "4  59.0      0           95      364500   7.2500"
      ]
     },
     "execution_count": 172,
     "metadata": {},
     "output_type": "execute_result"
    }
   ],
   "source": [
    "pd.merge(df1, df2, on=[\"PassengerId\"]).head(5)"
   ]
  },
  {
   "cell_type": "code",
   "execution_count": 173,
   "metadata": {
    "pycharm": {
     "name": "#%%\n"
    }
   },
   "outputs": [
    {
     "data": {
      "text/html": [
       "<div>\n",
       "<style scoped>\n",
       "    .dataframe tbody tr th:only-of-type {\n",
       "        vertical-align: middle;\n",
       "    }\n",
       "\n",
       "    .dataframe tbody tr th {\n",
       "        vertical-align: top;\n",
       "    }\n",
       "\n",
       "    .dataframe thead th {\n",
       "        text-align: right;\n",
       "    }\n",
       "</style>\n",
       "<table border=\"1\" class=\"dataframe\">\n",
       "  <thead>\n",
       "    <tr style=\"text-align: right;\">\n",
       "      <th></th>\n",
       "      <th>Age</th>\n",
       "      <th>Parch</th>\n",
       "      <th>PassengerId</th>\n",
       "      <th>Ticket</th>\n",
       "      <th>Fare</th>\n",
       "    </tr>\n",
       "  </thead>\n",
       "  <tbody>\n",
       "    <tr>\n",
       "      <th>0</th>\n",
       "      <td>71.0</td>\n",
       "      <td>0</td>\n",
       "      <td>97</td>\n",
       "      <td>PC 17754</td>\n",
       "      <td>34.6542</td>\n",
       "    </tr>\n",
       "    <tr>\n",
       "      <th>1</th>\n",
       "      <td>70.5</td>\n",
       "      <td>0</td>\n",
       "      <td>117</td>\n",
       "      <td>370369</td>\n",
       "      <td>7.7500</td>\n",
       "    </tr>\n",
       "    <tr>\n",
       "      <th>2</th>\n",
       "      <td>66.0</td>\n",
       "      <td>0</td>\n",
       "      <td>34</td>\n",
       "      <td>C.A. 24579</td>\n",
       "      <td>10.5000</td>\n",
       "    </tr>\n",
       "    <tr>\n",
       "      <th>3</th>\n",
       "      <td>65.0</td>\n",
       "      <td>1</td>\n",
       "      <td>55</td>\n",
       "      <td>113509</td>\n",
       "      <td>61.9792</td>\n",
       "    </tr>\n",
       "    <tr>\n",
       "      <th>4</th>\n",
       "      <td>59.0</td>\n",
       "      <td>0</td>\n",
       "      <td>95</td>\n",
       "      <td>364500</td>\n",
       "      <td>7.2500</td>\n",
       "    </tr>\n",
       "  </tbody>\n",
       "</table>\n",
       "</div>"
      ],
      "text/plain": [
       "    Age  Parch  PassengerId      Ticket     Fare\n",
       "0  71.0      0           97    PC 17754  34.6542\n",
       "1  70.5      0          117      370369   7.7500\n",
       "2  66.0      0           34  C.A. 24579  10.5000\n",
       "3  65.0      1           55      113509  61.9792\n",
       "4  59.0      0           95      364500   7.2500"
      ]
     },
     "execution_count": 173,
     "metadata": {},
     "output_type": "execute_result"
    }
   ],
   "source": [
    "pd.merge(df1, df2, on=[\"PassengerId\"], how=\"inner\").head(5)"
   ]
  },
  {
   "cell_type": "markdown",
   "metadata": {
    "pycharm": {
     "name": "#%% md\n"
    }
   },
   "source": [
    "### Группировка"
   ]
  },
  {
   "cell_type": "code",
   "execution_count": 174,
   "metadata": {
    "pycharm": {
     "name": "#%%\n"
    }
   },
   "outputs": [
    {
     "name": "stdout",
     "output_type": "stream",
     "text": [
      "Pclass 1:  36.86363636363637\n",
      "Pclass 2:  26.685769230769232\n",
      "Pclass 3:  23.26923076923077\n"
     ]
    }
   ],
   "source": [
    "print(\"Pclass 1: \", df[df[\"Pclass\"] == 1][\"Age\"].mean())\n",
    "print(\"Pclass 2: \", df[df[\"Pclass\"] == 2][\"Age\"].mean())\n",
    "print(\"Pclass 3: \", df[df[\"Pclass\"] == 3][\"Age\"].mean())"
   ]
  },
  {
   "cell_type": "code",
   "execution_count": 175,
   "metadata": {
    "pycharm": {
     "name": "#%%\n"
    }
   },
   "outputs": [
    {
     "data": {
      "text/html": [
       "<div>\n",
       "<style scoped>\n",
       "    .dataframe tbody tr th:only-of-type {\n",
       "        vertical-align: middle;\n",
       "    }\n",
       "\n",
       "    .dataframe tbody tr th {\n",
       "        vertical-align: top;\n",
       "    }\n",
       "\n",
       "    .dataframe thead th {\n",
       "        text-align: right;\n",
       "    }\n",
       "</style>\n",
       "<table border=\"1\" class=\"dataframe\">\n",
       "  <thead>\n",
       "    <tr style=\"text-align: right;\">\n",
       "      <th></th>\n",
       "      <th>Age</th>\n",
       "    </tr>\n",
       "    <tr>\n",
       "      <th>Pclass</th>\n",
       "      <th></th>\n",
       "    </tr>\n",
       "  </thead>\n",
       "  <tbody>\n",
       "    <tr>\n",
       "      <th>1</th>\n",
       "      <td>36.863636</td>\n",
       "    </tr>\n",
       "    <tr>\n",
       "      <th>2</th>\n",
       "      <td>26.685769</td>\n",
       "    </tr>\n",
       "    <tr>\n",
       "      <th>3</th>\n",
       "      <td>23.269231</td>\n",
       "    </tr>\n",
       "  </tbody>\n",
       "</table>\n",
       "</div>"
      ],
      "text/plain": [
       "              Age\n",
       "Pclass           \n",
       "1       36.863636\n",
       "2       26.685769\n",
       "3       23.269231"
      ]
     },
     "execution_count": 175,
     "metadata": {},
     "output_type": "execute_result"
    }
   ],
   "source": [
    "df.groupby([\"Pclass\"])[[\"Age\"]].mean()"
   ]
  },
  {
   "cell_type": "code",
   "execution_count": 178,
   "metadata": {},
   "outputs": [
    {
     "data": {
      "text/html": [
       "<div>\n",
       "<style scoped>\n",
       "    .dataframe tbody tr th:only-of-type {\n",
       "        vertical-align: middle;\n",
       "    }\n",
       "\n",
       "    .dataframe tbody tr th {\n",
       "        vertical-align: top;\n",
       "    }\n",
       "\n",
       "    .dataframe thead th {\n",
       "        text-align: right;\n",
       "    }\n",
       "</style>\n",
       "<table border=\"1\" class=\"dataframe\">\n",
       "  <thead>\n",
       "    <tr style=\"text-align: right;\">\n",
       "      <th></th>\n",
       "      <th>Pclass</th>\n",
       "      <th>Sex</th>\n",
       "      <th>Age</th>\n",
       "    </tr>\n",
       "  </thead>\n",
       "  <tbody>\n",
       "    <tr>\n",
       "      <th>0</th>\n",
       "      <td>1</td>\n",
       "      <td>female</td>\n",
       "      <td>21.333333</td>\n",
       "    </tr>\n",
       "    <tr>\n",
       "      <th>1</th>\n",
       "      <td>1</td>\n",
       "      <td>male</td>\n",
       "      <td>39.315789</td>\n",
       "    </tr>\n",
       "    <tr>\n",
       "      <th>2</th>\n",
       "      <td>2</td>\n",
       "      <td>female</td>\n",
       "      <td>19.333333</td>\n",
       "    </tr>\n",
       "    <tr>\n",
       "      <th>3</th>\n",
       "      <td>2</td>\n",
       "      <td>male</td>\n",
       "      <td>30.578235</td>\n",
       "    </tr>\n",
       "    <tr>\n",
       "      <th>4</th>\n",
       "      <td>3</td>\n",
       "      <td>female</td>\n",
       "      <td>17.431818</td>\n",
       "    </tr>\n",
       "    <tr>\n",
       "      <th>5</th>\n",
       "      <td>3</td>\n",
       "      <td>male</td>\n",
       "      <td>26.255814</td>\n",
       "    </tr>\n",
       "  </tbody>\n",
       "</table>\n",
       "</div>"
      ],
      "text/plain": [
       "   Pclass     Sex        Age\n",
       "0       1  female  21.333333\n",
       "1       1    male  39.315789\n",
       "2       2  female  19.333333\n",
       "3       2    male  30.578235\n",
       "4       3  female  17.431818\n",
       "5       3    male  26.255814"
      ]
     },
     "execution_count": 178,
     "metadata": {},
     "output_type": "execute_result"
    }
   ],
   "source": [
    "df.groupby([\"Pclass\", \"Sex\"], as_index=False).aggregate({\"Age\": \"mean\"}) # as_index=False"
   ]
  },
  {
   "cell_type": "code",
   "execution_count": 188,
   "metadata": {},
   "outputs": [
    {
     "data": {
      "text/html": [
       "<div>\n",
       "<style scoped>\n",
       "    .dataframe tbody tr th:only-of-type {\n",
       "        vertical-align: middle;\n",
       "    }\n",
       "\n",
       "    .dataframe tbody tr th {\n",
       "        vertical-align: top;\n",
       "    }\n",
       "\n",
       "    .dataframe thead th {\n",
       "        text-align: right;\n",
       "    }\n",
       "</style>\n",
       "<table border=\"1\" class=\"dataframe\">\n",
       "  <thead>\n",
       "    <tr style=\"text-align: right;\">\n",
       "      <th></th>\n",
       "      <th>Pclass</th>\n",
       "      <th>Sex</th>\n",
       "      <th>Age</th>\n",
       "      <th>Fare</th>\n",
       "    </tr>\n",
       "  </thead>\n",
       "  <tbody>\n",
       "    <tr>\n",
       "      <th>0</th>\n",
       "      <td>1</td>\n",
       "      <td>female</td>\n",
       "      <td>21.333333</td>\n",
       "      <td>502.4041</td>\n",
       "    </tr>\n",
       "    <tr>\n",
       "      <th>1</th>\n",
       "      <td>1</td>\n",
       "      <td>male</td>\n",
       "      <td>39.315789</td>\n",
       "      <td>1574.9916</td>\n",
       "    </tr>\n",
       "    <tr>\n",
       "      <th>2</th>\n",
       "      <td>2</td>\n",
       "      <td>female</td>\n",
       "      <td>19.333333</td>\n",
       "      <td>203.9000</td>\n",
       "    </tr>\n",
       "    <tr>\n",
       "      <th>3</th>\n",
       "      <td>2</td>\n",
       "      <td>male</td>\n",
       "      <td>30.578235</td>\n",
       "      <td>570.8916</td>\n",
       "    </tr>\n",
       "    <tr>\n",
       "      <th>4</th>\n",
       "      <td>3</td>\n",
       "      <td>female</td>\n",
       "      <td>17.431818</td>\n",
       "      <td>639.3167</td>\n",
       "    </tr>\n",
       "    <tr>\n",
       "      <th>5</th>\n",
       "      <td>3</td>\n",
       "      <td>male</td>\n",
       "      <td>26.255814</td>\n",
       "      <td>1037.8544</td>\n",
       "    </tr>\n",
       "  </tbody>\n",
       "</table>\n",
       "</div>"
      ],
      "text/plain": [
       "   Pclass     Sex        Age       Fare\n",
       "0       1  female  21.333333   502.4041\n",
       "1       1    male  39.315789  1574.9916\n",
       "2       2  female  19.333333   203.9000\n",
       "3       2    male  30.578235   570.8916\n",
       "4       3  female  17.431818   639.3167\n",
       "5       3    male  26.255814  1037.8544"
      ]
     },
     "execution_count": 188,
     "metadata": {},
     "output_type": "execute_result"
    }
   ],
   "source": [
    "df.groupby([\"Pclass\", \"Sex\"]).aggregate({\"Age\": lambda x: x.mean(), \"Fare\": \"sum\"}).reset_index()"
   ]
  },
  {
   "cell_type": "code",
   "execution_count": 176,
   "metadata": {
    "pycharm": {
     "name": "#%%\n"
    }
   },
   "outputs": [
    {
     "data": {
      "text/plain": [
       "<pandas.core.groupby.generic.DataFrameGroupBy object at 0x10dd26640>"
      ]
     },
     "execution_count": 176,
     "metadata": {},
     "output_type": "execute_result"
    }
   ],
   "source": [
    "df.groupby([\"Survived\", \"Pclass\"])"
   ]
  },
  {
   "cell_type": "code",
   "execution_count": 180,
   "metadata": {
    "pycharm": {
     "name": "#%%\n"
    }
   },
   "outputs": [
    {
     "data": {
      "text/plain": [
       "Survived  Pclass\n",
       "0         1         18\n",
       "          2         16\n",
       "          3         65\n",
       "1         1          7\n",
       "          2         11\n",
       "          3         26\n",
       "Name: PassengerId, dtype: int64"
      ]
     },
     "execution_count": 180,
     "metadata": {},
     "output_type": "execute_result"
    }
   ],
   "source": [
    "df.groupby([\"Survived\", \"Pclass\"])[\"PassengerId\"].count()"
   ]
  },
  {
   "cell_type": "code",
   "execution_count": 182,
   "metadata": {
    "pycharm": {
     "name": "#%%\n"
    }
   },
   "outputs": [
    {
     "data": {
      "text/html": [
       "<div>\n",
       "<style scoped>\n",
       "    .dataframe tbody tr th:only-of-type {\n",
       "        vertical-align: middle;\n",
       "    }\n",
       "\n",
       "    .dataframe tbody tr th {\n",
       "        vertical-align: top;\n",
       "    }\n",
       "\n",
       "    .dataframe thead th {\n",
       "        text-align: right;\n",
       "    }\n",
       "</style>\n",
       "<table border=\"1\" class=\"dataframe\">\n",
       "  <thead>\n",
       "    <tr style=\"text-align: right;\">\n",
       "      <th></th>\n",
       "      <th></th>\n",
       "      <th>PassengerId</th>\n",
       "      <th>Cabin</th>\n",
       "    </tr>\n",
       "    <tr>\n",
       "      <th>Survived</th>\n",
       "      <th>Pclass</th>\n",
       "      <th></th>\n",
       "      <th></th>\n",
       "    </tr>\n",
       "  </thead>\n",
       "  <tbody>\n",
       "    <tr>\n",
       "      <th rowspan=\"3\" valign=\"top\">0</th>\n",
       "      <th>1</th>\n",
       "      <td>18</td>\n",
       "      <td>12</td>\n",
       "    </tr>\n",
       "    <tr>\n",
       "      <th>2</th>\n",
       "      <td>16</td>\n",
       "      <td>1</td>\n",
       "    </tr>\n",
       "    <tr>\n",
       "      <th>3</th>\n",
       "      <td>65</td>\n",
       "      <td>1</td>\n",
       "    </tr>\n",
       "    <tr>\n",
       "      <th rowspan=\"3\" valign=\"top\">1</th>\n",
       "      <th>1</th>\n",
       "      <td>7</td>\n",
       "      <td>7</td>\n",
       "    </tr>\n",
       "    <tr>\n",
       "      <th>2</th>\n",
       "      <td>11</td>\n",
       "      <td>2</td>\n",
       "    </tr>\n",
       "    <tr>\n",
       "      <th>3</th>\n",
       "      <td>26</td>\n",
       "      <td>2</td>\n",
       "    </tr>\n",
       "  </tbody>\n",
       "</table>\n",
       "</div>"
      ],
      "text/plain": [
       "                 PassengerId  Cabin\n",
       "Survived Pclass                    \n",
       "0        1                18     12\n",
       "         2                16      1\n",
       "         3                65      1\n",
       "1        1                 7      7\n",
       "         2                11      2\n",
       "         3                26      2"
      ]
     },
     "execution_count": 182,
     "metadata": {},
     "output_type": "execute_result"
    }
   ],
   "source": [
    "df.groupby([\"Survived\", \"Pclass\"])[[\"PassengerId\", \"Cabin\"]].count()"
   ]
  },
  {
   "cell_type": "code",
   "execution_count": 183,
   "metadata": {
    "pycharm": {
     "name": "#%%\n"
    }
   },
   "outputs": [
    {
     "data": {
      "text/html": [
       "<div>\n",
       "<style scoped>\n",
       "    .dataframe tbody tr th:only-of-type {\n",
       "        vertical-align: middle;\n",
       "    }\n",
       "\n",
       "    .dataframe tbody tr th {\n",
       "        vertical-align: top;\n",
       "    }\n",
       "\n",
       "    .dataframe thead tr th {\n",
       "        text-align: left;\n",
       "    }\n",
       "\n",
       "    .dataframe thead tr:last-of-type th {\n",
       "        text-align: right;\n",
       "    }\n",
       "</style>\n",
       "<table border=\"1\" class=\"dataframe\">\n",
       "  <thead>\n",
       "    <tr>\n",
       "      <th></th>\n",
       "      <th></th>\n",
       "      <th colspan=\"8\" halign=\"left\">PassengerId</th>\n",
       "      <th colspan=\"8\" halign=\"left\">Fare</th>\n",
       "    </tr>\n",
       "    <tr>\n",
       "      <th></th>\n",
       "      <th></th>\n",
       "      <th>count</th>\n",
       "      <th>mean</th>\n",
       "      <th>std</th>\n",
       "      <th>min</th>\n",
       "      <th>25%</th>\n",
       "      <th>50%</th>\n",
       "      <th>75%</th>\n",
       "      <th>max</th>\n",
       "      <th>count</th>\n",
       "      <th>mean</th>\n",
       "      <th>std</th>\n",
       "      <th>min</th>\n",
       "      <th>25%</th>\n",
       "      <th>50%</th>\n",
       "      <th>75%</th>\n",
       "      <th>max</th>\n",
       "    </tr>\n",
       "    <tr>\n",
       "      <th>Survived</th>\n",
       "      <th>Pclass</th>\n",
       "      <th></th>\n",
       "      <th></th>\n",
       "      <th></th>\n",
       "      <th></th>\n",
       "      <th></th>\n",
       "      <th></th>\n",
       "      <th></th>\n",
       "      <th></th>\n",
       "      <th></th>\n",
       "      <th></th>\n",
       "      <th></th>\n",
       "      <th></th>\n",
       "      <th></th>\n",
       "      <th></th>\n",
       "      <th></th>\n",
       "      <th></th>\n",
       "    </tr>\n",
       "  </thead>\n",
       "  <tbody>\n",
       "    <tr>\n",
       "      <th rowspan=\"3\" valign=\"top\">0</th>\n",
       "      <th>1</th>\n",
       "      <td>18.0</td>\n",
       "      <td>82.555556</td>\n",
       "      <td>44.501450</td>\n",
       "      <td>7.0</td>\n",
       "      <td>40.75</td>\n",
       "      <td>88.5</td>\n",
       "      <td>117.00</td>\n",
       "      <td>156.0</td>\n",
       "      <td>18.0</td>\n",
       "      <td>80.035183</td>\n",
       "      <td>66.109719</td>\n",
       "      <td>27.7208</td>\n",
       "      <td>51.896875</td>\n",
       "      <td>61.2771</td>\n",
       "      <td>78.721875</td>\n",
       "      <td>263.0000</td>\n",
       "    </tr>\n",
       "    <tr>\n",
       "      <th>2</th>\n",
       "      <td>16.0</td>\n",
       "      <td>107.187500</td>\n",
       "      <td>44.842270</td>\n",
       "      <td>21.0</td>\n",
       "      <td>72.50</td>\n",
       "      <td>122.0</td>\n",
       "      <td>145.25</td>\n",
       "      <td>151.0</td>\n",
       "      <td>16.0</td>\n",
       "      <td>33.555725</td>\n",
       "      <td>32.412477</td>\n",
       "      <td>10.5000</td>\n",
       "      <td>12.881250</td>\n",
       "      <td>23.5000</td>\n",
       "      <td>31.740600</td>\n",
       "      <td>130.0000</td>\n",
       "    </tr>\n",
       "    <tr>\n",
       "      <th>3</th>\n",
       "      <td>65.0</td>\n",
       "      <td>80.892308</td>\n",
       "      <td>42.930585</td>\n",
       "      <td>1.0</td>\n",
       "      <td>49.00</td>\n",
       "      <td>87.0</td>\n",
       "      <td>114.00</td>\n",
       "      <td>155.0</td>\n",
       "      <td>65.0</td>\n",
       "      <td>19.123272</td>\n",
       "      <td>20.710190</td>\n",
       "      <td>6.7500</td>\n",
       "      <td>7.895800</td>\n",
       "      <td>8.0500</td>\n",
       "      <td>21.075000</td>\n",
       "      <td>98.2500</td>\n",
       "    </tr>\n",
       "    <tr>\n",
       "      <th rowspan=\"3\" valign=\"top\">1</th>\n",
       "      <th>1</th>\n",
       "      <td>7.0</td>\n",
       "      <td>84.000000</td>\n",
       "      <td>49.568135</td>\n",
       "      <td>24.0</td>\n",
       "      <td>44.00</td>\n",
       "      <td>89.0</td>\n",
       "      <td>117.50</td>\n",
       "      <td>152.0</td>\n",
       "      <td>7.0</td>\n",
       "      <td>90.966057</td>\n",
       "      <td>85.998766</td>\n",
       "      <td>26.2833</td>\n",
       "      <td>35.500000</td>\n",
       "      <td>63.3583</td>\n",
       "      <td>106.560400</td>\n",
       "      <td>263.0000</td>\n",
       "    </tr>\n",
       "    <tr>\n",
       "      <th>2</th>\n",
       "      <td>11.0</td>\n",
       "      <td>57.181818</td>\n",
       "      <td>35.261362</td>\n",
       "      <td>10.0</td>\n",
       "      <td>33.00</td>\n",
       "      <td>57.0</td>\n",
       "      <td>73.00</td>\n",
       "      <td>134.0</td>\n",
       "      <td>11.0</td>\n",
       "      <td>21.627273</td>\n",
       "      <td>10.581905</td>\n",
       "      <td>10.5000</td>\n",
       "      <td>11.750000</td>\n",
       "      <td>26.0000</td>\n",
       "      <td>28.375000</td>\n",
       "      <td>41.5792</td>\n",
       "    </tr>\n",
       "    <tr>\n",
       "      <th>3</th>\n",
       "      <td>26.0</td>\n",
       "      <td>72.807692</td>\n",
       "      <td>46.318048</td>\n",
       "      <td>3.0</td>\n",
       "      <td>34.00</td>\n",
       "      <td>72.0</td>\n",
       "      <td>109.50</td>\n",
       "      <td>147.0</td>\n",
       "      <td>26.0</td>\n",
       "      <td>16.698400</td>\n",
       "      <td>24.254889</td>\n",
       "      <td>7.1417</td>\n",
       "      <td>7.756250</td>\n",
       "      <td>7.9250</td>\n",
       "      <td>14.244775</td>\n",
       "      <td>124.7500</td>\n",
       "    </tr>\n",
       "  </tbody>\n",
       "</table>\n",
       "</div>"
      ],
      "text/plain": [
       "                PassengerId                                             \\\n",
       "                      count        mean        std   min    25%    50%   \n",
       "Survived Pclass                                                          \n",
       "0        1             18.0   82.555556  44.501450   7.0  40.75   88.5   \n",
       "         2             16.0  107.187500  44.842270  21.0  72.50  122.0   \n",
       "         3             65.0   80.892308  42.930585   1.0  49.00   87.0   \n",
       "1        1              7.0   84.000000  49.568135  24.0  44.00   89.0   \n",
       "         2             11.0   57.181818  35.261362  10.0  33.00   57.0   \n",
       "         3             26.0   72.807692  46.318048   3.0  34.00   72.0   \n",
       "\n",
       "                                Fare                                 \\\n",
       "                    75%    max count       mean        std      min   \n",
       "Survived Pclass                                                       \n",
       "0        1       117.00  156.0  18.0  80.035183  66.109719  27.7208   \n",
       "         2       145.25  151.0  16.0  33.555725  32.412477  10.5000   \n",
       "         3       114.00  155.0  65.0  19.123272  20.710190   6.7500   \n",
       "1        1       117.50  152.0   7.0  90.966057  85.998766  26.2833   \n",
       "         2        73.00  134.0  11.0  21.627273  10.581905  10.5000   \n",
       "         3       109.50  147.0  26.0  16.698400  24.254889   7.1417   \n",
       "\n",
       "                                                           \n",
       "                       25%      50%         75%       max  \n",
       "Survived Pclass                                            \n",
       "0        1       51.896875  61.2771   78.721875  263.0000  \n",
       "         2       12.881250  23.5000   31.740600  130.0000  \n",
       "         3        7.895800   8.0500   21.075000   98.2500  \n",
       "1        1       35.500000  63.3583  106.560400  263.0000  \n",
       "         2       11.750000  26.0000   28.375000   41.5792  \n",
       "         3        7.756250   7.9250   14.244775  124.7500  "
      ]
     },
     "execution_count": 183,
     "metadata": {},
     "output_type": "execute_result"
    }
   ],
   "source": [
    "df.groupby([\"Survived\", \"Pclass\"])[[\"PassengerId\", \"Fare\"]].describe()"
   ]
  },
  {
   "cell_type": "markdown",
   "metadata": {
    "pycharm": {
     "name": "#%% md\n"
    }
   },
   "source": [
    "### Работа с timestamp'ами"
   ]
  },
  {
   "cell_type": "markdown",
   "metadata": {},
   "source": [
    "<div class=\"alert alert-info\">\n",
    "    <b>Замечание:</b> Про питоновский timestamp у вас была\\будет лекция. Очень рекомендую её посмотреть.\n",
    "</div>"
   ]
  },
  {
   "cell_type": "code",
   "execution_count": 189,
   "metadata": {
    "pycharm": {
     "name": "#%%\n"
    }
   },
   "outputs": [],
   "source": [
    "tdf = df.copy()\n",
    "tdf[\"ts\"] = range(1560000000, 1560000000 + tdf.shape[0])"
   ]
  },
  {
   "cell_type": "code",
   "execution_count": 190,
   "metadata": {
    "pycharm": {
     "name": "#%%\n"
    }
   },
   "outputs": [
    {
     "data": {
      "text/html": [
       "<div>\n",
       "<style scoped>\n",
       "    .dataframe tbody tr th:only-of-type {\n",
       "        vertical-align: middle;\n",
       "    }\n",
       "\n",
       "    .dataframe tbody tr th {\n",
       "        vertical-align: top;\n",
       "    }\n",
       "\n",
       "    .dataframe thead th {\n",
       "        text-align: right;\n",
       "    }\n",
       "</style>\n",
       "<table border=\"1\" class=\"dataframe\">\n",
       "  <thead>\n",
       "    <tr style=\"text-align: right;\">\n",
       "      <th></th>\n",
       "      <th>PassengerId</th>\n",
       "      <th>Survived</th>\n",
       "      <th>Pclass</th>\n",
       "      <th>Lname</th>\n",
       "      <th>Name</th>\n",
       "      <th>Sex</th>\n",
       "      <th>Age</th>\n",
       "      <th>SibSp</th>\n",
       "      <th>Parch</th>\n",
       "      <th>Ticket</th>\n",
       "      <th>Fare</th>\n",
       "      <th>Cabin</th>\n",
       "      <th>Embarked</th>\n",
       "      <th>ts</th>\n",
       "    </tr>\n",
       "  </thead>\n",
       "  <tbody>\n",
       "    <tr>\n",
       "      <th>96</th>\n",
       "      <td>97</td>\n",
       "      <td>0</td>\n",
       "      <td>1</td>\n",
       "      <td>Goldschmidt</td>\n",
       "      <td>Mr. George B</td>\n",
       "      <td>male</td>\n",
       "      <td>71.0</td>\n",
       "      <td>0</td>\n",
       "      <td>0</td>\n",
       "      <td>PC 17754</td>\n",
       "      <td>34.6542</td>\n",
       "      <td>A5</td>\n",
       "      <td>C</td>\n",
       "      <td>1560000000</td>\n",
       "    </tr>\n",
       "    <tr>\n",
       "      <th>116</th>\n",
       "      <td>117</td>\n",
       "      <td>0</td>\n",
       "      <td>3</td>\n",
       "      <td>Connors</td>\n",
       "      <td>Mr. Patrick</td>\n",
       "      <td>male</td>\n",
       "      <td>70.5</td>\n",
       "      <td>0</td>\n",
       "      <td>0</td>\n",
       "      <td>370369</td>\n",
       "      <td>7.7500</td>\n",
       "      <td>NaN</td>\n",
       "      <td>Q</td>\n",
       "      <td>1560000001</td>\n",
       "    </tr>\n",
       "  </tbody>\n",
       "</table>\n",
       "</div>"
      ],
      "text/plain": [
       "     PassengerId  Survived  Pclass        Lname           Name   Sex   Age  \\\n",
       "96            97         0       1  Goldschmidt   Mr. George B  male  71.0   \n",
       "116          117         0       3      Connors    Mr. Patrick  male  70.5   \n",
       "\n",
       "     SibSp  Parch    Ticket     Fare Cabin Embarked          ts  \n",
       "96       0      0  PC 17754  34.6542    A5        C  1560000000  \n",
       "116      0      0    370369   7.7500   NaN        Q  1560000001  "
      ]
     },
     "execution_count": 190,
     "metadata": {},
     "output_type": "execute_result"
    }
   ],
   "source": [
    "tdf.head(2)"
   ]
  },
  {
   "cell_type": "code",
   "execution_count": 191,
   "metadata": {
    "pycharm": {
     "name": "#%%\n"
    }
   },
   "outputs": [],
   "source": [
    "tdf[\"ts\"] = pd.to_datetime(tdf[\"ts\"], unit=\"s\")"
   ]
  },
  {
   "cell_type": "code",
   "execution_count": 192,
   "metadata": {
    "pycharm": {
     "name": "#%%\n"
    }
   },
   "outputs": [
    {
     "data": {
      "text/html": [
       "<div>\n",
       "<style scoped>\n",
       "    .dataframe tbody tr th:only-of-type {\n",
       "        vertical-align: middle;\n",
       "    }\n",
       "\n",
       "    .dataframe tbody tr th {\n",
       "        vertical-align: top;\n",
       "    }\n",
       "\n",
       "    .dataframe thead th {\n",
       "        text-align: right;\n",
       "    }\n",
       "</style>\n",
       "<table border=\"1\" class=\"dataframe\">\n",
       "  <thead>\n",
       "    <tr style=\"text-align: right;\">\n",
       "      <th></th>\n",
       "      <th>PassengerId</th>\n",
       "      <th>Survived</th>\n",
       "      <th>Pclass</th>\n",
       "      <th>Lname</th>\n",
       "      <th>Name</th>\n",
       "      <th>Sex</th>\n",
       "      <th>Age</th>\n",
       "      <th>SibSp</th>\n",
       "      <th>Parch</th>\n",
       "      <th>Ticket</th>\n",
       "      <th>Fare</th>\n",
       "      <th>Cabin</th>\n",
       "      <th>Embarked</th>\n",
       "      <th>ts</th>\n",
       "    </tr>\n",
       "  </thead>\n",
       "  <tbody>\n",
       "    <tr>\n",
       "      <th>96</th>\n",
       "      <td>97</td>\n",
       "      <td>0</td>\n",
       "      <td>1</td>\n",
       "      <td>Goldschmidt</td>\n",
       "      <td>Mr. George B</td>\n",
       "      <td>male</td>\n",
       "      <td>71.0</td>\n",
       "      <td>0</td>\n",
       "      <td>0</td>\n",
       "      <td>PC 17754</td>\n",
       "      <td>34.6542</td>\n",
       "      <td>A5</td>\n",
       "      <td>C</td>\n",
       "      <td>2019-06-08 13:20:00</td>\n",
       "    </tr>\n",
       "    <tr>\n",
       "      <th>116</th>\n",
       "      <td>117</td>\n",
       "      <td>0</td>\n",
       "      <td>3</td>\n",
       "      <td>Connors</td>\n",
       "      <td>Mr. Patrick</td>\n",
       "      <td>male</td>\n",
       "      <td>70.5</td>\n",
       "      <td>0</td>\n",
       "      <td>0</td>\n",
       "      <td>370369</td>\n",
       "      <td>7.7500</td>\n",
       "      <td>NaN</td>\n",
       "      <td>Q</td>\n",
       "      <td>2019-06-08 13:20:01</td>\n",
       "    </tr>\n",
       "  </tbody>\n",
       "</table>\n",
       "</div>"
      ],
      "text/plain": [
       "     PassengerId  Survived  Pclass        Lname           Name   Sex   Age  \\\n",
       "96            97         0       1  Goldschmidt   Mr. George B  male  71.0   \n",
       "116          117         0       3      Connors    Mr. Patrick  male  70.5   \n",
       "\n",
       "     SibSp  Parch    Ticket     Fare Cabin Embarked                  ts  \n",
       "96       0      0  PC 17754  34.6542    A5        C 2019-06-08 13:20:00  \n",
       "116      0      0    370369   7.7500   NaN        Q 2019-06-08 13:20:01  "
      ]
     },
     "execution_count": 192,
     "metadata": {},
     "output_type": "execute_result"
    }
   ],
   "source": [
    "tdf.head(2)"
   ]
  },
  {
   "cell_type": "code",
   "execution_count": 193,
   "metadata": {
    "pycharm": {
     "name": "#%%\n"
    }
   },
   "outputs": [],
   "source": [
    "tdf.set_index(\"ts\", inplace=True)"
   ]
  },
  {
   "cell_type": "code",
   "execution_count": 194,
   "metadata": {},
   "outputs": [
    {
     "data": {
      "text/html": [
       "<div>\n",
       "<style scoped>\n",
       "    .dataframe tbody tr th:only-of-type {\n",
       "        vertical-align: middle;\n",
       "    }\n",
       "\n",
       "    .dataframe tbody tr th {\n",
       "        vertical-align: top;\n",
       "    }\n",
       "\n",
       "    .dataframe thead th {\n",
       "        text-align: right;\n",
       "    }\n",
       "</style>\n",
       "<table border=\"1\" class=\"dataframe\">\n",
       "  <thead>\n",
       "    <tr style=\"text-align: right;\">\n",
       "      <th></th>\n",
       "      <th>PassengerId</th>\n",
       "      <th>Survived</th>\n",
       "      <th>Pclass</th>\n",
       "      <th>Lname</th>\n",
       "      <th>Name</th>\n",
       "      <th>Sex</th>\n",
       "      <th>Age</th>\n",
       "      <th>SibSp</th>\n",
       "      <th>Parch</th>\n",
       "      <th>Ticket</th>\n",
       "      <th>Fare</th>\n",
       "      <th>Cabin</th>\n",
       "      <th>Embarked</th>\n",
       "    </tr>\n",
       "    <tr>\n",
       "      <th>ts</th>\n",
       "      <th></th>\n",
       "      <th></th>\n",
       "      <th></th>\n",
       "      <th></th>\n",
       "      <th></th>\n",
       "      <th></th>\n",
       "      <th></th>\n",
       "      <th></th>\n",
       "      <th></th>\n",
       "      <th></th>\n",
       "      <th></th>\n",
       "      <th></th>\n",
       "      <th></th>\n",
       "    </tr>\n",
       "  </thead>\n",
       "  <tbody>\n",
       "    <tr>\n",
       "      <th>2019-06-08 13:20:00</th>\n",
       "      <td>97</td>\n",
       "      <td>0</td>\n",
       "      <td>1</td>\n",
       "      <td>Goldschmidt</td>\n",
       "      <td>Mr. George B</td>\n",
       "      <td>male</td>\n",
       "      <td>71.0</td>\n",
       "      <td>0</td>\n",
       "      <td>0</td>\n",
       "      <td>PC 17754</td>\n",
       "      <td>34.6542</td>\n",
       "      <td>A5</td>\n",
       "      <td>C</td>\n",
       "    </tr>\n",
       "    <tr>\n",
       "      <th>2019-06-08 13:20:01</th>\n",
       "      <td>117</td>\n",
       "      <td>0</td>\n",
       "      <td>3</td>\n",
       "      <td>Connors</td>\n",
       "      <td>Mr. Patrick</td>\n",
       "      <td>male</td>\n",
       "      <td>70.5</td>\n",
       "      <td>0</td>\n",
       "      <td>0</td>\n",
       "      <td>370369</td>\n",
       "      <td>7.7500</td>\n",
       "      <td>NaN</td>\n",
       "      <td>Q</td>\n",
       "    </tr>\n",
       "  </tbody>\n",
       "</table>\n",
       "</div>"
      ],
      "text/plain": [
       "                     PassengerId  Survived  Pclass        Lname  \\\n",
       "ts                                                                \n",
       "2019-06-08 13:20:00           97         0       1  Goldschmidt   \n",
       "2019-06-08 13:20:01          117         0       3      Connors   \n",
       "\n",
       "                              Name   Sex   Age  SibSp  Parch    Ticket  \\\n",
       "ts                                                                       \n",
       "2019-06-08 13:20:00   Mr. George B  male  71.0      0      0  PC 17754   \n",
       "2019-06-08 13:20:01    Mr. Patrick  male  70.5      0      0    370369   \n",
       "\n",
       "                        Fare Cabin Embarked  \n",
       "ts                                           \n",
       "2019-06-08 13:20:00  34.6542    A5        C  \n",
       "2019-06-08 13:20:01   7.7500   NaN        Q  "
      ]
     },
     "execution_count": 194,
     "metadata": {},
     "output_type": "execute_result"
    }
   ],
   "source": [
    "tdf.head(2)"
   ]
  },
  {
   "cell_type": "code",
   "execution_count": 195,
   "metadata": {
    "pycharm": {
     "name": "#%%\n"
    }
   },
   "outputs": [
    {
     "data": {
      "text/html": [
       "<div>\n",
       "<style scoped>\n",
       "    .dataframe tbody tr th:only-of-type {\n",
       "        vertical-align: middle;\n",
       "    }\n",
       "\n",
       "    .dataframe tbody tr th {\n",
       "        vertical-align: top;\n",
       "    }\n",
       "\n",
       "    .dataframe thead th {\n",
       "        text-align: right;\n",
       "    }\n",
       "</style>\n",
       "<table border=\"1\" class=\"dataframe\">\n",
       "  <thead>\n",
       "    <tr style=\"text-align: right;\">\n",
       "      <th></th>\n",
       "      <th>PassengerId</th>\n",
       "      <th>Survived</th>\n",
       "      <th>Pclass</th>\n",
       "      <th>Sex</th>\n",
       "    </tr>\n",
       "    <tr>\n",
       "      <th>ts</th>\n",
       "      <th></th>\n",
       "      <th></th>\n",
       "      <th></th>\n",
       "      <th></th>\n",
       "    </tr>\n",
       "  </thead>\n",
       "  <tbody>\n",
       "    <tr>\n",
       "      <th>2019-06-08 13:20:00</th>\n",
       "      <td>1423</td>\n",
       "      <td>0</td>\n",
       "      <td>25</td>\n",
       "      <td>malemalemalemalemalemalemalemalemalemalemalema...</td>\n",
       "    </tr>\n",
       "    <tr>\n",
       "      <th>2019-06-08 13:20:15</th>\n",
       "      <td>1356</td>\n",
       "      <td>1</td>\n",
       "      <td>35</td>\n",
       "      <td>malemalemalemalemalemalemalemalemalemalemalema...</td>\n",
       "    </tr>\n",
       "    <tr>\n",
       "      <th>2019-06-08 13:20:30</th>\n",
       "      <td>1180</td>\n",
       "      <td>7</td>\n",
       "      <td>34</td>\n",
       "      <td>malemalefemalemalefemalefemalemalemalefemalema...</td>\n",
       "    </tr>\n",
       "    <tr>\n",
       "      <th>2019-06-08 13:20:45</th>\n",
       "      <td>1359</td>\n",
       "      <td>6</td>\n",
       "      <td>37</td>\n",
       "      <td>femalemalefemalefemalemalemalemalemalemalemale...</td>\n",
       "    </tr>\n",
       "    <tr>\n",
       "      <th>2019-06-08 13:21:00</th>\n",
       "      <td>1348</td>\n",
       "      <td>5</td>\n",
       "      <td>37</td>\n",
       "      <td>malemalemalemalemalemalefemalefemalefemalemale...</td>\n",
       "    </tr>\n",
       "    <tr>\n",
       "      <th>2019-06-08 13:21:15</th>\n",
       "      <td>1325</td>\n",
       "      <td>3</td>\n",
       "      <td>37</td>\n",
       "      <td>malemalemalemalefemalemalefemalemalefemalemale...</td>\n",
       "    </tr>\n",
       "    <tr>\n",
       "      <th>2019-06-08 13:21:30</th>\n",
       "      <td>1108</td>\n",
       "      <td>5</td>\n",
       "      <td>43</td>\n",
       "      <td>femalefemalemalemalefemalefemalefemalefemalefe...</td>\n",
       "    </tr>\n",
       "    <tr>\n",
       "      <th>2019-06-08 13:21:45</th>\n",
       "      <td>564</td>\n",
       "      <td>8</td>\n",
       "      <td>39</td>\n",
       "      <td>femalemalefemalefemalefemalemalemalemalemalema...</td>\n",
       "    </tr>\n",
       "    <tr>\n",
       "      <th>2019-06-08 13:22:00</th>\n",
       "      <td>912</td>\n",
       "      <td>6</td>\n",
       "      <td>41</td>\n",
       "      <td>femalemalemalemalemalefemalemalemalemalemalema...</td>\n",
       "    </tr>\n",
       "    <tr>\n",
       "      <th>2019-06-08 13:22:15</th>\n",
       "      <td>994</td>\n",
       "      <td>3</td>\n",
       "      <td>24</td>\n",
       "      <td>malemalefemalemalemalefemalefemalemale</td>\n",
       "    </tr>\n",
       "  </tbody>\n",
       "</table>\n",
       "</div>"
      ],
      "text/plain": [
       "                     PassengerId  Survived  Pclass  \\\n",
       "ts                                                   \n",
       "2019-06-08 13:20:00         1423         0      25   \n",
       "2019-06-08 13:20:15         1356         1      35   \n",
       "2019-06-08 13:20:30         1180         7      34   \n",
       "2019-06-08 13:20:45         1359         6      37   \n",
       "2019-06-08 13:21:00         1348         5      37   \n",
       "2019-06-08 13:21:15         1325         3      37   \n",
       "2019-06-08 13:21:30         1108         5      43   \n",
       "2019-06-08 13:21:45          564         8      39   \n",
       "2019-06-08 13:22:00          912         6      41   \n",
       "2019-06-08 13:22:15          994         3      24   \n",
       "\n",
       "                                                                   Sex  \n",
       "ts                                                                      \n",
       "2019-06-08 13:20:00  malemalemalemalemalemalemalemalemalemalemalema...  \n",
       "2019-06-08 13:20:15  malemalemalemalemalemalemalemalemalemalemalema...  \n",
       "2019-06-08 13:20:30  malemalefemalemalefemalefemalemalemalefemalema...  \n",
       "2019-06-08 13:20:45  femalemalefemalefemalemalemalemalemalemalemale...  \n",
       "2019-06-08 13:21:00  malemalemalemalemalemalefemalefemalefemalemale...  \n",
       "2019-06-08 13:21:15  malemalemalemalefemalemalefemalemalefemalemale...  \n",
       "2019-06-08 13:21:30  femalefemalemalemalefemalefemalefemalefemalefe...  \n",
       "2019-06-08 13:21:45  femalemalefemalefemalefemalemalemalemalemalema...  \n",
       "2019-06-08 13:22:00  femalemalemalemalemalefemalemalemalemalemalema...  \n",
       "2019-06-08 13:22:15             malemalefemalemalemalefemalefemalemale  "
      ]
     },
     "execution_count": 195,
     "metadata": {},
     "output_type": "execute_result"
    }
   ],
   "source": [
    "tdf.resample(\"15s\").sum()[[\"PassengerId\", \"Survived\", \"Pclass\", \"Sex\"]]"
   ]
  },
  {
   "cell_type": "code",
   "execution_count": null,
   "metadata": {
    "pycharm": {
     "name": "#%%\n"
    }
   },
   "outputs": [],
   "source": [
    "# tdf.resample(\"15s\").mean()"
   ]
  },
  {
   "cell_type": "code",
   "execution_count": 196,
   "metadata": {
    "pycharm": {
     "name": "#%%\n"
    }
   },
   "outputs": [
    {
     "name": "stderr",
     "output_type": "stream",
     "text": [
      "/var/folders/4m/4cskytjn019fn68ytvs204bwkhjl6b/T/ipykernel_61102/550533597.py:1: FutureWarning: 'T' is deprecated and will be removed in a future version, please use 'min' instead.\n",
      "  tdf.resample(\"1T\").sum()[[\"PassengerId\", \"Survived\", \"Pclass\", \"Sex\"]]\n"
     ]
    },
    {
     "data": {
      "text/html": [
       "<div>\n",
       "<style scoped>\n",
       "    .dataframe tbody tr th:only-of-type {\n",
       "        vertical-align: middle;\n",
       "    }\n",
       "\n",
       "    .dataframe tbody tr th {\n",
       "        vertical-align: top;\n",
       "    }\n",
       "\n",
       "    .dataframe thead th {\n",
       "        text-align: right;\n",
       "    }\n",
       "</style>\n",
       "<table border=\"1\" class=\"dataframe\">\n",
       "  <thead>\n",
       "    <tr style=\"text-align: right;\">\n",
       "      <th></th>\n",
       "      <th>PassengerId</th>\n",
       "      <th>Survived</th>\n",
       "      <th>Pclass</th>\n",
       "      <th>Sex</th>\n",
       "    </tr>\n",
       "    <tr>\n",
       "      <th>ts</th>\n",
       "      <th></th>\n",
       "      <th></th>\n",
       "      <th></th>\n",
       "      <th></th>\n",
       "    </tr>\n",
       "  </thead>\n",
       "  <tbody>\n",
       "    <tr>\n",
       "      <th>2019-06-08 13:20:00</th>\n",
       "      <td>5318</td>\n",
       "      <td>14</td>\n",
       "      <td>131</td>\n",
       "      <td>malemalemalemalemalemalemalemalemalemalemalema...</td>\n",
       "    </tr>\n",
       "    <tr>\n",
       "      <th>2019-06-08 13:21:00</th>\n",
       "      <td>4345</td>\n",
       "      <td>21</td>\n",
       "      <td>156</td>\n",
       "      <td>malemalemalemalemalemalefemalefemalefemalemale...</td>\n",
       "    </tr>\n",
       "    <tr>\n",
       "      <th>2019-06-08 13:22:00</th>\n",
       "      <td>1906</td>\n",
       "      <td>9</td>\n",
       "      <td>65</td>\n",
       "      <td>femalemalemalemalemalefemalemalemalemalemalema...</td>\n",
       "    </tr>\n",
       "  </tbody>\n",
       "</table>\n",
       "</div>"
      ],
      "text/plain": [
       "                     PassengerId  Survived  Pclass  \\\n",
       "ts                                                   \n",
       "2019-06-08 13:20:00         5318        14     131   \n",
       "2019-06-08 13:21:00         4345        21     156   \n",
       "2019-06-08 13:22:00         1906         9      65   \n",
       "\n",
       "                                                                   Sex  \n",
       "ts                                                                      \n",
       "2019-06-08 13:20:00  malemalemalemalemalemalemalemalemalemalemalema...  \n",
       "2019-06-08 13:21:00  malemalemalemalemalemalefemalefemalefemalemale...  \n",
       "2019-06-08 13:22:00  femalemalemalemalemalefemalemalemalemalemalema...  "
      ]
     },
     "execution_count": 196,
     "metadata": {},
     "output_type": "execute_result"
    }
   ],
   "source": [
    "tdf.resample(\"1T\").sum()[[\"PassengerId\", \"Survived\", \"Pclass\", \"Sex\"]]"
   ]
  },
  {
   "cell_type": "markdown",
   "metadata": {
    "pycharm": {
     "name": "#%% md\n"
    }
   },
   "source": [
    "### Rolling функции"
   ]
  },
  {
   "cell_type": "markdown",
   "metadata": {},
   "source": [
    "![Imgurl](https://i2.wp.com/datascienceparichay.com/wp-content/uploads/2021/11/rolling-sum-pandas.png?fit=900%2C520&ssl=1)"
   ]
  },
  {
   "cell_type": "code",
   "execution_count": 197,
   "metadata": {
    "pycharm": {
     "name": "#%%\n"
    }
   },
   "outputs": [],
   "source": [
    "tdf.sort_index(inplace=True)"
   ]
  },
  {
   "cell_type": "code",
   "execution_count": 198,
   "metadata": {
    "pycharm": {
     "name": "#%%\n"
    }
   },
   "outputs": [
    {
     "data": {
      "text/html": [
       "<div>\n",
       "<style scoped>\n",
       "    .dataframe tbody tr th:only-of-type {\n",
       "        vertical-align: middle;\n",
       "    }\n",
       "\n",
       "    .dataframe tbody tr th {\n",
       "        vertical-align: top;\n",
       "    }\n",
       "\n",
       "    .dataframe thead th {\n",
       "        text-align: right;\n",
       "    }\n",
       "</style>\n",
       "<table border=\"1\" class=\"dataframe\">\n",
       "  <thead>\n",
       "    <tr style=\"text-align: right;\">\n",
       "      <th></th>\n",
       "      <th>Fare</th>\n",
       "    </tr>\n",
       "    <tr>\n",
       "      <th>ts</th>\n",
       "      <th></th>\n",
       "    </tr>\n",
       "  </thead>\n",
       "  <tbody>\n",
       "    <tr>\n",
       "      <th>2019-06-08 13:20:00</th>\n",
       "      <td>NaN</td>\n",
       "    </tr>\n",
       "    <tr>\n",
       "      <th>2019-06-08 13:20:01</th>\n",
       "      <td>NaN</td>\n",
       "    </tr>\n",
       "    <tr>\n",
       "      <th>2019-06-08 13:20:02</th>\n",
       "      <td>NaN</td>\n",
       "    </tr>\n",
       "    <tr>\n",
       "      <th>2019-06-08 13:20:03</th>\n",
       "      <td>NaN</td>\n",
       "    </tr>\n",
       "    <tr>\n",
       "      <th>2019-06-08 13:20:04</th>\n",
       "      <td>24.42668</td>\n",
       "    </tr>\n",
       "    <tr>\n",
       "      <th>2019-06-08 13:20:05</th>\n",
       "      <td>19.10584</td>\n",
       "    </tr>\n",
       "    <tr>\n",
       "      <th>2019-06-08 13:20:06</th>\n",
       "      <td>27.92834</td>\n",
       "    </tr>\n",
       "    <tr>\n",
       "      <th>2019-06-08 13:20:07</th>\n",
       "      <td>41.28584</td>\n",
       "    </tr>\n",
       "    <tr>\n",
       "      <th>2019-06-08 13:20:08</th>\n",
       "      <td>41.16584</td>\n",
       "    </tr>\n",
       "    <tr>\n",
       "      <th>2019-06-08 13:20:09</th>\n",
       "      <td>42.22084</td>\n",
       "    </tr>\n",
       "  </tbody>\n",
       "</table>\n",
       "</div>"
      ],
      "text/plain": [
       "                         Fare\n",
       "ts                           \n",
       "2019-06-08 13:20:00       NaN\n",
       "2019-06-08 13:20:01       NaN\n",
       "2019-06-08 13:20:02       NaN\n",
       "2019-06-08 13:20:03       NaN\n",
       "2019-06-08 13:20:04  24.42668\n",
       "2019-06-08 13:20:05  19.10584\n",
       "2019-06-08 13:20:06  27.92834\n",
       "2019-06-08 13:20:07  41.28584\n",
       "2019-06-08 13:20:08  41.16584\n",
       "2019-06-08 13:20:09  42.22084"
      ]
     },
     "execution_count": 198,
     "metadata": {},
     "output_type": "execute_result"
    }
   ],
   "source": [
    "tdf[[\"Fare\"]].rolling(window=5).mean().head(10)"
   ]
  },
  {
   "cell_type": "markdown",
   "metadata": {
    "pycharm": {
     "name": "#%% md\n"
    }
   },
   "source": [
    "Можно делать вместе с groupby"
   ]
  },
  {
   "cell_type": "code",
   "execution_count": 199,
   "metadata": {
    "pycharm": {
     "name": "#%%\n"
    }
   },
   "outputs": [],
   "source": [
    "rol = tdf[[\"Sex\", \"Fare\"]].groupby([\"Sex\"]).rolling(window=5, ).mean()"
   ]
  },
  {
   "cell_type": "code",
   "execution_count": 200,
   "metadata": {
    "pycharm": {
     "name": "#%%\n"
    }
   },
   "outputs": [
    {
     "data": {
      "text/html": [
       "<div>\n",
       "<style scoped>\n",
       "    .dataframe tbody tr th:only-of-type {\n",
       "        vertical-align: middle;\n",
       "    }\n",
       "\n",
       "    .dataframe tbody tr th {\n",
       "        vertical-align: top;\n",
       "    }\n",
       "\n",
       "    .dataframe thead th {\n",
       "        text-align: right;\n",
       "    }\n",
       "</style>\n",
       "<table border=\"1\" class=\"dataframe\">\n",
       "  <thead>\n",
       "    <tr style=\"text-align: right;\">\n",
       "      <th></th>\n",
       "      <th></th>\n",
       "      <th>Fare</th>\n",
       "    </tr>\n",
       "    <tr>\n",
       "      <th>Sex</th>\n",
       "      <th>ts</th>\n",
       "      <th></th>\n",
       "    </tr>\n",
       "  </thead>\n",
       "  <tbody>\n",
       "    <tr>\n",
       "      <th rowspan=\"5\" valign=\"top\">female</th>\n",
       "      <th>2019-06-08 13:20:32</th>\n",
       "      <td>NaN</td>\n",
       "    </tr>\n",
       "    <tr>\n",
       "      <th>2019-06-08 13:20:34</th>\n",
       "      <td>NaN</td>\n",
       "    </tr>\n",
       "    <tr>\n",
       "      <th>2019-06-08 13:20:35</th>\n",
       "      <td>NaN</td>\n",
       "    </tr>\n",
       "    <tr>\n",
       "      <th>2019-06-08 13:20:38</th>\n",
       "      <td>NaN</td>\n",
       "    </tr>\n",
       "    <tr>\n",
       "      <th>2019-06-08 13:20:41</th>\n",
       "      <td>39.02916</td>\n",
       "    </tr>\n",
       "    <tr>\n",
       "      <th>...</th>\n",
       "      <th>...</th>\n",
       "      <td>...</td>\n",
       "    </tr>\n",
       "    <tr>\n",
       "      <th rowspan=\"5\" valign=\"top\">male</th>\n",
       "      <th>2019-06-08 13:21:02</th>\n",
       "      <td>34.57666</td>\n",
       "    </tr>\n",
       "    <tr>\n",
       "      <th>2019-06-08 13:21:03</th>\n",
       "      <td>20.18666</td>\n",
       "    </tr>\n",
       "    <tr>\n",
       "      <th>2019-06-08 13:21:04</th>\n",
       "      <td>20.18666</td>\n",
       "    </tr>\n",
       "    <tr>\n",
       "      <th>2019-06-08 13:21:05</th>\n",
       "      <td>18.97750</td>\n",
       "    </tr>\n",
       "    <tr>\n",
       "      <th>2019-06-08 13:21:09</th>\n",
       "      <td>7.86584</td>\n",
       "    </tr>\n",
       "  </tbody>\n",
       "</table>\n",
       "<p>100 rows × 1 columns</p>\n",
       "</div>"
      ],
      "text/plain": [
       "                                Fare\n",
       "Sex    ts                           \n",
       "female 2019-06-08 13:20:32       NaN\n",
       "       2019-06-08 13:20:34       NaN\n",
       "       2019-06-08 13:20:35       NaN\n",
       "       2019-06-08 13:20:38       NaN\n",
       "       2019-06-08 13:20:41  39.02916\n",
       "...                              ...\n",
       "male   2019-06-08 13:21:02  34.57666\n",
       "       2019-06-08 13:21:03  20.18666\n",
       "       2019-06-08 13:21:04  20.18666\n",
       "       2019-06-08 13:21:05  18.97750\n",
       "       2019-06-08 13:21:09   7.86584\n",
       "\n",
       "[100 rows x 1 columns]"
      ]
     },
     "execution_count": 200,
     "metadata": {},
     "output_type": "execute_result"
    }
   ],
   "source": [
    "rol.head(100)"
   ]
  },
  {
   "cell_type": "code",
   "execution_count": 201,
   "metadata": {},
   "outputs": [
    {
     "data": {
      "text/html": [
       "<div>\n",
       "<style scoped>\n",
       "    .dataframe tbody tr th:only-of-type {\n",
       "        vertical-align: middle;\n",
       "    }\n",
       "\n",
       "    .dataframe tbody tr th {\n",
       "        vertical-align: top;\n",
       "    }\n",
       "\n",
       "    .dataframe thead th {\n",
       "        text-align: right;\n",
       "    }\n",
       "</style>\n",
       "<table border=\"1\" class=\"dataframe\">\n",
       "  <thead>\n",
       "    <tr style=\"text-align: right;\">\n",
       "      <th></th>\n",
       "      <th>Fare</th>\n",
       "    </tr>\n",
       "    <tr>\n",
       "      <th>ts</th>\n",
       "      <th></th>\n",
       "    </tr>\n",
       "  </thead>\n",
       "  <tbody>\n",
       "    <tr>\n",
       "      <th>2019-06-08 13:20:00</th>\n",
       "      <td>NaN</td>\n",
       "    </tr>\n",
       "    <tr>\n",
       "      <th>2019-06-08 13:20:01</th>\n",
       "      <td>NaN</td>\n",
       "    </tr>\n",
       "    <tr>\n",
       "      <th>2019-06-08 13:20:02</th>\n",
       "      <td>NaN</td>\n",
       "    </tr>\n",
       "    <tr>\n",
       "      <th>2019-06-08 13:20:03</th>\n",
       "      <td>NaN</td>\n",
       "    </tr>\n",
       "    <tr>\n",
       "      <th>2019-06-08 13:20:04</th>\n",
       "      <td>24.42668</td>\n",
       "    </tr>\n",
       "    <tr>\n",
       "      <th>2019-06-08 13:20:05</th>\n",
       "      <td>19.10584</td>\n",
       "    </tr>\n",
       "    <tr>\n",
       "      <th>2019-06-08 13:20:06</th>\n",
       "      <td>27.92834</td>\n",
       "    </tr>\n",
       "    <tr>\n",
       "      <th>2019-06-08 13:20:07</th>\n",
       "      <td>41.28584</td>\n",
       "    </tr>\n",
       "    <tr>\n",
       "      <th>2019-06-08 13:20:08</th>\n",
       "      <td>41.16584</td>\n",
       "    </tr>\n",
       "    <tr>\n",
       "      <th>2019-06-08 13:20:09</th>\n",
       "      <td>42.22084</td>\n",
       "    </tr>\n",
       "  </tbody>\n",
       "</table>\n",
       "</div>"
      ],
      "text/plain": [
       "                         Fare\n",
       "ts                           \n",
       "2019-06-08 13:20:00       NaN\n",
       "2019-06-08 13:20:01       NaN\n",
       "2019-06-08 13:20:02       NaN\n",
       "2019-06-08 13:20:03       NaN\n",
       "2019-06-08 13:20:04  24.42668\n",
       "2019-06-08 13:20:05  19.10584\n",
       "2019-06-08 13:20:06  27.92834\n",
       "2019-06-08 13:20:07  41.28584\n",
       "2019-06-08 13:20:08  41.16584\n",
       "2019-06-08 13:20:09  42.22084"
      ]
     },
     "execution_count": 201,
     "metadata": {},
     "output_type": "execute_result"
    }
   ],
   "source": [
    "rol.loc['male'].head(10)"
   ]
  },
  {
   "cell_type": "markdown",
   "metadata": {
    "pycharm": {
     "name": "#%% md\n"
    }
   },
   "source": [
    "### Работа со строками"
   ]
  },
  {
   "cell_type": "code",
   "execution_count": 202,
   "metadata": {
    "pycharm": {
     "name": "#%%\n"
    }
   },
   "outputs": [
    {
     "data": {
      "text/plain": [
       "96                 george b\n",
       "116                 patrick\n",
       "33                 edward h\n",
       "54      engelhart cornelius\n",
       "94                   daniel\n",
       "152                 alfonzo\n",
       "6                 timothy j\n",
       "124        percival wayland\n",
       "155           charles duane\n",
       "150            robert james\n",
       "Name: Name, dtype: object"
      ]
     },
     "execution_count": 202,
     "metadata": {},
     "output_type": "execute_result"
    }
   ],
   "source": [
    "df[\"Name\"].str.lower()\\\n",
    "          .str.replace(\",\", \" \")\\\n",
    "          .str.split(\".\").str[1]\\\n",
    "          .head(10)"
   ]
  },
  {
   "cell_type": "markdown",
   "metadata": {
    "pycharm": {
     "name": "#%% md\n"
    }
   },
   "source": [
    "### Работа с NaN'ами"
   ]
  },
  {
   "cell_type": "markdown",
   "metadata": {},
   "source": [
    "### Стратегии заполнения\n",
    "\n",
    "- Статистические\n",
    "    - mode / mean / median / min / max \n",
    "\n",
    "- Порядковые\n",
    "    - bfill (backward fill)\n",
    "    - ffill (forward fill)\n",
    "- Интерполяция\n",
    "    - df.interpolate\n",
    "\n"
   ]
  },
  {
   "cell_type": "code",
   "execution_count": 203,
   "metadata": {
    "pycharm": {
     "name": "#%%\n"
    }
   },
   "outputs": [
    {
     "data": {
      "text/plain": [
       "96       A5\n",
       "116     NaN\n",
       "33      NaN\n",
       "54      B30\n",
       "94      NaN\n",
       "152     NaN\n",
       "6       E46\n",
       "124     D26\n",
       "155     NaN\n",
       "150     NaN\n",
       "110    C110\n",
       "92      E31\n",
       "129     NaN\n",
       "62      C83\n",
       "35      NaN\n",
       "Name: Cabin, dtype: object"
      ]
     },
     "execution_count": 203,
     "metadata": {},
     "output_type": "execute_result"
    }
   ],
   "source": [
    "df[\"Cabin\"].head(15)"
   ]
  },
  {
   "cell_type": "code",
   "execution_count": 204,
   "metadata": {
    "pycharm": {
     "name": "#%%\n"
    }
   },
   "outputs": [
    {
     "data": {
      "text/plain": [
       "96          A5\n",
       "54         B30\n",
       "6          E46\n",
       "124        D26\n",
       "110       C110\n",
       "92         E31\n",
       "62         C83\n",
       "137       C123\n",
       "148         F2\n",
       "21         D56\n",
       "66         F33\n",
       "23          A6\n",
       "75       F G73\n",
       "118    B58 B60\n",
       "139        B86\n",
       "Name: Cabin, dtype: object"
      ]
     },
     "execution_count": 204,
     "metadata": {},
     "output_type": "execute_result"
    }
   ],
   "source": [
    "df[\"Cabin\"].dropna().head(15)"
   ]
  },
  {
   "cell_type": "code",
   "execution_count": 205,
   "metadata": {
    "pycharm": {
     "name": "#%%\n"
    }
   },
   "outputs": [
    {
     "data": {
      "text/plain": [
       "96      A5\n",
       "116      3\n",
       "33       3\n",
       "54     B30\n",
       "94       3\n",
       "Name: Cabin, dtype: object"
      ]
     },
     "execution_count": 205,
     "metadata": {},
     "output_type": "execute_result"
    }
   ],
   "source": [
    "df[\"Cabin\"].fillna(3).head(5)"
   ]
  },
  {
   "cell_type": "code",
   "execution_count": 206,
   "metadata": {
    "pycharm": {
     "name": "#%%\n"
    }
   },
   "outputs": [
    {
     "name": "stderr",
     "output_type": "stream",
     "text": [
      "/var/folders/4m/4cskytjn019fn68ytvs204bwkhjl6b/T/ipykernel_61102/671977776.py:1: FutureWarning: Series.fillna with 'method' is deprecated and will raise in a future version. Use obj.ffill() or obj.bfill() instead.\n",
      "  df[\"Cabin\"].fillna(method=\"bfill\").head(15)\n"
     ]
    },
    {
     "data": {
      "text/plain": [
       "96       A5\n",
       "116     B30\n",
       "33      B30\n",
       "54      B30\n",
       "94      E46\n",
       "152     E46\n",
       "6       E46\n",
       "124     D26\n",
       "155    C110\n",
       "150    C110\n",
       "110    C110\n",
       "92      E31\n",
       "129     C83\n",
       "62      C83\n",
       "35     C123\n",
       "Name: Cabin, dtype: object"
      ]
     },
     "execution_count": 206,
     "metadata": {},
     "output_type": "execute_result"
    }
   ],
   "source": [
    "df[\"Cabin\"].fillna(method=\"bfill\").head(15)"
   ]
  },
  {
   "cell_type": "code",
   "execution_count": 207,
   "metadata": {
    "pycharm": {
     "name": "#%%\n"
    }
   },
   "outputs": [
    {
     "data": {
      "text/plain": [
       "96     False\n",
       "116     True\n",
       "33      True\n",
       "54     False\n",
       "94      True\n",
       "152     True\n",
       "6      False\n",
       "124    False\n",
       "155     True\n",
       "150     True\n",
       "Name: Cabin, dtype: bool"
      ]
     },
     "execution_count": 207,
     "metadata": {},
     "output_type": "execute_result"
    }
   ],
   "source": [
    "pd.isna(df[\"Cabin\"]).head(10)"
   ]
  },
  {
   "cell_type": "code",
   "execution_count": 210,
   "metadata": {},
   "outputs": [
    {
     "data": {
      "text/html": [
       "<div>\n",
       "<style scoped>\n",
       "    .dataframe tbody tr th:only-of-type {\n",
       "        vertical-align: middle;\n",
       "    }\n",
       "\n",
       "    .dataframe tbody tr th {\n",
       "        vertical-align: top;\n",
       "    }\n",
       "\n",
       "    .dataframe thead th {\n",
       "        text-align: right;\n",
       "    }\n",
       "</style>\n",
       "<table border=\"1\" class=\"dataframe\">\n",
       "  <thead>\n",
       "    <tr style=\"text-align: right;\">\n",
       "      <th></th>\n",
       "      <th>PassengerId</th>\n",
       "      <th>Survived</th>\n",
       "      <th>Pclass</th>\n",
       "      <th>Lname</th>\n",
       "      <th>Name</th>\n",
       "      <th>Sex</th>\n",
       "      <th>Age</th>\n",
       "      <th>SibSp</th>\n",
       "      <th>Parch</th>\n",
       "      <th>Ticket</th>\n",
       "      <th>Fare</th>\n",
       "      <th>Cabin</th>\n",
       "      <th>Embarked</th>\n",
       "    </tr>\n",
       "  </thead>\n",
       "  <tbody>\n",
       "    <tr>\n",
       "      <th>96</th>\n",
       "      <td>97</td>\n",
       "      <td>0</td>\n",
       "      <td>1</td>\n",
       "      <td>Goldschmidt</td>\n",
       "      <td>Mr. George B</td>\n",
       "      <td>male</td>\n",
       "      <td>71.0</td>\n",
       "      <td>0</td>\n",
       "      <td>0</td>\n",
       "      <td>PC 17754</td>\n",
       "      <td>34.6542</td>\n",
       "      <td>A5</td>\n",
       "      <td>C</td>\n",
       "    </tr>\n",
       "    <tr>\n",
       "      <th>116</th>\n",
       "      <td>117</td>\n",
       "      <td>0</td>\n",
       "      <td>3</td>\n",
       "      <td>Connors</td>\n",
       "      <td>Mr. Patrick</td>\n",
       "      <td>male</td>\n",
       "      <td>70.5</td>\n",
       "      <td>0</td>\n",
       "      <td>0</td>\n",
       "      <td>370369</td>\n",
       "      <td>7.7500</td>\n",
       "      <td>undefined</td>\n",
       "      <td>Q</td>\n",
       "    </tr>\n",
       "    <tr>\n",
       "      <th>33</th>\n",
       "      <td>34</td>\n",
       "      <td>0</td>\n",
       "      <td>2</td>\n",
       "      <td>Wheadon</td>\n",
       "      <td>Mr. Edward H</td>\n",
       "      <td>male</td>\n",
       "      <td>66.0</td>\n",
       "      <td>0</td>\n",
       "      <td>0</td>\n",
       "      <td>C.A. 24579</td>\n",
       "      <td>10.5000</td>\n",
       "      <td>undefined</td>\n",
       "      <td>S</td>\n",
       "    </tr>\n",
       "    <tr>\n",
       "      <th>54</th>\n",
       "      <td>55</td>\n",
       "      <td>0</td>\n",
       "      <td>1</td>\n",
       "      <td>Ostby</td>\n",
       "      <td>Mr. Engelhart Cornelius</td>\n",
       "      <td>male</td>\n",
       "      <td>65.0</td>\n",
       "      <td>0</td>\n",
       "      <td>1</td>\n",
       "      <td>113509</td>\n",
       "      <td>61.9792</td>\n",
       "      <td>B30</td>\n",
       "      <td>C</td>\n",
       "    </tr>\n",
       "    <tr>\n",
       "      <th>94</th>\n",
       "      <td>95</td>\n",
       "      <td>0</td>\n",
       "      <td>3</td>\n",
       "      <td>Coxon</td>\n",
       "      <td>Mr. Daniel</td>\n",
       "      <td>male</td>\n",
       "      <td>59.0</td>\n",
       "      <td>0</td>\n",
       "      <td>0</td>\n",
       "      <td>364500</td>\n",
       "      <td>7.2500</td>\n",
       "      <td>undefined</td>\n",
       "      <td>S</td>\n",
       "    </tr>\n",
       "    <tr>\n",
       "      <th>...</th>\n",
       "      <td>...</td>\n",
       "      <td>...</td>\n",
       "      <td>...</td>\n",
       "      <td>...</td>\n",
       "      <td>...</td>\n",
       "      <td>...</td>\n",
       "      <td>...</td>\n",
       "      <td>...</td>\n",
       "      <td>...</td>\n",
       "      <td>...</td>\n",
       "      <td>...</td>\n",
       "      <td>...</td>\n",
       "      <td>...</td>\n",
       "    </tr>\n",
       "    <tr>\n",
       "      <th>121</th>\n",
       "      <td>122</td>\n",
       "      <td>0</td>\n",
       "      <td>3</td>\n",
       "      <td>Moore</td>\n",
       "      <td>Mr. Leonard Charles</td>\n",
       "      <td>male</td>\n",
       "      <td>undefined</td>\n",
       "      <td>0</td>\n",
       "      <td>0</td>\n",
       "      <td>A4. 54510</td>\n",
       "      <td>8.0500</td>\n",
       "      <td>undefined</td>\n",
       "      <td>S</td>\n",
       "    </tr>\n",
       "    <tr>\n",
       "      <th>126</th>\n",
       "      <td>127</td>\n",
       "      <td>0</td>\n",
       "      <td>3</td>\n",
       "      <td>McMahon</td>\n",
       "      <td>Mr. Martin</td>\n",
       "      <td>male</td>\n",
       "      <td>undefined</td>\n",
       "      <td>0</td>\n",
       "      <td>0</td>\n",
       "      <td>370372</td>\n",
       "      <td>7.7500</td>\n",
       "      <td>undefined</td>\n",
       "      <td>Q</td>\n",
       "    </tr>\n",
       "    <tr>\n",
       "      <th>128</th>\n",
       "      <td>129</td>\n",
       "      <td>1</td>\n",
       "      <td>3</td>\n",
       "      <td>Peter</td>\n",
       "      <td>Miss. Anna</td>\n",
       "      <td>female</td>\n",
       "      <td>undefined</td>\n",
       "      <td>1</td>\n",
       "      <td>1</td>\n",
       "      <td>2668</td>\n",
       "      <td>22.3583</td>\n",
       "      <td>F E69</td>\n",
       "      <td>C</td>\n",
       "    </tr>\n",
       "    <tr>\n",
       "      <th>140</th>\n",
       "      <td>141</td>\n",
       "      <td>0</td>\n",
       "      <td>3</td>\n",
       "      <td>Boulos</td>\n",
       "      <td>Mrs. Joseph (Sultana)</td>\n",
       "      <td>female</td>\n",
       "      <td>undefined</td>\n",
       "      <td>0</td>\n",
       "      <td>2</td>\n",
       "      <td>2678</td>\n",
       "      <td>15.2458</td>\n",
       "      <td>undefined</td>\n",
       "      <td>C</td>\n",
       "    </tr>\n",
       "    <tr>\n",
       "      <th>154</th>\n",
       "      <td>155</td>\n",
       "      <td>0</td>\n",
       "      <td>3</td>\n",
       "      <td>Olsen</td>\n",
       "      <td>Mr. Ole Martin</td>\n",
       "      <td>male</td>\n",
       "      <td>undefined</td>\n",
       "      <td>0</td>\n",
       "      <td>0</td>\n",
       "      <td>Fa 265302</td>\n",
       "      <td>7.3125</td>\n",
       "      <td>undefined</td>\n",
       "      <td>S</td>\n",
       "    </tr>\n",
       "  </tbody>\n",
       "</table>\n",
       "<p>143 rows × 13 columns</p>\n",
       "</div>"
      ],
      "text/plain": [
       "     PassengerId  Survived  Pclass        Lname                      Name  \\\n",
       "96            97         0       1  Goldschmidt              Mr. George B   \n",
       "116          117         0       3      Connors               Mr. Patrick   \n",
       "33            34         0       2      Wheadon              Mr. Edward H   \n",
       "54            55         0       1        Ostby   Mr. Engelhart Cornelius   \n",
       "94            95         0       3        Coxon                Mr. Daniel   \n",
       "..           ...       ...     ...          ...                       ...   \n",
       "121          122         0       3        Moore       Mr. Leonard Charles   \n",
       "126          127         0       3      McMahon                Mr. Martin   \n",
       "128          129         1       3        Peter                Miss. Anna   \n",
       "140          141         0       3       Boulos     Mrs. Joseph (Sultana)   \n",
       "154          155         0       3        Olsen            Mr. Ole Martin   \n",
       "\n",
       "        Sex        Age  SibSp  Parch      Ticket     Fare      Cabin Embarked  \n",
       "96     male       71.0      0      0    PC 17754  34.6542         A5        C  \n",
       "116    male       70.5      0      0      370369   7.7500  undefined        Q  \n",
       "33     male       66.0      0      0  C.A. 24579  10.5000  undefined        S  \n",
       "54     male       65.0      0      1      113509  61.9792        B30        C  \n",
       "94     male       59.0      0      0      364500   7.2500  undefined        S  \n",
       "..      ...        ...    ...    ...         ...      ...        ...      ...  \n",
       "121    male  undefined      0      0   A4. 54510   8.0500  undefined        S  \n",
       "126    male  undefined      0      0      370372   7.7500  undefined        Q  \n",
       "128  female  undefined      1      1        2668  22.3583      F E69        C  \n",
       "140  female  undefined      0      2        2678  15.2458  undefined        C  \n",
       "154    male  undefined      0      0   Fa 265302   7.3125  undefined        S  \n",
       "\n",
       "[143 rows x 13 columns]"
      ]
     },
     "execution_count": 210,
     "metadata": {},
     "output_type": "execute_result"
    }
   ],
   "source": [
    "df.where(~df.isna(), other=\"undefined\")\n"
   ]
  },
  {
   "cell_type": "code",
   "execution_count": null,
   "metadata": {},
   "outputs": [
    {
     "data": {
      "text/html": [
       "<div>\n",
       "<style scoped>\n",
       "    .dataframe tbody tr th:only-of-type {\n",
       "        vertical-align: middle;\n",
       "    }\n",
       "\n",
       "    .dataframe tbody tr th {\n",
       "        vertical-align: top;\n",
       "    }\n",
       "\n",
       "    .dataframe thead th {\n",
       "        text-align: right;\n",
       "    }\n",
       "</style>\n",
       "<table border=\"1\" class=\"dataframe\">\n",
       "  <thead>\n",
       "    <tr style=\"text-align: right;\">\n",
       "      <th></th>\n",
       "      <th>PassengerId</th>\n",
       "      <th>Survived</th>\n",
       "      <th>Pclass</th>\n",
       "      <th>Lname</th>\n",
       "      <th>Name</th>\n",
       "      <th>Sex</th>\n",
       "      <th>Age</th>\n",
       "      <th>SibSp</th>\n",
       "      <th>Parch</th>\n",
       "      <th>Ticket</th>\n",
       "      <th>Fare</th>\n",
       "      <th>Cabin</th>\n",
       "      <th>Embarked</th>\n",
       "    </tr>\n",
       "  </thead>\n",
       "  <tbody>\n",
       "    <tr>\n",
       "      <th>96</th>\n",
       "      <td>97</td>\n",
       "      <td>0</td>\n",
       "      <td>1</td>\n",
       "      <td>Goldschmidt</td>\n",
       "      <td>Mr. George B</td>\n",
       "      <td>male</td>\n",
       "      <td>71.0</td>\n",
       "      <td>0</td>\n",
       "      <td>0</td>\n",
       "      <td>PC 17754</td>\n",
       "      <td>34.6542</td>\n",
       "      <td>A5</td>\n",
       "      <td>C</td>\n",
       "    </tr>\n",
       "    <tr>\n",
       "      <th>116</th>\n",
       "      <td>117</td>\n",
       "      <td>0</td>\n",
       "      <td>3</td>\n",
       "      <td>Connors</td>\n",
       "      <td>Mr. Patrick</td>\n",
       "      <td>male</td>\n",
       "      <td>70.5</td>\n",
       "      <td>0</td>\n",
       "      <td>0</td>\n",
       "      <td>370369</td>\n",
       "      <td>7.7500</td>\n",
       "      <td>placeholder</td>\n",
       "      <td>Q</td>\n",
       "    </tr>\n",
       "    <tr>\n",
       "      <th>33</th>\n",
       "      <td>34</td>\n",
       "      <td>0</td>\n",
       "      <td>2</td>\n",
       "      <td>Wheadon</td>\n",
       "      <td>Mr. Edward H</td>\n",
       "      <td>male</td>\n",
       "      <td>66.0</td>\n",
       "      <td>0</td>\n",
       "      <td>0</td>\n",
       "      <td>C.A. 24579</td>\n",
       "      <td>10.5000</td>\n",
       "      <td>placeholder</td>\n",
       "      <td>S</td>\n",
       "    </tr>\n",
       "    <tr>\n",
       "      <th>54</th>\n",
       "      <td>55</td>\n",
       "      <td>0</td>\n",
       "      <td>1</td>\n",
       "      <td>Ostby</td>\n",
       "      <td>Mr. Engelhart Cornelius</td>\n",
       "      <td>male</td>\n",
       "      <td>65.0</td>\n",
       "      <td>0</td>\n",
       "      <td>1</td>\n",
       "      <td>113509</td>\n",
       "      <td>61.9792</td>\n",
       "      <td>B30</td>\n",
       "      <td>C</td>\n",
       "    </tr>\n",
       "    <tr>\n",
       "      <th>94</th>\n",
       "      <td>95</td>\n",
       "      <td>0</td>\n",
       "      <td>3</td>\n",
       "      <td>Coxon</td>\n",
       "      <td>Mr. Daniel</td>\n",
       "      <td>male</td>\n",
       "      <td>59.0</td>\n",
       "      <td>0</td>\n",
       "      <td>0</td>\n",
       "      <td>364500</td>\n",
       "      <td>7.2500</td>\n",
       "      <td>placeholder</td>\n",
       "      <td>S</td>\n",
       "    </tr>\n",
       "    <tr>\n",
       "      <th>...</th>\n",
       "      <td>...</td>\n",
       "      <td>...</td>\n",
       "      <td>...</td>\n",
       "      <td>...</td>\n",
       "      <td>...</td>\n",
       "      <td>...</td>\n",
       "      <td>...</td>\n",
       "      <td>...</td>\n",
       "      <td>...</td>\n",
       "      <td>...</td>\n",
       "      <td>...</td>\n",
       "      <td>...</td>\n",
       "      <td>...</td>\n",
       "    </tr>\n",
       "    <tr>\n",
       "      <th>121</th>\n",
       "      <td>122</td>\n",
       "      <td>0</td>\n",
       "      <td>3</td>\n",
       "      <td>Moore</td>\n",
       "      <td>Mr. Leonard Charles</td>\n",
       "      <td>male</td>\n",
       "      <td>placeholder</td>\n",
       "      <td>0</td>\n",
       "      <td>0</td>\n",
       "      <td>A4. 54510</td>\n",
       "      <td>8.0500</td>\n",
       "      <td>placeholder</td>\n",
       "      <td>S</td>\n",
       "    </tr>\n",
       "    <tr>\n",
       "      <th>126</th>\n",
       "      <td>127</td>\n",
       "      <td>0</td>\n",
       "      <td>3</td>\n",
       "      <td>McMahon</td>\n",
       "      <td>Mr. Martin</td>\n",
       "      <td>male</td>\n",
       "      <td>placeholder</td>\n",
       "      <td>0</td>\n",
       "      <td>0</td>\n",
       "      <td>370372</td>\n",
       "      <td>7.7500</td>\n",
       "      <td>placeholder</td>\n",
       "      <td>Q</td>\n",
       "    </tr>\n",
       "    <tr>\n",
       "      <th>128</th>\n",
       "      <td>129</td>\n",
       "      <td>1</td>\n",
       "      <td>3</td>\n",
       "      <td>Peter</td>\n",
       "      <td>Miss. Anna</td>\n",
       "      <td>female</td>\n",
       "      <td>placeholder</td>\n",
       "      <td>1</td>\n",
       "      <td>1</td>\n",
       "      <td>2668</td>\n",
       "      <td>22.3583</td>\n",
       "      <td>F E69</td>\n",
       "      <td>C</td>\n",
       "    </tr>\n",
       "    <tr>\n",
       "      <th>140</th>\n",
       "      <td>141</td>\n",
       "      <td>0</td>\n",
       "      <td>3</td>\n",
       "      <td>Boulos</td>\n",
       "      <td>Mrs. Joseph (Sultana)</td>\n",
       "      <td>female</td>\n",
       "      <td>placeholder</td>\n",
       "      <td>0</td>\n",
       "      <td>2</td>\n",
       "      <td>2678</td>\n",
       "      <td>15.2458</td>\n",
       "      <td>placeholder</td>\n",
       "      <td>C</td>\n",
       "    </tr>\n",
       "    <tr>\n",
       "      <th>154</th>\n",
       "      <td>155</td>\n",
       "      <td>0</td>\n",
       "      <td>3</td>\n",
       "      <td>Olsen</td>\n",
       "      <td>Mr. Ole Martin</td>\n",
       "      <td>male</td>\n",
       "      <td>placeholder</td>\n",
       "      <td>0</td>\n",
       "      <td>0</td>\n",
       "      <td>Fa 265302</td>\n",
       "      <td>7.3125</td>\n",
       "      <td>placeholder</td>\n",
       "      <td>S</td>\n",
       "    </tr>\n",
       "  </tbody>\n",
       "</table>\n",
       "<p>143 rows × 13 columns</p>\n",
       "</div>"
      ],
      "text/plain": [
       "     PassengerId  Survived  Pclass        Lname                      Name  \\\n",
       "96            97         0       1  Goldschmidt              Mr. George B   \n",
       "116          117         0       3      Connors               Mr. Patrick   \n",
       "33            34         0       2      Wheadon              Mr. Edward H   \n",
       "54            55         0       1        Ostby   Mr. Engelhart Cornelius   \n",
       "94            95         0       3        Coxon                Mr. Daniel   \n",
       "..           ...       ...     ...          ...                       ...   \n",
       "121          122         0       3        Moore       Mr. Leonard Charles   \n",
       "126          127         0       3      McMahon                Mr. Martin   \n",
       "128          129         1       3        Peter                Miss. Anna   \n",
       "140          141         0       3       Boulos     Mrs. Joseph (Sultana)   \n",
       "154          155         0       3        Olsen            Mr. Ole Martin   \n",
       "\n",
       "        Sex          Age  SibSp  Parch      Ticket     Fare        Cabin  \\\n",
       "96     male         71.0      0      0    PC 17754  34.6542           A5   \n",
       "116    male         70.5      0      0      370369   7.7500  placeholder   \n",
       "33     male         66.0      0      0  C.A. 24579  10.5000  placeholder   \n",
       "54     male         65.0      0      1      113509  61.9792          B30   \n",
       "94     male         59.0      0      0      364500   7.2500  placeholder   \n",
       "..      ...          ...    ...    ...         ...      ...          ...   \n",
       "121    male  placeholder      0      0   A4. 54510   8.0500  placeholder   \n",
       "126    male  placeholder      0      0      370372   7.7500  placeholder   \n",
       "128  female  placeholder      1      1        2668  22.3583        F E69   \n",
       "140  female  placeholder      0      2        2678  15.2458  placeholder   \n",
       "154    male  placeholder      0      0   Fa 265302   7.3125  placeholder   \n",
       "\n",
       "    Embarked  \n",
       "96         C  \n",
       "116        Q  \n",
       "33         S  \n",
       "54         C  \n",
       "94         S  \n",
       "..       ...  \n",
       "121        S  \n",
       "126        Q  \n",
       "128        C  \n",
       "140        C  \n",
       "154        S  \n",
       "\n",
       "[143 rows x 13 columns]"
      ]
     },
     "execution_count": 214,
     "metadata": {},
     "output_type": "execute_result"
    }
   ],
   "source": [
    "df.mask(df.isna(), \"placeholder\")  # НЕ (Аналогично)"
   ]
  },
  {
   "cell_type": "markdown",
   "metadata": {
    "pycharm": {
     "name": "#%% md\n"
    }
   },
   "source": [
    "### Функция apply"
   ]
  },
  {
   "cell_type": "code",
   "execution_count": null,
   "metadata": {},
   "outputs": [
    {
     "data": {
      "text/html": [
       "<div>\n",
       "<style scoped>\n",
       "    .dataframe tbody tr th:only-of-type {\n",
       "        vertical-align: middle;\n",
       "    }\n",
       "\n",
       "    .dataframe tbody tr th {\n",
       "        vertical-align: top;\n",
       "    }\n",
       "\n",
       "    .dataframe thead th {\n",
       "        text-align: right;\n",
       "    }\n",
       "</style>\n",
       "<table border=\"1\" class=\"dataframe\">\n",
       "  <thead>\n",
       "    <tr style=\"text-align: right;\">\n",
       "      <th></th>\n",
       "      <th>PassengerId</th>\n",
       "      <th>Survived</th>\n",
       "      <th>Pclass</th>\n",
       "      <th>Lname</th>\n",
       "      <th>Name</th>\n",
       "      <th>Sex</th>\n",
       "      <th>Age</th>\n",
       "      <th>SibSp</th>\n",
       "      <th>Parch</th>\n",
       "      <th>Ticket</th>\n",
       "      <th>Fare</th>\n",
       "      <th>Cabin</th>\n",
       "      <th>Embarked</th>\n",
       "      <th>dummy_example</th>\n",
       "      <th>dummy_example2</th>\n",
       "    </tr>\n",
       "  </thead>\n",
       "  <tbody>\n",
       "    <tr>\n",
       "      <th>128</th>\n",
       "      <td>129</td>\n",
       "      <td>1</td>\n",
       "      <td>3</td>\n",
       "      <td>Peter</td>\n",
       "      <td>Miss. Anna</td>\n",
       "      <td>female</td>\n",
       "      <td>NaN</td>\n",
       "      <td>1</td>\n",
       "      <td>1</td>\n",
       "      <td>2668</td>\n",
       "      <td>22.3583</td>\n",
       "      <td>F E69</td>\n",
       "      <td>C</td>\n",
       "      <td>femalefemalefemale</td>\n",
       "      <td>Miss. Anna Peter</td>\n",
       "    </tr>\n",
       "    <tr>\n",
       "      <th>140</th>\n",
       "      <td>141</td>\n",
       "      <td>0</td>\n",
       "      <td>3</td>\n",
       "      <td>Boulos</td>\n",
       "      <td>Mrs. Joseph (Sultana)</td>\n",
       "      <td>female</td>\n",
       "      <td>NaN</td>\n",
       "      <td>0</td>\n",
       "      <td>2</td>\n",
       "      <td>2678</td>\n",
       "      <td>15.2458</td>\n",
       "      <td>NaN</td>\n",
       "      <td>C</td>\n",
       "      <td>femalefemalefemale</td>\n",
       "      <td>Mrs. Joseph (Sultana) Boulos</td>\n",
       "    </tr>\n",
       "    <tr>\n",
       "      <th>154</th>\n",
       "      <td>155</td>\n",
       "      <td>0</td>\n",
       "      <td>3</td>\n",
       "      <td>Olsen</td>\n",
       "      <td>Mr. Ole Martin</td>\n",
       "      <td>male</td>\n",
       "      <td>NaN</td>\n",
       "      <td>0</td>\n",
       "      <td>0</td>\n",
       "      <td>Fa 265302</td>\n",
       "      <td>7.3125</td>\n",
       "      <td>NaN</td>\n",
       "      <td>S</td>\n",
       "      <td>malemalemale</td>\n",
       "      <td>Mr. Ole Martin Olsen</td>\n",
       "    </tr>\n",
       "  </tbody>\n",
       "</table>\n",
       "</div>"
      ],
      "text/plain": [
       "     PassengerId  Survived  Pclass   Lname                    Name     Sex  \\\n",
       "128          129         1       3   Peter              Miss. Anna  female   \n",
       "140          141         0       3  Boulos   Mrs. Joseph (Sultana)  female   \n",
       "154          155         0       3   Olsen          Mr. Ole Martin    male   \n",
       "\n",
       "     Age  SibSp  Parch     Ticket     Fare  Cabin Embarked  \\\n",
       "128  NaN      1      1       2668  22.3583  F E69        C   \n",
       "140  NaN      0      2       2678  15.2458    NaN        C   \n",
       "154  NaN      0      0  Fa 265302   7.3125    NaN        S   \n",
       "\n",
       "          dummy_example                 dummy_example2  \n",
       "128  femalefemalefemale               Miss. Anna Peter  \n",
       "140  femalefemalefemale   Mrs. Joseph (Sultana) Boulos  \n",
       "154        malemalemale           Mr. Ole Martin Olsen  "
      ]
     },
     "execution_count": 218,
     "metadata": {},
     "output_type": "execute_result"
    }
   ],
   "source": [
    "def dummpy_example(row):\n",
    "    return row['Sex'] * row['Pclass']\n",
    "\n",
    "df['dummy_example'] = df.apply(dummpy_example, axis=1)\n",
    "df['dummy_example2'] = df.apply(lambda row: row['Name'] + \" \" + row['Lname'], axis=1)\n",
    "df.tail(3)"
   ]
  },
  {
   "cell_type": "markdown",
   "metadata": {},
   "source": [
    "<div class=\"alert alert-warning\">\n",
    "    <b>Вот так лучше не делать.</b>\n",
    "</div>"
   ]
  },
  {
   "cell_type": "code",
   "execution_count": 219,
   "metadata": {},
   "outputs": [
    {
     "data": {
      "text/html": [
       "<div>\n",
       "<style scoped>\n",
       "    .dataframe tbody tr th:only-of-type {\n",
       "        vertical-align: middle;\n",
       "    }\n",
       "\n",
       "    .dataframe tbody tr th {\n",
       "        vertical-align: top;\n",
       "    }\n",
       "\n",
       "    .dataframe thead th {\n",
       "        text-align: right;\n",
       "    }\n",
       "</style>\n",
       "<table border=\"1\" class=\"dataframe\">\n",
       "  <thead>\n",
       "    <tr style=\"text-align: right;\">\n",
       "      <th></th>\n",
       "      <th>PassengerId</th>\n",
       "      <th>Survived</th>\n",
       "      <th>Pclass</th>\n",
       "      <th>Lname</th>\n",
       "      <th>Name</th>\n",
       "      <th>Sex</th>\n",
       "      <th>Age</th>\n",
       "      <th>SibSp</th>\n",
       "      <th>Parch</th>\n",
       "      <th>Ticket</th>\n",
       "      <th>Fare</th>\n",
       "      <th>Cabin</th>\n",
       "      <th>Embarked</th>\n",
       "      <th>dummy_example</th>\n",
       "      <th>dummy_example2</th>\n",
       "    </tr>\n",
       "  </thead>\n",
       "  <tbody>\n",
       "    <tr>\n",
       "      <th>96</th>\n",
       "      <td>10</td>\n",
       "      <td>0</td>\n",
       "      <td>1</td>\n",
       "      <td>Goldschmidt</td>\n",
       "      <td>Mr. George B</td>\n",
       "      <td>male</td>\n",
       "      <td>71.0</td>\n",
       "      <td>0</td>\n",
       "      <td>0</td>\n",
       "      <td>PC 17754</td>\n",
       "      <td>34.6542</td>\n",
       "      <td>A5</td>\n",
       "      <td>C</td>\n",
       "      <td>male</td>\n",
       "      <td>Mr. George B Goldschmidt</td>\n",
       "    </tr>\n",
       "    <tr>\n",
       "      <th>116</th>\n",
       "      <td>30</td>\n",
       "      <td>0</td>\n",
       "      <td>3</td>\n",
       "      <td>Connors</td>\n",
       "      <td>Mr. Patrick</td>\n",
       "      <td>male</td>\n",
       "      <td>70.5</td>\n",
       "      <td>0</td>\n",
       "      <td>0</td>\n",
       "      <td>370369</td>\n",
       "      <td>7.7500</td>\n",
       "      <td>NaN</td>\n",
       "      <td>Q</td>\n",
       "      <td>malemalemale</td>\n",
       "      <td>Mr. Patrick Connors</td>\n",
       "    </tr>\n",
       "  </tbody>\n",
       "</table>\n",
       "</div>"
      ],
      "text/plain": [
       "     PassengerId  Survived  Pclass        Lname           Name   Sex   Age  \\\n",
       "96            10         0       1  Goldschmidt   Mr. George B  male  71.0   \n",
       "116           30         0       3      Connors    Mr. Patrick  male  70.5   \n",
       "\n",
       "     SibSp  Parch    Ticket     Fare Cabin Embarked dummy_example  \\\n",
       "96       0      0  PC 17754  34.6542    A5        C          male   \n",
       "116      0      0    370369   7.7500   NaN        Q  malemalemale   \n",
       "\n",
       "                dummy_example2  \n",
       "96    Mr. George B Goldschmidt  \n",
       "116        Mr. Patrick Connors  "
      ]
     },
     "execution_count": 219,
     "metadata": {},
     "output_type": "execute_result"
    }
   ],
   "source": [
    "for index, row in df.iterrows():\n",
    "    if row['Sex'] == 'male':\n",
    "        df.loc[index, 'PassengerId'] = row['Pclass'] * 10\n",
    "    else:\n",
    "        df.loc[index, 'PassengerId'] = row['Pclass'] * 2\n",
    "\n",
    "df.head(2)"
   ]
  },
  {
   "cell_type": "markdown",
   "metadata": {
    "pycharm": {
     "name": "#%% md\n"
    }
   },
   "source": [
    "### Визуализация"
   ]
  },
  {
   "cell_type": "code",
   "execution_count": null,
   "metadata": {},
   "outputs": [],
   "source": [
    "# !pip install matplotlib"
   ]
  },
  {
   "cell_type": "code",
   "execution_count": 220,
   "metadata": {
    "pycharm": {
     "name": "#%%\n"
    }
   },
   "outputs": [
    {
     "data": {
      "text/plain": [
       "<Axes: xlabel='ts'>"
      ]
     },
     "execution_count": 220,
     "metadata": {},
     "output_type": "execute_result"
    },
    {
     "data": {
      "image/png": "[encoded data removed]",
      "text/plain": [
       "<Figure size 640x480 with 1 Axes>"
      ]
     },
     "metadata": {},
     "output_type": "display_data"
    }
   ],
   "source": [
    "tdf[\"Fare\"].plot()"
   ]
  },
  {
   "cell_type": "code",
   "execution_count": 221,
   "metadata": {
    "pycharm": {
     "name": "#%%\n"
    }
   },
   "outputs": [
    {
     "data": {
      "text/plain": [
       "<Axes: xlabel='ts'>"
      ]
     },
     "execution_count": 221,
     "metadata": {},
     "output_type": "execute_result"
    },
    {
     "data": {
      "image/png": "[encoded data removed]",
      "text/plain": [
       "<Figure size 640x480 with 1 Axes>"
      ]
     },
     "metadata": {},
     "output_type": "display_data"
    }
   ],
   "source": [
    "tdf[\"Fare\"].resample(\"10s\").mean().plot()"
   ]
  },
  {
   "cell_type": "code",
   "execution_count": 222,
   "metadata": {
    "pycharm": {
     "name": "#%%\n"
    }
   },
   "outputs": [
    {
     "data": {
      "text/plain": [
       "<Axes: >"
      ]
     },
     "execution_count": 222,
     "metadata": {},
     "output_type": "execute_result"
    },
    {
     "data": {
      "image/png": "[encoded data removed]",
      "text/plain": [
       "<Figure size 640x480 with 1 Axes>"
      ]
     },
     "metadata": {},
     "output_type": "display_data"
    }
   ],
   "source": [
    "tdf[\"Sex\"].hist()"
   ]
  },
  {
   "cell_type": "code",
   "execution_count": null,
   "metadata": {},
   "outputs": [],
   "source": [
    "# !pip install polars"
   ]
  },
  {
   "cell_type": "markdown",
   "metadata": {},
   "source": [
    "## [Polars](https://docs.pola.rs/)\n",
    "\n",
    "Свежий фреймворк, приходящий на смену pandas, который работает быстрее\n",
    "\n",
    "Основные причины, почему polars быстрее:\n",
    "\n",
    "- Rust и отсутствие GIL: ядро на Rust, нет Python‑GIL, безопасная многопоточность; минимальный overhead интерпретатора.\n",
    "\n",
    "- Ленивое выполнение с оптимизатором: projection pruning (берёт только нужные столбцы), predicate pushdown (фильтры как можно «ниже», вплоть до чтения файлов), слияние стадий, упрощение выражений, избегание лишних материализаций.\n",
    "\n",
    "- Параллельные алгоритмы: groupby/join/sort/agg распараллелены (разделение на партиции, параллельные хэш‑джоины, параллельные сортировки и агрегаты).\n",
    "\n",
    "- Эффективная работа с памятью: компактные типы, validity bitmap для null вместо NaN/объектов, dictionary/categorical кодирование; меньше памяти → лучше кэш → быстрее.\n",
    "Строки и категориальные: UTF‑8 массивы Arrow без Python‑объектов; строковые и regex‑операции в Rust/SIMD.\n",
    "\n",
    "\n",
    "Даже с pandas 2.x и pyarrow‑dtype отставание часто остаётся из‑за GIL, отсутствия ленивого оптимизатора и ограниченного параллелизма в ключевых операциях."
   ]
  },
  {
   "cell_type": "markdown",
   "metadata": {},
   "source": [
    "![Картинка](https://storage.imgbly.com/imgbly/eyMAsoKUly.png)"
   ]
  },
  {
   "cell_type": "markdown",
   "metadata": {},
   "source": [
    "![Картинка](https://storage.imgbly.com/imgbly/JqpZvHXGpS.png)"
   ]
  },
  {
   "cell_type": "markdown",
   "metadata": {},
   "source": []
  },
  {
   "cell_type": "code",
   "execution_count": 223,
   "metadata": {},
   "outputs": [],
   "source": [
    "import polars as pl"
   ]
  },
  {
   "cell_type": "code",
   "execution_count": 224,
   "metadata": {},
   "outputs": [],
   "source": [
    "df = pl.read_csv(\"titanic.csv\")"
   ]
  },
  {
   "cell_type": "code",
   "execution_count": 225,
   "metadata": {},
   "outputs": [
    {
     "name": "stdout",
     "output_type": "stream",
     "text": [
      "shape: (156, 13)\n",
      "┌─────────────┬──────────┬────────┬──────────────┬───┬────────────┬─────────┬───────┬──────────┐\n",
      "│ PassengerId ┆ Survived ┆ Pclass ┆ Lname        ┆ … ┆ Ticket     ┆ Fare    ┆ Cabin ┆ Embarked │\n",
      "│ ---         ┆ ---      ┆ ---    ┆ ---          ┆   ┆ ---        ┆ ---     ┆ ---   ┆ ---      │\n",
      "│ i64         ┆ i64      ┆ i64    ┆ str          ┆   ┆ str        ┆ f64     ┆ str   ┆ str      │\n",
      "╞═════════════╪══════════╪════════╪══════════════╪═══╪════════════╪═════════╪═══════╪══════════╡\n",
      "│ 1           ┆ 0        ┆ 3      ┆ Braund       ┆ … ┆ A/5 21171  ┆ 7.25    ┆ null  ┆ S        │\n",
      "│ 2           ┆ 1        ┆ 1      ┆ Cumings      ┆ … ┆ PC 17599   ┆ 71.2833 ┆ C85   ┆ C        │\n",
      "│ 3           ┆ 1        ┆ 3      ┆ Heikkinen    ┆ … ┆ STON/O2.   ┆ 7.925   ┆ null  ┆ S        │\n",
      "│             ┆          ┆        ┆              ┆   ┆ 3101282    ┆         ┆       ┆          │\n",
      "│ 4           ┆ 1        ┆ 1      ┆ Futrelle     ┆ … ┆ 113803     ┆ 53.1    ┆ C123  ┆ S        │\n",
      "│ 5           ┆ 0        ┆ 3      ┆ Allen        ┆ … ┆ 373450     ┆ 8.05    ┆ null  ┆ S        │\n",
      "│ …           ┆ …        ┆ …      ┆ …            ┆ … ┆ …          ┆ …       ┆ …     ┆ …        │\n",
      "│ 152         ┆ 1        ┆ 1      ┆ Pears        ┆ … ┆ 113776     ┆ 66.6    ┆ C2    ┆ S        │\n",
      "│ 153         ┆ 0        ┆ 3      ┆ Meo          ┆ … ┆ A.5. 11206 ┆ 8.05    ┆ null  ┆ S        │\n",
      "│ 154         ┆ 0        ┆ 3      ┆ van Billiard ┆ … ┆ A/5. 851   ┆ 14.5    ┆ null  ┆ S        │\n",
      "│ 155         ┆ 0        ┆ 3      ┆ Olsen        ┆ … ┆ Fa 265302  ┆ 7.3125  ┆ null  ┆ S        │\n",
      "│ 156         ┆ 0        ┆ 1      ┆ Williams     ┆ … ┆ PC 17597   ┆ 61.3792 ┆ null  ┆ C        │\n",
      "└─────────────┴──────────┴────────┴──────────────┴───┴────────────┴─────────┴───────┴──────────┘\n"
     ]
    }
   ],
   "source": [
    "print(df) # эстетики для"
   ]
  },
  {
   "cell_type": "code",
   "execution_count": 226,
   "metadata": {},
   "outputs": [
    {
     "data": {
      "text/html": [
       "<div><style>\n",
       ".dataframe > thead > tr,\n",
       ".dataframe > tbody > tr {\n",
       "  text-align: right;\n",
       "  white-space: pre-wrap;\n",
       "}\n",
       "</style>\n",
       "<small>shape: (5, 13)</small><table border=\"1\" class=\"dataframe\"><thead><tr><th>PassengerId</th><th>Survived</th><th>Pclass</th><th>Lname</th><th>Name</th><th>Sex</th><th>Age</th><th>SibSp</th><th>Parch</th><th>Ticket</th><th>Fare</th><th>Cabin</th><th>Embarked</th></tr><tr><td>i64</td><td>i64</td><td>i64</td><td>str</td><td>str</td><td>str</td><td>f64</td><td>i64</td><td>i64</td><td>str</td><td>f64</td><td>str</td><td>str</td></tr></thead><tbody><tr><td>1</td><td>0</td><td>3</td><td>&quot;Braund&quot;</td><td>&quot; Mr. Owen Harris&quot;</td><td>&quot;male&quot;</td><td>22.0</td><td>1</td><td>0</td><td>&quot;A/5 21171&quot;</td><td>7.25</td><td>null</td><td>&quot;S&quot;</td></tr><tr><td>2</td><td>1</td><td>1</td><td>&quot;Cumings&quot;</td><td>&quot; Mrs. John Bradley (Florence B…</td><td>&quot;female&quot;</td><td>38.0</td><td>1</td><td>0</td><td>&quot;PC 17599&quot;</td><td>71.2833</td><td>&quot;C85&quot;</td><td>&quot;C&quot;</td></tr><tr><td>3</td><td>1</td><td>3</td><td>&quot;Heikkinen&quot;</td><td>&quot; Miss. Laina&quot;</td><td>&quot;female&quot;</td><td>26.0</td><td>0</td><td>0</td><td>&quot;STON/O2. 3101282&quot;</td><td>7.925</td><td>null</td><td>&quot;S&quot;</td></tr><tr><td>4</td><td>1</td><td>1</td><td>&quot;Futrelle&quot;</td><td>&quot; Mrs. Jacques Heath (Lily May …</td><td>&quot;female&quot;</td><td>35.0</td><td>1</td><td>0</td><td>&quot;113803&quot;</td><td>53.1</td><td>&quot;C123&quot;</td><td>&quot;S&quot;</td></tr><tr><td>5</td><td>0</td><td>3</td><td>&quot;Allen&quot;</td><td>&quot; Mr. William Henry&quot;</td><td>&quot;male&quot;</td><td>35.0</td><td>0</td><td>0</td><td>&quot;373450&quot;</td><td>8.05</td><td>null</td><td>&quot;S&quot;</td></tr></tbody></table></div>"
      ],
      "text/plain": [
       "shape: (5, 13)\n",
       "┌─────────────┬──────────┬────────┬───────────┬───┬──────────────────┬─────────┬───────┬──────────┐\n",
       "│ PassengerId ┆ Survived ┆ Pclass ┆ Lname     ┆ … ┆ Ticket           ┆ Fare    ┆ Cabin ┆ Embarked │\n",
       "│ ---         ┆ ---      ┆ ---    ┆ ---       ┆   ┆ ---              ┆ ---     ┆ ---   ┆ ---      │\n",
       "│ i64         ┆ i64      ┆ i64    ┆ str       ┆   ┆ str              ┆ f64     ┆ str   ┆ str      │\n",
       "╞═════════════╪══════════╪════════╪═══════════╪═══╪══════════════════╪═════════╪═══════╪══════════╡\n",
       "│ 1           ┆ 0        ┆ 3      ┆ Braund    ┆ … ┆ A/5 21171        ┆ 7.25    ┆ null  ┆ S        │\n",
       "│ 2           ┆ 1        ┆ 1      ┆ Cumings   ┆ … ┆ PC 17599         ┆ 71.2833 ┆ C85   ┆ C        │\n",
       "│ 3           ┆ 1        ┆ 3      ┆ Heikkinen ┆ … ┆ STON/O2. 3101282 ┆ 7.925   ┆ null  ┆ S        │\n",
       "│ 4           ┆ 1        ┆ 1      ┆ Futrelle  ┆ … ┆ 113803           ┆ 53.1    ┆ C123  ┆ S        │\n",
       "│ 5           ┆ 0        ┆ 3      ┆ Allen     ┆ … ┆ 373450           ┆ 8.05    ┆ null  ┆ S        │\n",
       "└─────────────┴──────────┴────────┴───────────┴───┴──────────────────┴─────────┴───────┴──────────┘"
      ]
     },
     "execution_count": 226,
     "metadata": {},
     "output_type": "execute_result"
    }
   ],
   "source": [
    "df.head()"
   ]
  },
  {
   "cell_type": "markdown",
   "metadata": {},
   "source": [
    "#### Типы данных"
   ]
  },
  {
   "cell_type": "code",
   "execution_count": 228,
   "metadata": {},
   "outputs": [
    {
     "data": {
      "text/html": [
       "<div><style>\n",
       ".dataframe > thead > tr,\n",
       ".dataframe > tbody > tr {\n",
       "  text-align: right;\n",
       "  white-space: pre-wrap;\n",
       "}\n",
       "</style>\n",
       "<small>shape: (9, 14)</small><table border=\"1\" class=\"dataframe\"><thead><tr><th>statistic</th><th>PassengerId</th><th>Survived</th><th>Pclass</th><th>Lname</th><th>Name</th><th>Sex</th><th>Age</th><th>SibSp</th><th>Parch</th><th>Ticket</th><th>Fare</th><th>Cabin</th><th>Embarked</th></tr><tr><td>str</td><td>f64</td><td>f64</td><td>f64</td><td>str</td><td>str</td><td>str</td><td>f64</td><td>f64</td><td>f64</td><td>str</td><td>f64</td><td>str</td><td>str</td></tr></thead><tbody><tr><td>&quot;count&quot;</td><td>156.0</td><td>156.0</td><td>156.0</td><td>&quot;156&quot;</td><td>&quot;156&quot;</td><td>&quot;156&quot;</td><td>126.0</td><td>156.0</td><td>156.0</td><td>&quot;156&quot;</td><td>156.0</td><td>&quot;31&quot;</td><td>&quot;155&quot;</td></tr><tr><td>&quot;null_count&quot;</td><td>0.0</td><td>0.0</td><td>0.0</td><td>&quot;0&quot;</td><td>&quot;0&quot;</td><td>&quot;0&quot;</td><td>30.0</td><td>0.0</td><td>0.0</td><td>&quot;0&quot;</td><td>0.0</td><td>&quot;125&quot;</td><td>&quot;1&quot;</td></tr><tr><td>&quot;mean&quot;</td><td>78.5</td><td>0.346154</td><td>2.423077</td><td>null</td><td>null</td><td>null</td><td>28.141508</td><td>0.615385</td><td>0.397436</td><td>null</td><td>28.109587</td><td>null</td><td>null</td></tr><tr><td>&quot;std&quot;</td><td>45.177428</td><td>0.477275</td><td>0.795459</td><td>null</td><td>null</td><td>null</td><td>14.61388</td><td>1.056235</td><td>0.870146</td><td>null</td><td>39.401047</td><td>null</td><td>null</td></tr><tr><td>&quot;min&quot;</td><td>1.0</td><td>0.0</td><td>1.0</td><td>&quot;Ahlin&quot;</td><td>&quot; Don. Manuel E&quot;</td><td>&quot;female&quot;</td><td>0.83</td><td>0.0</td><td>0.0</td><td>&quot;110465&quot;</td><td>6.75</td><td>&quot;A5&quot;</td><td>&quot;C&quot;</td></tr><tr><td>&quot;25%&quot;</td><td>40.0</td><td>0.0</td><td>2.0</td><td>null</td><td>null</td><td>null</td><td>19.0</td><td>0.0</td><td>0.0</td><td>null</td><td>8.0292</td><td>null</td><td>null</td></tr><tr><td>&quot;50%&quot;</td><td>79.0</td><td>0.0</td><td>3.0</td><td>null</td><td>null</td><td>null</td><td>26.0</td><td>0.0</td><td>0.0</td><td>null</td><td>14.4542</td><td>null</td><td>null</td></tr><tr><td>&quot;75%&quot;</td><td>117.0</td><td>1.0</td><td>3.0</td><td>null</td><td>null</td><td>null</td><td>35.0</td><td>1.0</td><td>0.0</td><td>null</td><td>30.0708</td><td>null</td><td>null</td></tr><tr><td>&quot;max&quot;</td><td>156.0</td><td>1.0</td><td>3.0</td><td>&quot;van Billiard&quot;</td><td>&quot; Rev. Thomas Roussel Davids&quot;</td><td>&quot;male&quot;</td><td>71.0</td><td>5.0</td><td>5.0</td><td>&quot;W.E.P. 5734&quot;</td><td>263.0</td><td>&quot;G6&quot;</td><td>&quot;S&quot;</td></tr></tbody></table></div>"
      ],
      "text/plain": [
       "shape: (9, 14)\n",
       "┌────────────┬─────────────┬──────────┬──────────┬───┬─────────────┬───────────┬───────┬──────────┐\n",
       "│ statistic  ┆ PassengerId ┆ Survived ┆ Pclass   ┆ … ┆ Ticket      ┆ Fare      ┆ Cabin ┆ Embarked │\n",
       "│ ---        ┆ ---         ┆ ---      ┆ ---      ┆   ┆ ---         ┆ ---       ┆ ---   ┆ ---      │\n",
       "│ str        ┆ f64         ┆ f64      ┆ f64      ┆   ┆ str         ┆ f64       ┆ str   ┆ str      │\n",
       "╞════════════╪═════════════╪══════════╪══════════╪═══╪═════════════╪═══════════╪═══════╪══════════╡\n",
       "│ count      ┆ 156.0       ┆ 156.0    ┆ 156.0    ┆ … ┆ 156         ┆ 156.0     ┆ 31    ┆ 155      │\n",
       "│ null_count ┆ 0.0         ┆ 0.0      ┆ 0.0      ┆ … ┆ 0           ┆ 0.0       ┆ 125   ┆ 1        │\n",
       "│ mean       ┆ 78.5        ┆ 0.346154 ┆ 2.423077 ┆ … ┆ null        ┆ 28.109587 ┆ null  ┆ null     │\n",
       "│ std        ┆ 45.177428   ┆ 0.477275 ┆ 0.795459 ┆ … ┆ null        ┆ 39.401047 ┆ null  ┆ null     │\n",
       "│ min        ┆ 1.0         ┆ 0.0      ┆ 1.0      ┆ … ┆ 110465      ┆ 6.75      ┆ A5    ┆ C        │\n",
       "│ 25%        ┆ 40.0        ┆ 0.0      ┆ 2.0      ┆ … ┆ null        ┆ 8.0292    ┆ null  ┆ null     │\n",
       "│ 50%        ┆ 79.0        ┆ 0.0      ┆ 3.0      ┆ … ┆ null        ┆ 14.4542   ┆ null  ┆ null     │\n",
       "│ 75%        ┆ 117.0       ┆ 1.0      ┆ 3.0      ┆ … ┆ null        ┆ 30.0708   ┆ null  ┆ null     │\n",
       "│ max        ┆ 156.0       ┆ 1.0      ┆ 3.0      ┆ … ┆ W.E.P. 5734 ┆ 263.0     ┆ G6    ┆ S        │\n",
       "└────────────┴─────────────┴──────────┴──────────┴───┴─────────────┴───────────┴───────┴──────────┘"
      ]
     },
     "execution_count": 228,
     "metadata": {},
     "output_type": "execute_result"
    }
   ],
   "source": [
    "df.describe() # с добавлением строковых типов"
   ]
  },
  {
   "cell_type": "code",
   "execution_count": 227,
   "metadata": {},
   "outputs": [
    {
     "data": {
      "text/plain": [
       "String"
      ]
     },
     "execution_count": 227,
     "metadata": {},
     "output_type": "execute_result"
    }
   ],
   "source": [
    "df['Lname'].dtype # Нет Object"
   ]
  },
  {
   "cell_type": "markdown",
   "metadata": {},
   "source": [
    "#### pl.DataFrame | pl.Series"
   ]
  },
  {
   "cell_type": "code",
   "execution_count": 229,
   "metadata": {},
   "outputs": [
    {
     "name": "stdout",
     "output_type": "stream",
     "text": [
      "<class 'polars.dataframe.frame.DataFrame'>\n",
      "<class 'polars.series.series.Series'>\n",
      "<class 'polars.dataframe.frame.DataFrame'>\n",
      "<class 'polars.series.series.Series'>\n",
      "<class 'polars.series.series.Series'>\n"
     ]
    }
   ],
   "source": [
    "print(type(df))\n",
    "print(type(df[\"Age\"]))\n",
    "print(type(df.select(\"Age\")))\n",
    "print(type(df.select(\"Age\").to_series()))\n",
    "# или аналогично\n",
    "print(type(df.get_column(\"Age\")))"
   ]
  },
  {
   "cell_type": "markdown",
   "metadata": {},
   "source": [
    "#### Cовместимость с pandas"
   ]
  },
  {
   "cell_type": "code",
   "execution_count": null,
   "metadata": {},
   "outputs": [],
   "source": [
    "# !pip install pyarrow"
   ]
  },
  {
   "cell_type": "code",
   "execution_count": 230,
   "metadata": {},
   "outputs": [
    {
     "name": "stdout",
     "output_type": "stream",
     "text": [
      "<class 'polars.dataframe.frame.DataFrame'>\n"
     ]
    }
   ],
   "source": [
    "df_pandas = df.to_pandas()\n",
    "\n",
    "df_reconverted = pl.from_pandas(df_pandas)\n",
    "\n",
    "print(type(df_reconverted))"
   ]
  },
  {
   "cell_type": "markdown",
   "metadata": {},
   "source": [
    "### Null vs NaN"
   ]
  },
  {
   "cell_type": "code",
   "execution_count": 234,
   "metadata": {},
   "outputs": [
    {
     "name": "stdout",
     "output_type": "stream",
     "text": [
      "shape: (3, 3)\n",
      "┌───────────┬─────────────┬────────────┐\n",
      "│ int_nulls ┆ float_nulls ┆ float_nans │\n",
      "│ ---       ┆ ---         ┆ ---        │\n",
      "│ i64       ┆ f64         ┆ f64        │\n",
      "╞═══════════╪═════════════╪════════════╡\n",
      "│ 1         ┆ 1.0         ┆ 1.0        │\n",
      "│ null      ┆ null        ┆ NaN        │\n",
      "│ 3         ┆ 3.0         ┆ 3.0        │\n",
      "└───────────┴─────────────┴────────────┘\n"
     ]
    }
   ],
   "source": [
    "df = pl.DataFrame({\n",
    "    \"int_nulls\": [1, None, 3],          # null для целых чисел\n",
    "    \"float_nulls\": [1.0, None, 3.0],    # null для float\n",
    "    \"float_nans\": [1.0, np.nan, 3.0]    # NaN (только для float)\n",
    "})\n",
    "\n",
    "print(df)\n"
   ]
  },
  {
   "cell_type": "code",
   "execution_count": 235,
   "metadata": {},
   "outputs": [
    {
     "name": "stdout",
     "output_type": "stream",
     "text": [
      "shape: (3, 3)\n",
      "┌───────────┬─────────────┬────────────┐\n",
      "│ int_nulls ┆ float_nulls ┆ float_nans │\n",
      "│ ---       ┆ ---         ┆ ---        │\n",
      "│ i64       ┆ f64         ┆ f64        │\n",
      "╞═══════════╪═════════════╪════════════╡\n",
      "│ 1         ┆ 1.0         ┆ 1.0        │\n",
      "│ null      ┆ null        ┆ -1.0       │\n",
      "│ 3         ┆ 3.0         ┆ 3.0        │\n",
      "└───────────┴─────────────┴────────────┘\n",
      "shape: (3, 3)\n",
      "┌───────────┬─────────────┬────────────┐\n",
      "│ int_nulls ┆ float_nulls ┆ float_nans │\n",
      "│ ---       ┆ ---         ┆ ---        │\n",
      "│ f64       ┆ f64         ┆ f64        │\n",
      "╞═══════════╪═════════════╪════════════╡\n",
      "│ 1.0       ┆ 1.0         ┆ 1.0        │\n",
      "│ -2.0      ┆ -2.0        ┆ NaN        │\n",
      "│ 3.0       ┆ 3.0         ┆ 3.0        │\n",
      "└───────────┴─────────────┴────────────┘\n"
     ]
    }
   ],
   "source": [
    "print(df.fill_nan(-1.0))\n",
    "print(df.fill_null(-2.0))"
   ]
  },
  {
   "cell_type": "code",
   "execution_count": 236,
   "metadata": {},
   "outputs": [
    {
     "name": "stdout",
     "output_type": "stream",
     "text": [
      "shape: (2, 3)\n",
      "┌───────────┬─────────────┬────────────┐\n",
      "│ int_nulls ┆ float_nulls ┆ float_nans │\n",
      "│ ---       ┆ ---         ┆ ---        │\n",
      "│ i64       ┆ f64         ┆ f64        │\n",
      "╞═══════════╪═════════════╪════════════╡\n",
      "│ 1         ┆ 1.0         ┆ 1.0        │\n",
      "│ 3         ┆ 3.0         ┆ 3.0        │\n",
      "└───────────┴─────────────┴────────────┘\n"
     ]
    }
   ],
   "source": [
    "df_filtered = df.filter(\n",
    "    ~pl.col(\"float_nulls\").is_null() & ~pl.col(\"float_nans\").is_nan()\n",
    ")\n",
    "print(df_filtered)"
   ]
  },
  {
   "cell_type": "markdown",
   "metadata": {},
   "source": [
    "### Ленивые вычисления"
   ]
  },
  {
   "cell_type": "code",
   "execution_count": 237,
   "metadata": {},
   "outputs": [
    {
     "data": {
      "text/plain": [
       "Schema([('FL_DATE', Date),\n",
       "        ('DEP_DELAY', Int16),\n",
       "        ('ARR_DELAY', Int16),\n",
       "        ('AIR_TIME', Int16),\n",
       "        ('DISTANCE', Int16),\n",
       "        ('DEP_TIME', Float32),\n",
       "        ('ARR_TIME', Float32)])"
      ]
     },
     "execution_count": 237,
     "metadata": {},
     "output_type": "execute_result"
    }
   ],
   "source": [
    "df_schema = pl.read_parquet_schema(\"flights-1m.parquet\")\n",
    "df_schema"
   ]
  },
  {
   "cell_type": "code",
   "execution_count": 238,
   "metadata": {},
   "outputs": [
    {
     "data": {
      "text/plain": [
       "{'ARROW:schema': '/////6gFAAAQAAAAAAAKAA4ABgAFAAgACgAAAAABBAAQAAAAAAAKAAwAAAAEAAgACgAAAOADAAAEAAAAAQAAAAwAAAAIAAwABAAIAAgAAAC4AwAABAAAAKsDAAB7ImluZGV4X2NvbHVtbnMiOiBbXSwgImNvbHVtbl9pbmRleGVzIjogW10sICJjb2x1bW5zIjogW3sibmFtZSI6ICJGTF9EQVRFIiwgImZpZWxkX25hbWUiOiAiRkxfREFURSIsICJwYW5kYXNfdHlwZSI6ICJkYXRlIiwgIm51bXB5X3R5cGUiOiAib2JqZWN0IiwgIm1ldGFkYXRhIjogbnVsbH0sIHsibmFtZSI6ICJERVBfREVMQVkiLCAiZmllbGRfbmFtZSI6ICJERVBfREVMQVkiLCAicGFuZGFzX3R5cGUiOiAiaW50MTYiLCAibnVtcHlfdHlwZSI6ICJpbnQxNiIsICJtZXRhZGF0YSI6IG51bGx9LCB7Im5hbWUiOiAiQVJSX0RFTEFZIiwgImZpZWxkX25hbWUiOiAiQVJSX0RFTEFZIiwgInBhbmRhc190eXBlIjogImludDE2IiwgIm51bXB5X3R5cGUiOiAiaW50MTYiLCAibWV0YWRhdGEiOiBudWxsfSwgeyJuYW1lIjogIkFJUl9USU1FIiwgImZpZWxkX25hbWUiOiAiQUlSX1RJTUUiLCAicGFuZGFzX3R5cGUiOiAiaW50MTYiLCAibnVtcHlfdHlwZSI6ICJpbnQxNiIsICJtZXRhZGF0YSI6IG51bGx9LCB7Im5hbWUiOiAiRElTVEFOQ0UiLCAiZmllbGRfbmFtZSI6ICJESVNUQU5DRSIsICJwYW5kYXNfdHlwZSI6ICJpbnQxNiIsICJudW1weV90eXBlIjogImludDE2IiwgIm1ldGFkYXRhIjogbnVsbH0sIHsibmFtZSI6ICJERVBfVElNRSIsICJmaWVsZF9uYW1lIjogIkRFUF9USU1FIiwgInBhbmRhc190eXBlIjogImZsb2F0MzIiLCAibnVtcHlfdHlwZSI6ICJmbG9hdDMyIiwgIm1ldGFkYXRhIjogbnVsbH0sIHsibmFtZSI6ICJBUlJfVElNRSIsICJmaWVsZF9uYW1lIjogIkFSUl9USU1FIiwgInBhbmRhc190eXBlIjogImZsb2F0MzIiLCAibnVtcHlfdHlwZSI6ICJmbG9hdDMyIiwgIm1ldGFkYXRhIjogbnVsbH1dLCAiY3JlYXRvciI6IHsibGlicmFyeSI6ICJweWFycm93IiwgInZlcnNpb24iOiAiNS4wLjAifSwgInBhbmRhc192ZXJzaW9uIjogIjEuMy41In0ABgAAAHBhbmRhcwAABwAAAGQBAAAUAQAA3AAAAKQAAABsAAAAOAAAAAQAAADI/v//AAABAxAAAAAcAAAABAAAAAAAAAAIAAAAQVJSX1RJTUUAAAAAuv7//wAAAQD4/v//AAABAxAAAAAcAAAABAAAAAAAAAAIAAAAREVQX1RJTUUAAAAA6v7//wAAAQAo////AAABAhAAAAAcAAAABAAAAAAAAAAIAAAARElTVEFOQ0UAAAAAZP///wAAAAEQAAAAXP///wAAAQIQAAAAHAAAAAQAAAAAAAAACAAAAEFJUl9USU1FAAAAAJj///8AAAABEAAAAJD///8AAAECEAAAABwAAAAEAAAAAAAAAAkAAABBUlJfREVMQVkAAADM////AAAAARAAAADE////AAABAhAAAAAkAAAABAAAAAAAAAAJAAAAREVQX0RFTEFZAAAACAAMAAgABwAIAAAAAAAAARAAAAAQABQACAAGAAcADAAAABAAEAAAAAAAAQgQAAAAIAAAAAQAAAAAAAAABwAAAEZMX0RBVEUAAAAGAAgABgAGAAAAAAAAAA==',\n",
       " 'pandas': '{\"index_columns\": [], \"column_indexes\": [], \"columns\": [{\"name\": \"FL_DATE\", \"field_name\": \"FL_DATE\", \"pandas_type\": \"date\", \"numpy_type\": \"object\", \"metadata\": null}, {\"name\": \"DEP_DELAY\", \"field_name\": \"DEP_DELAY\", \"pandas_type\": \"int16\", \"numpy_type\": \"int16\", \"metadata\": null}, {\"name\": \"ARR_DELAY\", \"field_name\": \"ARR_DELAY\", \"pandas_type\": \"int16\", \"numpy_type\": \"int16\", \"metadata\": null}, {\"name\": \"AIR_TIME\", \"field_name\": \"AIR_TIME\", \"pandas_type\": \"int16\", \"numpy_type\": \"int16\", \"metadata\": null}, {\"name\": \"DISTANCE\", \"field_name\": \"DISTANCE\", \"pandas_type\": \"int16\", \"numpy_type\": \"int16\", \"metadata\": null}, {\"name\": \"DEP_TIME\", \"field_name\": \"DEP_TIME\", \"pandas_type\": \"float32\", \"numpy_type\": \"float32\", \"metadata\": null}, {\"name\": \"ARR_TIME\", \"field_name\": \"ARR_TIME\", \"pandas_type\": \"float32\", \"numpy_type\": \"float32\", \"metadata\": null}], \"creator\": {\"library\": \"pyarrow\", \"version\": \"5.0.0\"}, \"pandas_version\": \"1.3.5\"}'}"
      ]
     },
     "execution_count": 238,
     "metadata": {},
     "output_type": "execute_result"
    }
   ],
   "source": [
    "df_meta =pl.read_parquet_metadata(\"flights-1m.parquet\")\n",
    "df_meta\n"
   ]
  },
  {
   "cell_type": "code",
   "execution_count": null,
   "metadata": {},
   "outputs": [],
   "source": [
    "pl.read\n",
    "p"
   ]
  },
  {
   "cell_type": "code",
   "execution_count": 239,
   "metadata": {},
   "outputs": [],
   "source": [
    "df_sample = pl.read_parquet(\"flights-1m.parquet\", n_rows=1000)"
   ]
  },
  {
   "cell_type": "code",
   "execution_count": 240,
   "metadata": {},
   "outputs": [
    {
     "data": {
      "text/html": [
       "<div><style>\n",
       ".dataframe > thead > tr,\n",
       ".dataframe > tbody > tr {\n",
       "  text-align: right;\n",
       "  white-space: pre-wrap;\n",
       "}\n",
       "</style>\n",
       "<small>shape: (9, 8)</small><table border=\"1\" class=\"dataframe\"><thead><tr><th>statistic</th><th>FL_DATE</th><th>DEP_DELAY</th><th>ARR_DELAY</th><th>AIR_TIME</th><th>DISTANCE</th><th>DEP_TIME</th><th>ARR_TIME</th></tr><tr><td>str</td><td>str</td><td>f64</td><td>f64</td><td>f64</td><td>f64</td><td>f64</td><td>f64</td></tr></thead><tbody><tr><td>&quot;count&quot;</td><td>&quot;1000&quot;</td><td>1000.0</td><td>1000.0</td><td>1000.0</td><td>1000.0</td><td>1000.0</td><td>1000.0</td></tr><tr><td>&quot;null_count&quot;</td><td>&quot;0&quot;</td><td>0.0</td><td>0.0</td><td>0.0</td><td>0.0</td><td>0.0</td><td>0.0</td></tr><tr><td>&quot;mean&quot;</td><td>&quot;2006-01-16 00:07:12&quot;</td><td>4.622</td><td>1.465</td><td>314.103</td><td>2584.65</td><td>13.411866</td><td>13.851167</td></tr><tr><td>&quot;std&quot;</td><td>null</td><td>25.140668</td><td>30.553728</td><td>81.41536</td><td>695.824479</td><td>4.962078</td><td>5.798705</td></tr><tr><td>&quot;min&quot;</td><td>&quot;2006-01-01&quot;</td><td>-25.0</td><td>-50.0</td><td>73.0</td><td>802.0</td><td>0.0</td><td>0.033333</td></tr><tr><td>&quot;25%&quot;</td><td>&quot;2006-01-08&quot;</td><td>-5.0</td><td>-15.0</td><td>279.0</td><td>2475.0</td><td>8.95</td><td>10.433333</td></tr><tr><td>&quot;50%&quot;</td><td>&quot;2006-01-16&quot;</td><td>-2.0</td><td>-5.0</td><td>303.0</td><td>2475.0</td><td>11.966666</td><td>14.5</td></tr><tr><td>&quot;75%&quot;</td><td>&quot;2006-01-24&quot;</td><td>2.0</td><td>9.0</td><td>345.0</td><td>2586.0</td><td>17.683332</td><td>18.716667</td></tr><tr><td>&quot;max&quot;</td><td>&quot;2006-01-31&quot;</td><td>285.0</td><td>263.0</td><td>565.0</td><td>4244.0</td><td>23.983334</td><td>23.966667</td></tr></tbody></table></div>"
      ],
      "text/plain": [
       "shape: (9, 8)\n",
       "┌────────────┬─────────────┬───────────┬───────────┬──────────┬────────────┬───────────┬───────────┐\n",
       "│ statistic  ┆ FL_DATE     ┆ DEP_DELAY ┆ ARR_DELAY ┆ AIR_TIME ┆ DISTANCE   ┆ DEP_TIME  ┆ ARR_TIME  │\n",
       "│ ---        ┆ ---         ┆ ---       ┆ ---       ┆ ---      ┆ ---        ┆ ---       ┆ ---       │\n",
       "│ str        ┆ str         ┆ f64       ┆ f64       ┆ f64      ┆ f64        ┆ f64       ┆ f64       │\n",
       "╞════════════╪═════════════╪═══════════╪═══════════╪══════════╪════════════╪═══════════╪═══════════╡\n",
       "│ count      ┆ 1000        ┆ 1000.0    ┆ 1000.0    ┆ 1000.0   ┆ 1000.0     ┆ 1000.0    ┆ 1000.0    │\n",
       "│ null_count ┆ 0           ┆ 0.0       ┆ 0.0       ┆ 0.0      ┆ 0.0        ┆ 0.0       ┆ 0.0       │\n",
       "│ mean       ┆ 2006-01-16  ┆ 4.622     ┆ 1.465     ┆ 314.103  ┆ 2584.65    ┆ 13.411866 ┆ 13.851167 │\n",
       "│            ┆ 00:07:12    ┆           ┆           ┆          ┆            ┆           ┆           │\n",
       "│ std        ┆ null        ┆ 25.140668 ┆ 30.553728 ┆ 81.41536 ┆ 695.824479 ┆ 4.962078  ┆ 5.798705  │\n",
       "│ min        ┆ 2006-01-01  ┆ -25.0     ┆ -50.0     ┆ 73.0     ┆ 802.0      ┆ 0.0       ┆ 0.033333  │\n",
       "│ 25%        ┆ 2006-01-08  ┆ -5.0      ┆ -15.0     ┆ 279.0    ┆ 2475.0     ┆ 8.95      ┆ 10.433333 │\n",
       "│ 50%        ┆ 2006-01-16  ┆ -2.0      ┆ -5.0      ┆ 303.0    ┆ 2475.0     ┆ 11.966666 ┆ 14.5      │\n",
       "│ 75%        ┆ 2006-01-24  ┆ 2.0       ┆ 9.0       ┆ 345.0    ┆ 2586.0     ┆ 17.683332 ┆ 18.716667 │\n",
       "│ max        ┆ 2006-01-31  ┆ 285.0     ┆ 263.0     ┆ 565.0    ┆ 4244.0     ┆ 23.983334 ┆ 23.966667 │\n",
       "└────────────┴─────────────┴───────────┴───────────┴──────────┴────────────┴───────────┴───────────┘"
      ]
     },
     "execution_count": 240,
     "metadata": {},
     "output_type": "execute_result"
    }
   ],
   "source": [
    "df_sample.describe()"
   ]
  },
  {
   "cell_type": "markdown",
   "metadata": {},
   "source": [
    "### План запроса"
   ]
  },
  {
   "cell_type": "code",
   "execution_count": 241,
   "metadata": {},
   "outputs": [
    {
     "name": "stdout",
     "output_type": "stream",
     "text": [
      "Parquet SCAN [flights-1m.parquet]\n",
      "PROJECT 2/7 COLUMNS\n",
      "SELECTION: [(col(\"AIR_TIME\")) > (200)]\n"
     ]
    }
   ],
   "source": [
    "lf = pl.scan_parquet(\"flights-1m.parquet\").filter(pl.col(\"AIR_TIME\") > 200).select([\"AIR_TIME\", \"DISTANCE\"])\n",
    "print(lf.explain()) # для плана; collect(streaming=True) для потокового выполнения."
   ]
  },
  {
   "cell_type": "code",
   "execution_count": 242,
   "metadata": {},
   "outputs": [
    {
     "data": {
      "text/html": [
       "<i>naive plan: (run <b>LazyFrame.explain(optimized=True)</b> to see the optimized plan)</i>\n",
       "    <p></p>\n",
       "    <div>SELECT [col(\"AIR_TIME\"), col(\"DISTANCE\")]<p></p>  FILTER [(col(\"AIR_TIME\")) > (200)]<p></p>  FROM<p></p>    Parquet SCAN [flights-1m.parquet]<p></p>    PROJECT */7 COLUMNS</div>"
      ],
      "text/plain": [
       "<LazyFrame at 0x12EBA8EE0>"
      ]
     },
     "execution_count": 242,
     "metadata": {},
     "output_type": "execute_result"
    }
   ],
   "source": [
    "lf"
   ]
  },
  {
   "cell_type": "code",
   "execution_count": 244,
   "metadata": {},
   "outputs": [
    {
     "name": "stdout",
     "output_type": "stream",
     "text": [
      "shape: (101_052, 2)\n",
      "┌──────────┬──────────┐\n",
      "│ AIR_TIME ┆ DISTANCE │\n",
      "│ ---      ┆ ---      │\n",
      "│ i16      ┆ i16      │\n",
      "╞══════════╪══════════╡\n",
      "│ 350      ┆ 2475     │\n",
      "│ 343      ┆ 2475     │\n",
      "│ 344      ┆ 2475     │\n",
      "│ 331      ┆ 2475     │\n",
      "│ 321      ┆ 2475     │\n",
      "│ …        ┆ …        │\n",
      "│ 286      ┆ 1747     │\n",
      "│ 283      ┆ 1747     │\n",
      "│ 331      ┆ 1946     │\n",
      "│ 279      ┆ 1946     │\n",
      "│ 307      ┆ 1946     │\n",
      "└──────────┴──────────┘\n"
     ]
    }
   ],
   "source": [
    "# out = lf.collect(streaming=True)\n",
    "out = lf.collect(engine=\"streaming\")\n",
    "print(out)"
   ]
  },
  {
   "cell_type": "code",
   "execution_count": 256,
   "metadata": {},
   "outputs": [
    {
     "name": "stdout",
     "output_type": "stream",
     "text": [
      "shape: (101_052, 2)\n",
      "┌──────────┬──────────┐\n",
      "│ AIR_TIME ┆ DISTANCE │\n",
      "│ ---      ┆ ---      │\n",
      "│ i16      ┆ i16      │\n",
      "╞══════════╪══════════╡\n",
      "│ 350      ┆ 2475     │\n",
      "│ 343      ┆ 2475     │\n",
      "│ 344      ┆ 2475     │\n",
      "│ 331      ┆ 2475     │\n",
      "│ 321      ┆ 2475     │\n",
      "│ …        ┆ …        │\n",
      "│ 286      ┆ 1747     │\n",
      "│ 283      ┆ 1747     │\n",
      "│ 331      ┆ 1946     │\n",
      "│ 279      ┆ 1946     │\n",
      "│ 307      ┆ 1946     │\n",
      "└──────────┴──────────┘\n"
     ]
    }
   ],
   "source": [
    "out.sort(by=\"DISTANCE\", descending=False)\n",
    "print(out)"
   ]
  },
  {
   "cell_type": "markdown",
   "metadata": {},
   "source": [
    "### Expression API"
   ]
  },
  {
   "cell_type": "code",
   "execution_count": 257,
   "metadata": {},
   "outputs": [],
   "source": [
    "# Генерация тестовых данных\n",
    "df1 = pl.DataFrame({\n",
    "    \"id\": [1, 2, 3, 4],\n",
    "    \"value\": [5, 15, 8, 20],\n",
    "    \"category\": [\"A\", \"B\", \"A\", \"B\"]\n",
    "})\n",
    "\n",
    "df2 = pl.DataFrame({\n",
    "    \"id\": [1, 2, 3, 5],\n",
    "    \"extra_info\": [\"info1\", \"info2\", \"info3\", \"info4\"]\n",
    "})\n",
    "\n",
    "# Запись в Parquet\n",
    "df1.write_parquet(\"data1.parquet\")\n",
    "df2.write_parquet(\"data2.parquet\")\n",
    "\n",
    "# Чтение из Parquet\n",
    "df1 = pl.read_parquet(\"data1.parquet\")\n",
    "df2 = pl.read_parquet(\"data2.parquet\")\n"
   ]
  },
  {
   "cell_type": "markdown",
   "metadata": {},
   "source": [
    "#### Фильтрация"
   ]
  },
  {
   "cell_type": "code",
   "execution_count": 258,
   "metadata": {},
   "outputs": [],
   "source": [
    "filtered = df1.filter(pl.col(\"value\") > 10)"
   ]
  },
  {
   "cell_type": "markdown",
   "metadata": {},
   "source": [
    "#### Добавить колонку"
   ]
  },
  {
   "cell_type": "code",
   "execution_count": 259,
   "metadata": {},
   "outputs": [],
   "source": [
    "new_col_df = df1.with_columns((pl.col(\"value\") * 2).alias(\"value_double\"))\n"
   ]
  },
  {
   "cell_type": "code",
   "execution_count": 260,
   "metadata": {},
   "outputs": [
    {
     "name": "stdout",
     "output_type": "stream",
     "text": [
      "shape: (4, 4)\n",
      "┌─────┬───────┬──────────┬──────────────┐\n",
      "│ id  ┆ value ┆ category ┆ value_double │\n",
      "│ --- ┆ ---   ┆ ---      ┆ ---          │\n",
      "│ i64 ┆ i64   ┆ str      ┆ i64          │\n",
      "╞═════╪═══════╪══════════╪══════════════╡\n",
      "│ 1   ┆ 5     ┆ A        ┆ 10           │\n",
      "│ 2   ┆ 15    ┆ B        ┆ 30           │\n",
      "│ 3   ┆ 8     ┆ A        ┆ 16           │\n",
      "│ 4   ┆ 20    ┆ B        ┆ 40           │\n",
      "└─────┴───────┴──────────┴──────────────┘\n"
     ]
    }
   ],
   "source": [
    "print(new_col_df)"
   ]
  },
  {
   "cell_type": "markdown",
   "metadata": {},
   "source": [
    "#### Условная логика "
   ]
  },
  {
   "cell_type": "code",
   "execution_count": 263,
   "metadata": {},
   "outputs": [
    {
     "name": "stdout",
     "output_type": "stream",
     "text": [
      "shape: (4, 4)\n",
      "┌─────┬───────┬──────────┬───────┐\n",
      "│ id  ┆ value ┆ category ┆ size  │\n",
      "│ --- ┆ ---   ┆ ---      ┆ ---   │\n",
      "│ i64 ┆ i64   ┆ str      ┆ str   │\n",
      "╞═════╪═══════╪══════════╪═══════╡\n",
      "│ 1   ┆ 5     ┆ A        ┆ small │\n",
      "│ 2   ┆ 15    ┆ B        ┆ big   │\n",
      "│ 3   ┆ 8     ┆ A        ┆ small │\n",
      "│ 4   ┆ 20    ┆ B        ┆ big   │\n",
      "└─────┴───────┴──────────┴───────┘\n"
     ]
    }
   ],
   "source": [
    "with_condition_df = df1.with_columns(\n",
    "    size=pl.when(pl.col(\"value\") > 10)\n",
    "           .then(pl.lit(\"big\")) # Иначе строка трактуется как Имя колонки\n",
    "           .otherwise(pl.lit(\"small\"))\n",
    ")\n",
    "print(with_condition_df)"
   ]
  },
  {
   "cell_type": "markdown",
   "metadata": {},
   "source": []
  },
  {
   "cell_type": "markdown",
   "metadata": {},
   "source": [
    "### Оконные функции в Polars\n",
    "\n",
    "Оконные функции позволяют выполнять вычисления над группами строк без группировки данных. Это мощный инструмент для аналитики данных.\n"
   ]
  },
  {
   "cell_type": "code",
   "execution_count": 264,
   "metadata": {},
   "outputs": [
    {
     "name": "stdout",
     "output_type": "stream",
     "text": [
      "Исходные данные:\n",
      "shape: (8, 4)\n",
      "┌──────────┬────────────┬───────┬───────┐\n",
      "│ employee ┆ department ┆ month ┆ sales │\n",
      "│ ---      ┆ ---        ┆ ---   ┆ ---   │\n",
      "│ str      ┆ str        ┆ i64   ┆ i64   │\n",
      "╞══════════╪════════════╪═══════╪═══════╡\n",
      "│ Alice    ┆ Sales      ┆ 1     ┆ 1000  │\n",
      "│ Bob      ┆ Sales      ┆ 1     ┆ 1200  │\n",
      "│ Alice    ┆ Sales      ┆ 2     ┆ 1100  │\n",
      "│ Bob      ┆ Sales      ┆ 2     ┆ 1300  │\n",
      "│ Alice    ┆ Marketing  ┆ 1     ┆ 800   │\n",
      "│ Bob      ┆ Marketing  ┆ 1     ┆ 900   │\n",
      "│ Alice    ┆ Marketing  ┆ 2     ┆ 850   │\n",
      "│ Bob      ┆ Marketing  ┆ 2     ┆ 950   │\n",
      "└──────────┴────────────┴───────┴───────┘\n"
     ]
    }
   ],
   "source": [
    "# Создаем тестовые данные для демонстрации оконных функций\n",
    "sales_data = pl.DataFrame({\n",
    "    \"employee\": [\"Alice\", \"Bob\", \"Alice\", \"Bob\", \"Alice\", \"Bob\", \"Alice\", \"Bob\"],\n",
    "    \"department\": [\"Sales\", \"Sales\", \"Sales\", \"Sales\", \"Marketing\", \"Marketing\", \"Marketing\", \"Marketing\"],\n",
    "    \"month\": [1, 1, 2, 2, 1, 1, 2, 2],\n",
    "    \"sales\": [1000, 1200, 1100, 1300, 800, 900, 850, 950]\n",
    "})\n",
    "\n",
    "print(\"Исходные данные:\")\n",
    "print(sales_data)\n"
   ]
  },
  {
   "cell_type": "code",
   "execution_count": 265,
   "metadata": {},
   "outputs": [
    {
     "name": "stdout",
     "output_type": "stream",
     "text": [
      "1. Ранжирование по продажам в рамках отдела:\n",
      "shape: (8, 6)\n",
      "┌──────────┬────────────┬───────┬───────┬──────────────┬────────────────────┐\n",
      "│ employee ┆ department ┆ month ┆ sales ┆ rank_in_dept ┆ dense_rank_in_dept │\n",
      "│ ---      ┆ ---        ┆ ---   ┆ ---   ┆ ---          ┆ ---                │\n",
      "│ str      ┆ str        ┆ i64   ┆ i64   ┆ f64          ┆ u32                │\n",
      "╞══════════╪════════════╪═══════╪═══════╪══════════════╪════════════════════╡\n",
      "│ Alice    ┆ Sales      ┆ 1     ┆ 1000  ┆ 4.0          ┆ 1                  │\n",
      "│ Bob      ┆ Sales      ┆ 1     ┆ 1200  ┆ 2.0          ┆ 3                  │\n",
      "│ Alice    ┆ Sales      ┆ 2     ┆ 1100  ┆ 3.0          ┆ 2                  │\n",
      "│ Bob      ┆ Sales      ┆ 2     ┆ 1300  ┆ 1.0          ┆ 4                  │\n",
      "│ Alice    ┆ Marketing  ┆ 1     ┆ 800   ┆ 4.0          ┆ 1                  │\n",
      "│ Bob      ┆ Marketing  ┆ 1     ┆ 900   ┆ 2.0          ┆ 3                  │\n",
      "│ Alice    ┆ Marketing  ┆ 2     ┆ 850   ┆ 3.0          ┆ 2                  │\n",
      "│ Bob      ┆ Marketing  ┆ 2     ┆ 950   ┆ 1.0          ┆ 4                  │\n",
      "└──────────┴────────────┴───────┴───────┴──────────────┴────────────────────┘\n"
     ]
    }
   ],
   "source": [
    "# 1. RANK() - ранжирование по продажам в рамках каждого отдела\n",
    "ranked_data = sales_data.with_columns([\n",
    "    (pl\n",
    "     .col(\"sales\")\n",
    "     .rank(descending=True)\n",
    "     .over(\"department\")\n",
    "     .alias(\"rank_in_dept\")),\n",
    "    (pl\n",
    "     .col(\"sales\")\n",
    "     .rank(method=\"dense\")\n",
    "     .over(\"department\")\n",
    "     .alias(\"dense_rank_in_dept\"))\n",
    "])\n",
    "\n",
    "print(\"1. Ранжирование по продажам в рамках отдела:\")\n",
    "print(ranked_data)\n"
   ]
  },
  {
   "cell_type": "code",
   "execution_count": 266,
   "metadata": {},
   "outputs": [
    {
     "name": "stdout",
     "output_type": "stream",
     "text": [
      "4. LAG и LEAD функции:\n",
      "shape: (8, 7)\n",
      "┌──────────┬────────────┬───────┬───────┬────────────┬────────────┬──────────────┐\n",
      "│ employee ┆ department ┆ month ┆ sales ┆ prev_sales ┆ next_sales ┆ sales_change │\n",
      "│ ---      ┆ ---        ┆ ---   ┆ ---   ┆ ---        ┆ ---        ┆ ---          │\n",
      "│ str      ┆ str        ┆ i64   ┆ i64   ┆ i64        ┆ i64        ┆ i64          │\n",
      "╞══════════╪════════════╪═══════╪═══════╪════════════╪════════════╪══════════════╡\n",
      "│ Alice    ┆ Marketing  ┆ 1     ┆ 800   ┆ null       ┆ 900        ┆ null         │\n",
      "│ Bob      ┆ Marketing  ┆ 1     ┆ 900   ┆ 800        ┆ 850        ┆ 100          │\n",
      "│ Alice    ┆ Marketing  ┆ 2     ┆ 850   ┆ 900        ┆ 950        ┆ -50          │\n",
      "│ Bob      ┆ Marketing  ┆ 2     ┆ 950   ┆ 850        ┆ null       ┆ 100          │\n",
      "│ Alice    ┆ Sales      ┆ 1     ┆ 1000  ┆ null       ┆ 1200       ┆ null         │\n",
      "│ Bob      ┆ Sales      ┆ 1     ┆ 1200  ┆ 1000       ┆ 1100       ┆ 200          │\n",
      "│ Alice    ┆ Sales      ┆ 2     ┆ 1100  ┆ 1200       ┆ 1300       ┆ -100         │\n",
      "│ Bob      ┆ Sales      ┆ 2     ┆ 1300  ┆ 1100       ┆ null       ┆ 200          │\n",
      "└──────────┴────────────┴───────┴───────┴────────────┴────────────┴──────────────┘\n"
     ]
    }
   ],
   "source": [
    "# 4. LAG() и LEAD() - предыдущие и следующие значения\n",
    "lag_lead = sales_data.sort([\"department\", \"month\"]).with_columns([\n",
    "    pl.col(\"sales\").shift(1).over(\"department\").alias(\"prev_sales\"),\n",
    "    pl.col(\"sales\").shift(-1).over(\"department\").alias(\"next_sales\"),\n",
    "    (pl.col(\"sales\") - pl.col(\"sales\").shift(1)).over(\"department\").alias(\"sales_change\")\n",
    "])\n",
    "\n",
    "print(\"4. LAG и LEAD функции:\")\n",
    "print(lag_lead)\n"
   ]
  },
  {
   "cell_type": "markdown",
   "metadata": {},
   "source": [
    "#### Комплексный пример Expression API в Polars\n"
   ]
  },
  {
   "cell_type": "code",
   "execution_count": 267,
   "metadata": {},
   "outputs": [
    {
     "name": "stdout",
     "output_type": "stream",
     "text": [
      "Исходные данные:\n",
      "Размер датафрейма: (1000, 14)\n",
      "shape: (10, 14)\n",
      "┌─────────┬────────────┬───────────┬───────────┬───┬───────────┬───────────┬───────────┬───────────┐\n",
      "│ sale_id ┆ employee_i ┆ employee_ ┆ departmen ┆ … ┆ customer_ ┆ is_premiu ┆ gross_amo ┆ net_amoun │\n",
      "│ ---     ┆ d          ┆ name      ┆ t         ┆   ┆ rating    ┆ m_custome ┆ unt       ┆ t         │\n",
      "│ i64     ┆ ---        ┆ ---       ┆ ---       ┆   ┆ ---       ┆ r         ┆ ---       ┆ ---       │\n",
      "│         ┆ i64        ┆ str       ┆ str       ┆   ┆ f64       ┆ ---       ┆ f64       ┆ f64       │\n",
      "│         ┆            ┆           ┆           ┆   ┆           ┆ bool      ┆           ┆           │\n",
      "╞═════════╪════════════╪═══════════╪═══════════╪═══╪═══════════╪═══════════╪═══════════╪═══════════╡\n",
      "│ 1       ┆ 7          ┆ Employee_ ┆ Support   ┆ … ┆ 3.716687  ┆ true      ┆ 515.2     ┆ 410.98118 │\n",
      "│         ┆            ┆ 07        ┆           ┆   ┆           ┆           ┆           ┆ 5         │\n",
      "│ 2       ┆ 20         ┆ Employee_ ┆ Marketing ┆ … ┆ 1.2963    ┆ false     ┆ 232.72    ┆ 164.30343 │\n",
      "│         ┆            ┆ 18        ┆           ┆   ┆           ┆           ┆           ┆           │\n",
      "│ 3       ┆ 15         ┆ Employee_ ┆ Developme ┆ … ┆ 4.971329  ┆ false     ┆ 605.97    ┆ 426.79665 │\n",
      "│         ┆            ┆ 02        ┆ nt        ┆   ┆           ┆           ┆           ┆ 7         │\n",
      "│ 4       ┆ 11         ┆ Employee_ ┆ Developme ┆ … ┆ 2.631577  ┆ false     ┆ 2419.08   ┆ 1920.7408 │\n",
      "│         ┆            ┆ 17        ┆ nt        ┆   ┆           ┆           ┆           ┆ 51        │\n",
      "│ 5       ┆ 8          ┆ Employee_ ┆ Marketing ┆ … ┆ 2.14961   ┆ true      ┆ 886.05    ┆ 821.29353 │\n",
      "│         ┆            ┆ 11        ┆           ┆   ┆           ┆           ┆           ┆ 4         │\n",
      "│ 6       ┆ 7          ┆ Employee_ ┆ Developme ┆ … ┆ 3.231517  ┆ false     ┆ 1365.9    ┆ 1038.6757 │\n",
      "│         ┆            ┆ 12        ┆ nt        ┆   ┆           ┆           ┆           ┆ 74        │\n",
      "│ 7       ┆ 19         ┆ Employee_ ┆ Marketing ┆ … ┆ 2.21723   ┆ true      ┆ 341.04    ┆ 330.08963 │\n",
      "│         ┆            ┆ 19        ┆           ┆   ┆           ┆           ┆           ┆ 5         │\n",
      "│ 8       ┆ 11         ┆ Employee_ ┆ Developme ┆ … ┆ 1.34583   ┆ false     ┆ 1815.52   ┆ 1390.3074 │\n",
      "│         ┆            ┆ 07        ┆ nt        ┆   ┆           ┆           ┆           ┆ 4         │\n",
      "│ 9       ┆ 11         ┆ Employee_ ┆ Sales     ┆ … ┆ 1.005713  ┆ true      ┆ 3888.99   ┆ 2827.0669 │\n",
      "│         ┆            ┆ 20        ┆           ┆   ┆           ┆           ┆           ┆ 13        │\n",
      "│ 10      ┆ 4          ┆ Employee_ ┆ Sales     ┆ … ┆ 2.798333  ┆ false     ┆ 868.72    ┆ 768.94749 │\n",
      "│         ┆            ┆ 06        ┆           ┆   ┆           ┆           ┆           ┆ 2         │\n",
      "└─────────┴────────────┴───────────┴───────────┴───┴───────────┴───────────┴───────────┴───────────┘\n"
     ]
    }
   ],
   "source": [
    "# 1. Создание и загрузка данных\n",
    "import polars as pl\n",
    "import numpy as np\n",
    "from datetime import datetime, timedelta\n",
    "\n",
    "# Генерируем реалистичные данные о продажах\n",
    "np.random.seed(42)\n",
    "n_records = 1000\n",
    "\n",
    "# Создаем данные о продажах\n",
    "sales_data = pl.DataFrame({\n",
    "    \"sale_id\": range(1, n_records + 1),\n",
    "    \"employee_id\": np.random.randint(1, 21, n_records),\n",
    "    \"employee_name\": [f\"Employee_{i:02d}\" for i in np.random.randint(1, 21, n_records)],\n",
    "    \"department\": np.random.choice([\"Sales\", \"Marketing\", \"Support\", \"Development\"], n_records),\n",
    "    \"region\": np.random.choice([\"North\", \"South\", \"East\", \"West\"], n_records),\n",
    "    \"product_category\": np.random.choice([\"Electronics\", \"Clothing\", \"Books\", \"Home\"], n_records),\n",
    "    \"sale_date\": [(datetime(2023, 1, 1) + timedelta(days=np.random.randint(0, 365))).strftime(\"%Y-%m-%d\") \n",
    "                  for _ in range(n_records)],\n",
    "    \"quantity\": np.random.randint(1, 10, n_records),\n",
    "    \"unit_price\": np.round(np.random.uniform(10, 500, n_records), 2),\n",
    "    \"discount_percent\": np.random.uniform(0, 30, n_records),\n",
    "    \"customer_rating\": np.random.uniform(1, 5, n_records),\n",
    "    \"is_premium_customer\": np.random.choice([True, False], n_records, p=[0.3, 0.7])\n",
    "})\n",
    "\n",
    "# Вычисляем общую сумму продажи\n",
    "sales_data = sales_data.with_columns([\n",
    "    (pl.col(\"quantity\") * pl.col(\"unit_price\")).alias(\"gross_amount\"),\n",
    "    (pl.col(\"quantity\") * pl.col(\"unit_price\") * (1 - pl.col(\"discount_percent\") / 100)).alias(\"net_amount\")\n",
    "])\n",
    "\n",
    "print(\"Исходные данные:\")\n",
    "print(f\"Размер датафрейма: {sales_data.shape}\")\n",
    "print(sales_data.head(10))\n",
    "    "
   ]
  },
  {
   "cell_type": "code",
   "execution_count": 268,
   "metadata": {},
   "outputs": [
    {
     "name": "stdout",
     "output_type": "stream",
     "text": [
      "\n",
      "Статистика по отделам:\n",
      "shape: (4, 4)\n",
      "┌─────────────┬───────────────────┬────────────────────────┬───────────────────┐\n",
      "│ department  ┆ grand_total_sales ┆ avg_sales_per_employee ┆ avg_quality_score │\n",
      "│ ---         ┆ ---               ┆ ---                    ┆ ---               │\n",
      "│ str         ┆ f64               ┆ f64                    ┆ f64               │\n",
      "╞═════════════╪═══════════════════╪════════════════════════╪═══════════════════╡\n",
      "│ Development ┆ 227925.500576     ┆ 1520.767881            ┆ 34.084631         │\n",
      "│ Sales       ┆ 214328.231741     ┆ 1615.261894            ┆ 27.42635          │\n",
      "│ Marketing   ┆ 204837.072372     ┆ 1483.875177            ┆ 31.130196         │\n",
      "│ Support     ┆ 164840.202436     ┆ 1263.490208            ┆ 31.725111         │\n",
      "└─────────────┴───────────────────┴────────────────────────┴───────────────────┘\n"
     ]
    }
   ],
   "source": [
    "\n",
    "# Создаем дополнительные данные для джойнов\n",
    "employee_info = pl.DataFrame({\n",
    "    \"employee_id\": range(1, 21),\n",
    "    \"hire_date\": [(datetime(2023, 1, 1) - timedelta(days=np.random.randint(30, 365))).strftime(\"%Y-%m-%d\") \n",
    "                  for _ in range(20)],\n",
    "    \"salary\": np.random.randint(50000, 150000, 20),\n",
    "    \"manager_id\": np.random.choice([1, 2, 3, 4, 5], 20),\n",
    "    \"experience_years\": np.random.randint(1, 15, 20),\n",
    "    \"is_senior\": np.random.choice([True, False], 20, p=[0.3, 0.7])\n",
    "})\n",
    "\n",
    "product_info = pl.DataFrame({\n",
    "    \"product_category\": [\"Electronics\", \"Clothing\", \"Books\", \"Home\"],\n",
    "    \"category_margin\": [0.25, 0.40, 0.15, 0.30],\n",
    "    \"seasonal_factor\": [1.2, 0.8, 1.0, 1.1],\n",
    "    \"target_audience\": [\"Tech\", \"Fashion\", \"Education\", \"Lifestyle\"]\n",
    "})\n",
    "\n",
    "# ОСНОВНОЙ МЕГА-ПАЙПЛАЙН\n",
    "result = (\n",
    "    sales_data\n",
    "    # 1. ОБРАБОТКА ДАТ И ВРЕМЕННЫХ ПРИЗНАКОВ\n",
    "    .with_columns([\n",
    "        pl.col(\"sale_date\").str.to_date().alias(\"sale_date_parsed\"),\n",
    "        pl.col(\"sale_date\").str.to_date().dt.year().alias(\"year\"),\n",
    "        pl.col(\"sale_date\").str.to_date().dt.month().alias(\"month\"),\n",
    "        pl.col(\"sale_date\").str.to_date().dt.weekday().alias(\"weekday\"),\n",
    "        pl.col(\"sale_date\").str.to_date().dt.quarter().alias(\"quarter\"),\n",
    "        pl.when(pl.col(\"sale_date\").str.to_date().dt.weekday() <= 5)\n",
    "            .then(pl.lit(\"Weekday\")).otherwise(pl.lit(\"Weekend\")).alias(\"day_type\"),\n",
    "        pl.when(pl.col(\"sale_date\").str.to_date().dt.month().is_in([12, 1, 2]))\n",
    "            .then(pl.lit(\"Winter\"))\n",
    "            .when(pl.col(\"sale_date\").str.to_date().dt.month().is_in([3, 4, 5]))\n",
    "            .then(pl.lit(\"Spring\"))\n",
    "            .when(pl.col(\"sale_date\").str.to_date().dt.month().is_in([6, 7, 8]))\n",
    "            .then(pl.lit(\"Summer\"))\n",
    "            .otherwise(pl.lit(\"Fall\")).alias(\"season\")\n",
    "    ])\n",
    "    \n",
    "    # 2. ВЫЧИСЛЕНИЕ ПРОИЗВОДНЫХ КОЛОНОК\n",
    "    .with_columns([\n",
    "        (pl.col(\"quantity\") * pl.col(\"unit_price\")).alias(\"gross_amount\"),\n",
    "        (pl.col(\"quantity\") * pl.col(\"unit_price\") * (1 - pl.col(\"discount_percent\") / 100)).alias(\"net_amount\"),\n",
    "        (pl.col(\"quantity\") * pl.col(\"unit_price\") * pl.col(\"discount_percent\") / 100).alias(\"discount_amount\"),\n",
    "        (pl.col(\"net_amount\") - pl.col(\"gross_amount\") * 0.1).alias(\"estimated_profit\"),\n",
    "        (pl.col(\"quantity\") * pl.col(\"customer_rating\")).alias(\"quantity_rating_score\")\n",
    "    ])\n",
    "    \n",
    "    # 3. КАТЕГОРИЗАЦИЯ И БИНАРНЫЕ ПРИЗНАКИ\n",
    "    .with_columns([\n",
    "        pl.when(pl.col(\"net_amount\") < 100).then(pl.lit(\"Small\"))\n",
    "            .when(pl.col(\"net_amount\") < 500).then(pl.lit(\"Medium\"))\n",
    "            .when(pl.col(\"net_amount\") < 1000).then(pl.lit(\"Large\"))\n",
    "            .otherwise(pl.lit(\"Very Large\")).alias(\"sale_size_category\"),\n",
    "        \n",
    "        pl.when(pl.col(\"customer_rating\") >= 4.5).then(pl.lit(\"Excellent\"))\n",
    "            .when(pl.col(\"customer_rating\") >= 3.5).then(pl.lit(\"Good\"))\n",
    "            .when(pl.col(\"customer_rating\") >= 2.5).then(pl.lit(\"Average\"))\n",
    "            .otherwise(pl.lit(\"Poor\")).alias(\"customer_rating_category\"),\n",
    "        \n",
    "        (pl.col(\"net_amount\") > pl.col(\"net_amount\").mean()).alias(\"above_average_sale\"),\n",
    "        (pl.col(\"customer_rating\") > 4.0).alias(\"high_rating_customer\"),\n",
    "        (pl.col(\"discount_percent\") > 15.0).alias(\"high_discount_sale\"),\n",
    "        (pl.col(\"quantity\") > pl.col(\"quantity\").quantile(0.8)).alias(\"high_quantity_sale\")\n",
    "    ])\n",
    "    \n",
    "    # 4. ОКОННЫЕ ФУНКЦИИ ДЛЯ АНАЛИТИКИ\n",
    "    .with_columns([\n",
    "        # Ранжирование\n",
    "        pl.col(\"net_amount\").rank(descending=True).over(\"employee_id\").alias(\"employee_sale_rank\"),\n",
    "        pl.col(\"net_amount\").rank(descending=True).over(\"department\").alias(\"department_sale_rank\"),\n",
    "        pl.col(\"net_amount\").rank(descending=True).over(\"region\").alias(\"region_sale_rank\"),\n",
    "        \n",
    "        # Агрегаты по группам\n",
    "        pl.col(\"net_amount\").mean().over(\"department\").alias(\"dept_avg_sale\"),\n",
    "        pl.col(\"net_amount\").sum().over(\"region\").alias(\"region_total_sales\"),\n",
    "        pl.col(\"customer_rating\").mean().over(\"department\").alias(\"dept_avg_rating\"),\n",
    "        pl.col(\"quantity\").sum().over(\"employee_id\").alias(\"employee_total_quantity\"),\n",
    "        \n",
    "        # Проценты\n",
    "        (pl.col(\"net_amount\") / pl.col(\"net_amount\").sum().over(\"region\") * 100).alias(\"pct_of_region_sales\"),\n",
    "        (pl.col(\"net_amount\") / pl.col(\"net_amount\").sum().over(\"department\") * 100).alias(\"pct_of_dept_sales\"),\n",
    "        \n",
    "        # Накопительные функции\n",
    "        pl.col(\"net_amount\").cum_sum().over(\"employee_id\").alias(\"employee_cumulative_sales\"),\n",
    "        pl.col(\"quantity\").cum_sum().over(\"department\").alias(\"dept_cumulative_quantity\"),\n",
    "        \n",
    "        # LAG/LEAD функции\n",
    "        pl.col(\"net_amount\").shift(1).over(\"employee_id\").alias(\"prev_sale_amount\"),\n",
    "        (pl.col(\"net_amount\") - pl.col(\"net_amount\").shift(1)).over(\"employee_id\").alias(\"sale_change\"),\n",
    "        ((pl.col(\"net_amount\") - pl.col(\"net_amount\").shift(1)) / pl.col(\"net_amount\").shift(1) * 100).over(\"employee_id\").alias(\"sale_change_pct\"),\n",
    "        \n",
    "        # Скользящие окна\n",
    "        pl.col(\"net_amount\").rolling_mean(window_size=3).over(\"employee_id\").alias(\"employee_rolling_avg_3\"),\n",
    "        pl.col(\"customer_rating\").rolling_std(window_size=5).over(\"department\").alias(\"dept_rating_std_5\")\n",
    "    ])\n",
    "    \n",
    "    # 5. ДЖОЙН С ДОПОЛНИТЕЛЬНЫМИ ДАННЫМИ\n",
    "    .join(employee_info, on=\"employee_id\", how=\"left\")\n",
    "    .join(product_info, on=\"product_category\", how=\"left\")\n",
    "    \n",
    "    # 6. ДОПОЛНИТЕЛЬНЫЕ ВЫЧИСЛЕНИЯ ПОСЛЕ ДЖОЙНА\n",
    "    .with_columns([\n",
    "        # Прибыль с учетом маржи категории\n",
    "        (pl.col(\"net_amount\") * pl.col(\"category_margin\")).alias(\"category_profit\"),\n",
    "        \n",
    "        # Сезонный коэффициент\n",
    "        (pl.col(\"net_amount\") * pl.col(\"seasonal_factor\")).alias(\"seasonal_adjusted_sales\"),\n",
    "        \n",
    "        # Опыт сотрудника влияет на продажи\n",
    "        (pl.col(\"net_amount\") * (1 + pl.col(\"experience_years\") * 0.02)).alias(\"experience_adjusted_sales\"),\n",
    "        \n",
    "        # Комбинированный рейтинг\n",
    "        (pl.col(\"customer_rating\") * pl.col(\"quantity\") * pl.col(\"experience_years\") / 10).alias(\"combined_rating\"),\n",
    "        \n",
    "        # Эффективность скидки\n",
    "        (pl.col(\"discount_percent\") / pl.col(\"net_amount\") * 1000).alias(\"discount_efficiency\"),\n",
    "        \n",
    "        # Относительная производительность\n",
    "        (pl.col(\"net_amount\") / pl.col(\"dept_avg_sale\") * 100).alias(\"performance_vs_dept_avg\"),\n",
    "        (pl.col(\"net_amount\") / pl.col(\"region_total_sales\") * 100).alias(\"performance_vs_region_total\")\n",
    "    ])\n",
    "    \n",
    "    # 7. СЛОЖНАЯ ФИЛЬТРАЦИЯ\n",
    "    .filter(\n",
    "        (pl.col(\"net_amount\") > 50) &  # Минимальная сумма продажи\n",
    "        (pl.col(\"customer_rating\") >= 2.0) &  # Минимальный рейтинг\n",
    "        (pl.col(\"sale_date_parsed\") >= pl.lit(\"2023-01-01\").str.to_date()) &  # Дата после начала года\n",
    "        (pl.col(\"discount_percent\") <= 50)  # Максимальная скидка\n",
    "    )\n",
    "    \n",
    "    # 8. ГРУППИРОВКА И АГРЕГАЦИЯ\n",
    "    .group_by([\"department\", \"region\", \"quarter\"]).agg([\n",
    "        # Основные метрики\n",
    "        pl.col(\"net_amount\").sum().alias(\"total_sales\"),\n",
    "        pl.col(\"net_amount\").mean().alias(\"avg_sale\"),\n",
    "        pl.col(\"net_amount\").median().alias(\"median_sale\"),\n",
    "        pl.col(\"net_amount\").std().alias(\"sales_std\"),\n",
    "        pl.col(\"net_amount\").min().alias(\"min_sale\"),\n",
    "        pl.col(\"net_amount\").max().alias(\"max_sale\"),\n",
    "        \n",
    "        # Количественные метрики\n",
    "        pl.col(\"sale_id\").count().alias(\"total_transactions\"),\n",
    "        pl.col(\"employee_id\").n_unique().alias(\"unique_employees\"),\n",
    "        pl.col(\"quantity\").sum().alias(\"total_quantity\"),\n",
    "        pl.col(\"quantity\").mean().alias(\"avg_quantity\"),\n",
    "        \n",
    "        # Рейтинги и качество\n",
    "        pl.col(\"customer_rating\").mean().alias(\"avg_customer_rating\"),\n",
    "        pl.col(\"customer_rating\").std().alias(\"rating_std\"),\n",
    "        pl.col(\"high_rating_customer\").sum().alias(\"high_rating_count\"),\n",
    "        \n",
    "        # Процентные метрики\n",
    "        (pl.col(\"above_average_sale\").sum() / pl.col(\"above_average_sale\").count() * 100).alias(\"pct_above_avg_sales\"),\n",
    "        (pl.col(\"high_discount_sale\").sum() / pl.col(\"high_discount_sale\").count() * 100).alias(\"pct_high_discount\"),\n",
    "        \n",
    "        # Временные метрики\n",
    "        pl.col(\"sale_date_parsed\").min().alias(\"first_sale_date\"),\n",
    "        pl.col(\"sale_date_parsed\").max().alias(\"last_sale_date\"),\n",
    "        \n",
    "        # Скидки\n",
    "        pl.col(\"discount_percent\").mean().alias(\"avg_discount\"),\n",
    "        pl.col(\"discount_amount\").sum().alias(\"total_discount_given\"),\n",
    "        \n",
    "        # Прибыльность\n",
    "        pl.col(\"estimated_profit\").sum().alias(\"total_estimated_profit\"),\n",
    "        pl.col(\"category_profit\").sum().alias(\"total_category_profit\"),\n",
    "        \n",
    "        # Производительность\n",
    "        pl.col(\"performance_vs_dept_avg\").mean().alias(\"avg_performance_vs_dept\"),\n",
    "        pl.col(\"employee_sale_rank\").mean().alias(\"avg_employee_rank\"),\n",
    "        \n",
    "        # Опыт сотрудников\n",
    "        pl.col(\"experience_years\").mean().alias(\"avg_experience\"),\n",
    "        pl.col(\"is_senior\").sum().alias(\"senior_employees_count\")\n",
    "    ])\n",
    "    \n",
    "    # 9. ДОПОЛНИТЕЛЬНЫЕ ВЫЧИСЛЕНИЯ ПОСЛЕ ГРУППИРОВКИ\n",
    "    .with_columns([\n",
    "        # Эффективность отдела\n",
    "        (pl.col(\"total_sales\") / pl.col(\"unique_employees\")).alias(\"sales_per_employee\"),\n",
    "        (pl.col(\"total_quantity\") / pl.col(\"unique_employees\")).alias(\"quantity_per_employee\"),\n",
    "        \n",
    "        # Качество продаж\n",
    "        (pl.col(\"high_rating_count\") / pl.col(\"total_transactions\") * 100).alias(\"pct_high_rating_transactions\"),\n",
    "        \n",
    "        # Эффективность скидок\n",
    "        (pl.col(\"total_discount_given\") / pl.col(\"total_sales\") * 100).alias(\"discount_impact_pct\"),\n",
    "        \n",
    "        # Прибыльность\n",
    "        (pl.col(\"total_estimated_profit\") / pl.col(\"total_sales\") * 100).alias(\"profit_margin_pct\"),\n",
    "        (pl.col(\"total_category_profit\") / pl.col(\"total_sales\") * 100).alias(\"category_profit_margin\"),\n",
    "        \n",
    "        # Стабильность продаж\n",
    "        (pl.col(\"sales_std\") / pl.col(\"avg_sale\") * 100).alias(\"sales_volatility_pct\"),\n",
    "        \n",
    "        # Опыт команды\n",
    "        (pl.col(\"senior_employees_count\") / pl.col(\"unique_employees\") * 100).alias(\"pct_senior_employees\"),\n",
    "        \n",
    "    ])\n",
    "    .with_columns([\n",
    "                # Комбинированный рейтинг отдела\n",
    "        (pl.col(\"avg_performance_vs_dept\") * pl.col(\"pct_high_rating_transactions\") / 100).alias(\"department_quality_score\")\n",
    "    ])\n",
    "    \n",
    "    # 10. ФИНАЛЬНАЯ СОРТИРОВКА И ОТБОР КОЛОНОК\n",
    "    .sort([\"department\", \"total_sales\"], descending=[False, True])\n",
    "    .select([\n",
    "        \"department\", \"region\", \"quarter\",\n",
    "        \"total_sales\", \"avg_sale\", \"sales_per_employee\", \"quantity_per_employee\",\n",
    "        \"avg_customer_rating\", \"pct_high_rating_transactions\", \"department_quality_score\",\n",
    "        \"avg_discount\", \"discount_impact_pct\", \"profit_margin_pct\",\n",
    "        \"avg_experience\", \"pct_senior_employees\", \"sales_volatility_pct\",\n",
    "        \"total_transactions\", \"unique_employees\", \"first_sale_date\", \"last_sale_date\"\n",
    "    ])\n",
    ")\n",
    "\n",
    "\n",
    "print(\"\\nСтатистика по отделам:\")\n",
    "\n",
    "print(result.group_by(\"department\").agg([\n",
    "    pl.col(\"total_sales\").sum().alias(\"grand_total_sales\"),\n",
    "    pl.col(\"sales_per_employee\").mean().alias(\"avg_sales_per_employee\"),\n",
    "    pl.col(\"department_quality_score\").mean().alias(\"avg_quality_score\")\n",
    "]).sort(\"grand_total_sales\", descending=True))\n"
   ]
  },
  {
   "cell_type": "markdown",
   "metadata": {},
   "source": [
    "#### Добавить номер строки\n",
    "\n",
    "<div class=\"alert alert-warning\">\n",
    "    <b>Важно! Порядок строк не гарантирован. При необходимости - заказывать sort</b>\n",
    "</div>"
   ]
  },
  {
   "cell_type": "code",
   "execution_count": 269,
   "metadata": {},
   "outputs": [
    {
     "name": "stderr",
     "output_type": "stream",
     "text": [
      "/var/folders/4m/4cskytjn019fn68ytvs204bwkhjl6b/T/ipykernel_61102/752244727.py:1: DeprecationWarning: `DataFrame.with_row_count` is deprecated; use `with_row_index` instead. Note that the default column name has changed from 'row_nr' to 'index'.\n",
      "  result.with_row_count(\"row_nr\")\n"
     ]
    },
    {
     "data": {
      "text/html": [
       "<div><style>\n",
       ".dataframe > thead > tr,\n",
       ".dataframe > tbody > tr {\n",
       "  text-align: right;\n",
       "  white-space: pre-wrap;\n",
       "}\n",
       "</style>\n",
       "<small>shape: (64, 21)</small><table border=\"1\" class=\"dataframe\"><thead><tr><th>row_nr</th><th>department</th><th>region</th><th>quarter</th><th>total_sales</th><th>avg_sale</th><th>sales_per_employee</th><th>quantity_per_employee</th><th>avg_customer_rating</th><th>pct_high_rating_transactions</th><th>department_quality_score</th><th>avg_discount</th><th>discount_impact_pct</th><th>profit_margin_pct</th><th>avg_experience</th><th>pct_senior_employees</th><th>sales_volatility_pct</th><th>total_transactions</th><th>unique_employees</th><th>first_sale_date</th><th>last_sale_date</th></tr><tr><td>u32</td><td>str</td><td>str</td><td>i8</td><td>f64</td><td>f64</td><td>f64</td><td>f64</td><td>f64</td><td>f64</td><td>f64</td><td>f64</td><td>f64</td><td>f64</td><td>f64</td><td>f64</td><td>f64</td><td>u32</td><td>u32</td><td>date</td><td>date</td></tr></thead><tbody><tr><td>0</td><td>&quot;Development&quot;</td><td>&quot;West&quot;</td><td>1</td><td>22081.823126</td><td>1298.930772</td><td>1840.151927</td><td>8.333333</td><td>3.442841</td><td>35.294118</td><td>43.028326</td><td>13.18492</td><td>12.487451</td><td>88.751255</td><td>6.117647</td><td>66.666667</td><td>81.039835</td><td>17</td><td>12</td><td>2023-01-17</td><td>2023-03-31</td></tr><tr><td>1</td><td>&quot;Development&quot;</td><td>&quot;West&quot;</td><td>2</td><td>20838.923435</td><td>1389.261562</td><td>2315.435937</td><td>9.444444</td><td>3.45034</td><td>26.666667</td><td>34.771135</td><td>12.882297</td><td>14.986602</td><td>88.50134</td><td>5.333333</td><td>55.555556</td><td>74.753039</td><td>15</td><td>9</td><td>2023-04-16</td><td>2023-06-23</td></tr><tr><td>2</td><td>&quot;Development&quot;</td><td>&quot;North&quot;</td><td>4</td><td>20198.181407</td><td>1346.545427</td><td>1683.181784</td><td>7.166667</td><td>3.533423</td><td>33.333333</td><td>42.127518</td><td>13.040407</td><td>10.439052</td><td>88.956095</td><td>5.133333</td><td>58.333333</td><td>80.747948</td><td>15</td><td>12</td><td>2023-10-03</td><td>2023-12-30</td></tr><tr><td>3</td><td>&quot;Development&quot;</td><td>&quot;North&quot;</td><td>3</td><td>16547.992489</td><td>1378.999374</td><td>2068.499061</td><td>9.125</td><td>3.710707</td><td>33.333333</td><td>43.14286</td><td>12.554779</td><td>16.198445</td><td>88.380155</td><td>9.916667</td><td>12.5</td><td>85.382794</td><td>12</td><td>8</td><td>2023-07-01</td><td>2023-09-22</td></tr><tr><td>4</td><td>&quot;Development&quot;</td><td>&quot;East&quot;</td><td>2</td><td>15535.512983</td><td>1553.551298</td><td>1553.551298</td><td>6.4</td><td>3.22949</td><td>20.0</td><td>29.162296</td><td>14.701219</td><td>20.617453</td><td>87.938255</td><td>7.9</td><td>40.0</td><td>69.953451</td><td>10</td><td>10</td><td>2023-04-06</td><td>2023-06-28</td></tr><tr><td>&hellip;</td><td>&hellip;</td><td>&hellip;</td><td>&hellip;</td><td>&hellip;</td><td>&hellip;</td><td>&hellip;</td><td>&hellip;</td><td>&hellip;</td><td>&hellip;</td><td>&hellip;</td><td>&hellip;</td><td>&hellip;</td><td>&hellip;</td><td>&hellip;</td><td>&hellip;</td><td>&hellip;</td><td>&hellip;</td><td>&hellip;</td><td>&hellip;</td><td>&hellip;</td></tr><tr><td>59</td><td>&quot;Support&quot;</td><td>&quot;South&quot;</td><td>4</td><td>8160.57546</td><td>816.057546</td><td>1020.071932</td><td>6.0</td><td>4.096309</td><td>50.0</td><td>39.229946</td><td>15.609338</td><td>14.644856</td><td>88.535514</td><td>8.1</td><td>62.5</td><td>124.547128</td><td>10</td><td>8</td><td>2023-10-21</td><td>2023-12-11</td></tr><tr><td>60</td><td>&quot;Support&quot;</td><td>&quot;North&quot;</td><td>1</td><td>6700.948907</td><td>837.618613</td><td>1340.189781</td><td>7.0</td><td>3.369923</td><td>12.5</td><td>10.06661</td><td>13.253284</td><td>16.086096</td><td>88.39139</td><td>8.625</td><td>60.0</td><td>90.953657</td><td>8</td><td>5</td><td>2023-01-13</td><td>2023-03-29</td></tr><tr><td>61</td><td>&quot;Support&quot;</td><td>&quot;North&quot;</td><td>3</td><td>5079.035071</td><td>564.33723</td><td>634.879384</td><td>5.125</td><td>3.66167</td><td>55.555556</td><td>30.143461</td><td>15.17409</td><td>19.210242</td><td>88.078976</td><td>8.111111</td><td>25.0</td><td>83.871859</td><td>9</td><td>8</td><td>2023-07-12</td><td>2023-09-23</td></tr><tr><td>62</td><td>&quot;Support&quot;</td><td>&quot;North&quot;</td><td>4</td><td>4218.840683</td><td>602.691526</td><td>602.691526</td><td>4.714286</td><td>3.284742</td><td>14.285714</td><td>8.277972</td><td>17.418657</td><td>24.50482</td><td>87.549518</td><td>6.285714</td><td>42.857143</td><td>89.321186</td><td>7</td><td>7</td><td>2023-10-22</td><td>2023-12-20</td></tr><tr><td>63</td><td>&quot;Support&quot;</td><td>&quot;East&quot;</td><td>1</td><td>4055.144428</td><td>811.028886</td><td>811.028886</td><td>3.2</td><td>3.543545</td><td>20.0</td><td>15.595282</td><td>13.767378</td><td>15.485159</td><td>88.451484</td><td>8.8</td><td>40.0</td><td>43.230649</td><td>5</td><td>5</td><td>2023-01-03</td><td>2023-03-13</td></tr></tbody></table></div>"
      ],
      "text/plain": [
       "shape: (64, 21)\n",
       "┌────────┬─────────────┬────────┬─────────┬───┬─────────────┬────────────┬────────────┬────────────┐\n",
       "│ row_nr ┆ department  ┆ region ┆ quarter ┆ … ┆ total_trans ┆ unique_emp ┆ first_sale ┆ last_sale_ │\n",
       "│ ---    ┆ ---         ┆ ---    ┆ ---     ┆   ┆ actions     ┆ loyees     ┆ _date      ┆ date       │\n",
       "│ u32    ┆ str         ┆ str    ┆ i8      ┆   ┆ ---         ┆ ---        ┆ ---        ┆ ---        │\n",
       "│        ┆             ┆        ┆         ┆   ┆ u32         ┆ u32        ┆ date       ┆ date       │\n",
       "╞════════╪═════════════╪════════╪═════════╪═══╪═════════════╪════════════╪════════════╪════════════╡\n",
       "│ 0      ┆ Development ┆ West   ┆ 1       ┆ … ┆ 17          ┆ 12         ┆ 2023-01-17 ┆ 2023-03-31 │\n",
       "│ 1      ┆ Development ┆ West   ┆ 2       ┆ … ┆ 15          ┆ 9          ┆ 2023-04-16 ┆ 2023-06-23 │\n",
       "│ 2      ┆ Development ┆ North  ┆ 4       ┆ … ┆ 15          ┆ 12         ┆ 2023-10-03 ┆ 2023-12-30 │\n",
       "│ 3      ┆ Development ┆ North  ┆ 3       ┆ … ┆ 12          ┆ 8          ┆ 2023-07-01 ┆ 2023-09-22 │\n",
       "│ 4      ┆ Development ┆ East   ┆ 2       ┆ … ┆ 10          ┆ 10         ┆ 2023-04-06 ┆ 2023-06-28 │\n",
       "│ …      ┆ …           ┆ …      ┆ …       ┆ … ┆ …           ┆ …          ┆ …          ┆ …          │\n",
       "│ 59     ┆ Support     ┆ South  ┆ 4       ┆ … ┆ 10          ┆ 8          ┆ 2023-10-21 ┆ 2023-12-11 │\n",
       "│ 60     ┆ Support     ┆ North  ┆ 1       ┆ … ┆ 8           ┆ 5          ┆ 2023-01-13 ┆ 2023-03-29 │\n",
       "│ 61     ┆ Support     ┆ North  ┆ 3       ┆ … ┆ 9           ┆ 8          ┆ 2023-07-12 ┆ 2023-09-23 │\n",
       "│ 62     ┆ Support     ┆ North  ┆ 4       ┆ … ┆ 7           ┆ 7          ┆ 2023-10-22 ┆ 2023-12-20 │\n",
       "│ 63     ┆ Support     ┆ East   ┆ 1       ┆ … ┆ 5           ┆ 5          ┆ 2023-01-03 ┆ 2023-03-13 │\n",
       "└────────┴─────────────┴────────┴─────────┴───┴─────────────┴────────────┴────────────┴────────────┘"
      ]
     },
     "execution_count": 269,
     "metadata": {},
     "output_type": "execute_result"
    }
   ],
   "source": [
    "result.with_row_count(\"row_nr\")"
   ]
  },
  {
   "cell_type": "markdown",
   "metadata": {},
   "source": [
    "### Управление потоками в polars: POLARS_MAX_THREADS"
   ]
  },
  {
   "cell_type": "code",
   "execution_count": 270,
   "metadata": {},
   "outputs": [
    {
     "name": "stdout",
     "output_type": "stream",
     "text": [
      "=== СРАВНЕНИЕ ПРОИЗВОДИТЕЛЬНОСТИ PANDAS VS POLARS ===\n",
      "\n",
      "Размер тестового датафрейма: (10000000, 5)\n",
      "Количество доступных CPU ядер: 12\n",
      "Текущее значение POLARS_MAX_THREADS: Не установлено\n",
      "\n",
      "=== ТЕСТИРОВАНИЕ POLARS С РАЗНЫМИ НАСТРОЙКАМИ ПОТОКОВ ===\n",
      "\n",
      "--- Polars с 1 потоками ---\n",
      "Polars группировка: 0.135 секунд\n",
      "Polars сложные вычисления: 0.520 секунд\n",
      "Polars фильтрация и сортировка: 1.120 секунд\n",
      "Общее время Polars: 1.774 секунд\n",
      "\n",
      "--- Polars с 4 потоками ---\n",
      "Polars группировка: 0.108 секунд\n",
      "Polars сложные вычисления: 0.512 секунд\n",
      "Polars фильтрация и сортировка: 1.071 секунд\n",
      "Общее время Polars: 1.690 секунд\n",
      "\n",
      "--- Polars с 12 потоками ---\n",
      "Polars группировка: 0.108 секунд\n",
      "Polars сложные вычисления: 0.493 секунд\n",
      "Polars фильтрация и сортировка: 0.976 секунд\n",
      "Общее время Polars: 1.576 секунд\n",
      "\n",
      "=== ТЕСТИРОВАНИЕ PANDAS ===\n",
      "Pandas группировка: 0.435 секунд\n",
      "Pandas сложные вычисления: 2.958 секунд\n",
      "Pandas фильтрация и сортировка: 8.923 секунд\n",
      "Общее время Pandas: 12.317 секунд\n",
      "\n",
      "=== СРАВНИТЕЛЬНЫЙ АНАЛИЗ ПРОИЗВОДИТЕЛЬНОСТИ ===\n",
      "Библиотека | Потоки | Группировка | Сложные вычисления | Фильтрация | Общее время\n",
      "-------------------------------------------------------------------------------------\n",
      "Polars (1) | 1      |      0.135 |             0.520 |     1.120 |       1.774\n",
      "Polars (4) | 4      |      0.108 |             0.512 |     1.071 |       1.690\n",
      "Polars (12) | 12     |      0.108 |             0.493 |     0.976 |       1.576\n",
      "Pandas     | -      |      0.435 |             2.958 |     8.923 |      12.317\n",
      "\n",
      "Лучшая конфигурация Polars: polars_12 (время: 1.576 сек)\n",
      "Pandas время: 12.317 сек\n",
      "Ускорение Polars vs Pandas: 7.81x\n",
      "\n",
      "=== ДЕТАЛЬНОЕ СРАВНЕНИЕ ПО ОПЕРАЦИЯМ ===\n",
      "Операция | Pandas | Polars (лучший) | Ускорение\n",
      "--------------------------------------------------\n",
      "groupby  |  0.435 |         0.108 |     4.03x\n",
      "complex  |  2.958 |         0.493 |     6.00x\n",
      "filter   |  8.923 |         0.976 |     9.15x\n",
      "\n",
      "=== УПРАВЛЕНИЕ ПОТОКАМИ В POLARS ===\n",
      "Установлено 4 потока через os.environ\n",
      "Настроен размер чанка для стриминга\n",
      "\n",
      "--- Тест стриминга Polars ---\n",
      "Polars стриминг запрос: 0.018 секунд\n",
      "\n",
      "=== РЕКОМЕНДАЦИИ ПО ВЫБОРУ БИБЛИОТЕКИ ===\n",
      "✓ Используйте Polars когда:\n",
      "  - Работаете с большими данными (>1M строк)\n",
      "  - Нужна максимальная производительность\n",
      "  - Выполняете сложные группировки и агрегации\n",
      "  - Важна экономия памяти\n",
      "\n",
      "✓ Используйте Pandas когда:\n",
      "  - Работаете с небольшими данными (<100K строк)\n",
      "  - Нужна совместимость с существующим кодом\n",
      "  - Используете много библиотек, зависящих от Pandas\n",
      "  - Нужны специфические функции Pandas\n",
      "\n",
      "✓ Настройки Polars:\n",
      "  - Для CPU-интенсивных задач: POLARS_MAX_THREADS = количество CPU ядер\n",
      "  - Для I/O-интенсивных задач: POLARS_MAX_THREADS = количество ядер * 2-4\n",
      "  - Для малых датафреймов: POLARS_MAX_THREADS = 1-2 (избежать overhead)\n",
      "  - Для больших датафреймов: используйте стриминг (streaming=True)\n",
      "\n",
      "Настройки сброшены. Текущее значение: По умолчанию\n"
     ]
    }
   ],
   "source": [
    "import os\n",
    "import time\n",
    "import psutil\n",
    "from concurrent.futures import ThreadPoolExecutor\n",
    "import pandas as pd\n",
    "import polars as pl\n",
    "import numpy as np\n",
    "\n",
    "# Создаем большой датафрейм для тестирования\n",
    "print(\"=== СРАВНЕНИЕ ПРОИЗВОДИТЕЛЬНОСТИ PANDAS VS POLARS ===\\n\")\n",
    "\n",
    "# Генерируем тестовые данные\n",
    "n_rows = 10_000_000  # Уменьшаем для более быстрого тестирования\n",
    "df_polars = pl.DataFrame({\n",
    "    \"id\": range(n_rows),\n",
    "    \"category\": [f\"cat_{i % 100}\" for i in range(n_rows)],\n",
    "    \"value\": [i * 1.5 + (i % 7) * 10 for i in range(n_rows)],\n",
    "    \"group\": [f\"group_{i % 50}\" for i in range(n_rows)],\n",
    "    \"score\": [i % 1000 / 1000.0 for i in range(n_rows)]\n",
    "})\n",
    "\n",
    "# Создаем аналогичный DataFrame для Pandas\n",
    "df_pandas = pd.DataFrame({\n",
    "    \"id\": range(n_rows),\n",
    "    \"category\": [f\"cat_{i % 100}\" for i in range(n_rows)],\n",
    "    \"value\": [i * 1.5 + (i % 7) * 10 for i in range(n_rows)],\n",
    "    \"group\": [f\"group_{i % 50}\" for i in range(n_rows)],\n",
    "    \"score\": [i % 1000 / 1000.0 for i in range(n_rows)]\n",
    "})\n",
    "\n",
    "print(f\"Размер тестового датафрейма: {df_polars.shape}\")\n",
    "print(f\"Количество доступных CPU ядер: {psutil.cpu_count()}\")\n",
    "print(f\"Текущее значение POLARS_MAX_THREADS: {os.environ.get('POLARS_MAX_THREADS', 'Не установлено')}\\n\")\n",
    "\n",
    "# Функция для измерения времени выполнения\n",
    "def measure_time(func, description):\n",
    "    start_time = time.time()\n",
    "    result = func()\n",
    "    end_time = time.time()\n",
    "    duration = end_time - start_time\n",
    "    print(f\"{description}: {duration:.3f} секунд\")\n",
    "    return result, duration\n",
    "\n",
    "# Тестируем разные настройки потоков для Polars\n",
    "thread_configs = [1, 4, 12]  # None = использовать все доступные ядра\n",
    "results = {}\n",
    "\n",
    "print(\"=== ТЕСТИРОВАНИЕ POLARS С РАЗНЫМИ НАСТРОЙКАМИ ПОТОКОВ ===\")\n",
    "\n",
    "for threads in thread_configs:\n",
    "    print(f\"\\n--- Polars с {threads if threads else 'всеми'} потоками ---\")\n",
    "    \n",
    "    # Устанавливаем количество потоков\n",
    "    if threads:\n",
    "        os.environ['POLARS_MAX_THREADS'] = str(threads)\n",
    "    else:\n",
    "        os.environ.pop('POLARS_MAX_THREADS', None)\n",
    "    \n",
    "    # Пересоздаем датафрейм для чистого теста\n",
    "    df_test = df_polars.clone()\n",
    "    \n",
    "    # Тест 1: Группировка и агрегация\n",
    "    def polars_groupby_test():\n",
    "        return df_test.group_by(\"category\").agg([\n",
    "            pl.col(\"value\").sum().alias(\"total_value\"),\n",
    "            pl.col(\"value\").mean().alias(\"avg_value\"),\n",
    "            pl.col(\"value\").std().alias(\"std_value\"),\n",
    "            pl.col(\"score\").max().alias(\"max_score\"),\n",
    "            pl.col(\"id\").count().alias(\"count\")\n",
    "        ])\n",
    "    \n",
    "    # Тест 2: Сложные вычисления\n",
    "    def polars_complex_test():\n",
    "        return df_test.with_columns([\n",
    "            (pl.col(\"value\") * pl.col(\"score\")).alias(\"value_score\"),\n",
    "            pl.col(\"value\").rank().over(\"category\").alias(\"rank_in_category\"),\n",
    "            pl.col(\"value\").mean().over(\"group\").alias(\"group_avg\"),\n",
    "            (pl.col(\"value\") - pl.col(\"value\").mean()).alias(\"value_diff\"),\n",
    "            pl.col(\"value\").rolling_mean(window_size=100).alias(\"rolling_avg\")\n",
    "        ])\n",
    "    \n",
    "    # Тест 3: Фильтрация и сортировка\n",
    "    def polars_filter_sort_test():\n",
    "        return (df_test\n",
    "                .filter(pl.col(\"value\") > 1000)\n",
    "                .sort([\"category\", \"value\"], descending=[False, True])\n",
    "                .with_columns([\n",
    "                    pl.col(\"value\").cum_sum().over(\"category\").alias(\"cumsum_category\"),\n",
    "                    pl.col(\"value\").shift(1).over(\"category\").alias(\"prev_value\")\n",
    "                ])\n",
    "               )\n",
    "    \n",
    "    # Выполняем тесты Polars\n",
    "    groupby_result, groupby_time = measure_time(polars_groupby_test, \"Polars группировка\")\n",
    "    complex_result, complex_time = measure_time(polars_complex_test, \"Polars сложные вычисления\")\n",
    "    filter_result, filter_time = measure_time(polars_filter_sort_test, \"Polars фильтрация и сортировка\")\n",
    "    \n",
    "    total_time = groupby_time + complex_time + filter_time\n",
    "    results[f'polars_{threads or \"all\"}'] = {\n",
    "        'groupby': groupby_time,\n",
    "        'complex': complex_time,\n",
    "        'filter': filter_time,\n",
    "        'total': total_time\n",
    "    }\n",
    "    \n",
    "    print(f\"Общее время Polars: {total_time:.3f} секунд\")\n",
    "\n",
    "# Тестируем Pandas\n",
    "print(\"\\n=== ТЕСТИРОВАНИЕ PANDAS ===\")\n",
    "\n",
    "def pandas_groupby_test():\n",
    "    return df_pandas.groupby('category').agg({\n",
    "        'value': ['sum', 'mean', 'std', 'count'],\n",
    "        'score': 'max'\n",
    "    }).round(4)\n",
    "\n",
    "def pandas_complex_test():\n",
    "    df_copy = df_pandas.copy()\n",
    "    df_copy['value_score'] = df_copy['value'] * df_copy['score']\n",
    "    df_copy['rank_in_category'] = df_copy.groupby('category')['value'].rank()\n",
    "    df_copy['group_avg'] = df_copy.groupby('group')['value'].transform('mean')\n",
    "    df_copy['value_diff'] = df_copy['value'] - df_copy['value'].mean()\n",
    "    df_copy['rolling_avg'] = df_copy['value'].rolling(window=100, min_periods=1).mean()\n",
    "    return df_copy\n",
    "\n",
    "def pandas_filter_sort_test():\n",
    "    filtered = df_pandas[df_pandas['value'] > 1000].copy()\n",
    "    filtered = filtered.sort_values(['category', 'value'], ascending=[True, False])\n",
    "    filtered['cumsum_category'] = filtered.groupby('category')['value'].cumsum()\n",
    "    filtered['prev_value'] = filtered.groupby('category')['value'].shift(1)\n",
    "    return filtered\n",
    "\n",
    "# Выполняем тесты Pandas\n",
    "pandas_groupby_result, pandas_groupby_time = measure_time(pandas_groupby_test, \"Pandas группировка\")\n",
    "pandas_complex_result, pandas_complex_time = measure_time(pandas_complex_test, \"Pandas сложные вычисления\")\n",
    "pandas_filter_result, pandas_filter_time = measure_time(pandas_filter_sort_test, \"Pandas фильтрация и сортировка\")\n",
    "\n",
    "pandas_total_time = pandas_groupby_time + pandas_complex_time + pandas_filter_time\n",
    "results['pandas'] = {\n",
    "    'groupby': pandas_groupby_time,\n",
    "    'complex': pandas_complex_time,\n",
    "    'filter': pandas_filter_time,\n",
    "    'total': pandas_total_time\n",
    "}\n",
    "\n",
    "print(f\"Общее время Pandas: {pandas_total_time:.3f} секунд\")\n",
    "\n",
    "# Анализ результатов\n",
    "print(\"\\n=== СРАВНИТЕЛЬНЫЙ АНАЛИЗ ПРОИЗВОДИТЕЛЬНОСТИ ===\")\n",
    "print(\"Библиотека | Потоки | Группировка | Сложные вычисления | Фильтрация | Общее время\")\n",
    "print(\"-\" * 85)\n",
    "\n",
    "for lib_name, times in results.items():\n",
    "    if 'polars' in lib_name:\n",
    "        threads = lib_name.split('_')[1]\n",
    "        lib_display = f\"Polars ({threads})\"\n",
    "    else:\n",
    "        lib_display = \"Pandas\"\n",
    "    \n",
    "    print(f\"{lib_display:10} | {str(threads if 'polars' in lib_name else '-'):6} | {times['groupby']:10.3f} | {times['complex']:17.3f} | {times['filter']:9.3f} | {times['total']:11.3f}\")\n",
    "\n",
    "# Находим лучшую конфигурацию\n",
    "best_polars = min([(k, v) for k, v in results.items() if 'polars' in k], key=lambda x: x[1]['total'])\n",
    "pandas_time = results['pandas']['total']\n",
    "\n",
    "print(f\"\\nЛучшая конфигурация Polars: {best_polars[0]} (время: {best_polars[1]['total']:.3f} сек)\")\n",
    "print(f\"Pandas время: {pandas_time:.3f} сек\")\n",
    "\n",
    "# Вычисляем ускорение\n",
    "speedup = pandas_time / best_polars[1]['total']\n",
    "print(f\"Ускорение Polars vs Pandas: {speedup:.2f}x\")\n",
    "\n",
    "# Детальное сравнение по операциям\n",
    "print(f\"\\n=== ДЕТАЛЬНОЕ СРАВНЕНИЕ ПО ОПЕРАЦИЯМ ===\")\n",
    "print(\"Операция | Pandas | Polars (лучший) | Ускорение\")\n",
    "print(\"-\" * 50)\n",
    "\n",
    "operations = ['groupby', 'complex', 'filter']\n",
    "for op in operations:\n",
    "    pandas_time = results['pandas'][op]\n",
    "    polars_time = best_polars[1][op]\n",
    "    speedup = pandas_time / polars_time\n",
    "    print(f\"{op:8} | {pandas_time:6.3f} | {polars_time:13.3f} | {speedup:8.2f}x\")\n",
    "\n",
    "# Демонстрация управления потоками в коде\n",
    "print(\"\\n=== УПРАВЛЕНИЕ ПОТОКАМИ В POLARS ===\")\n",
    "\n",
    "# Способ 1: Через переменную окружения\n",
    "os.environ['POLARS_MAX_THREADS'] = '4'\n",
    "print(\"Установлено 4 потока через os.environ\")\n",
    "\n",
    "# Способ 2: Через конфигурацию Polars\n",
    "pl.Config.set_streaming_chunk_size(10000)  # Размер чанка для стриминга\n",
    "print(\"Настроен размер чанка для стриминга\")\n",
    "\n",
    "# Способ 3: Использование стриминга для больших данных\n",
    "print(\"\\n--- Тест стриминга Polars ---\")\n",
    "def streaming_test():\n",
    "    # Создаем ленивый запрос\n",
    "    lazy_df = df_polars.lazy()\n",
    "    \n",
    "    # Сложный запрос с группировкой\n",
    "    result = (lazy_df\n",
    "              .filter(pl.col(\"value\") > 100)\n",
    "              .group_by(\"category\")\n",
    "              .agg([\n",
    "                  pl.col(\"value\").sum().alias(\"total\"),\n",
    "                  pl.col(\"value\").mean().alias(\"avg\"),\n",
    "                  pl.col(\"value\").std().alias(\"std\")\n",
    "              ])\n",
    "              .sort(\"total\", descending=True)\n",
    "             )\n",
    "    \n",
    "    # Выполняем с стримингом\n",
    "    return result.collect(engine=\"streaming\")\n",
    "\n",
    "streaming_result, streaming_time = measure_time(streaming_test, \"Polars стриминг запрос\")\n",
    "\n",
    "# Рекомендации по настройке\n",
    "print(\"\\n=== РЕКОМЕНДАЦИИ ПО ВЫБОРУ БИБЛИОТЕКИ ===\")\n",
    "print(\"✓ Используйте Polars когда:\")\n",
    "print(\"  - Работаете с большими данными (>1M строк)\")\n",
    "print(\"  - Нужна максимальная производительность\")\n",
    "print(\"  - Выполняете сложные группировки и агрегации\")\n",
    "print(\"  - Важна экономия памяти\")\n",
    "print()\n",
    "print(\"✓ Используйте Pandas когда:\")\n",
    "print(\"  - Работаете с небольшими данными (<100K строк)\")\n",
    "print(\"  - Нужна совместимость с существующим кодом\")\n",
    "print(\"  - Используете много библиотек, зависящих от Pandas\")\n",
    "print(\"  - Нужны специфические функции Pandas\")\n",
    "print()\n",
    "print(\"✓ Настройки Polars:\")\n",
    "print(\"  - Для CPU-интенсивных задач: POLARS_MAX_THREADS = количество CPU ядер\")\n",
    "print(\"  - Для I/O-интенсивных задач: POLARS_MAX_THREADS = количество ядер * 2-4\")\n",
    "print(\"  - Для малых датафреймов: POLARS_MAX_THREADS = 1-2 (избежать overhead)\")\n",
    "print(\"  - Для больших датафреймов: используйте стриминг (streaming=True)\")\n",
    "\n",
    "# Сброс настроек\n",
    "os.environ.pop('POLARS_MAX_THREADS', None)\n",
    "print(f\"\\nНастройки сброшены. Текущее значение: {os.environ.get('POLARS_MAX_THREADS', 'По умолчанию')}\")"
   ]
  },
  {
   "cell_type": "markdown",
   "metadata": {},
   "source": [
    "### [Polars](https://docs.pola.rs/api/python/stable/reference/index.html) && [DuckDB](https://duckdb.org/docs/stable/)"
   ]
  },
  {
   "cell_type": "markdown",
   "metadata": {},
   "source": [
    "#### Зачем нужен DuckDB\n",
    "\n",
    "* Развесистые SQL запросы (WITH RECURSIVE)\n",
    "* Большие \"звездные\" схемы, оптимизация join-ов\n",
    "* Нативный стриминг, когда данные больше ОЗУ\n",
    "* SQL понятный аналитикам\n",
    "* Ускорение Pandas. Совместимость с Arrow / Polars"
   ]
  },
  {
   "cell_type": "code",
   "execution_count": null,
   "metadata": {},
   "outputs": [],
   "source": [
    "# !pip install duckdb"
   ]
  },
  {
   "cell_type": "code",
   "execution_count": null,
   "metadata": {},
   "outputs": [],
   "source": []
  },
  {
   "cell_type": "code",
   "execution_count": 271,
   "metadata": {},
   "outputs": [
    {
     "name": "stdout",
     "output_type": "stream",
     "text": [
      "=== ИНТЕГРАЦИЯ POLARS С DUCKDB ===\n",
      "\n",
      "1. Создание тестовых данных в Polars...\n",
      "Создан датафрейм Polars: (100000, 12)\n",
      "shape: (5, 12)\n",
      "┌─────────┬────────────┬────────────┬───────────┬───┬───────────┬───────────┬──────────┬───────────┐\n",
      "│ sale_id ┆ employee_i ┆ customer_i ┆ product_i ┆ … ┆ unit_pric ┆ discount  ┆ rating   ┆ total_amo │\n",
      "│ ---     ┆ d          ┆ d          ┆ d         ┆   ┆ e         ┆ ---       ┆ ---      ┆ unt       │\n",
      "│ i64     ┆ ---        ┆ ---        ┆ ---       ┆   ┆ ---       ┆ f64       ┆ f64      ┆ ---       │\n",
      "│         ┆ i64        ┆ i64        ┆ i64       ┆   ┆ f64       ┆           ┆          ┆ f64       │\n",
      "╞═════════╪════════════╪════════════╪═══════════╪═══╪═══════════╪═══════════╪══════════╪═══════════╡\n",
      "│ 1       ┆ 52         ┆ 643        ┆ 167       ┆ … ┆ 131.86    ┆ 9.397499  ┆ 2.991498 ┆ 1075.2161 │\n",
      "│         ┆            ┆            ┆           ┆   ┆           ┆           ┆          ┆ 24        │\n",
      "│ 2       ┆ 93         ┆ 197        ┆ 139       ┆ … ┆ 322.41    ┆ 14.756273 ┆ 4.610449 ┆ 2473.5086 │\n",
      "│         ┆            ┆            ┆           ┆   ┆           ┆           ┆          ┆ 89        │\n",
      "│ 3       ┆ 15         ┆ 387        ┆ 59        ┆ … ┆ 31.48     ┆ 3.16126   ┆ 4.59387  ┆ 182.90901 │\n",
      "│         ┆            ┆            ┆           ┆   ┆           ┆           ┆          ┆ 2         │\n",
      "│ 4       ┆ 72         ┆ 936        ┆ 198       ┆ … ┆ 107.81    ┆ 28.239556 ┆ 4.940231 ┆ 618.91947 │\n",
      "│         ┆            ┆            ┆           ┆   ┆           ┆           ┆          ┆ 5         │\n",
      "│ 5       ┆ 61         ┆ 251        ┆ 36        ┆ … ┆ 459.43    ┆ 17.401727 ┆ 1.349897 ┆ 379.48124 │\n",
      "│         ┆            ┆            ┆           ┆   ┆           ┆           ┆          ┆ 4         │\n",
      "└─────────┴────────────┴────────────┴───────────┴───┴───────────┴───────────┴──────────┴───────────┘\n",
      "\n",
      "2. Прямая интеграция Polars с DuckDB...\n",
      "Результат SQL запроса к Polars данным:\n",
      "      category   region  total_sales  total_revenue     avg_sale  avg_rating  \\\n",
      "0  Electronics  Central         3964   9.709531e+06  2449.427628    2.964549   \n",
      "1         Home  Central         3932   9.683290e+06  2462.688289    2.982238   \n",
      "2         Home     West         3918   9.644242e+06  2461.521784    2.969318   \n",
      "3  Electronics    North         3905   9.639668e+06  2468.544872    2.985310   \n",
      "4        Books  Central         3950   9.633147e+06  2438.771322    3.013064   \n",
      "5       Sports     East         3935   9.584128e+06  2435.610656    3.007404   \n",
      "6     Clothing  Central         3972   9.571879e+06  2409.838662    3.001155   \n",
      "7  Electronics    South         3966   9.541607e+06  2405.851530    2.995847   \n",
      "8     Clothing     West         3901   9.486749e+06  2431.876117    3.019199   \n",
      "9       Sports    North         3881   9.476869e+06  2441.862655    2.994097   \n",
      "\n",
      "   median_sale  \n",
      "0  1902.489326  \n",
      "1  1967.563104  \n",
      "2  1916.710433  \n",
      "3  1925.830717  \n",
      "4  1908.269151  \n",
      "5  1835.744545  \n",
      "6  1886.054785  \n",
      "7  1835.597490  \n",
      "8  1860.795019  \n",
      "9  1893.288118  \n",
      "\n",
      "3. Сложные SQL запросы с оконными функциями...\n",
      "Результат с оконными функциями:\n",
      "       category   region      month  monthly_revenue  category_rank  \\\n",
      "0         Books     West 2023-12-01    890351.260714              1   \n",
      "1         Books     West 2023-06-01    879473.318139              2   \n",
      "2         Books     East 2023-09-01    863399.938190              3   \n",
      "3      Clothing  Central 2023-05-01    922581.027591              1   \n",
      "4      Clothing  Central 2023-12-01    920062.742115              2   \n",
      "5      Clothing     West 2023-01-01    901748.876325              3   \n",
      "6   Electronics    North 2023-11-01    963206.391276              1   \n",
      "7   Electronics  Central 2023-01-01    902142.478447              2   \n",
      "8   Electronics    North 2023-08-01    888965.742741              3   \n",
      "9          Home     West 2023-09-01    949368.085762              1   \n",
      "10         Home  Central 2023-01-01    943896.848918              2   \n",
      "11         Home  Central 2023-12-01    917717.341464              3   \n",
      "12       Sports     East 2023-01-01    907321.252803              1   \n",
      "13       Sports    North 2023-05-01    891046.355828              2   \n",
      "14       Sports     East 2023-10-01    883531.871304              3   \n",
      "\n",
      "    revenue_change  revenue_change_pct  \n",
      "0    135488.297887               17.95  \n",
      "1    152478.344940               20.97  \n",
      "2    103692.245384               13.65  \n",
      "3    105670.410581               12.94  \n",
      "4    187930.918638               25.67  \n",
      "5              NaN                 NaN  \n",
      "6    158630.861737               19.72  \n",
      "7              NaN                 NaN  \n",
      "8    133898.346891               17.73  \n",
      "9    203483.104014               27.28  \n",
      "10             NaN                 NaN  \n",
      "11    98746.314062               12.06  \n",
      "12             NaN                 NaN  \n",
      "13    78397.684416                9.65  \n",
      "14    71972.727617                8.87  \n",
      "\n",
      "4. Экспорт из DuckDB в Polars...\n",
      "Экспортированный в Polars результат:\n",
      "shape: (5, 11)\n",
      "┌────────────┬────────┬────────────┬───────────┬───┬───────────┬───────────┬───────────┬───────────┐\n",
      "│ category   ┆ region ┆ sales_coun ┆ total_rev ┆ … ┆ max_sale  ┆ avg_ratin ┆ unique_em ┆ unique_cu │\n",
      "│ ---        ┆ ---    ┆ t          ┆ enue      ┆   ┆ ---       ┆ g         ┆ ployees   ┆ stomers   │\n",
      "│ str        ┆ str    ┆ ---        ┆ ---       ┆   ┆ f64       ┆ ---       ┆ ---       ┆ ---       │\n",
      "│            ┆        ┆ i64        ┆ f64       ┆   ┆           ┆ f64       ┆ i64       ┆ i64       │\n",
      "╞════════════╪════════╪════════════╪═══════════╪═══╪═══════════╪═══════════╪═══════════╪═══════════╡\n",
      "│ Sports     ┆ West   ┆ 3966       ┆ 9.1673e6  ┆ … ┆ 9822.5676 ┆ 3.006776  ┆ 100       ┆ 986       │\n",
      "│            ┆        ┆            ┆           ┆   ┆ 51        ┆           ┆           ┆           │\n",
      "│ Clothing   ┆ East   ┆ 3927       ┆ 9.2042e6  ┆ … ┆ 9482.4359 ┆ 3.010588  ┆ 100       ┆ 974       │\n",
      "│            ┆        ┆            ┆           ┆   ┆ 16        ┆           ┆           ┆           │\n",
      "│ Clothing   ┆ North  ┆ 3933       ┆ 9.2028e6  ┆ … ┆ 9536.7803 ┆ 2.99345   ┆ 100       ┆ 971       │\n",
      "│            ┆        ┆            ┆           ┆   ┆ 89        ┆           ┆           ┆           │\n",
      "│ Electronic ┆ West   ┆ 3981       ┆ 9.2870e6  ┆ … ┆ 9583.7908 ┆ 2.99559   ┆ 100       ┆ 984       │\n",
      "│ s          ┆        ┆            ┆           ┆   ┆ 06        ┆           ┆           ┆           │\n",
      "│ Clothing   ┆ South  ┆ 3948       ┆ 9.2481e6  ┆ … ┆ 9784.6099 ┆ 3.006973  ┆ 100       ┆ 981       │\n",
      "│            ┆        ┆            ┆           ┆   ┆ 4         ┆           ┆           ┆           │\n",
      "└────────────┴────────┴────────────┴───────────┴───┴───────────┴───────────┴───────────┴───────────┘\n",
      "\n",
      "5. Гибридный подход: Polars -> DuckDB -> Polars...\n",
      "Результат гибридного подхода:\n",
      "      category  unique_products  total_sales  total_revenue  \\\n",
      "0  Electronics              200   19939000.0   4.765290e+10   \n",
      "1         Home              200   19675000.0   4.718976e+10   \n",
      "2        Books              200   19962000.0   4.716855e+10   \n",
      "3       Sports              200   19841000.0   4.693477e+10   \n",
      "4     Clothing              200   19703000.0   4.671985e+10   \n",
      "\n",
      "   avg_product_rating  unique_customers  avg_customer_spend  \\\n",
      "0            2.995192              1000       235665.831331   \n",
      "1            2.985559              1000       235665.831331   \n",
      "2            3.013738              1000       235665.831331   \n",
      "3            3.013198              1000       235665.831331   \n",
      "4            3.004002              1000       235665.831331   \n",
      "\n",
      "   avg_customer_rating  \n",
      "0              3.00283  \n",
      "1              3.00283  \n",
      "2              3.00283  \n",
      "3              3.00283  \n",
      "4              3.00283  \n",
      "\n",
      "6. Сравнение производительности Polars vs DuckDB...\n",
      "Polars группировка: 0.002 секунд\n",
      "DuckDB группировка: 0.004 секунд\n",
      "Polars сложные вычисления: 0.008 секунд\n",
      "DuckDB сложные вычисления: 0.073 секунд\n",
      "\n",
      "7. Работа с большими данными через стриминг...\n",
      "DuckDB стриминг запрос: 0.009 секунд\n",
      "Обработано 1000 категорий\n",
      "\n",
      "8. Практические рекомендации по интеграции Polars + DuckDB:\n",
      "✓ Используйте Polars для:\n",
      "  - Быстрой загрузки и предобработки данных\n",
      "  - Векторизованных операций\n",
      "  - Работы с большими файлами\n",
      "  - Интеграции с Python экосистемой\n",
      "\n",
      "✓ Используйте DuckDB для:\n",
      "  - Сложных SQL запросов\n",
      "  - Оконных функций\n",
      "  - Аналитических запросов\n",
      "  - Работы с реляционными данными\n",
      "\n",
      "✓ Оптимальный workflow:\n",
      "  1. Загрузка данных в Polars\n",
      "  2. Предобработка и очистка в Polars\n",
      "  3. Регистрация в DuckDB для аналитики\n",
      "  4. Выполнение сложных SQL запросов\n",
      "  5. Экспорт результатов обратно в Polars\n",
      "\n",
      "✓ Соединение с DuckDB закрыто\n"
     ]
    }
   ],
   "source": [
    "import polars as pl\n",
    "import duckdb\n",
    "# import pandas as pd\n",
    "import numpy as np\n",
    "from datetime import datetime, timedelta\n",
    "import time\n",
    "\n",
    "print(\"=== ИНТЕГРАЦИЯ POLARS С DUCKDB ===\\n\")\n",
    "\n",
    "# 1. СОЗДАНИЕ ТЕСТОВЫХ ДАННЫХ В POLARS\n",
    "print(\"1. Создание тестовых данных в Polars...\")\n",
    "\n",
    "# Генерируем данные о продажах\n",
    "np.random.seed(42)\n",
    "n_records = 100_000\n",
    "\n",
    "sales_data = pl.DataFrame({\n",
    "    \"sale_id\": range(1, n_records + 1),\n",
    "    \"employee_id\": np.random.randint(1, 101, n_records),\n",
    "    \"customer_id\": np.random.randint(1, 1001, n_records),\n",
    "    \"product_id\": np.random.randint(1, 201, n_records),\n",
    "    \"category\": np.random.choice([\"Electronics\", \"Clothing\", \"Books\", \"Home\", \"Sports\"], n_records),\n",
    "    \"region\": np.random.choice([\"North\", \"South\", \"East\", \"West\", \"Central\"], n_records),\n",
    "    \"sale_date\": [(datetime(2023, 1, 1) + timedelta(days=np.random.randint(0, 365))).strftime(\"%Y-%m-%d\") \n",
    "                  for _ in range(n_records)],\n",
    "    \"quantity\": np.random.randint(1, 11, n_records),\n",
    "    \"unit_price\": np.round(np.random.uniform(10, 1000, n_records), 2),\n",
    "    \"discount\": np.random.uniform(0, 30, n_records),\n",
    "    \"rating\": np.random.uniform(1, 5, n_records)\n",
    "}).with_columns([\n",
    "    (pl.col(\"quantity\") * pl.col(\"unit_price\") * (1 - pl.col(\"discount\") / 100)).alias(\"total_amount\")\n",
    "])\n",
    "\n",
    "print(f\"Создан датафрейм Polars: {sales_data.shape}\")\n",
    "print(sales_data.head())\n",
    "\n",
    "# 2. ПРЯМАЯ ИНТЕГРАЦИЯ: POLARS -> DUCKDB\n",
    "print(\"\\n2. Прямая интеграция Polars с DuckDB...\")\n",
    "\n",
    "# Создаем подключение к DuckDB\n",
    "conn = duckdb.connect()\n",
    "\n",
    "# Регистрируем Polars DataFrame в DuckDB\n",
    "conn.register('sales_polars', sales_data)\n",
    "\n",
    "# Выполняем SQL запросы напрямую к Polars данным\n",
    "sql_query = \"\"\"\n",
    "SELECT \n",
    "    category,\n",
    "    region,\n",
    "    COUNT(*) as total_sales,\n",
    "    SUM(total_amount) as total_revenue,\n",
    "    AVG(total_amount) as avg_sale,\n",
    "    AVG(rating) as avg_rating,\n",
    "    PERCENTILE_CONT(0.5) WITHIN GROUP (ORDER BY total_amount) as median_sale\n",
    "FROM sales_polars \n",
    "WHERE total_amount > 100\n",
    "GROUP BY category, region\n",
    "ORDER BY total_revenue DESC\n",
    "\"\"\"\n",
    "\n",
    "duckdb_result = conn.execute(sql_query).fetchdf()\n",
    "print(\"Результат SQL запроса к Polars данным:\")\n",
    "print(duckdb_result.head(10))\n",
    "\n",
    "# 3. СЛОЖНЫЕ SQL ЗАПРОСЫ С ОКОННЫМИ ФУНКЦИЯМИ\n",
    "print(\"\\n3. Сложные SQL запросы с оконными функциями...\")\n",
    "\n",
    "window_query = \"\"\"\n",
    "WITH monthly_sales AS (\n",
    "    SELECT \n",
    "        category,\n",
    "        region,\n",
    "        DATE_TRUNC('month', sale_date::DATE) as month,\n",
    "        SUM(total_amount) as monthly_revenue,\n",
    "        COUNT(*) as monthly_sales_count\n",
    "    FROM sales_polars\n",
    "    GROUP BY category, region, DATE_TRUNC('month', sale_date::DATE)\n",
    "),\n",
    "ranked_sales AS (\n",
    "    SELECT \n",
    "        *,\n",
    "        ROW_NUMBER() OVER (PARTITION BY category ORDER BY monthly_revenue DESC) as category_rank,\n",
    "        LAG(monthly_revenue) OVER (PARTITION BY category, region ORDER BY month) as prev_month_revenue,\n",
    "        monthly_revenue - LAG(monthly_revenue) OVER (PARTITION BY category, region ORDER BY month) as revenue_change\n",
    "    FROM monthly_sales\n",
    ")\n",
    "SELECT \n",
    "    category,\n",
    "    region,\n",
    "    month,\n",
    "    monthly_revenue,\n",
    "    category_rank,\n",
    "    revenue_change,\n",
    "    ROUND(revenue_change / NULLIF(prev_month_revenue, 0) * 100, 2) as revenue_change_pct\n",
    "FROM ranked_sales\n",
    "WHERE category_rank <= 3\n",
    "ORDER BY category, category_rank\n",
    "\"\"\"\n",
    "\n",
    "window_result = conn.execute(window_query).fetchdf()\n",
    "\n",
    "print(\"Результат с оконными функциями:\")\n",
    "print(window_result.head(15))\n",
    "\n",
    "# 4. ЭКСПОРТ ИЗ DUCKDB В POLARS\n",
    "print(\"\\n4. Экспорт из DuckDB в Polars...\")\n",
    "\n",
    "# Создаем временную таблицу в DuckDB\n",
    "conn.execute(\"\"\"\n",
    "CREATE OR REPLACE TABLE temp_analytics AS\n",
    "SELECT \n",
    "    category,\n",
    "    region,\n",
    "    COUNT(*) as sales_count,\n",
    "    SUM(total_amount) as total_revenue,\n",
    "    AVG(total_amount) as avg_sale,\n",
    "    STDDEV(total_amount) as sales_std,\n",
    "    MIN(total_amount) as min_sale,\n",
    "    MAX(total_amount) as max_sale,\n",
    "    AVG(rating) as avg_rating,\n",
    "    COUNT(DISTINCT employee_id) as unique_employees,\n",
    "    COUNT(DISTINCT customer_id) as unique_customers\n",
    "FROM sales_polars\n",
    "GROUP BY category, region\n",
    "\"\"\")\n",
    "\n",
    "# Экспортируем результат в Polars\n",
    "analytics_polars = pl.from_pandas(conn.execute(\"SELECT * FROM temp_analytics\").fetchdf())\n",
    "\n",
    "print(\"Экспортированный в Polars результат:\")\n",
    "print(analytics_polars.head())\n",
    "\n",
    "# 5. ГИБРИДНЫЙ ПОДХОД: POLARS + DUCKDB + POLARS\n",
    "print(\"\\n5. Гибридный подход: Polars -> DuckDB -> Polars...\")\n",
    "\n",
    "# Обрабатываем данные в Polars\n",
    "processed_polars = sales_data.with_columns([\n",
    "    pl.col(\"sale_date\").str.to_date().alias(\"sale_date_parsed\"),\n",
    "    (pl.col(\"total_amount\") > pl.col(\"total_amount\").quantile(0.8)).alias(\"high_value_sale\"),\n",
    "    (pl.col(\"rating\") >= 4.0).alias(\"high_rating\"),\n",
    "    pl.col(\"total_amount\").rank().over(\"category\").alias(\"category_rank\")\n",
    "]).filter(\n",
    "    pl.col(\"total_amount\") > 50\n",
    ")\n",
    "\n",
    "# Регистрируем обработанные данные в DuckDB\n",
    "conn.register('processed_sales', processed_polars)\n",
    "\n",
    "# Выполняем сложную аналитику в DuckDB\n",
    "hybrid_query = \"\"\"\n",
    "WITH customer_metrics AS (\n",
    "    SELECT \n",
    "        customer_id,\n",
    "        COUNT(*) as total_purchases,\n",
    "        SUM(total_amount) as total_spent,\n",
    "        AVG(rating) as avg_rating,\n",
    "        COUNT(CASE WHEN high_value_sale THEN 1 END) as high_value_purchases,\n",
    "        COUNT(CASE WHEN high_rating THEN 1 END) as high_rating_purchases\n",
    "    FROM processed_sales\n",
    "    GROUP BY customer_id\n",
    "),\n",
    "product_performance AS (\n",
    "    SELECT \n",
    "        product_id,\n",
    "        category,\n",
    "        COUNT(*) as sales_count,\n",
    "        SUM(total_amount) as revenue,\n",
    "        AVG(rating) as avg_rating,\n",
    "        STDDEV(total_amount) as price_volatility\n",
    "    FROM processed_sales\n",
    "    GROUP BY product_id, category\n",
    ")\n",
    "SELECT \n",
    "    p.category,\n",
    "    COUNT(DISTINCT p.product_id) as unique_products,\n",
    "    SUM(p.sales_count) as total_sales,\n",
    "    SUM(p.revenue) as total_revenue,\n",
    "    AVG(p.avg_rating) as avg_product_rating,\n",
    "    COUNT(DISTINCT c.customer_id) as unique_customers,\n",
    "    AVG(c.total_spent) as avg_customer_spend,\n",
    "    AVG(c.avg_rating) as avg_customer_rating\n",
    "FROM product_performance p\n",
    "CROSS JOIN customer_metrics c\n",
    "GROUP BY p.category\n",
    "ORDER BY total_revenue DESC\n",
    "\"\"\"\n",
    "\n",
    "hybrid_result = conn.execute(hybrid_query).fetchdf()\n",
    "print(\"Результат гибридного подхода:\")\n",
    "print(hybrid_result)\n",
    "\n",
    "# 6. ПРОИЗВОДИТЕЛЬНОСТЬ: СРАВНЕНИЕ POLARS VS DUCKDB\n",
    "print(\"\\n6. Сравнение производительности Polars vs DuckDB...\")\n",
    "\n",
    "def measure_time(func, description):\n",
    "    start = time.time()\n",
    "    result = func()\n",
    "    end = time.time()\n",
    "    print(f\"{description}: {end - start:.3f} секунд\")\n",
    "    return result\n",
    "\n",
    "# Тест 1: Группировка и агрегация в Polars\n",
    "def polars_groupby():\n",
    "    return sales_data.group_by(\"category\").agg([\n",
    "        pl.col(\"total_amount\").sum().alias(\"total_revenue\"),\n",
    "        pl.col(\"total_amount\").mean().alias(\"avg_sale\"),\n",
    "        pl.col(\"rating\").mean().alias(\"avg_rating\"),\n",
    "        pl.col(\"sale_id\").count().alias(\"sales_count\")\n",
    "    ])\n",
    "\n",
    "# Тест 2: Та же операция в DuckDB\n",
    "def duckdb_groupby():\n",
    "    return conn.execute(\"\"\"\n",
    "        SELECT \n",
    "            category,\n",
    "            SUM(total_amount) as total_revenue,\n",
    "            AVG(total_amount) as avg_sale,\n",
    "            AVG(rating) as avg_rating,\n",
    "            COUNT(sale_id) as sales_count\n",
    "        FROM sales_polars\n",
    "        GROUP BY category\n",
    "    \"\"\").fetchdf()\n",
    "\n",
    "# Тест 3: Сложные вычисления в Polars\n",
    "def polars_complex():\n",
    "    return sales_data.with_columns([\n",
    "        pl.col(\"total_amount\").rank().over(\"category\").alias(\"rank\"),\n",
    "        pl.col(\"total_amount\").mean().over(\"region\").alias(\"region_avg\"),\n",
    "        (pl.col(\"total_amount\") - pl.col(\"total_amount\").mean()).alias(\"deviation\"),\n",
    "        pl.col(\"total_amount\").rolling_mean(window_size=100).alias(\"rolling_avg\")\n",
    "    ]).filter(pl.col(\"total_amount\") > 100)\n",
    "\n",
    "# Тест 4: Та же операция в DuckDB\n",
    "def duckdb_complex():\n",
    "    return conn.execute(\"\"\"\n",
    "        SELECT *,\n",
    "            RANK() OVER (PARTITION BY category ORDER BY total_amount) as rank,\n",
    "            AVG(total_amount) OVER (PARTITION BY region) as region_avg,\n",
    "            total_amount - AVG(total_amount) OVER () as deviation\n",
    "        FROM sales_polars\n",
    "        WHERE total_amount > 100\n",
    "    \"\"\").fetchdf()\n",
    "\n",
    "# Выполняем тесты\n",
    "polars_groupby_result = measure_time(polars_groupby, \"Polars группировка\")\n",
    "duckdb_groupby_result = measure_time(duckdb_groupby, \"DuckDB группировка\")\n",
    "\n",
    "polars_complex_result = measure_time(polars_complex, \"Polars сложные вычисления\")\n",
    "duckdb_complex_result = measure_time(duckdb_complex, \"DuckDB сложные вычисления\")\n",
    "\n",
    "# 7. РАБОТА С БОЛЬШИМИ ДАННЫМИ: СТРИМИНГ\n",
    "print(\"\\n7. Работа с большими данными через стриминг...\")\n",
    "\n",
    "# Создаем большой датафрейм\n",
    "large_data = pl.DataFrame({\n",
    "    \"id\": range(1_000_000),\n",
    "    \"value\": np.random.randn(1_000_000),\n",
    "    \"category\": [f\"cat_{i % 1000}\" for i in range(1_000_000)]\n",
    "})\n",
    "\n",
    "# Регистрируем в DuckDB\n",
    "conn.register('large_data', large_data)\n",
    "\n",
    "# Стриминг запрос в DuckDB\n",
    "def streaming_query():\n",
    "    return conn.execute(\"\"\"\n",
    "        SELECT \n",
    "            category,\n",
    "            COUNT(*) as count,\n",
    "            AVG(value) as avg_value,\n",
    "            STDDEV(value) as std_value,\n",
    "            MIN(value) as min_value,\n",
    "            MAX(value) as max_value\n",
    "        FROM large_data\n",
    "        GROUP BY category\n",
    "        ORDER BY count DESC\n",
    "    \"\"\").fetchdf()\n",
    "\n",
    "streaming_result = measure_time(streaming_query, \"DuckDB стриминг запрос\")\n",
    "print(f\"Обработано {len(streaming_result)} категорий\")\n",
    "\n",
    "# 8. ПРАКТИЧЕСКИЕ РЕКОМЕНДАЦИИ\n",
    "print(\"\\n8. Практические рекомендации по интеграции Polars + DuckDB:\")\n",
    "print(\"✓ Используйте Polars для:\")\n",
    "print(\"  - Быстрой загрузки и предобработки данных\")\n",
    "print(\"  - Векторизованных операций\")\n",
    "print(\"  - Работы с большими файлами\")\n",
    "print(\"  - Интеграции с Python экосистемой\")\n",
    "print()\n",
    "print(\"✓ Используйте DuckDB для:\")\n",
    "print(\"  - Сложных SQL запросов\")\n",
    "print(\"  - Оконных функций\")\n",
    "print(\"  - Аналитических запросов\")\n",
    "print(\"  - Работы с реляционными данными\")\n",
    "print()\n",
    "print(\"✓ Оптимальный workflow:\")\n",
    "print(\"  1. Загрузка данных в Polars\")\n",
    "print(\"  2. Предобработка и очистка в Polars\")\n",
    "print(\"  3. Регистрация в DuckDB для аналитики\")\n",
    "print(\"  4. Выполнение сложных SQL запросов\")\n",
    "print(\"  5. Экспорт результатов обратно в Polars\")\n",
    "\n",
    "# Закрываем соединение\n",
    "conn.close()\n",
    "print(\"\\n✓ Соединение с DuckDB закрыто\")\n"
   ]
  },
  {
   "cell_type": "markdown",
   "metadata": {},
   "source": [
    "## ШПАРГАЛКА Polars vs Pandas"
   ]
  },
  {
   "cell_type": "code",
   "execution_count": 272,
   "metadata": {},
   "outputs": [
    {
     "name": "stdout",
     "output_type": "stream",
     "text": [
      "Данные подготовлены:\n",
      "Pandas: (50, 12)\n",
      "Polars: (50, 12)\n",
      "\n",
      "Первые 3 строки:\n",
      "   employee_id         name department region  salary  bonus  rating  \\\n",
      "0            1  Employee_01         HR   West   82251   2663    4.91   \n",
      "1            2  Employee_02    Finance   West   52662  10721    2.64   \n",
      "2            3  Employee_03         IT   West   38392  11230    1.13   \n",
      "\n",
      "   years_experience  is_manager   hire_date  performance_score  project_count  \n",
      "0                16       False  2015-01-01                 58              4  \n",
      "1                 3       False  2015-01-31                 86              5  \n",
      "2                 1       False  2015-03-02                 49              6  \n"
     ]
    }
   ],
   "source": [
    "# Подготовка данных для шпаргалки\n",
    "import pandas as pd\n",
    "import polars as pl\n",
    "import numpy as np\n",
    "\n",
    "# Создание тестовых данных\n",
    "np.random.seed(42)\n",
    "n_employees = 50\n",
    "\n",
    "data = {\n",
    "    'employee_id': range(1, n_employees + 1),\n",
    "    'name': [f'Employee_{i:02d}' for i in range(1, n_employees + 1)],\n",
    "    'department': np.random.choice(['Sales', 'Marketing', 'IT', 'HR', 'Finance'], n_employees),\n",
    "    'region': np.random.choice(['North', 'South', 'East', 'West', 'Central'], n_employees),\n",
    "    'salary': np.random.randint(30000, 120000, n_employees),\n",
    "    'bonus': np.random.randint(1000, 15000, n_employees),\n",
    "    'rating': np.round(np.random.uniform(1, 5, n_employees), 2),\n",
    "    'years_experience': np.random.randint(1, 20, n_employees),\n",
    "    'is_manager': np.random.choice([True, False], n_employees, p=[0.2, 0.8]),\n",
    "    'hire_date': pd.date_range('2015-01-01', periods=n_employees, freq='30D').strftime('%Y-%m-%d'),\n",
    "    'performance_score': np.random.randint(1, 101, n_employees),\n",
    "    'project_count': np.random.randint(0, 10, n_employees)\n",
    "}\n",
    "\n",
    "# Создание DataFrame в обеих библиотеках\n",
    "df_pandas = pd.DataFrame(data)\n",
    "df_polars = pl.DataFrame(data)\n",
    "\n",
    "# Дополнительные данные для джойнов\n",
    "dept_info_data = {\n",
    "    'department': ['Sales', 'Marketing', 'IT', 'HR', 'Finance'],\n",
    "    'manager_name': ['John Smith', 'Jane Doe', 'Mike Johnson', 'Sarah Wilson', 'Tom Brown'],\n",
    "    'budget': [500000, 300000, 800000, 200000, 400000],\n",
    "    'location': ['Floor 1', 'Floor 2', 'Floor 3', 'Floor 1', 'Floor 2']\n",
    "}\n",
    "\n",
    "dept_info = pd.DataFrame(dept_info_data)\n",
    "dept_info_polars = pl.DataFrame(dept_info_data)\n",
    "\n",
    "print(\"Данные подготовлены:\")\n",
    "print(f\"Pandas: {df_pandas.shape}\")\n",
    "print(f\"Polars: {df_polars.shape}\")\n",
    "print(\"\\nПервые 3 строки:\")\n",
    "print(df_pandas.head(3))\n"
   ]
  },
  {
   "cell_type": "markdown",
   "metadata": {},
   "source": [
    "## 1. Добавление/изменение колонок\n",
    "\n",
    "**Описание:** Создание новых колонок на основе существующих данных\n",
    "\n",
    "| Pandas | Polars |\n",
    "|--------|--------|\n",
    "| `df.assign(...)` | `df.with_columns([...])` |\n"
   ]
  },
  {
   "cell_type": "code",
   "execution_count": 273,
   "metadata": {},
   "outputs": [
    {
     "name": "stdout",
     "output_type": "stream",
     "text": [
      "Pandas assign:\n",
      "          name  salary  bonus  total_compensation  is_high_earner\n",
      "0  Employee_01   82251   2663               84914            True\n",
      "1  Employee_02   52662  10721               63383           False\n",
      "2  Employee_03   38392  11230               49622           False\n"
     ]
    }
   ],
   "source": [
    "# Pandas: assign\n",
    "pandas_assign = df_pandas.assign(\n",
    "    total_compensation=lambda x: x['salary'] + x['bonus'],\n",
    "    is_high_earner=lambda x: x['salary'] > 70000,\n",
    "    salary_category=lambda x: pd.cut(x['salary'], bins=3, labels=['Low', 'Medium', 'High']),\n",
    "    years_since_hire=lambda x: 2024 - pd.to_datetime(x['hire_date']).dt.year\n",
    ")\n",
    "\n",
    "print(\"Pandas assign:\")\n",
    "print(pandas_assign[['name', 'salary', 'bonus', 'total_compensation', 'is_high_earner']].head(3))\n"
   ]
  },
  {
   "cell_type": "code",
   "execution_count": 274,
   "metadata": {},
   "outputs": [
    {
     "name": "stdout",
     "output_type": "stream",
     "text": [
      "Polars with_columns:\n",
      "shape: (3, 5)\n",
      "┌─────────────┬────────┬───────┬────────────────────┬────────────────┐\n",
      "│ name        ┆ salary ┆ bonus ┆ total_compensation ┆ is_high_earner │\n",
      "│ ---         ┆ ---    ┆ ---   ┆ ---                ┆ ---            │\n",
      "│ str         ┆ i64    ┆ i64   ┆ i64                ┆ bool           │\n",
      "╞═════════════╪════════╪═══════╪════════════════════╪════════════════╡\n",
      "│ Employee_01 ┆ 82251  ┆ 2663  ┆ 84914              ┆ true           │\n",
      "│ Employee_02 ┆ 52662  ┆ 10721 ┆ 63383              ┆ false          │\n",
      "│ Employee_03 ┆ 38392  ┆ 11230 ┆ 49622              ┆ false          │\n",
      "└─────────────┴────────┴───────┴────────────────────┴────────────────┘\n"
     ]
    }
   ],
   "source": [
    "# Polars: with_columns\n",
    "polars_with_columns = df_polars.with_columns([\n",
    "    (pl.col(\"salary\") + pl.col(\"bonus\")).alias(\"total_compensation\"),\n",
    "    (pl.col(\"salary\") > 70000).alias(\"is_high_earner\"),\n",
    "    pl.when(pl.col(\"salary\") < 60000).then(pl.lit(\"Low\"))\n",
    "        .when(pl.col(\"salary\") < 90000).then(pl.lit(\"Medium\"))\n",
    "        .otherwise(pl.lit(\"High\")).alias(\"salary_category\"),\n",
    "    (2024 - pl.col(\"hire_date\").str.to_date().dt.year()).alias(\"years_since_hire\")\n",
    "])\n",
    "\n",
    "print(\"Polars with_columns:\")\n",
    "print(polars_with_columns.select(['name', 'salary', 'bonus', 'total_compensation', 'is_high_earner']).head(3))\n"
   ]
  },
  {
   "cell_type": "markdown",
   "metadata": {},
   "source": [
    "## 2. Фильтрация данных\n",
    "\n",
    "**Описание:** Отбор строк по заданным условиям\n",
    "\n",
    "| Pandas | Polars |\n",
    "|--------|--------|\n",
    "| `df.query('условие')` | `df.filter(pl.col('col') > value)` |\n"
   ]
  },
  {
   "cell_type": "code",
   "execution_count": 275,
   "metadata": {},
   "outputs": [
    {
     "name": "stdout",
     "output_type": "stream",
     "text": [
      "Pandas query:\n",
      "Результат: 2 строк\n",
      "           name department  salary  rating  is_manager\n",
      "37  Employee_38    Finance  111734    3.78        True\n",
      "40  Employee_41         HR   73585    4.93        True\n"
     ]
    }
   ],
   "source": [
    "# Pandas: query\n",
    "pandas_filtered = df_pandas.query('salary > 70000 and rating > 3.5 and is_manager == True')\n",
    "\n",
    "print(\"Pandas query:\")\n",
    "print(f\"Результат: {len(pandas_filtered)} строк\")\n",
    "print(pandas_filtered[['name', 'department', 'salary', 'rating', 'is_manager']].head())\n"
   ]
  },
  {
   "cell_type": "code",
   "execution_count": 276,
   "metadata": {},
   "outputs": [
    {
     "name": "stdout",
     "output_type": "stream",
     "text": [
      "Polars filter:\n",
      "Результат: 2 строк\n",
      "shape: (2, 5)\n",
      "┌─────────────┬────────────┬────────┬────────┬────────────┐\n",
      "│ name        ┆ department ┆ salary ┆ rating ┆ is_manager │\n",
      "│ ---         ┆ ---        ┆ ---    ┆ ---    ┆ ---        │\n",
      "│ str         ┆ str        ┆ i64    ┆ f64    ┆ bool       │\n",
      "╞═════════════╪════════════╪════════╪════════╪════════════╡\n",
      "│ Employee_38 ┆ Finance    ┆ 111734 ┆ 3.78   ┆ true       │\n",
      "│ Employee_41 ┆ HR         ┆ 73585  ┆ 4.93   ┆ true       │\n",
      "└─────────────┴────────────┴────────┴────────┴────────────┘\n"
     ]
    }
   ],
   "source": [
    "# Polars: filter\n",
    "polars_filtered = df_polars.filter(\n",
    "    (pl.col(\"salary\") > 70000) & (pl.col(\"rating\") > 3.5) & (pl.col(\"is_manager\") == True)\n",
    ")\n",
    "\n",
    "print(\"Polars filter:\")\n",
    "print(f\"Результат: {len(polars_filtered)} строк\")\n",
    "print(polars_filtered.select(['name', 'department', 'salary', 'rating', 'is_manager']).head())\n"
   ]
  },
  {
   "cell_type": "markdown",
   "metadata": {},
   "source": [
    "## 3. Группировка и агрегация\n",
    "\n",
    "**Описание:** Группировка данных и вычисление статистик\n",
    "\n",
    "| Pandas | Polars |\n",
    "|--------|--------|\n",
    "| `df.groupby('col').agg({...})` | `df.group_by('col').agg([...])` |\n"
   ]
  },
  {
   "cell_type": "code",
   "execution_count": 277,
   "metadata": {},
   "outputs": [
    {
     "name": "stdout",
     "output_type": "stream",
     "text": [
      "Pandas groupby.agg:\n",
      "              salary                  bonus rating performance_score\n",
      "                mean       std count    sum   mean               max\n",
      "department                                                          \n",
      "Finance     73629.10  29768.11    10  82076   2.93                97\n",
      "HR          91447.31  24332.18    13  99410   3.24                99\n",
      "IT          85091.40  24702.32    10  97402   3.05                92\n",
      "Marketing   58903.40  19628.15    10  86189   3.65                96\n",
      "Sales       92882.71  20405.93     7  71050   2.90                90\n"
     ]
    }
   ],
   "source": [
    "# Pandas: groupby.agg\n",
    "pandas_grouped = df_pandas.groupby('department').agg({\n",
    "    'salary': ['mean', 'std', 'count'],\n",
    "    'bonus': 'sum',\n",
    "    'rating': 'mean',\n",
    "    'performance_score': 'max'\n",
    "}).round(2)\n",
    "\n",
    "print(\"Pandas groupby.agg:\")\n",
    "print(pandas_grouped.head())\n"
   ]
  },
  {
   "cell_type": "code",
   "execution_count": 278,
   "metadata": {},
   "outputs": [
    {
     "name": "stdout",
     "output_type": "stream",
     "text": [
      "Polars group_by.agg:\n",
      "shape: (5, 7)\n",
      "┌────────────┬─────────────┬────────────┬──────────────┬───────────┬─────────────┬─────────────────┐\n",
      "│ department ┆ salary_mean ┆ salary_std ┆ salary_count ┆ bonus_sum ┆ rating_mean ┆ performance_max │\n",
      "│ ---        ┆ ---         ┆ ---        ┆ ---          ┆ ---       ┆ ---         ┆ ---             │\n",
      "│ str        ┆ f64         ┆ f64        ┆ u32          ┆ i64       ┆ f64         ┆ i64             │\n",
      "╞════════════╪═════════════╪════════════╪══════════════╪═══════════╪═════════════╪═════════════════╡\n",
      "│ Sales      ┆ 92882.71    ┆ 20405.93   ┆ 7            ┆ 71050     ┆ 2.9         ┆ 90              │\n",
      "│ Marketing  ┆ 58903.4     ┆ 19628.15   ┆ 10           ┆ 86189     ┆ 3.65        ┆ 96              │\n",
      "│ Finance    ┆ 73629.1     ┆ 29768.11   ┆ 10           ┆ 82076     ┆ 2.93        ┆ 97              │\n",
      "│ HR         ┆ 91447.31    ┆ 24332.18   ┆ 13           ┆ 99410     ┆ 3.24        ┆ 99              │\n",
      "│ IT         ┆ 85091.4     ┆ 24702.32   ┆ 10           ┆ 97402     ┆ 3.05        ┆ 92              │\n",
      "└────────────┴─────────────┴────────────┴──────────────┴───────────┴─────────────┴─────────────────┘\n"
     ]
    }
   ],
   "source": [
    "# Polars: group_by.agg\n",
    "polars_grouped = df_polars.group_by('department').agg([\n",
    "    pl.col('salary').mean().alias('salary_mean'),\n",
    "    pl.col('salary').std().alias('salary_std'),\n",
    "    pl.col('salary').count().alias('salary_count'),\n",
    "    pl.col('bonus').sum().alias('bonus_sum'),\n",
    "    pl.col('rating').mean().alias('rating_mean'),\n",
    "    pl.col('performance_score').max().alias('performance_max')\n",
    "]).with_columns([\n",
    "    pl.col('salary_mean').round(2),\n",
    "    pl.col('salary_std').round(2),\n",
    "    pl.col('rating_mean').round(2)\n",
    "])\n",
    "\n",
    "print(\"Polars group_by.agg:\")\n",
    "print(polars_grouped.head())\n"
   ]
  },
  {
   "cell_type": "markdown",
   "metadata": {},
   "source": [
    "## 4. Объединение таблиц\n",
    "\n",
    "**Описание:** Соединение двух таблиц по общему ключу\n",
    "\n",
    "| Pandas | Polars |\n",
    "|--------|--------|\n",
    "| `df.merge(df2, on='col')` | `df.join(df2, on='col')` |\n"
   ]
  },
  {
   "cell_type": "code",
   "execution_count": 279,
   "metadata": {},
   "outputs": [
    {
     "name": "stdout",
     "output_type": "stream",
     "text": [
      "Pandas merge:\n",
      "          name department  salary  manager_name  budget\n",
      "0  Employee_01         HR   82251  Sarah Wilson  200000\n",
      "1  Employee_02    Finance   52662     Tom Brown  400000\n",
      "2  Employee_03         IT   38392  Mike Johnson  800000\n"
     ]
    }
   ],
   "source": [
    "# Pandas: merge\n",
    "pandas_merged = df_pandas.merge(dept_info, on='department', how='left')\n",
    "\n",
    "print(\"Pandas merge:\")\n",
    "print(pandas_merged[['name', 'department', 'salary', 'manager_name', 'budget']].head(3))\n"
   ]
  },
  {
   "cell_type": "code",
   "execution_count": 280,
   "metadata": {},
   "outputs": [
    {
     "name": "stdout",
     "output_type": "stream",
     "text": [
      "Polars join:\n",
      "shape: (3, 5)\n",
      "┌─────────────┬────────────┬────────┬──────────────┬────────┐\n",
      "│ name        ┆ department ┆ salary ┆ manager_name ┆ budget │\n",
      "│ ---         ┆ ---        ┆ ---    ┆ ---          ┆ ---    │\n",
      "│ str         ┆ str        ┆ i64    ┆ str          ┆ i64    │\n",
      "╞═════════════╪════════════╪════════╪══════════════╪════════╡\n",
      "│ Employee_01 ┆ HR         ┆ 82251  ┆ Sarah Wilson ┆ 200000 │\n",
      "│ Employee_02 ┆ Finance    ┆ 52662  ┆ Tom Brown    ┆ 400000 │\n",
      "│ Employee_03 ┆ IT         ┆ 38392  ┆ Mike Johnson ┆ 800000 │\n",
      "└─────────────┴────────────┴────────┴──────────────┴────────┘\n"
     ]
    }
   ],
   "source": [
    "# Polars: join\n",
    "polars_joined = df_polars.join(dept_info_polars, on='department', how='left')\n",
    "\n",
    "print(\"Polars join:\")\n",
    "print(polars_joined.select(['name', 'department', 'salary', 'manager_name', 'budget']).head(3))\n"
   ]
  },
  {
   "cell_type": "markdown",
   "metadata": {},
   "source": []
  },
  {
   "cell_type": "markdown",
   "metadata": {},
   "source": [
    "## 5. Pivot таблицы\n",
    "\n",
    "**Описание:** Создание сводных таблиц с группировкой\n",
    "\n",
    "| Pandas | Polars |\n",
    "|--------|--------|\n",
    "| `df.pivot_table(index='col1', columns='col2', values='col3')` | `df.pivot(index='col1', columns='col2', values='col3')` |\n"
   ]
  },
  {
   "cell_type": "code",
   "execution_count": 281,
   "metadata": {},
   "outputs": [
    {
     "name": "stdout",
     "output_type": "stream",
     "text": [
      "Pandas pivot_table:\n",
      "region       Central      East    North     South     West\n",
      "department                                                \n",
      "Finance      43902.0  108603.0  98777.0   81922.0  52662.0\n",
      "HR          101549.0   73071.0  76872.0  108184.0  90320.0\n",
      "IT          110356.0       NaN  78822.0   72929.0  89559.0\n",
      "Marketing    55939.0   65690.0  50620.0   63740.0  61189.0\n",
      "Sales        75316.0   99163.0  94044.0  117897.0  94221.0\n"
     ]
    }
   ],
   "source": [
    "# Pandas: pivot_table\n",
    "pandas_pivot = df_pandas.pivot_table(\n",
    "    index='department', \n",
    "    columns='region', \n",
    "    values='salary', \n",
    "    aggfunc='mean'\n",
    ").round(0)\n",
    "\n",
    "print(\"Pandas pivot_table:\")\n",
    "print(pandas_pivot)\n"
   ]
  },
  {
   "cell_type": "code",
   "execution_count": 282,
   "metadata": {},
   "outputs": [
    {
     "name": "stdout",
     "output_type": "stream",
     "text": [
      "Polars pivot:\n",
      "shape: (5, 6)\n",
      "┌────────────┬─────────┬──────────┬──────────┬─────────┬──────────┐\n",
      "│ department ┆ West    ┆ Central  ┆ East     ┆ North   ┆ South    │\n",
      "│ ---        ┆ ---     ┆ ---      ┆ ---      ┆ ---     ┆ ---      │\n",
      "│ str        ┆ f64     ┆ f64      ┆ f64      ┆ f64     ┆ f64      │\n",
      "╞════════════╪═════════╪══════════╪══════════╪═════════╪══════════╡\n",
      "│ HR         ┆ 90320.0 ┆ 101549.0 ┆ 73071.0  ┆ 76872.0 ┆ 108184.0 │\n",
      "│ Finance    ┆ 52662.0 ┆ 43902.0  ┆ 108603.0 ┆ 98777.0 ┆ 81922.0  │\n",
      "│ IT         ┆ 89559.0 ┆ 110356.0 ┆ null     ┆ 78822.0 ┆ 72929.0  │\n",
      "│ Marketing  ┆ 61189.0 ┆ 55939.0  ┆ 65690.0  ┆ 50620.0 ┆ 63740.0  │\n",
      "│ Sales      ┆ 94221.0 ┆ 75316.0  ┆ 99163.0  ┆ 94044.0 ┆ 117897.0 │\n",
      "└────────────┴─────────┴──────────┴──────────┴─────────┴──────────┘\n"
     ]
    },
    {
     "name": "stderr",
     "output_type": "stream",
     "text": [
      "/var/folders/4m/4cskytjn019fn68ytvs204bwkhjl6b/T/ipykernel_61102/1621796912.py:2: DeprecationWarning: the argument `columns` for `DataFrame.pivot` is deprecated. It was renamed to `on` in version 1.0.0.\n",
      "  polars_pivot = df_polars.pivot(\n"
     ]
    }
   ],
   "source": [
    "# Polars: pivot\n",
    "polars_pivot = df_polars.pivot(\n",
    "    index='department', \n",
    "    columns='region', \n",
    "    values='salary', \n",
    "    aggregate_function='mean'\n",
    ")\n",
    "\n",
    "# Получаем список колонок для округления (все кроме department)\n",
    "columns_to_round = [col for col in polars_pivot.columns if col != 'department']\n",
    "polars_pivot = polars_pivot.with_columns([\n",
    "    pl.col(col).round(0) for col in columns_to_round\n",
    "])\n",
    "\n",
    "print(\"Polars pivot:\")\n",
    "print(polars_pivot)"
   ]
  },
  {
   "cell_type": "markdown",
   "metadata": {},
   "source": [
    "## 6. Melt (расплавление)\n",
    "\n",
    "**Описание:** Преобразование широкого формата в длинный\n",
    "\n",
    "| Pandas | Polars |\n",
    "|--------|--------|\n",
    "| `df.melt(id_vars=['col1'], value_vars=['col2', 'col3'])` | `df.melt(id_vars=['col1'], value_vars=['col2', 'col3'])` |\n"
   ]
  },
  {
   "cell_type": "code",
   "execution_count": 283,
   "metadata": {},
   "outputs": [
    {
     "name": "stdout",
     "output_type": "stream",
     "text": [
      "Pandas melt:\n",
      "          name department  metric     value\n",
      "0  Employee_01         HR  salary   82251.0\n",
      "1  Employee_02    Finance  salary   52662.0\n",
      "2  Employee_03         IT  salary   38392.0\n",
      "3  Employee_04    Finance  salary   60535.0\n",
      "4  Employee_05    Finance  salary  108603.0\n",
      "5  Employee_06  Marketing  salary   82256.0\n"
     ]
    }
   ],
   "source": [
    "# Pandas: melt\n",
    "pandas_melt = df_pandas.melt(\n",
    "    id_vars=['name', 'department'], \n",
    "    value_vars=['salary', 'bonus', 'rating'],\n",
    "    var_name='metric',\n",
    "    value_name='value'\n",
    ")\n",
    "\n",
    "print(\"Pandas melt:\")\n",
    "print(pandas_melt.head(6))\n"
   ]
  },
  {
   "cell_type": "code",
   "execution_count": 284,
   "metadata": {},
   "outputs": [
    {
     "name": "stdout",
     "output_type": "stream",
     "text": [
      "Polars melt:\n",
      "shape: (6, 4)\n",
      "┌─────────────┬────────────┬────────┬──────────┐\n",
      "│ name        ┆ department ┆ metric ┆ value    │\n",
      "│ ---         ┆ ---        ┆ ---    ┆ ---      │\n",
      "│ str         ┆ str        ┆ str    ┆ f64      │\n",
      "╞═════════════╪════════════╪════════╪══════════╡\n",
      "│ Employee_01 ┆ HR         ┆ salary ┆ 82251.0  │\n",
      "│ Employee_02 ┆ Finance    ┆ salary ┆ 52662.0  │\n",
      "│ Employee_03 ┆ IT         ┆ salary ┆ 38392.0  │\n",
      "│ Employee_04 ┆ Finance    ┆ salary ┆ 60535.0  │\n",
      "│ Employee_05 ┆ Finance    ┆ salary ┆ 108603.0 │\n",
      "│ Employee_06 ┆ Marketing  ┆ salary ┆ 82256.0  │\n",
      "└─────────────┴────────────┴────────┴──────────┘\n"
     ]
    },
    {
     "name": "stderr",
     "output_type": "stream",
     "text": [
      "/var/folders/4m/4cskytjn019fn68ytvs204bwkhjl6b/T/ipykernel_61102/2209494774.py:2: DeprecationWarning: `DataFrame.melt` is deprecated; use `DataFrame.unpivot` instead, with `index` instead of `id_vars` and `on` instead of `value_vars`\n",
      "  polars_melt = df_polars.melt(\n"
     ]
    }
   ],
   "source": [
    "# Polars: melt\n",
    "polars_melt = df_polars.melt(\n",
    "    id_vars=['name', 'department'], \n",
    "    value_vars=['salary', 'bonus', 'rating'],\n",
    "    variable_name='metric',\n",
    "    value_name='value'\n",
    ")\n",
    "\n",
    "print(\"Polars melt:\")\n",
    "print(polars_melt.head(6))\n"
   ]
  },
  {
   "cell_type": "markdown",
   "metadata": {},
   "source": [
    "## 7. Изменение типов данных\n",
    "\n",
    "**Описание:** Преобразование типов колонок\n",
    "\n",
    "| Pandas | Polars |\n",
    "|--------|--------|\n",
    "| `df.astype({'col': 'int32'})` | `df.with_columns(pl.col('col').cast(pl.Int32))` |\n"
   ]
  },
  {
   "cell_type": "code",
   "execution_count": 285,
   "metadata": {},
   "outputs": [
    {
     "name": "stdout",
     "output_type": "stream",
     "text": [
      "Pandas astype:\n",
      "Типы данных:\n",
      "employee_id            int32\n",
      "name                  object\n",
      "department            object\n",
      "region                object\n",
      "salary               float32\n",
      "bonus                  int64\n",
      "rating               float32\n",
      "years_experience       int64\n",
      "is_manager              bool\n",
      "hire_date             object\n",
      "performance_score      int64\n",
      "project_count          int64\n",
      "dtype: object\n",
      "\n",
      "Память: 15.0 KB\n"
     ]
    }
   ],
   "source": [
    "# Pandas: astype\n",
    "pandas_types = df_pandas.copy()\n",
    "pandas_types = pandas_types.astype({\n",
    "    'employee_id': 'int32',\n",
    "    'salary': 'float32',\n",
    "    'rating': 'float32'\n",
    "})\n",
    "\n",
    "print(\"Pandas astype:\")\n",
    "print(f\"Типы данных:\\n{pandas_types.dtypes}\")\n",
    "print(f\"\\nПамять: {pandas_types.memory_usage(deep=True).sum() / 1024:.1f} KB\")\n"
   ]
  },
  {
   "cell_type": "code",
   "execution_count": 286,
   "metadata": {},
   "outputs": [
    {
     "name": "stdout",
     "output_type": "stream",
     "text": [
      "Polars cast:\n",
      "Схема данных:\n",
      "Schema([('employee_id', Int32), ('name', String), ('department', String), ('region', String), ('salary', Float32), ('bonus', Int64), ('rating', Float32), ('years_experience', Int64), ('is_manager', Boolean), ('hire_date', String), ('performance_score', Int64), ('project_count', Int64)])\n",
      "\n",
      "Память: 3.7 KB\n"
     ]
    }
   ],
   "source": [
    "# Polars: cast\n",
    "polars_types = df_polars.with_columns([\n",
    "    pl.col('employee_id').cast(pl.Int32),\n",
    "    pl.col('salary').cast(pl.Float32),\n",
    "    pl.col('rating').cast(pl.Float32)\n",
    "])\n",
    "\n",
    "print(\"Polars cast:\")\n",
    "print(f\"Схема данных:\\n{polars_types.schema}\")\n",
    "print(f\"\\nПамять: {polars_types.estimated_size() / 1024:.1f} KB\")\n"
   ]
  },
  {
   "cell_type": "markdown",
   "metadata": {},
   "source": [
    "## 8. Подсчет значений\n",
    "\n",
    "**Описание:** Подсчет частоты значений в колонке\n",
    "\n",
    "| Pandas | Polars |\n",
    "|--------|--------|\n",
    "| `df['col'].value_counts()` | `df.select(pl.col('col').value_counts())` |\n"
   ]
  },
  {
   "cell_type": "code",
   "execution_count": 287,
   "metadata": {},
   "outputs": [
    {
     "name": "stdout",
     "output_type": "stream",
     "text": [
      "Pandas value_counts:\n",
      "department\n",
      "HR           13\n",
      "Finance      10\n",
      "IT           10\n",
      "Marketing    10\n",
      "Sales         7\n",
      "Name: count, dtype: int64\n"
     ]
    }
   ],
   "source": [
    "# Pandas: value_counts\n",
    "pandas_counts = df_pandas['department'].value_counts()\n",
    "\n",
    "print(\"Pandas value_counts:\")\n",
    "print(pandas_counts)\n"
   ]
  },
  {
   "cell_type": "code",
   "execution_count": 288,
   "metadata": {},
   "outputs": [
    {
     "name": "stdout",
     "output_type": "stream",
     "text": [
      "Polars value_counts:\n",
      "shape: (5, 2)\n",
      "┌────────────┬───────┐\n",
      "│ department ┆ count │\n",
      "│ ---        ┆ ---   │\n",
      "│ str        ┆ u32   │\n",
      "╞════════════╪═══════╡\n",
      "│ HR         ┆ 13    │\n",
      "│ IT         ┆ 10    │\n",
      "│ Finance    ┆ 10    │\n",
      "│ Marketing  ┆ 10    │\n",
      "│ Sales      ┆ 7     │\n",
      "└────────────┴───────┘\n"
     ]
    }
   ],
   "source": [
    "# Polars: value_counts\n",
    "polars_counts = df_polars.group_by('department').agg(pl.col('department').count().alias('count')).sort('count', descending=True)\n",
    "\n",
    "print(\"Polars value_counts:\")\n",
    "print(polars_counts)"
   ]
  },
  {
   "cell_type": "markdown",
   "metadata": {},
   "source": [
    "## 9. Сортировка\n",
    "\n",
    "**Описание:** Сортировка данных по колонкам\n",
    "\n",
    "| Pandas | Polars |\n",
    "|--------|--------|\n",
    "| `df.sort_values(['col1', 'col2'])` | `df.sort(['col1', 'col2'])` |\n"
   ]
  },
  {
   "cell_type": "code",
   "execution_count": 289,
   "metadata": {},
   "outputs": [
    {
     "name": "stdout",
     "output_type": "stream",
     "text": [
      "Pandas sort_values:\n",
      "           name department  salary  rating\n",
      "37  Employee_38    Finance  111734    3.78\n",
      "9   Employee_10    Finance  109575    3.37\n",
      "4   Employee_05    Finance  108603    3.54\n",
      "35  Employee_36    Finance   85820    1.84\n",
      "47  Employee_48    Finance   78925    1.75\n",
      "3   Employee_04    Finance   60535    2.38\n"
     ]
    }
   ],
   "source": [
    "# Pandas: sort_values\n",
    "pandas_sorted = df_pandas.sort_values(['department', 'salary'], ascending=[True, False])\n",
    "\n",
    "print(\"Pandas sort_values:\")\n",
    "print(pandas_sorted[['name', 'department', 'salary', 'rating']].head(6))\n"
   ]
  },
  {
   "cell_type": "code",
   "execution_count": 290,
   "metadata": {},
   "outputs": [
    {
     "name": "stdout",
     "output_type": "stream",
     "text": [
      "Polars sort:\n",
      "shape: (6, 4)\n",
      "┌─────────────┬────────────┬────────┬────────┐\n",
      "│ name        ┆ department ┆ salary ┆ rating │\n",
      "│ ---         ┆ ---        ┆ ---    ┆ ---    │\n",
      "│ str         ┆ str        ┆ i64    ┆ f64    │\n",
      "╞═════════════╪════════════╪════════╪════════╡\n",
      "│ Employee_38 ┆ Finance    ┆ 111734 ┆ 3.78   │\n",
      "│ Employee_10 ┆ Finance    ┆ 109575 ┆ 3.37   │\n",
      "│ Employee_05 ┆ Finance    ┆ 108603 ┆ 3.54   │\n",
      "│ Employee_36 ┆ Finance    ┆ 85820  ┆ 1.84   │\n",
      "│ Employee_48 ┆ Finance    ┆ 78925  ┆ 1.75   │\n",
      "│ Employee_04 ┆ Finance    ┆ 60535  ┆ 2.38   │\n",
      "└─────────────┴────────────┴────────┴────────┘\n"
     ]
    }
   ],
   "source": [
    "# Polars: sort\n",
    "polars_sorted = df_polars.sort(['department', 'salary'], descending=[False, True])\n",
    "\n",
    "print(\"Polars sort:\")\n",
    "print(polars_sorted.select(['name', 'department', 'salary', 'rating']).head(6))\n"
   ]
  },
  {
   "cell_type": "markdown",
   "metadata": {},
   "source": [
    "## 10. Оконные функции\n",
    "\n",
    "**Описание:** Вычисления в рамках групп с ранжированием\n",
    "\n",
    "| Pandas | Polars |\n",
    "|--------|--------|\n",
    "| `df.groupby('col').rank()` | `pl.col('col').rank().over('col')` |\n"
   ]
  },
  {
   "cell_type": "code",
   "execution_count": 291,
   "metadata": {},
   "outputs": [
    {
     "name": "stdout",
     "output_type": "stream",
     "text": [
      "Pandas window functions:\n",
      "          name department  salary  salary_rank  salary_mean_dept\n",
      "0  Employee_01         HR   82251          9.0      91447.307692\n",
      "1  Employee_02    Finance   52662          8.0      73629.100000\n",
      "2  Employee_03         IT   38392         10.0      85091.400000\n",
      "3  Employee_04    Finance   60535          6.0      73629.100000\n",
      "4  Employee_05    Finance  108603          3.0      73629.100000\n",
      "5  Employee_06  Marketing   82256          2.0      58903.400000\n"
     ]
    }
   ],
   "source": [
    "# Pandas: window functions\n",
    "pandas_window = df_pandas.copy()\n",
    "pandas_window['salary_rank'] = pandas_window.groupby('department')['salary'].rank(ascending=False)\n",
    "pandas_window['salary_mean_dept'] = pandas_window.groupby('department')['salary'].transform('mean')\n",
    "pandas_window['salary_cumsum'] = pandas_window.groupby('department')['salary'].cumsum()\n",
    "\n",
    "print(\"Pandas window functions:\")\n",
    "print(pandas_window[['name', 'department', 'salary', 'salary_rank', 'salary_mean_dept']].head(6))\n"
   ]
  },
  {
   "cell_type": "code",
   "execution_count": 292,
   "metadata": {},
   "outputs": [
    {
     "name": "stdout",
     "output_type": "stream",
     "text": [
      "Polars window functions:\n",
      "shape: (6, 5)\n",
      "┌─────────────┬────────────┬────────┬─────────────┬──────────────────┐\n",
      "│ name        ┆ department ┆ salary ┆ salary_rank ┆ salary_mean_dept │\n",
      "│ ---         ┆ ---        ┆ ---    ┆ ---         ┆ ---              │\n",
      "│ str         ┆ str        ┆ i64    ┆ f64         ┆ f64              │\n",
      "╞═════════════╪════════════╪════════╪═════════════╪══════════════════╡\n",
      "│ Employee_01 ┆ HR         ┆ 82251  ┆ 9.0         ┆ 91447.307692     │\n",
      "│ Employee_02 ┆ Finance    ┆ 52662  ┆ 8.0         ┆ 73629.1          │\n",
      "│ Employee_03 ┆ IT         ┆ 38392  ┆ 10.0        ┆ 85091.4          │\n",
      "│ Employee_04 ┆ Finance    ┆ 60535  ┆ 6.0         ┆ 73629.1          │\n",
      "│ Employee_05 ┆ Finance    ┆ 108603 ┆ 3.0         ┆ 73629.1          │\n",
      "│ Employee_06 ┆ Marketing  ┆ 82256  ┆ 2.0         ┆ 58903.4          │\n",
      "└─────────────┴────────────┴────────┴─────────────┴──────────────────┘\n"
     ]
    }
   ],
   "source": [
    "# Polars: window functions\n",
    "polars_window = df_polars.with_columns([\n",
    "    pl.col('salary').rank(descending=True).over('department').alias('salary_rank'),\n",
    "    pl.col('salary').mean().over('department').alias('salary_mean_dept'),\n",
    "    pl.col('salary').cum_sum().over('department').alias('salary_cumsum')\n",
    "])\n",
    "\n",
    "print(\"Polars window functions:\")\n",
    "print(polars_window.select(['name', 'department', 'salary', 'salary_rank', 'salary_mean_dept']).head(6))\n"
   ]
  },
  {
   "cell_type": "markdown",
   "metadata": {},
   "source": [
    "## 11. Условная логика\n",
    "\n",
    "**Описание:** Условные выражения для создания новых колонок\n",
    "\n",
    "| Pandas | Polars |\n",
    "|--------|--------|\n",
    "| `np.where(condition, true_val, false_val)` | `pl.when(condition).then(true_val).otherwise(false_val)` |\n"
   ]
  },
  {
   "cell_type": "code",
   "execution_count": 293,
   "metadata": {},
   "outputs": [
    {
     "name": "stdout",
     "output_type": "stream",
     "text": [
      "Pandas conditional logic:\n",
      "          name  performance_score performance_level  is_manager  \\\n",
      "0  Employee_01                 58               Low       False   \n",
      "1  Employee_02                 86              High       False   \n",
      "2  Employee_03                 49               Low       False   \n",
      "3  Employee_04                 52               Low       False   \n",
      "4  Employee_05                 42               Low       False   \n",
      "5  Employee_06                 70            Medium       False   \n",
      "\n",
      "   bonus_multiplier  \n",
      "0               1.0  \n",
      "1               1.0  \n",
      "2               1.0  \n",
      "3               1.0  \n",
      "4               1.0  \n",
      "5               1.0  \n"
     ]
    }
   ],
   "source": [
    "# Pandas: conditional logic\n",
    "pandas_conditional = df_pandas.copy()\n",
    "pandas_conditional['performance_level'] = np.where(\n",
    "    pandas_conditional['performance_score'] >= 80, 'High',\n",
    "    np.where(pandas_conditional['performance_score'] >= 60, 'Medium', 'Low')\n",
    ")\n",
    "pandas_conditional['bonus_multiplier'] = np.where(\n",
    "    pandas_conditional['is_manager'], 1.5, 1.0\n",
    ")\n",
    "\n",
    "print(\"Pandas conditional logic:\")\n",
    "print(pandas_conditional[['name', 'performance_score', 'performance_level', 'is_manager', 'bonus_multiplier']].head(6))\n"
   ]
  },
  {
   "cell_type": "code",
   "execution_count": 294,
   "metadata": {},
   "outputs": [
    {
     "name": "stdout",
     "output_type": "stream",
     "text": [
      "Polars conditional logic:\n",
      "shape: (6, 5)\n",
      "┌─────────────┬───────────────────┬───────────────────┬────────────┬──────────────────┐\n",
      "│ name        ┆ performance_score ┆ performance_level ┆ is_manager ┆ bonus_multiplier │\n",
      "│ ---         ┆ ---               ┆ ---               ┆ ---        ┆ ---              │\n",
      "│ str         ┆ i64               ┆ str               ┆ bool       ┆ f64              │\n",
      "╞═════════════╪═══════════════════╪═══════════════════╪════════════╪══════════════════╡\n",
      "│ Employee_01 ┆ 58                ┆ Low               ┆ false      ┆ 1.0              │\n",
      "│ Employee_02 ┆ 86                ┆ High              ┆ false      ┆ 1.0              │\n",
      "│ Employee_03 ┆ 49                ┆ Low               ┆ false      ┆ 1.0              │\n",
      "│ Employee_04 ┆ 52                ┆ Low               ┆ false      ┆ 1.0              │\n",
      "│ Employee_05 ┆ 42                ┆ Low               ┆ false      ┆ 1.0              │\n",
      "│ Employee_06 ┆ 70                ┆ Medium            ┆ false      ┆ 1.0              │\n",
      "└─────────────┴───────────────────┴───────────────────┴────────────┴──────────────────┘\n"
     ]
    }
   ],
   "source": [
    "# Polars: conditional logic\n",
    "polars_conditional = df_polars.with_columns([\n",
    "    pl.when(pl.col('performance_score') >= 80).then(pl.lit('High'))\n",
    "        .when(pl.col('performance_score') >= 60).then(pl.lit('Medium'))\n",
    "        .otherwise(pl.lit('Low')).alias('performance_level'),\n",
    "    pl.when(pl.col('is_manager')).then(1.5).otherwise(1.0).alias('bonus_multiplier')\n",
    "])\n",
    "\n",
    "print(\"Polars conditional logic:\")\n",
    "print(polars_conditional.select(['name', 'performance_score', 'performance_level', 'is_manager', 'bonus_multiplier']).head(6))\n"
   ]
  },
  {
   "cell_type": "markdown",
   "metadata": {},
   "source": [
    "## 12. Строковые операции\n",
    "\n",
    "**Описание:** Работа со строковыми данными\n",
    "\n",
    "| Pandas | Polars |\n",
    "|--------|--------|\n",
    "| `df['col'].str.upper()` | `pl.col('col').str.to_uppercase()` |\n"
   ]
  },
  {
   "cell_type": "code",
   "execution_count": 295,
   "metadata": {},
   "outputs": [
    {
     "name": "stdout",
     "output_type": "stream",
     "text": [
      "Pandas string operations:\n",
      "          name   name_upper  name_length department        department_clean\n",
      "0  Employee_01  EMPLOYEE_01           11         HR                      HR\n",
      "1  Employee_02  EMPLOYEE_02           11    Finance                 Finance\n",
      "2  Employee_03  EMPLOYEE_03           11         IT  Information Technology\n",
      "3  Employee_04  EMPLOYEE_04           11    Finance                 Finance\n",
      "4  Employee_05  EMPLOYEE_05           11    Finance                 Finance\n",
      "5  Employee_06  EMPLOYEE_06           11  Marketing               Marketing\n"
     ]
    }
   ],
   "source": [
    "# Pandas: string operations\n",
    "pandas_string = df_pandas.copy()\n",
    "pandas_string['name_upper'] = pandas_string['name'].str.upper()\n",
    "pandas_string['name_length'] = pandas_string['name'].str.len()\n",
    "pandas_string['department_clean'] = pandas_string['department'].str.replace('IT', 'Information Technology')\n",
    "\n",
    "print(\"Pandas string operations:\")\n",
    "print(pandas_string[['name', 'name_upper', 'name_length', 'department', 'department_clean']].head(6))\n"
   ]
  },
  {
   "cell_type": "code",
   "execution_count": 296,
   "metadata": {},
   "outputs": [
    {
     "name": "stdout",
     "output_type": "stream",
     "text": [
      "Polars string operations:\n",
      "shape: (6, 5)\n",
      "┌─────────────┬─────────────┬─────────────┬────────────┬────────────────────────┐\n",
      "│ name        ┆ name_upper  ┆ name_length ┆ department ┆ department_clean       │\n",
      "│ ---         ┆ ---         ┆ ---         ┆ ---        ┆ ---                    │\n",
      "│ str         ┆ str         ┆ u32         ┆ str        ┆ str                    │\n",
      "╞═════════════╪═════════════╪═════════════╪════════════╪════════════════════════╡\n",
      "│ Employee_01 ┆ EMPLOYEE_01 ┆ 11          ┆ HR         ┆ HR                     │\n",
      "│ Employee_02 ┆ EMPLOYEE_02 ┆ 11          ┆ Finance    ┆ Finance                │\n",
      "│ Employee_03 ┆ EMPLOYEE_03 ┆ 11          ┆ IT         ┆ Information Technology │\n",
      "│ Employee_04 ┆ EMPLOYEE_04 ┆ 11          ┆ Finance    ┆ Finance                │\n",
      "│ Employee_05 ┆ EMPLOYEE_05 ┆ 11          ┆ Finance    ┆ Finance                │\n",
      "│ Employee_06 ┆ EMPLOYEE_06 ┆ 11          ┆ Marketing  ┆ Marketing              │\n",
      "└─────────────┴─────────────┴─────────────┴────────────┴────────────────────────┘\n"
     ]
    }
   ],
   "source": [
    "# Polars: string operations\n",
    "polars_string = df_polars.with_columns([\n",
    "    pl.col('name').str.to_uppercase().alias('name_upper'),\n",
    "    pl.col('name').str.len_chars().alias('name_length'),\n",
    "    pl.col('department').str.replace('IT', 'Information Technology').alias('department_clean')\n",
    "])\n",
    "\n",
    "print(\"Polars string operations:\")\n",
    "print(polars_string.select(['name', 'name_upper', 'name_length', 'department', 'department_clean']).head(6))\n"
   ]
  },
  {
   "cell_type": "markdown",
   "metadata": {},
   "source": [
    "## Сводная таблица основных соответствий\n",
    "\n",
    "| Операция | Pandas | Polars |\n",
    "|----------|--------|--------|\n",
    "| Добавление колонок | `df.assign(...)` | `df.with_columns([...])` |\n",
    "| Фильтрация | `df.query('условие')` | `df.filter(pl.col('col') > value)` |\n",
    "| Группировка | `df.groupby('col').agg({...})` | `df.group_by('col').agg([...])` |\n",
    "| Объединение | `df.merge(df2, on='col')` | `df.join(df2, on='col')` |\n",
    "| Pivot | `df.pivot_table(index=..., columns=...)` | `df.pivot(index=..., columns=...)` |\n",
    "| Melt | `df.melt(id_vars=[...])` | `df.melt(id_vars=[...])` |\n",
    "| Изменение типов | `df.astype({...})` | `df.with_columns(pl.col('col').cast(...))` |\n",
    "| Подсчет значений | `df['col'].value_counts()` | `df.select(pl.col('col').value_counts())` |\n",
    "| Сортировка | `df.sort_values(['col1', 'col2'])` | `df.sort(['col1', 'col2'])` |\n",
    "| Оконные функции | `df.groupby('col').rank()` | `pl.col('col').rank().over('group')` |\n",
    "| Условная логика | `np.where(условие, если_да, если_нет)` | `pl.when().then().otherwise()` |\n",
    "| Строковые операции | `df['col'].str.upper()` | `pl.col('col').str.to_uppercase()` |\n",
    "| Индексация | `df.loc[df['col'] > 5]` | `df.filter(pl.col('col') > 5)` |\n",
    "| Выбор колонок | `df[['col1', 'col2']]` | `df.select(['col1', 'col2'])` |\n",
    "| Переименование | `df.rename(columns={...})` | `df.rename({...})` |\n",
    "| Удаление колонок | `df.drop(columns=[...])` | `df.drop([...])` |\n",
    "| Проверка на NaN | `df.isna()` | `df.is_null()` |\n",
    "| Заполнение NaN | `df.fillna(value)` | `df.fill_null(value)` |\n",
    "| Удаление дубликатов | `df.drop_duplicates()` | `df.unique()` |\n",
    "| Сброс индекса | `df.reset_index()` | `df.with_row_count()` |\n",
    "| Применение функции | `df.apply(func)` | `df.with_columns(pl.col('col').map_elements(func))` |\n",
    "| Конкатенация | `pd.concat([df1, df2])` | `pl.concat([df1, df2])` |"
   ]
  },
  {
   "cell_type": "markdown",
   "metadata": {},
   "source": [
    "## Заключение\n",
    "\n",
    "**Основные различия между Pandas и Polars:**\n",
    "\n",
    "| Аспект | Pandas | Polars |\n",
    "|--------|--------|--------|\n",
    "| **Производительность** | Медленнее, особенно на больших данных | Быстрее благодаря Rust и оптимизации |\n",
    "| **Синтаксис** | Более знакомый для Python-разработчиков | Более функциональный, Expression API |\n",
    "| **Память** | Более высокое потребление | Более эффективное использование памяти |\n",
    "| **Параллелизм** | Ограничен GIL | Полная параллелизация |\n",
    "| **Типизация** | Динамическая | Строгая типизация |\n",
    "| **Lazy Evaluation** | Нет | Да, с `.lazy()` |\n",
    "\n"
   ]
  }
 ],
 "metadata": {
  "celltoolbar": "Slideshow",
  "kernelspec": {
   "display_name": "myenv",
   "language": "python",
   "name": "python3"
  },
  "language_info": {
   "codemirror_mode": {
    "name": "ipython",
    "version": 3
   },
   "file_extension": ".py",
   "mimetype": "text/x-python",
   "name": "python",
   "nbconvert_exporter": "python",
   "pygments_lexer": "ipython3",
   "version": "3.9.15"
  },
  "rise": {
   "enable_chalkboard": true,
   "footer": "<p style=\"margin: 5px; color: #a0a0a0\">YSDA Python Course</p>",
   "scroll": true,
   "start_slideshow_at": "selected",
   "theme": "serif",
   "transition": "none"
  }
 },
 "nbformat": 4,
 "nbformat_minor": 4
}
